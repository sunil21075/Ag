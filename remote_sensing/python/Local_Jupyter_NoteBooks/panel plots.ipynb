{
 "cells": [
  {
   "cell_type": "markdown",
   "metadata": {},
   "source": [
    "# Panel Plots\n",
    "We are creating this notebook in order to practice creating panel plots\n",
    "for Savitzky smoothing method and see how different parameters affect our estimates."
   ]
  },
  {
   "cell_type": "code",
   "execution_count": 1,
   "metadata": {},
   "outputs": [],
   "source": [
    "import csv\n",
    "import numpy as np\n",
    "import pandas as pd\n",
    "# import geopandas as gpd\n",
    "from IPython.display import Image\n",
    "# from shapely.geometry import Point, Polygon\n",
    "from math import factorial\n",
    "import datetime\n",
    "import time\n",
    "import scipy\n",
    "import scipy.signal\n",
    "import os, os.path\n",
    "\n",
    "from statsmodels.sandbox.regression.predstd import wls_prediction_std\n",
    "from sklearn.linear_model import LinearRegression\n",
    "from patsy import cr\n",
    "\n",
    "# from pprint import pprint\n",
    "import matplotlib.pyplot as plt\n",
    "import seaborn as sb\n",
    "\n",
    "\n",
    "import sys\n",
    "# start_time = time.time()"
   ]
  },
  {
   "cell_type": "code",
   "execution_count": 2,
   "metadata": {},
   "outputs": [],
   "source": [
    "# search path for modules\n",
    "# look @ https://stackoverflow.com/questions/67631/how-to-import-a-module-given-the-full-path\n",
    "\n",
    "####################################################################################\n",
    "###\n",
    "###                      Local\n",
    "###\n",
    "####################################################################################\n",
    "\n",
    "################\n",
    "###\n",
    "### Core path\n",
    "###\n",
    "\n",
    "sys.path.append('/Users/hn/Documents/00_GitHub/Ag/remote_sensing/python/')\n",
    "\n",
    "################\n",
    "###\n",
    "### Directories\n",
    "###\n",
    "data_dir = \"/Users/hn/Documents/01_research_data\" + \\\n",
    "           \"/remote_sensing/01_NDVI_TS/00_Eastern_WA_withYear/\"\n",
    "\n",
    "param_dir = \"/Users/hn/Documents/00_GitHub/Ag/remote_sensing/parameters/\"\n",
    "####################################################################################\n",
    "###\n",
    "###                      Aeolus Core path\n",
    "###\n",
    "####################################################################################\n",
    "\n",
    "# sys.path.append('/home/hnoorazar/remote_sensing_codes/')\n",
    "\n",
    "####################################################################################\n",
    "###\n",
    "###                   Aeolus Directories\n",
    "###\n",
    "####################################################################################\n",
    "\n",
    "# data_dir = \"/data/hydro/users/Hossein/remote_sensing/01_NDVI_TS/00_Eastern_WA_EE/\"\n",
    "# param_dir = \"/home/hnoorazar/remote_sensing_codes/parameters/\"\n",
    "\n",
    "####################################################################################\n",
    "###\n",
    "###                   Import remote cores\n",
    "###\n",
    "####################################################################################\n",
    "\n",
    "import remote_sensing_core as rc\n",
    "import remote_sensing_plot_core as rcp\n"
   ]
  },
  {
   "cell_type": "code",
   "execution_count": 3,
   "metadata": {},
   "outputs": [
    {
     "name": "stdout",
     "output_type": "stream",
     "text": [
      "delta = 0.1\n"
     ]
    }
   ],
   "source": [
    "####################################################################################\n",
    "###\n",
    "###      Parameters                   \n",
    "###\n",
    "####################################################################################\n",
    "\n",
    "eleven_colors = [\"gray\", \"lightcoral\", \"red\", \"peru\",\n",
    "                 \"darkorange\", \"gold\", \"olive\", \"green\",\n",
    "                 \"blue\", \"violet\", \"deepskyblue\"]\n",
    "\n",
    "Sav_win_size = 9\n",
    "sav_order = 1\n",
    "delt = 0.1\n",
    "irrigated_only = 0\n",
    "SF_year = 2017\n",
    "indeks = \"EVI\"\n",
    "# we are creating panels where each panel\n",
    "# consist of different parameters of Savitzky, \n",
    "# So, we do not need the following two\n",
    "\n",
    "# Sav_win_size = int(sys.argv[1]) \n",
    "# sav_order = int(sys.argv[2])\n",
    "\n",
    "# delt = float(sys.argv[1])\n",
    "# indeks = sys.argv[2]\n",
    "# irrigated_only = int(sys.argv[3])\n",
    "# SF_year = int(sys.argv[4])\n",
    "\n",
    "print (\"delta = {fileShape}\".format(fileShape=delt))"
   ]
  },
  {
   "cell_type": "markdown",
   "metadata": {},
   "source": [
    "# Read the Data"
   ]
  },
  {
   "cell_type": "code",
   "execution_count": 4,
   "metadata": {},
   "outputs": [],
   "source": [
    "f_name = \"Eastern_WA_\" + str(SF_year) + \"_70cloud_selectors.csv\"\n",
    "a_df = pd.read_csv(data_dir + f_name, low_memory=False)"
   ]
  },
  {
   "cell_type": "code",
   "execution_count": 5,
   "metadata": {},
   "outputs": [
    {
     "data": {
      "text/html": [
       "<div>\n",
       "<style scoped>\n",
       "    .dataframe tbody tr th:only-of-type {\n",
       "        vertical-align: middle;\n",
       "    }\n",
       "\n",
       "    .dataframe tbody tr th {\n",
       "        vertical-align: top;\n",
       "    }\n",
       "\n",
       "    .dataframe thead th {\n",
       "        text-align: right;\n",
       "    }\n",
       "</style>\n",
       "<table border=\"1\" class=\"dataframe\">\n",
       "  <thead>\n",
       "    <tr style=\"text-align: right;\">\n",
       "      <th></th>\n",
       "      <th>ID</th>\n",
       "      <th>Acres</th>\n",
       "      <th>BSI</th>\n",
       "      <th>county</th>\n",
       "      <th>CropGrp</th>\n",
       "      <th>CropTyp</th>\n",
       "      <th>DataSrc</th>\n",
       "      <th>doy</th>\n",
       "      <th>EVI</th>\n",
       "      <th>ExctAcr</th>\n",
       "      <th>...</th>\n",
       "      <th>NDWI</th>\n",
       "      <th>Notes</th>\n",
       "      <th>PSRI</th>\n",
       "      <th>RtCrpTy</th>\n",
       "      <th>Shap_Ar</th>\n",
       "      <th>Shp_Lng</th>\n",
       "      <th>system_start_time</th>\n",
       "      <th>TRS</th>\n",
       "      <th>image_year</th>\n",
       "      <th>B8</th>\n",
       "    </tr>\n",
       "  </thead>\n",
       "  <tbody>\n",
       "    <tr>\n",
       "      <td>0</td>\n",
       "      <td>131363_WSDA_SF_2017</td>\n",
       "      <td>3.0</td>\n",
       "      <td>NaN</td>\n",
       "      <td>Franklin</td>\n",
       "      <td>Other</td>\n",
       "      <td>developed</td>\n",
       "      <td>wsda</td>\n",
       "      <td>NaN</td>\n",
       "      <td>NaN</td>\n",
       "      <td>2.707829</td>\n",
       "      <td>...</td>\n",
       "      <td>NaN</td>\n",
       "      <td>houses</td>\n",
       "      <td>NaN</td>\n",
       "      <td>NaN</td>\n",
       "      <td>10958.196265</td>\n",
       "      <td>534.903466</td>\n",
       "      <td>NaN</td>\n",
       "      <td>T09R29E8</td>\n",
       "      <td>NaN</td>\n",
       "      <td>NaN</td>\n",
       "    </tr>\n",
       "    <tr>\n",
       "      <td>1</td>\n",
       "      <td>138107_WSDA_SF_2017</td>\n",
       "      <td>23.0</td>\n",
       "      <td>NaN</td>\n",
       "      <td>Franklin</td>\n",
       "      <td>Other</td>\n",
       "      <td>developed</td>\n",
       "      <td>wsda</td>\n",
       "      <td>NaN</td>\n",
       "      <td>NaN</td>\n",
       "      <td>23.202388</td>\n",
       "      <td>...</td>\n",
       "      <td>NaN</td>\n",
       "      <td>houses</td>\n",
       "      <td>NaN</td>\n",
       "      <td>NaN</td>\n",
       "      <td>93896.733256</td>\n",
       "      <td>1587.732303</td>\n",
       "      <td>NaN</td>\n",
       "      <td>T09R29E8</td>\n",
       "      <td>NaN</td>\n",
       "      <td>NaN</td>\n",
       "    </tr>\n",
       "  </tbody>\n",
       "</table>\n",
       "<p>2 rows × 25 columns</p>\n",
       "</div>"
      ],
      "text/plain": [
       "                    ID  Acres  BSI    county CropGrp    CropTyp DataSrc  doy  \\\n",
       "0  131363_WSDA_SF_2017    3.0  NaN  Franklin   Other  developed    wsda  NaN   \n",
       "1  138107_WSDA_SF_2017   23.0  NaN  Franklin   Other  developed    wsda  NaN   \n",
       "\n",
       "   EVI    ExctAcr  ... NDWI   Notes PSRI  RtCrpTy       Shap_Ar      Shp_Lng  \\\n",
       "0  NaN   2.707829  ...  NaN  houses  NaN      NaN  10958.196265   534.903466   \n",
       "1  NaN  23.202388  ...  NaN  houses  NaN      NaN  93896.733256  1587.732303   \n",
       "\n",
       "  system_start_time       TRS image_year  B8  \n",
       "0               NaN  T09R29E8        NaN NaN  \n",
       "1               NaN  T09R29E8        NaN NaN  \n",
       "\n",
       "[2 rows x 25 columns]"
      ]
     },
     "execution_count": 5,
     "metadata": {},
     "output_type": "execute_result"
    }
   ],
   "source": [
    "####################################################################################\n",
    "###\n",
    "###                   process data\n",
    "###\n",
    "####################################################################################\n",
    "\n",
    "##################################################################\n",
    "##################################################################\n",
    "####\n",
    "####  plots has to be exact. So, we need \n",
    "#### to filter out NASS, and filter by last survey date\n",
    "####\n",
    "##################################################################\n",
    "##################################################################\n",
    "\n",
    "a_df = a_df[a_df['county']== \"Grant\"] # Filter Grant\n",
    "a_df.head(2)\n",
    "\n",
    "a_df = rc.filter_out_NASS(a_df) # Toss NASS\n",
    "a_df.head(2)\n",
    "\n",
    "a_df = rc.filter_by_lastSurvey(a_df, year = SF_year) # filter by last survey date\n",
    "a_df['SF_year'] = SF_year\n",
    "a_df.head(2)\n",
    "\n",
    "########################\n",
    "######################## Do this for now, till you learn\n",
    "######################## how to plot 2 years where x is DoY \n",
    "######################## \n",
    "\n",
    "a_df = a_df[a_df['image_year'] == SF_year]\n",
    "a_df.head(2)\n",
    "\n",
    "########################\n",
    "########################\n",
    "\n",
    "if irrigated_only == True:\n",
    "    a_df = rc.filter_out_nonIrrigated(a_df)\n",
    "    output_Irr = \"irrigated_only\"\n",
    "else:\n",
    "    output_Irr = \"non_irrigated_only\"\n",
    "    a_df = rc.filter_out_Irrigated(a_df)\n",
    "    \n",
    "a_df.head(2)\n",
    "\n",
    "######################\n",
    "\n",
    "# The following columns do not exist in the old data\n",
    "#\n",
    "if not('DataSrc' in a_df.columns):\n",
    "    print (\"Data source is being set to NA\")\n",
    "    a_df['DataSrc'] = \"NA\"\n",
    "    \n",
    "\n",
    "\n",
    "if not('CovrCrp' in a_df.columns):\n",
    "    print (\"CovrCrp is being set to NA\")\n",
    "    a_df['CovrCrp'] = \"NA\"\n",
    "\n",
    "if (indeks == \"EVI\"):\n",
    "    a_df = rc.initial_clean_EVI(a_df)\n",
    "else:\n",
    "    a_df = rc.initial_clean_NDVI(a_df)\n",
    "\n",
    "a_df.head(2)\n",
    "an_EE_TS = a_df.copy()"
   ]
  },
  {
   "cell_type": "code",
   "execution_count": null,
   "metadata": {},
   "outputs": [],
   "source": []
  },
  {
   "cell_type": "code",
   "execution_count": null,
   "metadata": {},
   "outputs": [],
   "source": [
    "### List of unique polygons\n",
    "polygon_list = an_EE_TS['ID'].unique()\n",
    "print(len(polygon_list))"
   ]
  },
  {
   "cell_type": "code",
   "execution_count": null,
   "metadata": {},
   "outputs": [],
   "source": [
    "counter = 0"
   ]
  },
  {
   "cell_type": "code",
   "execution_count": null,
   "metadata": {},
   "outputs": [],
   "source": [
    "# for loop here\n",
    "a_poly = polygon_list[counter]\n",
    "if (counter%1000 == 0):\n",
    "    print (counter)\n",
    "counter += 1\n",
    "curr_field = an_EE_TS[an_EE_TS['ID']==a_poly].copy()\n",
    "curr_field.sort_values(by=['image_year', 'doy'], inplace=True)\n",
    "curr_field.head(2)\n",
    "\n",
    "################################################################\n",
    "plant = curr_field['CropTyp'].unique()[0]\n",
    "\n",
    "# Take care of names, replace \"/\" and \",\" and \" \" by \"_\"\n",
    "plant = plant.replace(\"/\", \"_\")\n",
    "plant = plant.replace(\",\", \"_\")\n",
    "plant = plant.replace(\" \", \"_\")\n",
    "plant = plant.replace(\"__\", \"_\")\n",
    "\n",
    "county = curr_field['county'].unique()[0]\n",
    "ID = curr_field['ID'].unique()[0]\n",
    "\n"
   ]
  },
  {
   "cell_type": "raw",
   "metadata": {},
   "source": [
    "X = curr_field['doy']\n",
    "y = curr_field[indeks]\n",
    "\n",
    "#############################################\n",
    "###\n",
    "###             Smoothen\n",
    "###\n",
    "#############################################\n",
    "\n",
    "# differences are minor, but lets keep using Pythons function\n",
    "# my_savitzky_pred = rc.savitzky_golay(y, window_size=Sav_win_size, order=sav_order)\n",
    "\n",
    "SG_pred_31 = scipy.signal.savgol_filter(y, window_length= 3, polyorder=1)\n",
    "SG_pred_31 = scipy.signal.savgol_filter(y, window_length= 3, polyorder=1)\n",
    "SG_pred_32 = scipy.signal.savgol_filter(y, window_length= 3, polyorder=2)\n",
    "\n",
    "SG_pred_51 = scipy.signal.savgol_filter(y, window_length= 5, polyorder=1)\n",
    "SG_pred_52 = scipy.signal.savgol_filter(y, window_length= 5, polyorder=2)\n",
    "SG_pred_53 = scipy.signal.savgol_filter(y, window_length= 5, polyorder=3)\n",
    "\n",
    "SG_pred_71 = scipy.signal.savgol_filter(y, window_length= 7, polyorder=1)\n",
    "SG_pred_72 = scipy.signal.savgol_filter(y, window_length= 7, polyorder=2)\n",
    "SG_pred_73 = scipy.signal.savgol_filter(y, window_length= 7, polyorder=3)\n",
    "\n",
    "SG_pred_91 = scipy.signal.savgol_filter(y, window_length= 9, polyorder=1)\n",
    "SG_pred_92 = scipy.signal.savgol_filter(y, window_length= 9, polyorder=2)\n",
    "SG_pred_93 = scipy.signal.savgol_filter(y, window_length= 9, polyorder=3)"
   ]
  },
  {
   "cell_type": "raw",
   "metadata": {},
   "source": [
    "preds_df = pd.DataFrame(data = {'SG 31':SG_pred_31, 'SG 32':SG_pred_32, \n",
    "                                'SG 51':SG_pred_51, 'SG 52':SG_pred_52, 'SG 53':SG_pred_53, \n",
    "                                'SG 71':SG_pred_71, 'SG 72':SG_pred_72, 'SG 73':SG_pred_73, \n",
    "                                'SG 91':SG_pred_91, 'SG 92':SG_pred_92, 'SG 93':SG_pred_93}, \n",
    "                            index = X)"
   ]
  },
  {
   "cell_type": "code",
   "execution_count": null,
   "metadata": {},
   "outputs": [],
   "source": [
    "plt.figure();\n",
    "preds_df.plot();"
   ]
  },
  {
   "cell_type": "raw",
   "metadata": {},
   "source": [
    "SG_max_min_31 = rc.my_peakdetect(y_axis=SG_pred_31, x_axis=X, delta=delt);\n",
    "SG_max_31 =  SG_max_min_31[0]; SG_min_31 =  SG_max_min_31[1];\n",
    "SG_max_31 = rc.separate_x_and_y(m_list = SG_max_31);\n",
    "SG_min_31 = rc.separate_x_and_y(m_list = SG_min_31);\n",
    "SG_max_DoYs_series_31 = pd.Series(SG_max_31[0]);\n",
    "SG_max_series_31 = pd.Series(SG_max_31[1]);\n",
    "SG_min_DoYs_series_31 = pd.Series(SG_min_31[0]);\n",
    "SG_min_series_31 = pd.Series(SG_min_31[1]);\n",
    "\n",
    "\n",
    "SG_max_min_32 = rc.my_peakdetect(y_axis=SG_pred_32, x_axis=X, delta=delt);\n",
    "SG_max_32 =  SG_max_min_32[0]; SG_min_32 =  SG_max_min_32[1];\n",
    "SG_max_32 = rc.separate_x_and_y(m_list = SG_max_32);\n",
    "SG_min_32 = rc.separate_x_and_y(m_list = SG_min_32);\n",
    "SG_max_DoYs_series_32 = pd.Series(SG_max_32[0]);\n",
    "SG_max_series_32 = pd.Series(SG_max_32[1]);\n",
    "SG_min_DoYs_series_32 = pd.Series(SG_min_32[0]);\n",
    "SG_min_series_32 = pd.Series(SG_min_32[1]);\n",
    "\n",
    "############\n",
    "############ window 5\n",
    "############\n",
    "\n",
    "SG_max_min_51 = rc.my_peakdetect(y_axis=SG_pred_51, x_axis=X, delta=delt);\n",
    "SG_max_51 =  SG_max_min_51[0]; SG_min_51 =  SG_max_min_51[1];\n",
    "SG_max_51 = rc.separate_x_and_y(m_list = SG_max_51);\n",
    "SG_min_51 = rc.separate_x_and_y(m_list = SG_min_51);\n",
    "SG_max_DoYs_series_51 = pd.Series(SG_max_51[0]);\n",
    "SG_max_series_51 = pd.Series(SG_max_51[1]);\n",
    "SG_min_DoYs_series_51 = pd.Series(SG_min_51[0]);\n",
    "SG_min_series_51 = pd.Series(SG_min_51[1]);\n",
    "\n",
    "SG_max_min_52 = rc.my_peakdetect(y_axis=SG_pred_52, x_axis=X, delta=delt);\n",
    "SG_max_52 =  SG_max_min_52[0]; SG_min_52 =  SG_max_min_52[1];\n",
    "SG_max_52 = rc.separate_x_and_y(m_list = SG_max_52);\n",
    "SG_min_52 = rc.separate_x_and_y(m_list = SG_min_52);\n",
    "SG_max_DoYs_series_52 = pd.Series(SG_max_52[0]);\n",
    "SG_max_series_52 = pd.Series(SG_max_52[1]);\n",
    "SG_min_DoYs_series_52 = pd.Series(SG_min_52[0]);\n",
    "SG_min_series_52 = pd.Series(SG_min_52[1]);\n",
    "\n",
    "SG_max_min_53 = rc.my_peakdetect(y_axis=SG_pred_53, x_axis=X, delta=delt);\n",
    "SG_max_53 =  SG_max_min_53[0]; SG_min_53 =  SG_max_min_53[1];\n",
    "SG_max_53 = rc.separate_x_and_y(m_list = SG_max_53);\n",
    "SG_min_53 = rc.separate_x_and_y(m_list = SG_min_53);\n",
    "SG_max_DoYs_series_53 = pd.Series(SG_max_53[0]);\n",
    "SG_max_series_53 = pd.Series(SG_max_53[1]);\n",
    "SG_min_DoYs_series_53 = pd.Series(SG_min_53[0]);\n",
    "SG_min_series_53 = pd.Series(SG_min_53[1]);\n",
    "\n",
    "############\n",
    "############ window 7\n",
    "############\n",
    "\n",
    "SG_max_min_71 = rc.my_peakdetect(y_axis=SG_pred_71, x_axis=X, delta=delt);\n",
    "SG_max_71 =  SG_max_min_71[0]; SG_min_71 =  SG_max_min_71[1];\n",
    "SG_max_71 = rc.separate_x_and_y(m_list = SG_max_71);\n",
    "SG_min_71 = rc.separate_x_and_y(m_list = SG_min_71);\n",
    "SG_max_DoYs_series_71 = pd.Series(SG_max_71[0]);\n",
    "SG_max_series_71 = pd.Series(SG_max_71[1]);\n",
    "SG_min_DoYs_series_71 = pd.Series(SG_min_71[0]);\n",
    "SG_min_series_71 = pd.Series(SG_min_71[1]);\n",
    "\n",
    "SG_max_min_72 = rc.my_peakdetect(y_axis=SG_pred_72, x_axis=X, delta=delt);\n",
    "SG_max_72 =  SG_max_min_72[0]; SG_min_72 =  SG_max_min_72[1];\n",
    "SG_max_72 = rc.separate_x_and_y(m_list = SG_max_72);\n",
    "SG_min_72 = rc.separate_x_and_y(m_list = SG_min_72);\n",
    "SG_max_DoYs_series_72 = pd.Series(SG_max_72[0]);\n",
    "SG_max_series_72 = pd.Series(SG_max_72[1]);\n",
    "SG_min_DoYs_series_72 = pd.Series(SG_min_72[0]);\n",
    "SG_min_series_72 = pd.Series(SG_min_72[1]);\n",
    "\n",
    "SG_max_min_73 = rc.my_peakdetect(y_axis=SG_pred_73, x_axis=X, delta=delt);\n",
    "SG_max_73 =  SG_max_min_73[0]; SG_min_73 =  SG_max_min_73[1];\n",
    "SG_max_73 = rc.separate_x_and_y(m_list = SG_max_73);\n",
    "SG_min_73 = rc.separate_x_and_y(m_list = SG_min_73);\n",
    "SG_max_DoYs_series_73 = pd.Series(SG_max_73[0]);\n",
    "SG_max_series_73 = pd.Series(SG_max_73[1]);\n",
    "SG_min_DoYs_series_73 = pd.Series(SG_min_73[0]);\n",
    "SG_min_series_73 = pd.Series(SG_min_73[1]);\n",
    "\n",
    "############\n",
    "############ window 9\n",
    "############\n",
    "\n",
    "SG_max_min_91 = rc.my_peakdetect(y_axis=SG_pred_91, x_axis=X, delta=delt);\n",
    "SG_max_91 =  SG_max_min_91[0]; SG_min_91 =  SG_max_min_91[1];\n",
    "SG_max_91 = rc.separate_x_and_y(m_list = SG_max_91);\n",
    "SG_min_91 = rc.separate_x_and_y(m_list = SG_min_91);\n",
    "SG_max_DoYs_series_91 = pd.Series(SG_max_91[0]);\n",
    "SG_max_series_91 = pd.Series(SG_max_91[1]);\n",
    "SG_min_DoYs_series_91 = pd.Series(SG_min_91[0]);\n",
    "SG_min_series_91 = pd.Series(SG_min_91[1]);\n",
    "\n",
    "SG_max_min_92 = rc.my_peakdetect(y_axis=SG_pred_92, x_axis=X, delta=delt);\n",
    "SG_max_92 =  SG_max_min_92[0]; SG_min_92 =  SG_max_min_92[1];\n",
    "SG_max_92 = rc.separate_x_and_y(m_list = SG_max_92);\n",
    "SG_min_92 = rc.separate_x_and_y(m_list = SG_min_92);\n",
    "SG_max_DoYs_series_92 = pd.Series(SG_max_92[0]);\n",
    "SG_max_series_92 = pd.Series(SG_max_92[1]);\n",
    "SG_min_DoYs_series_92 = pd.Series(SG_min_92[0]);\n",
    "SG_min_series_92 = pd.Series(SG_min_92[1]);\n",
    "\n",
    "SG_max_min_93 = rc.my_peakdetect(y_axis=SG_pred_93, x_axis=X, delta=delt);\n",
    "SG_max_93 =  SG_max_min_93[0]; SG_min_93 =  SG_max_min_93[1];\n",
    "SG_max_93 = rc.separate_x_and_y(m_list = SG_max_93);\n",
    "SG_min_93 = rc.separate_x_and_y(m_list = SG_min_93);\n",
    "SG_max_DoYs_series_93 = pd.Series(SG_max_93[0]);\n",
    "SG_max_series_93 = pd.Series(SG_max_93[1]);\n",
    "SG_min_DoYs_series_93 = pd.Series(SG_min_93[0]);\n",
    "SG_min_series_93 = pd.Series(SG_min_93[1]);"
   ]
  },
  {
   "cell_type": "raw",
   "metadata": {},
   "source": [
    "plotting_dic = { \"SG 31\" : [SG_pred_31, SG_max_DoYs_series_31, SG_max_series_31],\n",
    "                 \"SG 32\" : [SG_pred_32, SG_max_DoYs_series_32, SG_max_series_32],\n",
    "\n",
    "                 \"SG 51\" : [SG_pred_51, SG_max_DoYs_series_51, SG_max_series_51],\n",
    "                 \"SG 52\" : [SG_pred_52, SG_max_DoYs_series_52, SG_max_series_52],\n",
    "                 \"SG 53\" : [SG_pred_53, SG_max_DoYs_series_53, SG_max_series_53],\n",
    "\n",
    "                 \"SG 71\" : [SG_pred_71, SG_max_DoYs_series_71, SG_max_series_71],\n",
    "                 \"SG 72\" : [SG_pred_72, SG_max_DoYs_series_72, SG_max_series_72],\n",
    "                 \"SG 73\" : [SG_pred_73, SG_max_DoYs_series_73, SG_max_series_73],\n",
    "\n",
    "                 \"SG 91\" : [SG_pred_91, SG_max_DoYs_series_91, SG_max_series_91],\n",
    "                 \"SG 92\" : [SG_pred_92, SG_max_DoYs_series_92, SG_max_series_92],\n",
    "                 \"SG 93\" : [SG_pred_93, SG_max_DoYs_series_93, SG_max_series_93]\n",
    "}"
   ]
  },
  {
   "cell_type": "raw",
   "metadata": {},
   "source": [
    "plot_title = county + \", \" + plant + \", \" + str(SF_year) + \" (\" + ID + \")\"\n",
    "# sb.set();\n",
    "fig, ax = plt.subplots(figsize=(8,6));\n",
    "ax.scatter(X, y, label=\"Data\", s=30);"
   ]
  },
  {
   "cell_type": "raw",
   "metadata": {},
   "source": [
    "for co, ite in enumerate(plotting_dic):\n",
    "    ax.plot(X, plotting_dic[ite][0], label = ite)\n",
    "    ax.scatter(plotting_dic[ite][1], plotting_dic[ite][2], s=100, marker='*');"
   ]
  },
  {
   "cell_type": "code",
   "execution_count": null,
   "metadata": {},
   "outputs": [],
   "source": [
    "# ax.set_title(plot_title);\n",
    "# ax.set(xlabel='DoY', ylabel=indeks)\n",
    "# ax.legend(loc=\"best\");\n",
    "# fig"
   ]
  },
  {
   "cell_type": "code",
   "execution_count": null,
   "metadata": {},
   "outputs": [],
   "source": [
    "fig_name = \"/Users/hn/Desktop/\" + county + \"_\" + plant + \"_\" + str(SF_year) + \"_\" + str(counter) + '.png'"
   ]
  },
  {
   "cell_type": "code",
   "execution_count": null,
   "metadata": {},
   "outputs": [],
   "source": [
    "plt.show()\n",
    "plt.savefig(fname = fig_name, \\\n",
    "                    dpi=300,\n",
    "                    bbox_inches='tight')\n",
    "plt.close()"
   ]
  },
  {
   "cell_type": "code",
   "execution_count": null,
   "metadata": {},
   "outputs": [],
   "source": []
  },
  {
   "cell_type": "raw",
   "metadata": {},
   "source": [
    "fig, ax = plt.subplots(figsize=(8,6));\n",
    "ax.scatter(X, y, label=\"Data\", s=30, marker='+');\n",
    "\n",
    "for co, ite in enumerate(plotting_dic):\n",
    "    ax.plot(X, plotting_dic[ite][0], label = ite, c = eleven_colors[co])\n",
    "    ax.scatter(plotting_dic[ite][1], plotting_dic[ite][2], marker='*', c= eleven_colors[co]);\n",
    "\n",
    "ax.set_title(plot_title);\n",
    "ax.set(xlabel='DoY', ylabel=indeks)\n",
    "\n",
    "################################################\n",
    "#\n",
    "#    bare soil indices plots\n",
    "#\n",
    "\n",
    "# an_EE_TS_BSI = rc.initial_clean(df = curr_field, column_to_be_cleaned='BSI')\n",
    "# # an_EE_TS_NDWI = rc.initial_clean(df = curr_field, column_to_be_cleaned='NDWI')\n",
    "# an_EE_TS_PSRI = rc.initial_clean(df = curr_field, column_to_be_cleaned='PSRI')\n",
    "# an_EE_TS_LSWI = rc.initial_clean(df = curr_field, column_to_be_cleaned='LSWI')\n",
    "\n",
    "# ax.plot(an_EE_TS_BSI['doy'], an_EE_TS_BSI['BSI'], label=\"BSI\")\n",
    "# # ax.plot(x_NDWI, y_NDWI, label=\"NWDI\")\n",
    "\n",
    "# ax.plot(an_EE_TS_PSRI['doy'], an_EE_TS_PSRI['PSRI'], label=\"PSRI\")\n",
    "# ax.plot(an_EE_TS_LSWI['doy'], an_EE_TS_LSWI['LSWI'], label=\"LSWI\")\n",
    "\n",
    "ax.legend(loc=\"best\");\n",
    "plt.savefig(fname = fig_name, \\\n",
    "            dpi=300,\n",
    "            bbox_inches='tight')"
   ]
  },
  {
   "cell_type": "code",
   "execution_count": null,
   "metadata": {},
   "outputs": [],
   "source": []
  },
  {
   "cell_type": "code",
   "execution_count": null,
   "metadata": {},
   "outputs": [],
   "source": []
  },
  {
   "cell_type": "code",
   "execution_count": null,
   "metadata": {},
   "outputs": [],
   "source": [
    "F_1 = rcp.subplots_savitzky(current_field = curr_field, idx= indeks , deltA = 0.1 )"
   ]
  },
  {
   "cell_type": "code",
   "execution_count": null,
   "metadata": {},
   "outputs": [],
   "source": []
  },
  {
   "cell_type": "code",
   "execution_count": null,
   "metadata": {},
   "outputs": [],
   "source": []
  },
  {
   "cell_type": "code",
   "execution_count": null,
   "metadata": {},
   "outputs": [],
   "source": []
  },
  {
   "cell_type": "code",
   "execution_count": null,
   "metadata": {},
   "outputs": [],
   "source": [
    "fig, axs = plt.subplots(2, 2)\n",
    "axs[0, 0] = F_1\n",
    "axs[0, 1] = F_1\n",
    "axs[1, 0] = F_1\n",
    "axs[1, 1] = F_1"
   ]
  },
  {
   "cell_type": "code",
   "execution_count": null,
   "metadata": {},
   "outputs": [],
   "source": [
    "fig = plt.figure()\n",
    "\n",
    "fig.subplots_adjust(hspace=0.4, wspace=0.4)\n",
    "\n",
    "ax = fig.add_subplot(2, 2, 1)\n",
    "\n",
    "ax = fig.add_subplot(2, 2, 2)\n",
    "\n",
    "ax = fig.add_subplot(2, 2, 3)\n",
    "\n",
    "ax = fig.add_subplot(2, 2, 4)\n"
   ]
  },
  {
   "cell_type": "code",
   "execution_count": null,
   "metadata": {},
   "outputs": [],
   "source": [
    "type(F_1)"
   ]
  },
  {
   "cell_type": "code",
   "execution_count": null,
   "metadata": {},
   "outputs": [],
   "source": [
    "# fig, axes = plt.subplots(ncols=7, nrows=4)\n",
    "\n",
    "# for i, ax in enumerate(axes.flatten()):\n",
    "#     x = np.random.randint(-5, 5, 20)\n",
    "#     y = np.random.randint(-5, 5, 20)\n",
    "#     ax.scatter(x, y)\n",
    "#     ax.set_title('Axis {}'.format(i))\n",
    "\n",
    "# plt.tight_layout()"
   ]
  },
  {
   "cell_type": "code",
   "execution_count": null,
   "metadata": {},
   "outputs": [],
   "source": []
  },
  {
   "cell_type": "code",
   "execution_count": null,
   "metadata": {},
   "outputs": [],
   "source": [
    "f2_ax1"
   ]
  },
  {
   "cell_type": "code",
   "execution_count": null,
   "metadata": {},
   "outputs": [],
   "source": [
    "spec2[0, 0]"
   ]
  },
  {
   "cell_type": "code",
   "execution_count": null,
   "metadata": {},
   "outputs": [],
   "source": [
    "def compare(data, fig, rows, cols ):\n",
    "    for i in range (0,len(data)):\n",
    "        plt.figure(fig)\n",
    "        plt.subplot(rows, cols, i+1)\n",
    "        plt.plot(data[i])\n",
    "    return\n",
    "\n",
    "d1 = [1, 2, 3, 4]\n",
    "d2 = [4, 3, 2, 1]\n",
    "d3 = [4, 3, 3, 1]\n",
    "d4 = [3, 4, 1, 2]\n",
    "data = [d2,d1,d4]\n",
    "\n",
    "# compare 4 horizontally\n",
    "compare([d1, d2, d3, d4], fig=1, rows=2, cols=2)\n",
    "\n",
    "# # compare 4 vertically\n",
    "# compare([d1, d2, d3, d4], fig=2, rows=4, cols=1)\n",
    "# # compare 2 vertically\n",
    "# compare([d2, d3], fig=3, rows=2, cols=1)\n",
    "# # compare 3 horizontally\n",
    "# compare([d1, d2, d4], fig=4, rows=1, cols=3)\n",
    "# # compare 3 vertically\n",
    "# compare(data, fig=5, rows=3, cols=1)\n",
    "# plt.tight_layout()\n",
    "# plt.show()"
   ]
  },
  {
   "cell_type": "code",
   "execution_count": null,
   "metadata": {},
   "outputs": [],
   "source": [
    "figure, axes = plt.subplots(nrows=2, ncols=2)\n",
    "\n",
    "axes[0, 0].plot(x, y)"
   ]
  },
  {
   "cell_type": "code",
   "execution_count": null,
   "metadata": {},
   "outputs": [],
   "source": [
    "fig = plt.figure()\n",
    "ax = fig.add_subplot(2,2,1)\n",
    "ax = fig.add_subplot(2,2,2)\n",
    "ax = fig.add_subplot(2,2,3)"
   ]
  },
  {
   "cell_type": "code",
   "execution_count": null,
   "metadata": {},
   "outputs": [],
   "source": [
    "import matplotlib\n",
    "rectt = 10, 10, 10, 10\n",
    "matplotlib.axes.Axes(fig = F_1, rect = rectt )\n"
   ]
  },
  {
   "cell_type": "code",
   "execution_count": null,
   "metadata": {},
   "outputs": [],
   "source": [
    "fig = plt.figure()\n",
    "fig.add_subplot(241)\n",
    "fig.add_subplot(242)\n",
    "ax = fig.add_subplot(223)\n",
    "ax.set_title(\"subplots\")"
   ]
  },
  {
   "cell_type": "code",
   "execution_count": null,
   "metadata": {},
   "outputs": [],
   "source": [
    "import matplotlib.gridspec as gridspec\n",
    "fig2 = plt.figure(constrained_layout=True)\n",
    "spec2 = gridspec.GridSpec(ncols=2, nrows=2, figure=fig2)\n",
    "\n",
    "f2_ax1 = fig2.add_subplot(spec2[0, 0])\n",
    "f2_ax2 = fig2.add_subplot(spec2[0, 1])\n",
    "f2_ax3 = fig2.add_subplot(spec2[1, 0])\n",
    "f2_ax4 = fig2.add_subplot(spec2[1, 1])"
   ]
  },
  {
   "cell_type": "code",
   "execution_count": null,
   "metadata": {},
   "outputs": [],
   "source": [
    "fig = plt.figure(constrained_layout=True)\n",
    "gs = gridspec.GridSpec(2, 3, figure=fig)\n",
    "ax = fig.add_subplot(gs[0, 0])\n",
    "ax.add_image(F_1)"
   ]
  },
  {
   "cell_type": "code",
   "execution_count": null,
   "metadata": {},
   "outputs": [],
   "source": [
    "type(F_1)"
   ]
  },
  {
   "cell_type": "code",
   "execution_count": null,
   "metadata": {},
   "outputs": [],
   "source": [
    "import matplotlib.backends.backend_pdf\n",
    "pdf = matplotlib.backends.backend_pdf.PdfPages(\"outputFuck.pdf\")\n",
    "for countt in range(1, 4):\n",
    "    pdf.savefig( F_1 )\n",
    "pdf.close()"
   ]
  },
  {
   "cell_type": "code",
   "execution_count": null,
   "metadata": {},
   "outputs": [],
   "source": [
    "import matplotlib.backends.backend_pdf\n",
    "pdf = matplotlib.backends.backend_pdf.PdfPages(\"outputFuckMe.pdf\")\n",
    "pdf.savefig( F_1 )\n",
    "pdf.savefig( F_1 )\n",
    "pdf.savefig( F_1 )\n",
    "pdf.savefig( F_1 )\n",
    "pdf.close()"
   ]
  },
  {
   "cell_type": "code",
   "execution_count": null,
   "metadata": {},
   "outputs": [],
   "source": [
    "fig_name = plot_path + county + \"_\" + plant + \"_SF_year_\" + str(SF_year) + \"_\" + str(counter) + '.pdf'\n",
    "pdf = matplotlib.backends.backend_pdf.PdfPages(fig_name)\n",
    "pdf.savefig( F_1 )\n",
    "pdf.savefig( F_1 )\n",
    "pdf.savefig( F_1 )\n",
    "pdf.savefig( F_1 )\n",
    "pdf.close() "
   ]
  },
  {
   "cell_type": "code",
   "execution_count": null,
   "metadata": {},
   "outputs": [],
   "source": [
    "plant"
   ]
  },
  {
   "cell_type": "code",
   "execution_count": null,
   "metadata": {},
   "outputs": [],
   "source": []
  }
 ],
 "metadata": {
  "kernelspec": {
   "display_name": "Python 3",
   "language": "python",
   "name": "python3"
  },
  "language_info": {
   "codemirror_mode": {
    "name": "ipython",
    "version": 3
   },
   "file_extension": ".py",
   "mimetype": "text/x-python",
   "name": "python",
   "nbconvert_exporter": "python",
   "pygments_lexer": "ipython3",
   "version": "3.7.4"
  }
 },
 "nbformat": 4,
 "nbformat_minor": 2
}
