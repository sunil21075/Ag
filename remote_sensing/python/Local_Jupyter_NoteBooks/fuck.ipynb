{
 "cells": [
  {
   "cell_type": "code",
   "execution_count": 1,
   "metadata": {},
   "outputs": [],
   "source": [
    "import csv\n",
    "import numpy as np\n",
    "import pandas as pd\n",
    "# import geopandas as gpd\n",
    "from IPython.display import Image\n",
    "# from shapely.geometry import Point, Polygon\n",
    "from math import factorial\n",
    "import datetime\n",
    "import time\n",
    "import scipy\n",
    "import os, os.path\n",
    "import itertools\n",
    "from statsmodels.sandbox.regression.predstd import wls_prediction_std\n",
    "from sklearn.linear_model import LinearRegression\n",
    "from patsy import cr\n",
    "\n",
    "# from pprint import pprint\n",
    "import matplotlib.pyplot as plt\n",
    "import seaborn as sb\n",
    "\n",
    "\n",
    "import sys\n",
    "start_time = time.time()"
   ]
  },
  {
   "cell_type": "code",
   "execution_count": 2,
   "metadata": {},
   "outputs": [],
   "source": [
    "sys.path.append('/Users/hn/Documents/00_GitHub/Ag/remote_sensing/python/')\n",
    "import remote_sensing_core as rc\n",
    "\n",
    "# sys.path.append('/home/hnoorazar/remote_sensing_codes/')\n",
    "# import remote_sensing_core as rcp"
   ]
  },
  {
   "cell_type": "code",
   "execution_count": 3,
   "metadata": {},
   "outputs": [],
   "source": [
    "param_dir = \"/Users/hn/Documents/00_GitHub/Ag/remote_sensing/parameters/\"\n",
    "\n",
    "double_crop_potens = pd.read_csv(param_dir + \"double_crop_potential_plants.csv\")"
   ]
  },
  {
   "cell_type": "markdown",
   "metadata": {},
   "source": [
    "#### Read ShapeFile Data"
   ]
  },
  {
   "cell_type": "code",
   "execution_count": 4,
   "metadata": {},
   "outputs": [],
   "source": [
    "shapeFile_Data_dir = \"/Users/hn/Documents/01_research_data/\" + \\\n",
    "                      \"remote_sensing/01_Data_part_not_filtered/\"\n",
    "\n",
    "WSDA_DataTable_2018 = pd.read_csv(shapeFile_Data_dir + \"WSDA_DataTable_2018.csv\")\n",
    "\n",
    "WSDA_DataTable_2018[\"DataSrc\"] = WSDA_DataTable_2018[\"DataSrc\"].str.lower()\n",
    "WSDA_DataTable_2018[\"CropTyp\"] = WSDA_DataTable_2018[\"CropTyp\"].str.lower()"
   ]
  },
  {
   "cell_type": "code",
   "execution_count": 5,
   "metadata": {},
   "outputs": [],
   "source": [
    "indeks = \"EVI\"\n",
    "\n",
    "peak_tables_dir = \"/Users/hn/Documents/01_research_data/\" + \\\n",
    "                  \"remote_sensing/01_NDVI_TS/04_Irrigated_eastern_Cloud70/\" + \\\n",
    "                  \"Grant_2018_irrigated/savitzky_\" + indeks + \"/Grant_Irrigated_2018_no_plot/\"\n",
    "\n",
    "####\n",
    "####  parameters\n",
    "####\n",
    "deltas = [0.1, 0.2, 0.3, 0.4]\n",
    "windows_degrees = [(3, 1), (3, 2),\n",
    "                   (5, 1), (5, 2), (5, 3),\n",
    "                   (7, 1), (7, 2), (7, 3), \n",
    "                   (9, 1), (9, 2), (9, 3)]\n",
    "\n",
    "windows_degrees = [[3, 1], [3, 2],\n",
    "                   [5, 1], [5, 2], [5, 3],\n",
    "                   [7, 1], [7, 2], [7, 3], \n",
    "                   [9, 1], [9, 2], [9, 3]]\n",
    "\n",
    "\n",
    "\n",
    "delta_windows_degrees = [[i, j] for i in deltas for j in windows_degrees]\n",
    "\n",
    "output_columns = ['parameters', 'actual_2_pred_2', 'actual_2_pred_Not2',\n",
    "                  'actual_Not2_pred_2', 'actual_Not2_pred_Not2',]"
   ]
  },
  {
   "cell_type": "code",
   "execution_count": 6,
   "metadata": {},
   "outputs": [
    {
     "data": {
      "text/plain": [
       "array(['nass', 'wsda', 'conservation district', 'producer', 'king county',\n",
       "       'wslcb', 'snohomish county', 'doh'], dtype=object)"
      ]
     },
     "execution_count": 6,
     "metadata": {},
     "output_type": "execute_result"
    }
   ],
   "source": [
    "WSDA_DataTable_2018.DataSrc.unique()"
   ]
  },
  {
   "cell_type": "code",
   "execution_count": 7,
   "metadata": {},
   "outputs": [],
   "source": [
    "NASS_out = False\n",
    "non_Irr_out = True\n",
    "perennials_out = False\n",
    "\n",
    "output = pd.DataFrame(data=None, \n",
    "                      index = np.arange(len(delta_windows_degrees)), # delta_windows_degrees, # \n",
    "                      columns = output_columns)\n",
    "output['parameters'] = delta_windows_degrees\n",
    "curr_SF = WSDA_DataTable_2018.copy()\n",
    "\n",
    "if perennials_out == True:\n",
    "    curr_SF = curr_SF[curr_SF.CropTyp.isin(double_crop_potens['Crop_Type'])]\n",
    "    Pere_name = \"PereOut_\"\n",
    "else:\n",
    "    Pere_name = \"PereIn_\"\n",
    "\n",
    "if NASS_out == True:\n",
    "    curr_SF = rc.filter_out_NASS(curr_SF)\n",
    "    NASS_name = \"NASSOut_\"\n",
    "else:\n",
    "    NASS_name = \"NASSin_\""
   ]
  },
  {
   "cell_type": "code",
   "execution_count": null,
   "metadata": {},
   "outputs": [],
   "source": [
    "if non_Irr_out == True:\n",
    "    curr_SF = rc.filter_out_nonIrrigated(curr_SF)\n",
    "    non_Irr_name = \"JustIrr\"\n",
    "else:\n",
    "    non_Irr_name = \"BothIrr\"\n",
    "\n"
   ]
  },
  {
   "cell_type": "code",
   "execution_count": 8,
   "metadata": {},
   "outputs": [
    {
     "data": {
      "text/plain": [
       "(212985, 16)"
      ]
     },
     "execution_count": 8,
     "metadata": {},
     "output_type": "execute_result"
    }
   ],
   "source": [
    "curr_SF.shape"
   ]
  },
  {
   "cell_type": "code",
   "execution_count": 9,
   "metadata": {},
   "outputs": [],
   "source": [
    "curr_SF = rc.filter_out_nonIrrigated(curr_SF)"
   ]
  },
  {
   "cell_type": "code",
   "execution_count": 10,
   "metadata": {},
   "outputs": [
    {
     "data": {
      "text/plain": [
       "(84717, 16)"
      ]
     },
     "execution_count": 10,
     "metadata": {},
     "output_type": "execute_result"
    }
   ],
   "source": [
    "curr_SF.shape"
   ]
  },
  {
   "cell_type": "code",
   "execution_count": null,
   "metadata": {},
   "outputs": [],
   "source": []
  },
  {
   "cell_type": "code",
   "execution_count": null,
   "metadata": {},
   "outputs": [],
   "source": []
  },
  {
   "cell_type": "code",
   "execution_count": null,
   "metadata": {},
   "outputs": [],
   "source": [
    "print (\"NASS_out: \" + str(NASS_out) + \", non_Irr_out: \" + str(non_Irr_out) + \\\n",
    "       \", perennials_out: \" + str(perennials_out))\n",
    "\n",
    "location = 0\n",
    "params = output['parameters'][0]\n",
    "\n"
   ]
  },
  {
   "cell_type": "code",
   "execution_count": null,
   "metadata": {},
   "outputs": [],
   "source": [
    "delt = params[0]\n",
    "win_deg = params[1]\n",
    "window = win_deg[0]\n",
    "degree = win_deg[1]\n",
    "doubl_pk_file = peak_tables_dir + \"delta\" + str(delt) + \"_Sav_win\" + str(window) + \\\n",
    "                \"_Order\" + str(degree) + \"/all_poly_and_maxs_savitzky.csv\"\n",
    "\n",
    "doubl_peak_table = pd.read_csv( doubl_pk_file, low_memory=False)\n",
    "\n",
    "doubl_peak_table[\"CropTyp\"] = doubl_peak_table[\"CropTyp\"].str.lower()\n",
    "\n",
    "############################################################\n",
    "last_row_id = doubl_peak_table.shape[0] - 1\n",
    "doubl_peak_table = doubl_peak_table.drop([last_row_id], axis=0)\n",
    "\n",
    "if perennials_out == True:\n",
    "    doubl_peak_table = doubl_peak_table[\\\n",
    "                                    doubl_peak_table.CropTyp.isin(double_crop_potens['Crop_Type'])]\n",
    "if NASS_out == True:\n",
    "    doubl_peak_table = rc.filter_out_NASS(doubl_peak_table)\n",
    "\n",
    "\n",
    "if non_Irr_out == True:\n",
    "    doubl_peak_table = rc.filter_out_nonIrrigated(doubl_peak_table)"
   ]
  },
  {
   "cell_type": "code",
   "execution_count": null,
   "metadata": {},
   "outputs": [],
   "source": []
  },
  {
   "cell_type": "code",
   "execution_count": null,
   "metadata": {},
   "outputs": [],
   "source": [
    "doubl_peak_table.drop(['max_Doy', 'max_value'], axis=1, inplace=True)\n",
    "doubl_peak_table.drop_duplicates(inplace=True)"
   ]
  },
  {
   "cell_type": "code",
   "execution_count": null,
   "metadata": {},
   "outputs": [],
   "source": [
    "#### \n",
    "actual_double_cropped = rc.filter_double_by_Notes(curr_SF)\n",
    "actual_Notdouble_cropped = rc.filter_Notdouble_by_Notes(curr_SF)"
   ]
  },
  {
   "cell_type": "code",
   "execution_count": null,
   "metadata": {},
   "outputs": [],
   "source": [
    "actual_double_cropped.head(2)"
   ]
  },
  {
   "cell_type": "code",
   "execution_count": null,
   "metadata": {},
   "outputs": [],
   "source": [
    "actual_Notdouble_cropped.head(2)"
   ]
  },
  {
   "cell_type": "code",
   "execution_count": null,
   "metadata": {},
   "outputs": [],
   "source": [
    "predicted_double_peaks = doubl_peak_table[doubl_peak_table.max_count >= 2].copy()\n",
    "predicted_Notdouble_peaks = doubl_peak_table[doubl_peak_table.max_count < 2].copy()"
   ]
  },
  {
   "cell_type": "code",
   "execution_count": null,
   "metadata": {},
   "outputs": [],
   "source": [
    "predicted_Notdouble_peaks.head(2)"
   ]
  },
  {
   "cell_type": "code",
   "execution_count": null,
   "metadata": {},
   "outputs": [],
   "source": [
    "actual_2_pred_2 = sum(actual_double_cropped['ID'].isin(predicted_double_peaks['ID']))\n",
    "actual_Not2_pred_2 = sum(actual_Notdouble_cropped['ID'].isin(predicted_double_peaks['ID']))\n"
   ]
  },
  {
   "cell_type": "code",
   "execution_count": null,
   "metadata": {},
   "outputs": [],
   "source": [
    "actual_2_pred_Not2 = len(actual_double_cropped['ID'].unique()) - actual_2_pred_2\n",
    "actual_Not2_pred_Not2 = len(actual_Notdouble_cropped['ID'].unique()) - actual_Not2_pred_2"
   ]
  },
  {
   "cell_type": "code",
   "execution_count": null,
   "metadata": {},
   "outputs": [],
   "source": [
    "print(actual_2_pred_2)\n",
    "print(actual_Not2_pred_2)\n",
    "print(actual_2_pred_Not2)\n",
    "print(actual_Not2_pred_Not2)"
   ]
  },
  {
   "cell_type": "code",
   "execution_count": null,
   "metadata": {},
   "outputs": [],
   "source": [
    "print(NASS_out)\n",
    "print(non_Irr_out)\n",
    "print(perennials_out)"
   ]
  },
  {
   "cell_type": "code",
   "execution_count": null,
   "metadata": {},
   "outputs": [],
   "source": []
  },
  {
   "cell_type": "code",
   "execution_count": null,
   "metadata": {},
   "outputs": [],
   "source": [
    "actual_Notdouble_cropped.head(2)"
   ]
  },
  {
   "cell_type": "code",
   "execution_count": null,
   "metadata": {},
   "outputs": [],
   "source": [
    "len(actual_Notdouble_cropped.ID.unique()) == len(actual_Notdouble_cropped.ID)"
   ]
  },
  {
   "cell_type": "code",
   "execution_count": null,
   "metadata": {},
   "outputs": [],
   "source": [
    "fillin_col = [\"actual_2_pred_2\", \"actual_2_pred_Not2\", \"actual_Not2_pred_2\", \"actual_Not2_pred_Not2\"]\n",
    "fillin_vals = [actual_2_pred_2, actual_2_pred_Not2, actual_Not2_pred_2, actual_Not2_pred_Not2]\n",
    "output.loc[location, fillin_col] = fillin_vals"
   ]
  },
  {
   "cell_type": "code",
   "execution_count": null,
   "metadata": {},
   "outputs": [],
   "source": [
    "###########\n",
    "output['parameters'] = output['parameters'].astype(\"str\")\n",
    "write_path = \"/Users/hn/Documents/fuck_1/\"\n",
    "write_path = \"/Users/hn/Documents/fuck/\"\n",
    "os.makedirs(write_path, exist_ok=True)\n",
    "\n",
    "filename = write_path + \"saviztky_\" + indeks + \"_\" + Pere_name + \\\n",
    "           NASS_name + non_Irr_name + \"_confusion.csv\"\n",
    "output.to_csv(filename, index = False)\n",
    "del(output)"
   ]
  },
  {
   "cell_type": "code",
   "execution_count": null,
   "metadata": {},
   "outputs": [],
   "source": []
  },
  {
   "cell_type": "code",
   "execution_count": 9,
   "metadata": {},
   "outputs": [],
   "source": [
    "jumps = \"no\"\n",
    "SF_year = 2017\n",
    "output_base = \"a/\"\n",
    "output_Irr = \"Irr\"\n",
    "indeks = \"EVI\"\n",
    "sos_thresh = 0.4\n",
    "eos_thresh = 0.4\n",
    "regular_data_dir = \"100\"\n",
    "given_county = \"Grant\""
   ]
  },
  {
   "cell_type": "code",
   "execution_count": 10,
   "metadata": {},
   "outputs": [],
   "source": [
    "if jumps == \"yes\":\n",
    "    regular_output_dir = output_base + \"/2Yrs_plots_70Cloud_Regular_wJumps/\" + \\\n",
    "                         str(SF_year) + \"_regular_\" + output_Irr + \"_\" + indeks + \\\n",
    "                         \"_SOS\" + str(int(sos_thresh*10))+ \"_EOS\" + str(int(eos_thresh*10)) + \"/\"\n",
    "else:\n",
    "    regular_data_dir = regular_data_dir + \"/noJump_Regularized/\"\n",
    "    regular_output_dir = output_base + \"/2Yrs_plots_70Cloud_Regular_noJumps/\" + \\\n",
    "                         str(SF_year) + \"_regular_\" + output_Irr + \"_\" + indeks + \\\n",
    "                         \"_SOS\" + str(int(sos_thresh*10)) + \"_EOS\" + str(int(eos_thresh*10)) + \"/\"\n",
    "\n",
    "    f_name = \"01_Regular_filledGap_\" + given_county + \"_SF_\" + str(SF_year) + \"_\" + indeks + \".csv\""
   ]
  },
  {
   "cell_type": "code",
   "execution_count": null,
   "metadata": {},
   "outputs": [],
   "source": []
  },
  {
   "cell_type": "code",
   "execution_count": null,
   "metadata": {},
   "outputs": [],
   "source": []
  },
  {
   "cell_type": "code",
   "execution_count": 1,
   "metadata": {},
   "outputs": [],
   "source": [
    "import pandas as pd\n",
    "\n",
    "A = \"/Users/hn/Documents/01_research_data/remote_sensing/\" + \\\n",
    "    \"01_NDVI_TS/70_Cloud/00_Eastern_WA_withYear/2Years/\" + \\\n",
    "    \"04_Regular_plt_tbl_SOSEOS/confusions_70Cloud_SEOS0.5/\" + \\\n",
    "    \"EVI_PereOut_NASSin_JustIrr_dblNotFiltered_confusion_Acr_morethan2seasons_regular/\" + \\\n",
    "    \"allCounties_separate_2016_confusion.csv\"\n",
    "\n",
    "A = pd.read_csv(A)"
   ]
  },
  {
   "cell_type": "code",
   "execution_count": 3,
   "metadata": {},
   "outputs": [],
   "source": [
    "eastern_confusion = A.groupby(['parameters']).sum()"
   ]
  },
  {
   "cell_type": "code",
   "execution_count": 4,
   "metadata": {},
   "outputs": [
    {
     "data": {
      "text/html": [
       "<div>\n",
       "<style scoped>\n",
       "    .dataframe tbody tr th:only-of-type {\n",
       "        vertical-align: middle;\n",
       "    }\n",
       "\n",
       "    .dataframe tbody tr th {\n",
       "        vertical-align: top;\n",
       "    }\n",
       "\n",
       "    .dataframe thead th {\n",
       "        text-align: right;\n",
       "    }\n",
       "</style>\n",
       "<table border=\"1\" class=\"dataframe\">\n",
       "  <thead>\n",
       "    <tr style=\"text-align: right;\">\n",
       "      <th></th>\n",
       "      <th>actual_2_pred_2</th>\n",
       "      <th>actual_2_pred_Not2</th>\n",
       "      <th>actual_Not2_pred_2</th>\n",
       "      <th>actual_Not2_pred_Not2</th>\n",
       "    </tr>\n",
       "    <tr>\n",
       "      <th>parameters</th>\n",
       "      <th></th>\n",
       "      <th></th>\n",
       "      <th></th>\n",
       "      <th></th>\n",
       "    </tr>\n",
       "  </thead>\n",
       "  <tbody>\n",
       "    <tr>\n",
       "      <th>[5, 1]</th>\n",
       "      <td>8714.76</td>\n",
       "      <td>17439.52</td>\n",
       "      <td>105751.22</td>\n",
       "      <td>705202.20</td>\n",
       "    </tr>\n",
       "    <tr>\n",
       "      <th>[5, 3]</th>\n",
       "      <td>9528.23</td>\n",
       "      <td>16626.05</td>\n",
       "      <td>141943.79</td>\n",
       "      <td>669009.60</td>\n",
       "    </tr>\n",
       "    <tr>\n",
       "      <th>[7, 3]</th>\n",
       "      <td>10144.48</td>\n",
       "      <td>16009.80</td>\n",
       "      <td>142171.67</td>\n",
       "      <td>668781.73</td>\n",
       "    </tr>\n",
       "    <tr>\n",
       "      <th>[9, 3]</th>\n",
       "      <td>10345.40</td>\n",
       "      <td>15808.89</td>\n",
       "      <td>134406.76</td>\n",
       "      <td>676546.64</td>\n",
       "    </tr>\n",
       "  </tbody>\n",
       "</table>\n",
       "</div>"
      ],
      "text/plain": [
       "            actual_2_pred_2  actual_2_pred_Not2  actual_Not2_pred_2  \\\n",
       "parameters                                                            \n",
       "[5, 1]              8714.76            17439.52           105751.22   \n",
       "[5, 3]              9528.23            16626.05           141943.79   \n",
       "[7, 3]             10144.48            16009.80           142171.67   \n",
       "[9, 3]             10345.40            15808.89           134406.76   \n",
       "\n",
       "            actual_Not2_pred_Not2  \n",
       "parameters                         \n",
       "[5, 1]                  705202.20  \n",
       "[5, 3]                  669009.60  \n",
       "[7, 3]                  668781.73  \n",
       "[9, 3]                  676546.64  "
      ]
     },
     "execution_count": 4,
     "metadata": {},
     "output_type": "execute_result"
    }
   ],
   "source": [
    "eastern_confusion"
   ]
  },
  {
   "cell_type": "code",
   "execution_count": 15,
   "metadata": {},
   "outputs": [],
   "source": [
    "columnss = A.columns[0:5]"
   ]
  },
  {
   "cell_type": "code",
   "execution_count": 16,
   "metadata": {},
   "outputs": [],
   "source": [
    "eastern_confusion = eastern_confusion[columnss]"
   ]
  },
  {
   "cell_type": "code",
   "execution_count": 17,
   "metadata": {},
   "outputs": [
    {
     "data": {
      "text/html": [
       "<div>\n",
       "<style scoped>\n",
       "    .dataframe tbody tr th:only-of-type {\n",
       "        vertical-align: middle;\n",
       "    }\n",
       "\n",
       "    .dataframe tbody tr th {\n",
       "        vertical-align: top;\n",
       "    }\n",
       "\n",
       "    .dataframe thead th {\n",
       "        text-align: right;\n",
       "    }\n",
       "</style>\n",
       "<table border=\"1\" class=\"dataframe\">\n",
       "  <thead>\n",
       "    <tr style=\"text-align: right;\">\n",
       "      <th></th>\n",
       "      <th>parameters</th>\n",
       "      <th>actual_2_pred_2</th>\n",
       "      <th>actual_2_pred_Not2</th>\n",
       "      <th>actual_Not2_pred_2</th>\n",
       "      <th>actual_Not2_pred_Not2</th>\n",
       "    </tr>\n",
       "    <tr>\n",
       "      <th>parameters</th>\n",
       "      <th></th>\n",
       "      <th></th>\n",
       "      <th></th>\n",
       "      <th></th>\n",
       "      <th></th>\n",
       "    </tr>\n",
       "  </thead>\n",
       "  <tbody>\n",
       "    <tr>\n",
       "      <th>[5, 1]</th>\n",
       "      <td>[5, 1]</td>\n",
       "      <td>8714.76</td>\n",
       "      <td>17439.52</td>\n",
       "      <td>105751.22</td>\n",
       "      <td>705202.20</td>\n",
       "    </tr>\n",
       "    <tr>\n",
       "      <th>[5, 3]</th>\n",
       "      <td>[5, 3]</td>\n",
       "      <td>9528.23</td>\n",
       "      <td>16626.05</td>\n",
       "      <td>141943.79</td>\n",
       "      <td>669009.60</td>\n",
       "    </tr>\n",
       "    <tr>\n",
       "      <th>[7, 3]</th>\n",
       "      <td>[7, 3]</td>\n",
       "      <td>10144.48</td>\n",
       "      <td>16009.80</td>\n",
       "      <td>142171.67</td>\n",
       "      <td>668781.73</td>\n",
       "    </tr>\n",
       "    <tr>\n",
       "      <th>[9, 3]</th>\n",
       "      <td>[9, 3]</td>\n",
       "      <td>10345.40</td>\n",
       "      <td>15808.89</td>\n",
       "      <td>134406.76</td>\n",
       "      <td>676546.64</td>\n",
       "    </tr>\n",
       "  </tbody>\n",
       "</table>\n",
       "</div>"
      ],
      "text/plain": [
       "           parameters  actual_2_pred_2  actual_2_pred_Not2  \\\n",
       "parameters                                                   \n",
       "[5, 1]         [5, 1]          8714.76            17439.52   \n",
       "[5, 3]         [5, 3]          9528.23            16626.05   \n",
       "[7, 3]         [7, 3]         10144.48            16009.80   \n",
       "[9, 3]         [9, 3]         10345.40            15808.89   \n",
       "\n",
       "            actual_Not2_pred_2  actual_Not2_pred_Not2  \n",
       "parameters                                             \n",
       "[5, 1]               105751.22              705202.20  \n",
       "[5, 3]               141943.79              669009.60  \n",
       "[7, 3]               142171.67              668781.73  \n",
       "[9, 3]               134406.76              676546.64  "
      ]
     },
     "execution_count": 17,
     "metadata": {},
     "output_type": "execute_result"
    }
   ],
   "source": [
    "eastern_confusion"
   ]
  },
  {
   "cell_type": "code",
   "execution_count": null,
   "metadata": {},
   "outputs": [],
   "source": []
  }
 ],
 "metadata": {
  "kernelspec": {
   "display_name": "Python 3",
   "language": "python",
   "name": "python3"
  },
  "language_info": {
   "codemirror_mode": {
    "name": "ipython",
    "version": 3
   },
   "file_extension": ".py",
   "mimetype": "text/x-python",
   "name": "python",
   "nbconvert_exporter": "python",
   "pygments_lexer": "ipython3",
   "version": "3.7.4"
  }
 },
 "nbformat": 4,
 "nbformat_minor": 2
}
