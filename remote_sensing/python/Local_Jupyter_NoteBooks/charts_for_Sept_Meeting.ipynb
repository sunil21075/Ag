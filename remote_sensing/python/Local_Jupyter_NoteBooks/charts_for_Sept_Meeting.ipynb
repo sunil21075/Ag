{
 "cells": [
  {
   "cell_type": "code",
   "execution_count": 1,
   "metadata": {},
   "outputs": [
    {
     "name": "stderr",
     "output_type": "stream",
     "text": [
      "/Users/hn/opt/anaconda3/lib/python3.7/site-packages/statsmodels/tools/_testing.py:19: FutureWarning: pandas.util.testing is deprecated. Use the functions in the public API at pandas.testing instead.\n",
      "  import pandas.util.testing as tm\n"
     ]
    }
   ],
   "source": [
    "import csv\n",
    "import numpy as np\n",
    "import pandas as pd\n",
    "from IPython.display import Image\n",
    "from shapely.geometry import Point, Polygon\n",
    "from math import factorial\n",
    "import datetime\n",
    "import time\n",
    "import scipy\n",
    "import os, os.path\n",
    "\n",
    "from statsmodels.sandbox.regression.predstd import wls_prediction_std\n",
    "import statsmodels.api as sm\n",
    "from sklearn.linear_model import LinearRegression\n",
    "from patsy import cr\n",
    "from patsy import dmatrix \n",
    "\n",
    "from pprint import pprint\n",
    "import matplotlib.pyplot as plt\n",
    "import pylab\n",
    "import seaborn as sb\n",
    "\n",
    "from sklearn.metrics import mean_squared_error\n",
    "from math import sqrt\n",
    "\n",
    "\n",
    "import sys"
   ]
  },
  {
   "cell_type": "markdown",
   "metadata": {},
   "source": [
    "# Documents are already written\n",
    "\n",
    "[Google doc](https://docs.google.com/document/d/18KX24FkL70_Xhxagwx9EBRWeQmz-Ud-iuTXqnf9YXnk/edit?usp=sharing) has some info.\n",
    "\n",
    "Also the sheet called [Kirti_remotesensing](https://docs.google.com/spreadsheets/d/1KGU_aJwQn-LupWut_Xr999Fct69oMQQdufT6s0ADO-Q/edit?usp=sharing)\n",
    "\n",
    "## 2017 Irrigated\n",
    "***Everything here is irrigated. (i.e. non-irrigated is excluded)***\n",
    "\n",
    "### Eastern Washington\n",
    "\n",
    "   - Count  : 74,064    = 16,608  (irrigated and annual) + 57,456 (irrigated and perennials)\n",
    "   - Acreage: 1,864,135 = 834,842 (irrigated and annual) + 1,029,293 (irrigated and perennials)\n",
    "\n",
    "Irrigated and annual and labeled as double-cropped by Notes column: 532 fields (34,580 acres), in the last 10(?) years. Please note that some of the fields might be double-cropped in 2017 but the Notes column is not an indicator of this fact, since it might be carried over from previous years. So, false positives and false negatives are there.\n",
    "\n",
    "Breakdown into LastSurveyDate and previous years:\n",
    "\n",
    "   - Count : 532     = 306    (surveyed in 2017) + 226 (previous years).\n",
    "   - Acreage: 34,580 = 19,989 (surveyed in 2017) + 14,591 (previous years).\n",
    "________________________________________________________________________________________________\n",
    "### Grant county:    \n",
    "   - Count  : 13,793  = 4,575 (irrigated and annual) + 9,218  (irrigated and perennials)\n",
    "   - Acreage: 521,766 = 256,314 (irrigated and annual) + 265,452 (irrigated and perennials)\n",
    "\n",
    "#### Irrigated and annual and labeled as double-cropped by Notes column:\n",
    "\n",
    "   - Count: 241       = 241    (surveyed in 2017) + 0 (previous years).\n",
    "   - Acreage: 16,411  = 16,411 (surveyed in 2017) + 0 (previous years).\n"
   ]
  },
  {
   "cell_type": "markdown",
   "metadata": {},
   "source": [
    "# Eastern Annual vs. Non-annual"
   ]
  },
  {
   "cell_type": "code",
   "execution_count": 7,
   "metadata": {},
   "outputs": [
    {
     "data": {
      "text/html": [
       "<div>\n",
       "<style scoped>\n",
       "    .dataframe tbody tr th:only-of-type {\n",
       "        vertical-align: middle;\n",
       "    }\n",
       "\n",
       "    .dataframe tbody tr th {\n",
       "        vertical-align: top;\n",
       "    }\n",
       "\n",
       "    .dataframe thead th {\n",
       "        text-align: right;\n",
       "    }\n",
       "</style>\n",
       "<table border=\"1\" class=\"dataframe\">\n",
       "  <thead>\n",
       "    <tr style=\"text-align: right;\">\n",
       "      <th></th>\n",
       "      <th>acreage</th>\n",
       "    </tr>\n",
       "  </thead>\n",
       "  <tbody>\n",
       "    <tr>\n",
       "      <th>irrigated and annual</th>\n",
       "      <td>834842</td>\n",
       "    </tr>\n",
       "    <tr>\n",
       "      <th>irrigated and not-annual</th>\n",
       "      <td>1029293</td>\n",
       "    </tr>\n",
       "  </tbody>\n",
       "</table>\n",
       "</div>"
      ],
      "text/plain": [
       "                          acreage\n",
       "irrigated and annual       834842\n",
       "irrigated and not-annual  1029293"
      ]
     },
     "execution_count": 7,
     "metadata": {},
     "output_type": "execute_result"
    }
   ],
   "source": [
    "Eastern_annual_break = pd.DataFrame({'acreage': [834842, 1029293],},\n",
    "                                     index=['irrigated and annual', 'irrigated and not-annual'])\n",
    "Eastern_annual_break"
   ]
  },
  {
   "cell_type": "code",
   "execution_count": 35,
   "metadata": {},
   "outputs": [
    {
     "data": {
      "image/png": "[encoded data removed]",
      "text/plain": [
       "<Figure size 576x432 with 1 Axes>"
      ]
     },
     "metadata": {},
     "output_type": "display_data"
    }
   ],
   "source": [
    "fig, ax = plt.subplots(figsize=(8,6));\n",
    "col = \"acreage\"\n",
    "ttl = \"breakdown of irrigated fields to annual and others.\"\n",
    "explode = (0, 0, 0.02, 0)\n",
    "explode = (0, 0)\n",
    "colors = ['#66b3ff','#42e3a0', '#ffcc99', '#ff9999']\n",
    "\n",
    "Eastern_annual_break[col].plot(kind='pie', \n",
    "                        # autopct='%1.0f%%',\n",
    "                        autopct = lambda p:f'{p:1.0f}%, ({p*sum(Eastern_annual_break.acreage)/100 :.0f} acres)',\n",
    "                        labels = Eastern_annual_break.index, \n",
    "                        labeldistance = 1,\n",
    "                        ax=ax, \n",
    "                        title = ttl, \n",
    "                        fontsize = 13,\n",
    "                        shadow = False,\n",
    "                        explode = explode,\n",
    "                        colors = colors\n",
    "                        )\n",
    "\n",
    "ax.axis('equal') # Equal aspect ratio ensures that pie is drawn as a circle.\n",
    "pylab.ylabel('')\n",
    "ax.legend().set_visible(False)\n",
    "\n",
    "plot_path = \"/Users/hn/Documents/00_GitHub/Ag/remote_sensing/Sept18_Meeting/\"\n",
    "fig_name = plot_path + \"Eastern_annualVsPerennials.png\"\n",
    "plt.savefig(fname = fig_name, \\\n",
    "            dpi = 400,\n",
    "            bbox_inches='tight')"
   ]
  },
  {
   "cell_type": "markdown",
   "metadata": {},
   "source": [
    "### Irrigated and annuals break down into double-cropped by Notes"
   ]
  },
  {
   "cell_type": "code",
   "execution_count": 37,
   "metadata": {},
   "outputs": [
    {
     "data": {
      "text/html": [
       "<div>\n",
       "<style scoped>\n",
       "    .dataframe tbody tr th:only-of-type {\n",
       "        vertical-align: middle;\n",
       "    }\n",
       "\n",
       "    .dataframe tbody tr th {\n",
       "        vertical-align: top;\n",
       "    }\n",
       "\n",
       "    .dataframe thead th {\n",
       "        text-align: right;\n",
       "    }\n",
       "</style>\n",
       "<table border=\"1\" class=\"dataframe\">\n",
       "  <thead>\n",
       "    <tr style=\"text-align: right;\">\n",
       "      <th></th>\n",
       "      <th>acreage</th>\n",
       "    </tr>\n",
       "  </thead>\n",
       "  <tbody>\n",
       "    <tr>\n",
       "      <th>irrigated, annual, double-cropped by Notes, surveyed current year</th>\n",
       "      <td>19989</td>\n",
       "    </tr>\n",
       "    <tr>\n",
       "      <th>irrigated, annual, double-cropped by Notes, previous years</th>\n",
       "      <td>14591</td>\n",
       "    </tr>\n",
       "  </tbody>\n",
       "</table>\n",
       "</div>"
      ],
      "text/plain": [
       "                                                    acreage\n",
       "irrigated, annual, double-cropped by Notes, sur...    19989\n",
       "irrigated, annual, double-cropped by Notes, pre...    14591"
      ]
     },
     "execution_count": 37,
     "metadata": {},
     "output_type": "execute_result"
    }
   ],
   "source": [
    "Eastern_annual_double_break = pd.DataFrame({'acreage': [19989, 14591],},\n",
    "                             index=['irrigated, annual, double-cropped by Notes, surveyed current year', \n",
    "                                   'irrigated, annual, double-cropped by Notes, previous years'])\n",
    "Eastern_annual_double_break"
   ]
  },
  {
   "cell_type": "code",
   "execution_count": 44,
   "metadata": {},
   "outputs": [
    {
     "data": {
      "image/png": "[encoded data removed]",
      "text/plain": [
       "<Figure size 576x432 with 1 Axes>"
      ]
     },
     "metadata": {},
     "output_type": "display_data"
    }
   ],
   "source": [
    "fig, ax = plt.subplots(figsize=(8,6));\n",
    "col = \"acreage\"\n",
    "ttl = \"labeled as double-cropped by Notes (irrigated and annual fields).\"\n",
    "explode = (0, 0, 0.02, 0)\n",
    "explode = (0, 0)\n",
    "colors = ['#66b3ff','#42e3a0', '#ffcc99', '#ff9999']\n",
    "LabeLs = [\"Surveyed in 2017\", \"Surveyed in previous years\"]\n",
    "\n",
    "Eastern_annual_double_break[col].plot(kind='pie', \n",
    "                         # autopct='%1.0f%%',\n",
    "             autopct = lambda p:f'{p:1.0f}%, ({p*sum(Eastern_annual_double_break.acreage)/100 :.0f} acres)',\n",
    "             labels = LabeLs, \n",
    "             labeldistance = 1,\n",
    "             ax=ax, \n",
    "             title = ttl, \n",
    "             fontsize = 13,\n",
    "             shadow = False,\n",
    "             explode = explode,\n",
    "             colors = colors\n",
    "             )\n",
    "\n",
    "ax.axis('equal') # Equal aspect ratio ensures that pie is drawn as a circle.\n",
    "pylab.ylabel('')\n",
    "ax.legend().set_visible(False)\n",
    "\n",
    "plot_path = \"/Users/hn/Documents/00_GitHub/Ag/remote_sensing/Sept18_Meeting/\"\n",
    "fig_name = plot_path + \"Eastern_annual_doubleSurveyedYears.png\"\n",
    "plt.savefig(fname = fig_name, \\\n",
    "            dpi = 400,\n",
    "            bbox_inches='tight')"
   ]
  },
  {
   "cell_type": "markdown",
   "metadata": {},
   "source": [
    "# Grant 2017"
   ]
  },
  {
   "cell_type": "code",
   "execution_count": 40,
   "metadata": {},
   "outputs": [
    {
     "data": {
      "text/html": [
       "<div>\n",
       "<style scoped>\n",
       "    .dataframe tbody tr th:only-of-type {\n",
       "        vertical-align: middle;\n",
       "    }\n",
       "\n",
       "    .dataframe tbody tr th {\n",
       "        vertical-align: top;\n",
       "    }\n",
       "\n",
       "    .dataframe thead th {\n",
       "        text-align: right;\n",
       "    }\n",
       "</style>\n",
       "<table border=\"1\" class=\"dataframe\">\n",
       "  <thead>\n",
       "    <tr style=\"text-align: right;\">\n",
       "      <th></th>\n",
       "      <th>acreage</th>\n",
       "    </tr>\n",
       "  </thead>\n",
       "  <tbody>\n",
       "    <tr>\n",
       "      <th>irrigated and annual</th>\n",
       "      <td>256314</td>\n",
       "    </tr>\n",
       "    <tr>\n",
       "      <th>irrigated and not-annual</th>\n",
       "      <td>265452</td>\n",
       "    </tr>\n",
       "  </tbody>\n",
       "</table>\n",
       "</div>"
      ],
      "text/plain": [
       "                          acreage\n",
       "irrigated and annual       256314\n",
       "irrigated and not-annual   265452"
      ]
     },
     "execution_count": 40,
     "metadata": {},
     "output_type": "execute_result"
    }
   ],
   "source": [
    "Grant_annual_break = pd.DataFrame({'acreage': [256314, 265452],},\n",
    "                                    index=['irrigated and annual', 'irrigated and not-annual'])\n",
    "Grant_annual_break"
   ]
  },
  {
   "cell_type": "code",
   "execution_count": 41,
   "metadata": {},
   "outputs": [
    {
     "data": {
      "image/png": "[encoded data removed]",
      "text/plain": [
       "<Figure size 576x432 with 1 Axes>"
      ]
     },
     "metadata": {},
     "output_type": "display_data"
    }
   ],
   "source": [
    "fig, ax = plt.subplots(figsize=(8,6));\n",
    "col = \"acreage\"\n",
    "ttl = \"breakdown of irrigated fields to annual and others.\"\n",
    "explode = (0, 0, 0.02, 0)\n",
    "explode = (0, 0)\n",
    "colors = ['#66b3ff','#42e3a0', '#ffcc99', '#ff9999']\n",
    "\n",
    "Grant_annual_break[col].plot(kind='pie', \n",
    "                        # autopct='%1.0f%%',\n",
    "                        autopct = lambda p:f'{p:1.0f}%, ({p*sum(Grant_annual_break.acreage)/100 :.0f} acres)',\n",
    "                        labels = Grant_annual_break.index, \n",
    "                        labeldistance = 1,\n",
    "                        ax=ax, \n",
    "                        title = ttl, \n",
    "                        fontsize = 13,\n",
    "                        shadow = False,\n",
    "                        explode = explode,\n",
    "                        colors = colors\n",
    "                        )\n",
    "\n",
    "ax.axis('equal') # Equal aspect ratio ensures that pie is drawn as a circle.\n",
    "pylab.ylabel('')\n",
    "ax.legend().set_visible(False)\n",
    "\n",
    "plot_path = \"/Users/hn/Documents/00_GitHub/Ag/remote_sensing/Sept18_Meeting/\"\n",
    "fig_name = plot_path + \"Grant_annualVsPerennials.png\"\n",
    "plt.savefig(fname = fig_name, \\\n",
    "            dpi = 400,\n",
    "            bbox_inches='tight')"
   ]
  },
  {
   "cell_type": "markdown",
   "metadata": {},
   "source": [
    "### Irrigated and annuals break down into double-cropped by Notes"
   ]
  },
  {
   "cell_type": "code",
   "execution_count": 42,
   "metadata": {},
   "outputs": [
    {
     "data": {
      "text/html": [
       "<div>\n",
       "<style scoped>\n",
       "    .dataframe tbody tr th:only-of-type {\n",
       "        vertical-align: middle;\n",
       "    }\n",
       "\n",
       "    .dataframe tbody tr th {\n",
       "        vertical-align: top;\n",
       "    }\n",
       "\n",
       "    .dataframe thead th {\n",
       "        text-align: right;\n",
       "    }\n",
       "</style>\n",
       "<table border=\"1\" class=\"dataframe\">\n",
       "  <thead>\n",
       "    <tr style=\"text-align: right;\">\n",
       "      <th></th>\n",
       "      <th>acreage</th>\n",
       "    </tr>\n",
       "  </thead>\n",
       "  <tbody>\n",
       "    <tr>\n",
       "      <th>irrigated, annual, double-cropped by Notes, surveyed current year</th>\n",
       "      <td>16411</td>\n",
       "    </tr>\n",
       "    <tr>\n",
       "      <th>irrigated, annual, double-cropped by Notes, previous years</th>\n",
       "      <td>0</td>\n",
       "    </tr>\n",
       "  </tbody>\n",
       "</table>\n",
       "</div>"
      ],
      "text/plain": [
       "                                                    acreage\n",
       "irrigated, annual, double-cropped by Notes, sur...    16411\n",
       "irrigated, annual, double-cropped by Notes, pre...        0"
      ]
     },
     "execution_count": 42,
     "metadata": {},
     "output_type": "execute_result"
    }
   ],
   "source": [
    "Grant_annual_double_break = pd.DataFrame({'acreage': [16411, 0],},\n",
    "                             index=['irrigated, annual, double-cropped by Notes, surveyed current year', \n",
    "                                    'irrigated, annual, double-cropped by Notes, previous years'])\n",
    "Grant_annual_double_break"
   ]
  },
  {
   "cell_type": "code",
   "execution_count": 48,
   "metadata": {},
   "outputs": [
    {
     "data": {
      "image/png": "[encoded data removed]",
      "text/plain": [
       "<Figure size 576x432 with 1 Axes>"
      ]
     },
     "metadata": {},
     "output_type": "display_data"
    }
   ],
   "source": [
    "fig, ax = plt.subplots(figsize=(8,6));\n",
    "col = \"acreage\"\n",
    "ttl = \"labeled as double-cropped by Notes (irrigated and annual fields).\"\n",
    "explode = (0, 0, 0.02, 0)\n",
    "explode = (0, 0)\n",
    "colors = ['#66b3ff','#42e3a0', '#ffcc99', '#ff9999']\n",
    "LabeLs = [\"Surveyed in 2017\", \"Surveyed in previous years\"]\n",
    "\n",
    "Grant_annual_double_break[col].plot(kind='pie', \n",
    "                         # autopct='%1.0f%%',\n",
    "             autopct = lambda p:f'{p:1.0f}%, ({p*sum(Grant_annual_double_break.acreage)/100 :.0f} acres)',\n",
    "             labels = LabeLs, \n",
    "             labeldistance = 1.2,\n",
    "             ax=ax, \n",
    "             title = ttl, \n",
    "             fontsize = 13,\n",
    "             shadow = False,\n",
    "             explode = explode,\n",
    "             colors = colors\n",
    "             )\n",
    "\n",
    "ax.axis('equal') # Equal aspect ratio ensures that pie is drawn as a circle.\n",
    "pylab.ylabel('')\n",
    "ax.legend().set_visible(False)\n",
    "\n",
    "plot_path = \"/Users/hn/Documents/00_GitHub/Ag/remote_sensing/Sept18_Meeting/\"\n",
    "fig_name = plot_path + \"Grant_annual_doubleSurveyedYears.png\"\n",
    "plt.savefig(fname = fig_name, \\\n",
    "            dpi = 400,\n",
    "            bbox_inches='tight')"
   ]
  },
  {
   "cell_type": "code",
   "execution_count": 90,
   "metadata": {},
   "outputs": [],
   "source": []
  },
  {
   "cell_type": "code",
   "execution_count": 91,
   "metadata": {},
   "outputs": [
    {
     "data": {
      "text/plain": [
       "(366, 3)"
      ]
     },
     "execution_count": 91,
     "metadata": {},
     "output_type": "execute_result"
    }
   ],
   "source": [
    "A = create_date_table2(SF_year=2016)\n",
    "A.shape"
   ]
  },
  {
   "cell_type": "code",
   "execution_count": 93,
   "metadata": {},
   "outputs": [
    {
     "data": {
      "text/html": [
       "<div>\n",
       "<style scoped>\n",
       "    .dataframe tbody tr th:only-of-type {\n",
       "        vertical-align: middle;\n",
       "    }\n",
       "\n",
       "    .dataframe tbody tr th {\n",
       "        vertical-align: top;\n",
       "    }\n",
       "\n",
       "    .dataframe thead th {\n",
       "        text-align: right;\n",
       "    }\n",
       "</style>\n",
       "<table border=\"1\" class=\"dataframe\">\n",
       "  <thead>\n",
       "    <tr style=\"text-align: right;\">\n",
       "      <th></th>\n",
       "      <th>Date</th>\n",
       "      <th>SF_year</th>\n",
       "      <th>doy</th>\n",
       "    </tr>\n",
       "  </thead>\n",
       "  <tbody>\n",
       "    <tr>\n",
       "      <th>364</th>\n",
       "      <td>2016-12-30</td>\n",
       "      <td>2016</td>\n",
       "      <td>365</td>\n",
       "    </tr>\n",
       "    <tr>\n",
       "      <th>365</th>\n",
       "      <td>2016-12-31</td>\n",
       "      <td>2016</td>\n",
       "      <td>366</td>\n",
       "    </tr>\n",
       "  </tbody>\n",
       "</table>\n",
       "</div>"
      ],
      "text/plain": [
       "          Date  SF_year  doy\n",
       "364 2016-12-30     2016  365\n",
       "365 2016-12-31     2016  366"
      ]
     },
     "execution_count": 93,
     "metadata": {},
     "output_type": "execute_result"
    }
   ],
   "source": [
    "A.tail(2)"
   ]
  },
  {
   "cell_type": "code",
   "execution_count": null,
   "metadata": {},
   "outputs": [],
   "source": []
  }
 ],
 "metadata": {
  "kernelspec": {
   "display_name": "Python 3",
   "language": "python",
   "name": "python3"
  },
  "language_info": {
   "codemirror_mode": {
    "name": "ipython",
    "version": 3
   },
   "file_extension": ".py",
   "mimetype": "text/x-python",
   "name": "python",
   "nbconvert_exporter": "python",
   "pygments_lexer": "ipython3",
   "version": "3.7.4"
  }
 },
 "nbformat": 4,
 "nbformat_minor": 2
}
