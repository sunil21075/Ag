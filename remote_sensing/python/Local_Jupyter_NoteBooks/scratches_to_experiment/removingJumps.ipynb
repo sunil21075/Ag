{
 "cells": [
  {
   "cell_type": "markdown",
   "metadata": {},
   "source": [
    "in removing jump step we received the following error:\n",
    "\n",
    "`/home/hnoorazar/remote_sensing_codes/remote_sensing_core.py:72: RuntimeWarning: invalid value encountered in double_scalars\n",
    "  m = (y2 - y1) / (x2 - x1) # slope`\n",
    "  \n",
    "for the following setting:\n",
    "\n",
    "`python3 ./01_2Yrs_remove_jumps.py NDVI 2015 Walla_Walla 10_cloud`\n",
    "\n"
   ]
  },
  {
   "cell_type": "code",
   "execution_count": 1,
   "metadata": {},
   "outputs": [
    {
     "name": "stderr",
     "output_type": "stream",
     "text": [
      "/Users/hn/opt/anaconda3/lib/python3.7/site-packages/statsmodels/tools/_testing.py:19: FutureWarning: pandas.util.testing is deprecated. Use the functions in the public API at pandas.testing instead.\n",
      "  import pandas.util.testing as tm\n"
     ]
    }
   ],
   "source": [
    "import csv\n",
    "import numpy as np\n",
    "import pandas as pd\n",
    "# import geopandas as gpd\n",
    "from IPython.display import Image\n",
    "# from shapely.geometry import Point, Polygon\n",
    "from math import factorial\n",
    "import scipy\n",
    "import scipy.signal\n",
    "import os, os.path\n",
    "\n",
    "from datetime import date\n",
    "import datetime\n",
    "import time\n",
    "\n",
    "from statsmodels.sandbox.regression.predstd import wls_prediction_std\n",
    "from sklearn.linear_model import LinearRegression\n",
    "from patsy import cr\n",
    "\n",
    "# from pprint import pprint\n",
    "import matplotlib.pyplot as plt\n",
    "import seaborn as sb\n",
    "\n",
    "import sys"
   ]
  },
  {
   "cell_type": "code",
   "execution_count": 2,
   "metadata": {},
   "outputs": [],
   "source": [
    "sys.path.append('/Users/hn/Documents/00_GitHub/Ag/remote_sensing/python/')\n",
    "import remote_sensing_core as rc\n",
    "import remote_sensing_core as rcp\n",
    "\n",
    "start_time = time.time()"
   ]
  },
  {
   "cell_type": "code",
   "execution_count": 3,
   "metadata": {},
   "outputs": [],
   "source": [
    "data_dir = \"/Users/hn/Documents/01_research_data/remote_sensing/01_NDVI_TS/10_Cloud/00_outliers_removed/\""
   ]
  },
  {
   "cell_type": "code",
   "execution_count": 4,
   "metadata": {},
   "outputs": [],
   "source": [
    "####################################################################################\n",
    "###\n",
    "###      Parameters                   \n",
    "###\n",
    "####################################################################################\n",
    "\n",
    "SF_year = 2015\n",
    "indeks = \"NDVI\""
   ]
  },
  {
   "cell_type": "code",
   "execution_count": null,
   "metadata": {},
   "outputs": [],
   "source": [
    "f_name = \"00_noOutlier_Walla_Walla_SF_2015_NDVI.csv\"\n",
    "a_df = pd.read_csv(data_dir + f_name, low_memory=False)"
   ]
  },
  {
   "cell_type": "code",
   "execution_count": null,
   "metadata": {},
   "outputs": [],
   "source": [
    "a_df.head(2)"
   ]
  },
  {
   "cell_type": "code",
   "execution_count": null,
   "metadata": {},
   "outputs": [],
   "source": [
    "print (a_df.shape)\n",
    "print (len(a_df['ID'].unique()))"
   ]
  },
  {
   "cell_type": "code",
   "execution_count": null,
   "metadata": {},
   "outputs": [],
   "source": [
    "an_EE_TS = rc.initial_clean(df = a_df, column_to_be_cleaned = indeks)"
   ]
  },
  {
   "cell_type": "code",
   "execution_count": null,
   "metadata": {},
   "outputs": [],
   "source": [
    "a_df.shape"
   ]
  },
  {
   "cell_type": "code",
   "execution_count": null,
   "metadata": {},
   "outputs": [],
   "source": [
    "an_EE_TS = a_df.copy()\n",
    "polygon_list = an_EE_TS['ID'].unique()\n",
    "print(len(polygon_list))"
   ]
  },
  {
   "cell_type": "code",
   "execution_count": null,
   "metadata": {},
   "outputs": [],
   "source": [
    "output_df = pd.DataFrame(data = None,\n",
    "                         index = np.arange(an_EE_TS.shape[0]), \n",
    "                         columns = an_EE_TS.columns)\n",
    "\n",
    "counter = 0\n",
    "row_pointer = 0"
   ]
  },
  {
   "cell_type": "raw",
   "metadata": {},
   "source": [
    "for a_poly in polygon_list:\n",
    "    if (counter % 300 == 0):\n",
    "        print (counter)\n",
    "    curr_field = an_EE_TS[an_EE_TS['ID']==a_poly].copy()\n",
    "    ################################################################\n",
    "    # Sort by DoY (sanitary check)\n",
    "    curr_field.sort_values(by=['image_year', 'doy'], inplace=True)\n",
    "    curr_field.reset_index(drop=True, inplace=True)\n",
    "    \n",
    "    # print (\"print(curr_field.shape\")\n",
    "    # print(curr_field.shape)\n",
    "    # print (\"__________________________________________\")\n",
    "    ################################################################\n",
    "\n",
    "    no_Outlier_TS = rc.correct_big_jumps_1DaySeries(dataTMS_jumpie = curr_field, \n",
    "                                                    give_col = indeks, \n",
    "                                                    maxjump_perDay = 0.015)\n",
    "\n",
    "    output_df[row_pointer: row_pointer + curr_field.shape[0]] = no_Outlier_TS.values\n",
    "    counter += 1\n",
    "    row_pointer += curr_field.shape[0]"
   ]
  },
  {
   "cell_type": "code",
   "execution_count": null,
   "metadata": {},
   "outputs": [],
   "source": []
  },
  {
   "cell_type": "code",
   "execution_count": null,
   "metadata": {},
   "outputs": [],
   "source": []
  },
  {
   "cell_type": "code",
   "execution_count": null,
   "metadata": {},
   "outputs": [],
   "source": []
  },
  {
   "cell_type": "code",
   "execution_count": null,
   "metadata": {},
   "outputs": [],
   "source": []
  },
  {
   "cell_type": "code",
   "execution_count": null,
   "metadata": {},
   "outputs": [],
   "source": []
  },
  {
   "cell_type": "code",
   "execution_count": null,
   "metadata": {},
   "outputs": [],
   "source": [
    "a_poly = \"185968_WSDA_SF_2015\"\n",
    "curr_field = an_EE_TS[an_EE_TS['ID']==a_poly].copy()\n",
    "################################################################\n",
    "# Sort by DoY (sanitary check)\n",
    "curr_field.sort_values(by=['image_year', 'doy'], inplace=True)\n",
    "curr_field.reset_index(drop=True, inplace=True)\n"
   ]
  },
  {
   "cell_type": "code",
   "execution_count": null,
   "metadata": {},
   "outputs": [],
   "source": [
    "dataTMS_jumpie = curr_field.copy()\n",
    "give_col = \"NDVI\"\n",
    "maxjump_perDay = 0.015"
   ]
  },
  {
   "cell_type": "code",
   "execution_count": null,
   "metadata": {},
   "outputs": [],
   "source": [
    "dataTMS = dataTMS_jumpie.copy()\n",
    "dataTMS = rc.initial_clean(df = dataTMS, column_to_be_cleaned = give_col)\n",
    "\n",
    "dataTMS.sort_values(by=['image_year', 'doy'], inplace=True)\n",
    "dataTMS.reset_index(drop=True, inplace=True)\n",
    "dataTMS['system_start_time'] = dataTMS['system_start_time'] / 1000\n",
    "\n",
    "thyme_vec = dataTMS['system_start_time'].values.copy()\n",
    "Veg_indks = dataTMS[give_col].values.copy()\n",
    "\n",
    "time_diff = thyme_vec[1:] - thyme_vec[0:len(thyme_vec)-1]\n",
    "time_diff_in_days = time_diff / 86400\n",
    "time_diff_in_days = time_diff_in_days.astype(int)\n",
    "\n",
    "Veg_indks_diff = Veg_indks[1:] - Veg_indks[0:len(thyme_vec)-1]\n",
    "jump_indexes = np.where(Veg_indks_diff > maxjump_perDay)\n",
    "jump_indexes = jump_indexes[0]\n"
   ]
  },
  {
   "cell_type": "code",
   "execution_count": null,
   "metadata": {},
   "outputs": [],
   "source": []
  },
  {
   "cell_type": "code",
   "execution_count": null,
   "metadata": {},
   "outputs": [],
   "source": []
  },
  {
   "cell_type": "code",
   "execution_count": null,
   "metadata": {},
   "outputs": [],
   "source": []
  },
  {
   "cell_type": "code",
   "execution_count": null,
   "metadata": {},
   "outputs": [],
   "source": [
    "no_Outlier_TS = rc.correct_big_jumps_1DaySeries(dataTMS_jumpie = curr_field, \n",
    "                                                give_col = indeks, \n",
    "                                                maxjump_perDay = 0.015)\n",
    "\n",
    "output_df[row_pointer: row_pointer + curr_field.shape[0]] = no_Outlier_TS.values\n",
    "counter += 1\n",
    "row_pointer += curr_field.shape[0]"
   ]
  },
  {
   "cell_type": "code",
   "execution_count": null,
   "metadata": {},
   "outputs": [],
   "source": [
    "no_Outlier_TS.NDVI"
   ]
  },
  {
   "cell_type": "code",
   "execution_count": null,
   "metadata": {},
   "outputs": [],
   "source": []
  },
  {
   "cell_type": "code",
   "execution_count": null,
   "metadata": {},
   "outputs": [],
   "source": []
  },
  {
   "cell_type": "code",
   "execution_count": null,
   "metadata": {},
   "outputs": [],
   "source": [
    "if len(jump_indexes) > 0:    \n",
    "    for jp_idx in jump_indexes:\n",
    "        if  Veg_indks_diff[jp_idx] >= (time_diff_in_days[jp_idx] * maxjump_perDay):\n",
    "            #\n",
    "            # form a line using the adjacent points of the big jump:\n",
    "            #\n",
    "            x1, y1 = thyme_vec[jp_idx-1], Veg_indks[jp_idx-1]\n",
    "            x2, y2 = thyme_vec[jp_idx+1], Veg_indks[jp_idx+1]\n",
    "            print (x1)\n",
    "            print (x2)\n",
    "            m = np.float(y2 - y1) / np.float(x2 - x1) # slope\n",
    "            b = y2 - (m*x2)           # intercept\n",
    "\n",
    "            # replace the big jump with linear interpolation\n",
    "            Veg_indks[jp_idx] = m * thyme_vec[jp_idx] + b\n",
    "\n",
    "dataTMS[give_col] = Veg_indks"
   ]
  },
  {
   "cell_type": "code",
   "execution_count": null,
   "metadata": {},
   "outputs": [],
   "source": []
  },
  {
   "cell_type": "code",
   "execution_count": null,
   "metadata": {},
   "outputs": [],
   "source": []
  },
  {
   "cell_type": "code",
   "execution_count": null,
   "metadata": {},
   "outputs": [],
   "source": []
  },
  {
   "cell_type": "code",
   "execution_count": null,
   "metadata": {},
   "outputs": [],
   "source": []
  },
  {
   "cell_type": "code",
   "execution_count": null,
   "metadata": {},
   "outputs": [],
   "source": []
  },
  {
   "cell_type": "code",
   "execution_count": null,
   "metadata": {},
   "outputs": [],
   "source": [
    "output_df = rc.add_human_start_time_by_YearDoY(output_df)\n",
    "####################################################################################\n",
    "###\n",
    "###                   Write the outputs\n",
    "###\n",
    "####################################################################################\n",
    "\n",
    "out_name = output_dir + \"01_outlier_n_jump_removed_\" + county + \"_SF_\" + str(SF_year) + \"_\" + indeks + \".csv\"\n",
    "os.makedirs(output_dir, exist_ok=True)\n",
    "output_df.to_csv(out_name, index = False)\n",
    "\n",
    "end_time = time.time()\n",
    "print(end_time - start_time)"
   ]
  },
  {
   "cell_type": "code",
   "execution_count": null,
   "metadata": {},
   "outputs": [],
   "source": []
  },
  {
   "cell_type": "markdown",
   "metadata": {},
   "source": [
    "#  Error \n",
    "\n",
    "`/data/hydro/users/Hossein/remote_sensing/02_Eastern_WA_EE_TS/2Years/10_cloud//00_outliers_removed/00_noOutlier_Benton_SF_2016_NDVI.csv'`\n",
    "\n",
    "`python3 ./01_2Yrs_remove_jumps.py NDVI 2016 Benton 10_cloud`"
   ]
  },
  {
   "cell_type": "code",
   "execution_count": null,
   "metadata": {},
   "outputs": [],
   "source": [
    "data_dir = \"/Users/hn/Documents/01_research_data/remote_sensing/01_NDVI_TS/10_Cloud/\"\n",
    "\n",
    "f_name = \"Eastern_WA_2016_10cloud_selectors.csv\"\n",
    "a_df = pd.read_csv(data_dir + f_name, low_memory=False)"
   ]
  },
  {
   "cell_type": "code",
   "execution_count": null,
   "metadata": {},
   "outputs": [],
   "source": [
    "indeks = \"NDVI\" \n",
    "SF_year = \"2016\" \n",
    "county = \"Benton\"\n",
    "\n",
    "an_EE_TS = a_df.copy()"
   ]
  },
  {
   "cell_type": "code",
   "execution_count": null,
   "metadata": {},
   "outputs": [],
   "source": [
    "an_EE_TS = an_EE_TS[an_EE_TS['county'] == county] # Filter county\n",
    "an_EE_TS['SF_year'] = SF_year\n"
   ]
  },
  {
   "cell_type": "code",
   "execution_count": null,
   "metadata": {},
   "outputs": [],
   "source": [
    "an_EE_TS.shape"
   ]
  },
  {
   "cell_type": "code",
   "execution_count": null,
   "metadata": {},
   "outputs": [],
   "source": [
    "an_EE_TS = rc.initial_clean(df = an_EE_TS, column_to_be_cleaned = indeks)"
   ]
  },
  {
   "cell_type": "code",
   "execution_count": null,
   "metadata": {},
   "outputs": [],
   "source": [
    "an_EE_TS.shape"
   ]
  },
  {
   "cell_type": "code",
   "execution_count": null,
   "metadata": {},
   "outputs": [],
   "source": [
    "an_EE_TS.head(2)\n",
    "\n",
    "###\n",
    "### List of unique polygons\n",
    "###\n",
    "polygon_list = an_EE_TS['ID'].unique()\n",
    "\n",
    "print (\"Number of unique fields is: \")\n",
    "print(len(polygon_list))\n",
    "print (\"__________________________________________\")\n",
    "\n",
    "\n",
    "########################################################################################\n",
    "\n",
    "output_df = pd.DataFrame(data = None,\n",
    "                         index = np.arange(an_EE_TS.shape[0]), \n",
    "                         columns = an_EE_TS.columns)\n",
    "\n",
    "counter = 0\n",
    "row_pointer = 0"
   ]
  },
  {
   "cell_type": "code",
   "execution_count": null,
   "metadata": {},
   "outputs": [],
   "source": [
    "for a_poly in polygon_list:\n",
    "    if (counter % 300 == 0):\n",
    "        print (counter)\n",
    "    curr_field = an_EE_TS[an_EE_TS['ID']==a_poly].copy()\n",
    "    ################################################################\n",
    "    # Sort by DoY (sanitary check)\n",
    "    curr_field.sort_values(by=['image_year', 'doy'], inplace=True)\n",
    "    curr_field.reset_index(drop=True, inplace=True)\n",
    "    \n",
    "    # print (\"print(curr_field.shape\")\n",
    "    # print(curr_field.shape)\n",
    "    # print (\"__________________________________________\")\n",
    "    ################################################################\n",
    "    no_Outlier_TS = rc.interpolate_outliers_EVI_NDVI(outlier_input = curr_field, given_col = indeks)\n",
    "\n",
    "    output_df[row_pointer: row_pointer + curr_field.shape[0]] = no_Outlier_TS.values\n",
    "    counter += 1\n",
    "    row_pointer += curr_field.shape[0]\n"
   ]
  },
  {
   "cell_type": "markdown",
   "metadata": {},
   "source": [
    "# Error in outlier removal"
   ]
  },
  {
   "cell_type": "markdown",
   "metadata": {},
   "source": [
    "`File \"/home/hnoorazar/remote_sensing_codes/remote_sensing_core.py\", line 334, in interpolate_outliers_EVI_NDVI\n",
    "    if non_outiers[0] > 0 :\n",
    "IndexError: index 0 is out of bounds for axis 0 with size 0`\n",
    "\n",
    "`python3 ./00_2Yrs_remove_outliers.py EVI 2015 \"Adams\" 70_cloud`"
   ]
  },
  {
   "cell_type": "code",
   "execution_count": 5,
   "metadata": {},
   "outputs": [],
   "source": [
    "data_dir = \"/Users/hn/Documents/01_research_data/remote_sensing/\" + \\\n",
    "           \"01_NDVI_TS/70_Cloud/00_Eastern_WA_withYear/2Years/\""
   ]
  },
  {
   "cell_type": "code",
   "execution_count": 6,
   "metadata": {},
   "outputs": [],
   "source": [
    "indeks = \"EVI\" \n",
    "SF_year = \"2015\" \n",
    "county = \"Adams\"\n",
    "cloud_type = \"70_cloud\"\n",
    "\n",
    "f_name = \"Eastern_WA_\" + str(SF_year) + \"_\" + cloud_type.split(\"_\")[0] + \"cloud_selectors.csv\"\n",
    "a_df = pd.read_csv(data_dir + f_name, low_memory=False)\n",
    "\n",
    "an_EE_TS = a_df.copy()"
   ]
  },
  {
   "cell_type": "code",
   "execution_count": 7,
   "metadata": {},
   "outputs": [
    {
     "data": {
      "text/plain": [
       "(3584746, 25)"
      ]
     },
     "execution_count": 7,
     "metadata": {},
     "output_type": "execute_result"
    }
   ],
   "source": [
    "an_EE_TS.shape"
   ]
  },
  {
   "cell_type": "code",
   "execution_count": 8,
   "metadata": {},
   "outputs": [
    {
     "data": {
      "text/plain": [
       "array(['Franklin', 'Benton', 'Yakima', 'Spokane', 'Klickitat', 'Stevens',\n",
       "       'Adams', 'Pend Oreille', 'Okanogan', 'Walla Walla', 'Ferry',\n",
       "       'Grant', 'Columbia', 'Douglas', 'Chelan', 'Kittitas', 'Lincoln',\n",
       "       'Whitman', 'Garfield', 'Asotin'], dtype=object)"
      ]
     },
     "execution_count": 8,
     "metadata": {},
     "output_type": "execute_result"
    }
   ],
   "source": [
    "an_EE_TS.county.unique()"
   ]
  },
  {
   "cell_type": "code",
   "execution_count": 9,
   "metadata": {},
   "outputs": [],
   "source": [
    "an_EE_TS = an_EE_TS[an_EE_TS['county'] == county] # Filter county\n",
    "an_EE_TS['SF_year'] = SF_year"
   ]
  },
  {
   "cell_type": "code",
   "execution_count": 10,
   "metadata": {},
   "outputs": [
    {
     "data": {
      "text/plain": [
       "(192698, 26)"
      ]
     },
     "execution_count": 10,
     "metadata": {},
     "output_type": "execute_result"
    }
   ],
   "source": [
    "an_EE_TS.shape"
   ]
  },
  {
   "cell_type": "code",
   "execution_count": 11,
   "metadata": {},
   "outputs": [
    {
     "data": {
      "text/plain": [
       "(12840, 26)"
      ]
     },
     "execution_count": 11,
     "metadata": {},
     "output_type": "execute_result"
    }
   ],
   "source": [
    "an_EE_TS = rc.initial_clean(df = an_EE_TS, column_to_be_cleaned = indeks)\n",
    "an_EE_TS.shape"
   ]
  },
  {
   "cell_type": "code",
   "execution_count": 12,
   "metadata": {},
   "outputs": [
    {
     "name": "stdout",
     "output_type": "stream",
     "text": [
      "Number of unique fields is: \n",
      "6395\n",
      "__________________________________________\n"
     ]
    }
   ],
   "source": [
    "polygon_list = an_EE_TS['ID'].unique()\n",
    "\n",
    "print (\"Number of unique fields is: \")\n",
    "print(len(polygon_list))\n",
    "print (\"__________________________________________\")\n"
   ]
  },
  {
   "cell_type": "code",
   "execution_count": 13,
   "metadata": {},
   "outputs": [],
   "source": [
    "output_df = pd.DataFrame(data = None,\n",
    "                         index = np.arange(an_EE_TS.shape[0]), \n",
    "                         columns = an_EE_TS.columns)\n",
    "\n",
    "counter = 0\n",
    "row_pointer = 0\n",
    "\n",
    "a_poly = '88304_WSDA_SF_2015'\n",
    "\n",
    "# if (counter % 300 == 0):\n",
    "#     print (counter)\n",
    "#     print (a_poly)\n",
    "curr_field = an_EE_TS[an_EE_TS['ID']==a_poly].copy()\n",
    "################################################################\n",
    "# Sort by DoY (sanitary check)\n",
    "curr_field.sort_values(by=['image_year', 'doy'], inplace=True)\n",
    "curr_field.reset_index(drop=True, inplace=True)"
   ]
  },
  {
   "cell_type": "code",
   "execution_count": 14,
   "metadata": {},
   "outputs": [
    {
     "data": {
      "text/html": [
       "<div>\n",
       "<style scoped>\n",
       "    .dataframe tbody tr th:only-of-type {\n",
       "        vertical-align: middle;\n",
       "    }\n",
       "\n",
       "    .dataframe tbody tr th {\n",
       "        vertical-align: top;\n",
       "    }\n",
       "\n",
       "    .dataframe thead th {\n",
       "        text-align: right;\n",
       "    }\n",
       "</style>\n",
       "<table border=\"1\" class=\"dataframe\">\n",
       "  <thead>\n",
       "    <tr style=\"text-align: right;\">\n",
       "      <th></th>\n",
       "      <th>ID</th>\n",
       "      <th>Acres</th>\n",
       "      <th>BSI</th>\n",
       "      <th>county</th>\n",
       "      <th>CropGrp</th>\n",
       "      <th>CropTyp</th>\n",
       "      <th>DataSrc</th>\n",
       "      <th>doy</th>\n",
       "      <th>EVI</th>\n",
       "      <th>ExctAcr</th>\n",
       "      <th>...</th>\n",
       "      <th>Notes</th>\n",
       "      <th>PSRI</th>\n",
       "      <th>RtCrpTy</th>\n",
       "      <th>Shap_Ar</th>\n",
       "      <th>Shp_Lng</th>\n",
       "      <th>system_start_time</th>\n",
       "      <th>TRS</th>\n",
       "      <th>image_year</th>\n",
       "      <th>B8</th>\n",
       "      <th>SF_year</th>\n",
       "    </tr>\n",
       "  </thead>\n",
       "  <tbody>\n",
       "    <tr>\n",
       "      <th>0</th>\n",
       "      <td>88304_WSDA_SF_2015</td>\n",
       "      <td>122</td>\n",
       "      <td>-0.342460</td>\n",
       "      <td>Adams</td>\n",
       "      <td>Cereal Grain</td>\n",
       "      <td>wheat</td>\n",
       "      <td>nass</td>\n",
       "      <td>260.0</td>\n",
       "      <td>1.5</td>\n",
       "      <td>122.096627</td>\n",
       "      <td>...</td>\n",
       "      <td>NaN</td>\n",
       "      <td>-0.074292</td>\n",
       "      <td>Bean, Dry</td>\n",
       "      <td>494107.5202</td>\n",
       "      <td>2496.698284</td>\n",
       "      <td>1.442603e+12</td>\n",
       "      <td>T15R31E16</td>\n",
       "      <td>2015.0</td>\n",
       "      <td>0.600546</td>\n",
       "      <td>2015</td>\n",
       "    </tr>\n",
       "    <tr>\n",
       "      <th>1</th>\n",
       "      <td>88304_WSDA_SF_2015</td>\n",
       "      <td>122</td>\n",
       "      <td>-0.458529</td>\n",
       "      <td>Adams</td>\n",
       "      <td>Cereal Grain</td>\n",
       "      <td>wheat</td>\n",
       "      <td>nass</td>\n",
       "      <td>270.0</td>\n",
       "      <td>1.5</td>\n",
       "      <td>122.096627</td>\n",
       "      <td>...</td>\n",
       "      <td>NaN</td>\n",
       "      <td>-0.081506</td>\n",
       "      <td>Bean, Dry</td>\n",
       "      <td>494107.5202</td>\n",
       "      <td>2496.698284</td>\n",
       "      <td>1.443467e+12</td>\n",
       "      <td>T15R31E16</td>\n",
       "      <td>2015.0</td>\n",
       "      <td>0.550087</td>\n",
       "      <td>2015</td>\n",
       "    </tr>\n",
       "  </tbody>\n",
       "</table>\n",
       "<p>2 rows × 26 columns</p>\n",
       "</div>"
      ],
      "text/plain": [
       "                   ID  Acres       BSI county       CropGrp CropTyp DataSrc  \\\n",
       "0  88304_WSDA_SF_2015    122 -0.342460  Adams  Cereal Grain   wheat    nass   \n",
       "1  88304_WSDA_SF_2015    122 -0.458529  Adams  Cereal Grain   wheat    nass   \n",
       "\n",
       "     doy  EVI     ExctAcr  ... Notes      PSRI    RtCrpTy      Shap_Ar  \\\n",
       "0  260.0  1.5  122.096627  ...   NaN -0.074292  Bean, Dry  494107.5202   \n",
       "1  270.0  1.5  122.096627  ...   NaN -0.081506  Bean, Dry  494107.5202   \n",
       "\n",
       "       Shp_Lng  system_start_time        TRS  image_year        B8  SF_year  \n",
       "0  2496.698284       1.442603e+12  T15R31E16      2015.0  0.600546     2015  \n",
       "1  2496.698284       1.443467e+12  T15R31E16      2015.0  0.550087     2015  \n",
       "\n",
       "[2 rows x 26 columns]"
      ]
     },
     "execution_count": 14,
     "metadata": {},
     "output_type": "execute_result"
    }
   ],
   "source": [
    "curr_field"
   ]
  },
  {
   "cell_type": "code",
   "execution_count": 15,
   "metadata": {},
   "outputs": [],
   "source": [
    "# print (\"print(curr_field.shape\")\n",
    "# print(curr_field.shape)\n",
    "# print (\"__________________________________________\")\n",
    "################################################################\n",
    "no_Outlier_TS = rc.interpolate_outliers_EVI_NDVI(outlier_input = curr_field, given_col = indeks)"
   ]
  },
  {
   "cell_type": "code",
   "execution_count": 16,
   "metadata": {},
   "outputs": [
    {
     "data": {
      "text/html": [
       "<div>\n",
       "<style scoped>\n",
       "    .dataframe tbody tr th:only-of-type {\n",
       "        vertical-align: middle;\n",
       "    }\n",
       "\n",
       "    .dataframe tbody tr th {\n",
       "        vertical-align: top;\n",
       "    }\n",
       "\n",
       "    .dataframe thead th {\n",
       "        text-align: right;\n",
       "    }\n",
       "</style>\n",
       "<table border=\"1\" class=\"dataframe\">\n",
       "  <thead>\n",
       "    <tr style=\"text-align: right;\">\n",
       "      <th></th>\n",
       "      <th>ID</th>\n",
       "      <th>Acres</th>\n",
       "      <th>BSI</th>\n",
       "      <th>county</th>\n",
       "      <th>CropGrp</th>\n",
       "      <th>CropTyp</th>\n",
       "      <th>DataSrc</th>\n",
       "      <th>doy</th>\n",
       "      <th>EVI</th>\n",
       "      <th>ExctAcr</th>\n",
       "      <th>...</th>\n",
       "      <th>Notes</th>\n",
       "      <th>PSRI</th>\n",
       "      <th>RtCrpTy</th>\n",
       "      <th>Shap_Ar</th>\n",
       "      <th>Shp_Lng</th>\n",
       "      <th>system_start_time</th>\n",
       "      <th>TRS</th>\n",
       "      <th>image_year</th>\n",
       "      <th>B8</th>\n",
       "      <th>SF_year</th>\n",
       "    </tr>\n",
       "  </thead>\n",
       "  <tbody>\n",
       "  </tbody>\n",
       "</table>\n",
       "<p>0 rows × 26 columns</p>\n",
       "</div>"
      ],
      "text/plain": [
       "Empty DataFrame\n",
       "Columns: [ID, Acres, BSI, county, CropGrp, CropTyp, DataSrc, doy, EVI, ExctAcr, IntlSrD, Irrigtn, LstSrvD, LSWI, NDVI, NDWI, Notes, PSRI, RtCrpTy, Shap_Ar, Shp_Lng, system_start_time, TRS, image_year, B8, SF_year]\n",
       "Index: []\n",
       "\n",
       "[0 rows x 26 columns]"
      ]
     },
     "execution_count": 16,
     "metadata": {},
     "output_type": "execute_result"
    }
   ],
   "source": [
    "no_Outlier_TS"
   ]
  },
  {
   "cell_type": "code",
   "execution_count": null,
   "metadata": {},
   "outputs": [],
   "source": [
    "output_df[row_pointer: row_pointer + curr_field.shape[0]] = no_Outlier_TS.values\n",
    "counter += 1\n",
    "row_pointer += curr_field.shape[0]"
   ]
  },
  {
   "cell_type": "code",
   "execution_count": null,
   "metadata": {},
   "outputs": [],
   "source": []
  },
  {
   "cell_type": "code",
   "execution_count": null,
   "metadata": {},
   "outputs": [],
   "source": []
  },
  {
   "cell_type": "code",
   "execution_count": null,
   "metadata": {},
   "outputs": [],
   "source": [
    "output_df = pd.DataFrame(data = None,\n",
    "                         index = np.arange(an_EE_TS.shape[0]), \n",
    "                         columns = an_EE_TS.columns)\n",
    "\n",
    "counter = 0\n",
    "row_pointer = 0\n",
    "\n",
    "for a_poly in polygon_list:\n",
    "\n",
    "    print (counter)\n",
    "    print (a_poly)\n",
    "    curr_field = an_EE_TS[an_EE_TS['ID']==a_poly].copy()\n",
    "    ################################################################\n",
    "    # Sort by DoY (sanitary check)\n",
    "    curr_field.sort_values(by=['image_year', 'doy'], inplace=True)\n",
    "    curr_field.reset_index(drop=True, inplace=True)\n",
    "    \n",
    "    # print (\"print(curr_field.shape\")\n",
    "    # print(curr_field.shape)\n",
    "    # print (\"__________________________________________\")\n",
    "    ################################################################\n",
    "    no_Outlier_TS = rc.interpolate_outliers_EVI_NDVI(outlier_input = curr_field, given_col = indeks)\n",
    "\n",
    "    output_df[row_pointer: row_pointer + curr_field.shape[0]] = no_Outlier_TS.values\n",
    "    counter += 1\n",
    "    row_pointer += curr_field.shape[0]"
   ]
  },
  {
   "cell_type": "code",
   "execution_count": null,
   "metadata": {},
   "outputs": [],
   "source": [
    "output_df.shape[0]"
   ]
  },
  {
   "cell_type": "code",
   "execution_count": null,
   "metadata": {},
   "outputs": [],
   "source": [
    "len(output_df)"
   ]
  },
  {
   "cell_type": "code",
   "execution_count": null,
   "metadata": {},
   "outputs": [],
   "source": [
    "output_df.head(2)"
   ]
  },
  {
   "cell_type": "code",
   "execution_count": null,
   "metadata": {},
   "outputs": [],
   "source": [
    "given_col = \"EVI\""
   ]
  },
  {
   "cell_type": "code",
   "execution_count": null,
   "metadata": {},
   "outputs": [],
   "source": [
    "output_df = output_df[output_df[given_col] < 1.5]"
   ]
  },
  {
   "cell_type": "code",
   "execution_count": null,
   "metadata": {},
   "outputs": [],
   "source": [
    "output_df.shape"
   ]
  },
  {
   "cell_type": "code",
   "execution_count": null,
   "metadata": {},
   "outputs": [],
   "source": [
    "len(output_df)"
   ]
  },
  {
   "cell_type": "code",
   "execution_count": 17,
   "metadata": {},
   "outputs": [],
   "source": [
    "# Check SF_year type after removing outliers and jumps"
   ]
  },
  {
   "cell_type": "code",
   "execution_count": 18,
   "metadata": {},
   "outputs": [],
   "source": [
    "data_dir = \"/Users/hn/Documents/01_research_data/remote_sensing/test_aeolus_outputs/\"\n",
    "f_name = \"Eastern_WA_SF_2016_70cloud_EVI.csv\"\n",
    "a_df = pd.read_csv(data_dir + f_name, low_memory=False)"
   ]
  },
  {
   "cell_type": "code",
   "execution_count": 21,
   "metadata": {},
   "outputs": [
    {
     "data": {
      "text/plain": [
       "numpy.int64"
      ]
     },
     "execution_count": 21,
     "metadata": {},
     "output_type": "execute_result"
    }
   ],
   "source": [
    "type(a_df.SF_year[0])"
   ]
  },
  {
   "cell_type": "code",
   "execution_count": 28,
   "metadata": {},
   "outputs": [
    {
     "data": {
      "text/plain": [
       "False"
      ]
     },
     "execution_count": 28,
     "metadata": {},
     "output_type": "execute_result"
    }
   ],
   "source": [
    "not('SF_year' in a_df.columns)"
   ]
  },
  {
   "cell_type": "code",
   "execution_count": null,
   "metadata": {},
   "outputs": [],
   "source": []
  }
 ],
 "metadata": {
  "kernelspec": {
   "display_name": "Python 3",
   "language": "python",
   "name": "python3"
  },
  "language_info": {
   "codemirror_mode": {
    "name": "ipython",
    "version": 3
   },
   "file_extension": ".py",
   "mimetype": "text/x-python",
   "name": "python",
   "nbconvert_exporter": "python",
   "pygments_lexer": "ipython3",
   "version": "3.7.4"
  }
 },
 "nbformat": 4,
 "nbformat_minor": 2
}
