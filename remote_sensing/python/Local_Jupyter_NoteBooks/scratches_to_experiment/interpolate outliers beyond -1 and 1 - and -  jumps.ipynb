{
 "cells": [
  {
   "cell_type": "markdown",
   "metadata": {},
   "source": [
    "This is scratch to replace the outliers of NDVI and EVI that are beyond 1 and -1"
   ]
  },
  {
   "cell_type": "code",
   "execution_count": 1,
   "metadata": {},
   "outputs": [],
   "source": [
    "import csv\n",
    "import numpy as np\n",
    "import pandas as pd\n",
    "# import geopandas as gpd\n",
    "from IPython.display import Image\n",
    "# from shapely.geometry import Point, Polygon\n",
    "from math import factorial\n",
    "import scipy\n",
    "import scipy.signal\n",
    "import os, os.path\n",
    "\n",
    "from datetime import date\n",
    "import datetime\n",
    "import time\n",
    "\n",
    "from statsmodels.sandbox.regression.predstd import wls_prediction_std\n",
    "from sklearn.linear_model import LinearRegression\n",
    "from patsy import cr\n",
    "\n",
    "# from pprint import pprint\n",
    "import matplotlib.pyplot as plt\n",
    "import seaborn as sb\n",
    "\n",
    "import sys"
   ]
  },
  {
   "cell_type": "code",
   "execution_count": 2,
   "metadata": {},
   "outputs": [],
   "source": [
    "sys.path.append('/Users/hn/Documents/00_GitHub/Ag/remote_sensing/python/')\n",
    "import remote_sensing_core as rc\n",
    "import remote_sensing_core as rcp\n",
    "\n",
    "start_time = time.time()"
   ]
  },
  {
   "cell_type": "code",
   "execution_count": 3,
   "metadata": {},
   "outputs": [],
   "source": [
    "data_dir = \"/Users/hn/Documents/01_research_data/\" + \\\n",
    "           \"remote_sensing/01_NDVI_TS/00_Eastern_WA_withYear/2Years/\"\n",
    "\n",
    "param_dir = \"/Users/hn/Documents/00_GitHub/Ag/remote_sensing/parameters/\""
   ]
  },
  {
   "cell_type": "code",
   "execution_count": 4,
   "metadata": {},
   "outputs": [],
   "source": [
    "# Parameters"
   ]
  },
  {
   "cell_type": "code",
   "execution_count": 6,
   "metadata": {},
   "outputs": [],
   "source": [
    "####################################################################################\n",
    "###\n",
    "###      Parameters                   \n",
    "###\n",
    "####################################################################################\n",
    "\n",
    "SF_year = 2017\n",
    "indeks = \"EVI\""
   ]
  },
  {
   "cell_type": "markdown",
   "metadata": {},
   "source": [
    "# Read the data"
   ]
  },
  {
   "cell_type": "code",
   "execution_count": 7,
   "metadata": {},
   "outputs": [],
   "source": [
    "f_name = \"Eastern_WA_\" + str(SF_year) + \"_70cloud_selectors.csv\"\n",
    "a_df = pd.read_csv(data_dir + f_name, low_memory=False)\n",
    "\n",
    "##################################################################\n",
    "##################################################################\n",
    "####\n",
    "####  plots has to be exact. So, we need \n",
    "####  to filter out NASS, and filter by last survey date\n",
    "####\n",
    "##################################################################\n",
    "##################################################################\n",
    "\n",
    "a_df = a_df[a_df['county']== \"Grant\"] # Filter Grant\n",
    "# a_df = rc.filter_out_NASS(a_df) # Toss NASS\n",
    "# a_df = rc.filter_by_lastSurvey(a_df, year = SF_year) # filter by last survey date\n",
    "a_df['SF_year'] = SF_year\n"
   ]
  },
  {
   "cell_type": "markdown",
   "metadata": {},
   "source": [
    "# Get a field's data"
   ]
  },
  {
   "cell_type": "code",
   "execution_count": null,
   "metadata": {},
   "outputs": [],
   "source": [
    "a_df.reset_index(drop=True, inplace=True)"
   ]
  },
  {
   "cell_type": "code",
   "execution_count": null,
   "metadata": {},
   "outputs": [],
   "source": [
    "a_df.shape"
   ]
  },
  {
   "cell_type": "markdown",
   "metadata": {},
   "source": [
    "# pick a field that has outliers"
   ]
  },
  {
   "cell_type": "code",
   "execution_count": null,
   "metadata": {},
   "outputs": [],
   "source": [
    "a_clean_df_EVI = rc.initial_clean_EVI(a_df)\n",
    "clean_df_with_outliers = a_clean_df_EVI[a_clean_df_EVI.EVI > 1]\n",
    "clean_df_with_outliers.reset_index(drop=True, inplace=True)"
   ]
  },
  {
   "cell_type": "code",
   "execution_count": null,
   "metadata": {},
   "outputs": [],
   "source": [
    "a_df_1 = a_df[a_df.ID == clean_df_with_outliers.ID[0]]\n",
    "print (a_df_1.shape)\n",
    "\n",
    "a_df_1 = rc.initial_clean_EVI(a_df_1)\n",
    "# a_df_1.sort_values(by=['system_start_time'], inplace=True)\n",
    "a_df_1.sort_values(by=['image_year', 'doy'], inplace=True)\n",
    "print (a_df_1.shape)\n",
    "print()\n",
    "print (max(a_df_1.NDVI))\n",
    "print (min(a_df_1.NDVI))\n",
    "\n",
    "print (max(a_df_1.EVI))\n",
    "print (min(a_df_1.EVI))\n",
    "print(a_df_1.shape)"
   ]
  },
  {
   "cell_type": "code",
   "execution_count": null,
   "metadata": {},
   "outputs": [],
   "source": [
    "a_df_1.shape"
   ]
  },
  {
   "cell_type": "code",
   "execution_count": null,
   "metadata": {},
   "outputs": [],
   "source": [
    "given_col = \"EVI\"\n",
    "ZZ = a_df_1.copy()"
   ]
  },
  {
   "cell_type": "code",
   "execution_count": null,
   "metadata": {},
   "outputs": [],
   "source": [
    "print (ZZ.shape)\n",
    "print(a_df_1.shape)"
   ]
  },
  {
   "cell_type": "code",
   "execution_count": null,
   "metadata": {},
   "outputs": [],
   "source": [
    "a_df_1.head(2)"
   ]
  },
  {
   "cell_type": "code",
   "execution_count": null,
   "metadata": {},
   "outputs": [],
   "source": []
  },
  {
   "cell_type": "code",
   "execution_count": null,
   "metadata": {},
   "outputs": [],
   "source": [
    "a_df_1.reset_index(drop=True, inplace=True)\n",
    "print(a_df_1.shape) \n",
    "\n",
    "a_df_1.loc[1, given_col] = 2\n",
    "a_df_1.loc[8, given_col] = 2\n",
    "\n",
    "a_df_1.loc[20, given_col] = -2\n",
    "a_df_1.loc[21, given_col] = -2\n",
    "a_df_1.loc[22, given_col] = -2\n",
    "a_df_1.loc[23, given_col] = -2\n",
    "a_df_1.loc[25, given_col] = -2\n",
    "a_df_1.loc[30, given_col] = 2\n",
    "a_df_1.loc[31, given_col] = -2\n",
    "a_df_1.loc[35, given_col] = -2\n",
    "a_df_1.loc[45, given_col] = -2\n",
    "\n",
    "a_df_1.loc[55, given_col] = -2\n",
    "a_df_1.loc[56, given_col] = -2\n",
    "a_df_1.shape"
   ]
  },
  {
   "cell_type": "code",
   "execution_count": null,
   "metadata": {},
   "outputs": [],
   "source": [
    "clean_a_df_1 = rc.interpolate_outliers_EVI_NDVI(outlier_input = a_df_1 , given_col=\"EVI\")"
   ]
  },
  {
   "cell_type": "code",
   "execution_count": null,
   "metadata": {},
   "outputs": [],
   "source": [
    "clean_a_df_1.head(5)"
   ]
  },
  {
   "cell_type": "code",
   "execution_count": null,
   "metadata": {},
   "outputs": [],
   "source": [
    "a_df_1.head(5)"
   ]
  },
  {
   "cell_type": "code",
   "execution_count": null,
   "metadata": {},
   "outputs": [],
   "source": [
    "clean_a_df_1.loc[10, \"EVI\"] = 0\n",
    "clean_a_df_1.loc[11, \"EVI\"] = 0.5"
   ]
  },
  {
   "cell_type": "code",
   "execution_count": null,
   "metadata": {},
   "outputs": [],
   "source": []
  },
  {
   "cell_type": "code",
   "execution_count": null,
   "metadata": {},
   "outputs": [],
   "source": [
    "dataTS = rc.correct_big_jumps(dataTS_jumpy = clean_a_df_1, \n",
    "                              given_col = \"EVI\", \n",
    "                              jump_amount = 0.4, \n",
    "                              no_days_between_points = 20)"
   ]
  },
  {
   "cell_type": "code",
   "execution_count": null,
   "metadata": {},
   "outputs": [],
   "source": [
    "dataTS[8:14]"
   ]
  },
  {
   "cell_type": "code",
   "execution_count": null,
   "metadata": {},
   "outputs": [],
   "source": [
    "clean_a_df_1[8:14]"
   ]
  },
  {
   "cell_type": "code",
   "execution_count": null,
   "metadata": {},
   "outputs": [],
   "source": []
  },
  {
   "cell_type": "markdown",
   "metadata": {},
   "source": [
    "\n",
    "#   Try to remove outliers inplace without copying anything.\n"
   ]
  },
  {
   "cell_type": "raw",
   "metadata": {},
   "source": [
    "an_EE_TS = a_df.copy()\n",
    "\n",
    "indeks = 'EVI'\n",
    "\n",
    "if (indeks == \"EVI\"):\n",
    "    an_EE_TS = rc.initial_clean_EVI(an_EE_TS)\n",
    "else:\n",
    "    an_EE_TS = rc.initial_clean_NDVI(an_EE_TS)\n",
    "\n",
    "an_EE_TS.head(2)\n",
    "\n",
    "###\n",
    "### List of unique polygons\n",
    "###\n",
    "polygon_list = an_EE_TS['ID'].unique()\n",
    "print(len(polygon_list))\n",
    "\n",
    "output_df = pd.DataFrame(data = None,\n",
    "                         index = np.arange(an_EE_TS.shape[0]), \n",
    "                         columns = an_EE_TS.columns)\n",
    "\n",
    "counter = 0\n",
    "row_pointer = 0"
   ]
  },
  {
   "cell_type": "raw",
   "metadata": {},
   "source": [
    "a_poly = polygon_list[1]\n",
    "curr_field = an_EE_TS[an_EE_TS['ID']==a_poly].copy()\n",
    "curr_field.sort_values(by=['image_year', 'doy'], inplace=True)\n",
    "curr_field.reset_index(drop=True, inplace=True)\n",
    "no_Outlier_TS = rc.interpolate_outliers_EVI_NDVI(outlier_input = curr_field, given_col = indeks)\n",
    "\n",
    "output_df[row_pointer: row_pointer + curr_field.shape[0]] = no_Outlier_TS.values\n",
    "\n",
    "counter += 1\n",
    "row_pointer += curr_field.shape[0]"
   ]
  },
  {
   "cell_type": "code",
   "execution_count": 60,
   "metadata": {},
   "outputs": [],
   "source": []
  },
  {
   "cell_type": "code",
   "execution_count": 66,
   "metadata": {},
   "outputs": [],
   "source": []
  },
  {
   "cell_type": "code",
   "execution_count": 67,
   "metadata": {},
   "outputs": [],
   "source": []
  },
  {
   "cell_type": "code",
   "execution_count": 68,
   "metadata": {},
   "outputs": [],
   "source": []
  },
  {
   "cell_type": "code",
   "execution_count": null,
   "metadata": {},
   "outputs": [],
   "source": []
  },
  {
   "cell_type": "code",
   "execution_count": 65,
   "metadata": {},
   "outputs": [],
   "source": []
  },
  {
   "cell_type": "code",
   "execution_count": null,
   "metadata": {},
   "outputs": [],
   "source": []
  },
  {
   "cell_type": "code",
   "execution_count": null,
   "metadata": {},
   "outputs": [],
   "source": []
  }
 ],
 "metadata": {
  "kernelspec": {
   "display_name": "Python 3",
   "language": "python",
   "name": "python3"
  },
  "language_info": {
   "codemirror_mode": {
    "name": "ipython",
    "version": 3
   },
   "file_extension": ".py",
   "mimetype": "text/x-python",
   "name": "python",
   "nbconvert_exporter": "python",
   "pygments_lexer": "ipython3",
   "version": "3.7.4"
  }
 },
 "nbformat": 4,
 "nbformat_minor": 2
}
