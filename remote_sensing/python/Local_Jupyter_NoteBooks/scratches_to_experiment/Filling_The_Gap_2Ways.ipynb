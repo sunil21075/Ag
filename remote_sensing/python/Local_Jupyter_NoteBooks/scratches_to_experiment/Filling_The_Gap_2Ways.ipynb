{
 "cells": [
  {
   "cell_type": "markdown",
   "metadata": {},
   "source": [
    "# Goal\n",
    "\n",
    "Our goal in this notebook is to take a time series and fill the gap. We will do this in 3 ways.\n",
    "   \n",
    "   1. Let $g_1$, $g_2$, $\\cdots$, $g_5$ be the 5 gaps. $T_0$ and $T_6$ be the two data points before and after $g_1$ and $g_5$. A linear line is drawn from $T_0$ to $T_6$ and then those gaps follow that line.\n",
    "   2. figure out what is time series linear regression and implement it. or, perhaps it is already."
   ]
  },
  {
   "cell_type": "code",
   "execution_count": 1,
   "metadata": {},
   "outputs": [],
   "source": [
    "import csv\n",
    "import numpy as np\n",
    "import pandas as pd\n",
    "# import geopandas as gpd\n",
    "from IPython.display import Image\n",
    "# from shapely.geometry import Point, Polygon\n",
    "from math import factorial\n",
    "import scipy\n",
    "import scipy.signal\n",
    "import os, os.path\n",
    "\n",
    "from datetime import date\n",
    "import datetime\n",
    "import time\n",
    "\n",
    "from statsmodels.sandbox.regression.predstd import wls_prediction_std\n",
    "from sklearn.linear_model import LinearRegression\n",
    "from patsy import cr\n",
    "\n",
    "# from pprint import pprint\n",
    "import matplotlib.pyplot as plt\n",
    "import seaborn as sb\n",
    "\n",
    "\n",
    "import sys\n",
    "\n",
    "sys.path.append('/Users/hn/Documents/00_GitHub/Ag/remote_sensing/python/')\n",
    "import remote_sensing_core as rc\n",
    "import remote_sensing_core as rcp\n"
   ]
  },
  {
   "cell_type": "code",
   "execution_count": 2,
   "metadata": {},
   "outputs": [],
   "source": [
    "data_dir =  \"/Users/hn/Documents/01_research_data/remote_sensing/test_data/\""
   ]
  },
  {
   "cell_type": "code",
   "execution_count": 3,
   "metadata": {},
   "outputs": [],
   "source": [
    "f_name = \"a_regularized_TS.csv\"\n",
    "a_regularized_TS = pd.read_csv(data_dir + f_name, low_memory=False)"
   ]
  },
  {
   "cell_type": "markdown",
   "metadata": {},
   "source": [
    "# Parameters"
   ]
  },
  {
   "cell_type": "code",
   "execution_count": 4,
   "metadata": {},
   "outputs": [],
   "source": [
    "indeks = \"EVI\"\n",
    "SF_year = 2017"
   ]
  },
  {
   "cell_type": "markdown",
   "metadata": {},
   "source": [
    "# Linear Line"
   ]
  },
  {
   "cell_type": "code",
   "execution_count": 5,
   "metadata": {},
   "outputs": [],
   "source": [
    "# a_regularized_TS.head(2)"
   ]
  },
  {
   "cell_type": "code",
   "execution_count": 6,
   "metadata": {},
   "outputs": [],
   "source": [
    "# A = rc.fill_theGap_linearLine(a_regularized_TS, indeks, SF_year)"
   ]
  },
  {
   "cell_type": "code",
   "execution_count": 7,
   "metadata": {},
   "outputs": [
    {
     "data": {
      "text/html": [
       "<div>\n",
       "<style scoped>\n",
       "    .dataframe tbody tr th:only-of-type {\n",
       "        vertical-align: middle;\n",
       "    }\n",
       "\n",
       "    .dataframe tbody tr th {\n",
       "        vertical-align: top;\n",
       "    }\n",
       "\n",
       "    .dataframe thead th {\n",
       "        text-align: right;\n",
       "    }\n",
       "</style>\n",
       "<table border=\"1\" class=\"dataframe\">\n",
       "  <thead>\n",
       "    <tr style=\"text-align: right;\">\n",
       "      <th></th>\n",
       "      <th>ID</th>\n",
       "      <th>Acres</th>\n",
       "      <th>county</th>\n",
       "      <th>CropGrp</th>\n",
       "      <th>CropTyp</th>\n",
       "      <th>DataSrc</th>\n",
       "      <th>ExctAcr</th>\n",
       "      <th>IntlSrD</th>\n",
       "      <th>Irrigtn</th>\n",
       "      <th>LstSrvD</th>\n",
       "      <th>Notes</th>\n",
       "      <th>RtCrpTy</th>\n",
       "      <th>Shap_Ar</th>\n",
       "      <th>Shp_Lng</th>\n",
       "      <th>TRS</th>\n",
       "      <th>image_year</th>\n",
       "      <th>SF_year</th>\n",
       "      <th>doy</th>\n",
       "      <th>EVI</th>\n",
       "    </tr>\n",
       "  </thead>\n",
       "  <tbody>\n",
       "    <tr>\n",
       "      <td>0</td>\n",
       "      <td>115184_WSDA_SF_2017</td>\n",
       "      <td>72.0</td>\n",
       "      <td>Grant</td>\n",
       "      <td>Orchard</td>\n",
       "      <td>apple</td>\n",
       "      <td>wsda</td>\n",
       "      <td>72.371199</td>\n",
       "      <td>2006/08/31</td>\n",
       "      <td>micro-sprinkler</td>\n",
       "      <td>2017/04/24</td>\n",
       "      <td>NaN</td>\n",
       "      <td>NaN</td>\n",
       "      <td>292875.850894</td>\n",
       "      <td>3308.620365</td>\n",
       "      <td>T13R24E4</td>\n",
       "      <td>2016</td>\n",
       "      <td>2017</td>\n",
       "      <td>274</td>\n",
       "      <td>0.417561</td>\n",
       "    </tr>\n",
       "    <tr>\n",
       "      <td>1</td>\n",
       "      <td>115184_WSDA_SF_2017</td>\n",
       "      <td>72.0</td>\n",
       "      <td>Grant</td>\n",
       "      <td>Orchard</td>\n",
       "      <td>apple</td>\n",
       "      <td>wsda</td>\n",
       "      <td>72.371199</td>\n",
       "      <td>2006/08/31</td>\n",
       "      <td>micro-sprinkler</td>\n",
       "      <td>2017/04/24</td>\n",
       "      <td>NaN</td>\n",
       "      <td>NaN</td>\n",
       "      <td>292875.850894</td>\n",
       "      <td>3308.620365</td>\n",
       "      <td>T13R24E4</td>\n",
       "      <td>2016</td>\n",
       "      <td>2017</td>\n",
       "      <td>284</td>\n",
       "      <td>-2.000000</td>\n",
       "    </tr>\n",
       "  </tbody>\n",
       "</table>\n",
       "</div>"
      ],
      "text/plain": [
       "                    ID  Acres county  CropGrp CropTyp DataSrc    ExctAcr  \\\n",
       "0  115184_WSDA_SF_2017   72.0  Grant  Orchard   apple    wsda  72.371199   \n",
       "1  115184_WSDA_SF_2017   72.0  Grant  Orchard   apple    wsda  72.371199   \n",
       "\n",
       "      IntlSrD          Irrigtn     LstSrvD  Notes  RtCrpTy        Shap_Ar  \\\n",
       "0  2006/08/31  micro-sprinkler  2017/04/24    NaN      NaN  292875.850894   \n",
       "1  2006/08/31  micro-sprinkler  2017/04/24    NaN      NaN  292875.850894   \n",
       "\n",
       "       Shp_Lng       TRS  image_year  SF_year  doy       EVI  \n",
       "0  3308.620365  T13R24E4        2016     2017  274  0.417561  \n",
       "1  3308.620365  T13R24E4        2016     2017  284 -2.000000  "
      ]
     },
     "execution_count": 7,
     "metadata": {},
     "output_type": "execute_result"
    }
   ],
   "source": [
    "a_regularized_TS.head(2)"
   ]
  },
  {
   "cell_type": "markdown",
   "metadata": {},
   "source": [
    "# Create Aeolus like space and test"
   ]
  },
  {
   "cell_type": "code",
   "execution_count": 8,
   "metadata": {},
   "outputs": [],
   "source": [
    "a_regularized_TS_1 = a_regularized_TS.copy()\n",
    "a_regularized_TS_2 = a_regularized_TS.copy()\n",
    "a_regularized_TS_3 = a_regularized_TS.copy()\n",
    "a_regularized_TS_4 = a_regularized_TS.copy()\n",
    "\n",
    "a_regularized_TS_1[\"ID\"] = \"1\"\n",
    "a_regularized_TS_2[\"ID\"] = \"2\"\n",
    "a_regularized_TS_3[\"ID\"] = \"3\"\n",
    "a_regularized_TS_4[\"ID\"] = \"4\""
   ]
  },
  {
   "cell_type": "code",
   "execution_count": 9,
   "metadata": {},
   "outputs": [],
   "source": [
    "an_EE_TS = pd.concat([a_regularized_TS_1, a_regularized_TS_2, a_regularized_TS_3, a_regularized_TS_4])"
   ]
  },
  {
   "cell_type": "code",
   "execution_count": null,
   "metadata": {},
   "outputs": [],
   "source": [
    "polygon_list = an_EE_TS['ID'].unique()\n",
    "print(len(polygon_list))\n",
    "\n",
    "########################################################################################\n",
    "###\n",
    "###  initialize output data. all polygons in this case\n",
    "###  will have the same length. \n",
    "###  9 steps in the first three months, followed by 36 points in the full year,\n",
    "###  9 months in the last year\n",
    "###\n",
    "reg_cols = an_EE_TS.columns\n",
    "nrows = 54 * len(polygon_list)\n",
    "output_df = pd.DataFrame(data = None,\n",
    "                         index = np.arange(nrows), \n",
    "                         columns = reg_cols)\n"
   ]
  },
  {
   "cell_type": "code",
   "execution_count": null,
   "metadata": {},
   "outputs": [],
   "source": [
    "counter = 0\n",
    "\n",
    "for a_poly in polygon_list:\n",
    "    if (counter % 300 == 0):\n",
    "        print (counter)\n",
    "    curr_field = an_EE_TS[an_EE_TS['ID']==a_poly].copy()\n",
    "    ################################################################\n",
    "    # Sort by DoY (sanitary check)\n",
    "    curr_field.sort_values(by=['image_year', 'doy'], inplace=True)\n",
    "    \n",
    "    curr_field.reset_index(drop=True, inplace=True)\n",
    "    \n",
    "    print (\"print(curr_field.shape)\")\n",
    "    print(curr_field.shape)\n",
    "    print (\"__________________________________________\")\n",
    "    ################################################################\n",
    "    curr_field = rc.fill_theGap_linearLine(curr_field, indeks=\"EVI\", SF_year = 2017)\n",
    "\n",
    "    ################################################################\n",
    "    row_pointer = 54 * counter\n",
    "    output_df[row_pointer: row_pointer+54] = curr_field.values\n",
    "    counter += 1"
   ]
  },
  {
   "cell_type": "code",
   "execution_count": null,
   "metadata": {},
   "outputs": [],
   "source": []
  },
  {
   "cell_type": "code",
   "execution_count": null,
   "metadata": {},
   "outputs": [],
   "source": []
  },
  {
   "cell_type": "code",
   "execution_count": null,
   "metadata": {},
   "outputs": [],
   "source": []
  },
  {
   "cell_type": "code",
   "execution_count": null,
   "metadata": {},
   "outputs": [],
   "source": []
  },
  {
   "cell_type": "code",
   "execution_count": null,
   "metadata": {},
   "outputs": [],
   "source": []
  },
  {
   "cell_type": "code",
   "execution_count": null,
   "metadata": {},
   "outputs": [],
   "source": []
  },
  {
   "cell_type": "code",
   "execution_count": null,
   "metadata": {},
   "outputs": [],
   "source": []
  },
  {
   "cell_type": "code",
   "execution_count": null,
   "metadata": {},
   "outputs": [],
   "source": []
  },
  {
   "cell_type": "code",
   "execution_count": null,
   "metadata": {},
   "outputs": [],
   "source": []
  },
  {
   "cell_type": "code",
   "execution_count": null,
   "metadata": {},
   "outputs": [],
   "source": []
  },
  {
   "cell_type": "code",
   "execution_count": null,
   "metadata": {},
   "outputs": [],
   "source": []
  },
  {
   "cell_type": "code",
   "execution_count": null,
   "metadata": {},
   "outputs": [],
   "source": []
  },
  {
   "cell_type": "code",
   "execution_count": null,
   "metadata": {},
   "outputs": [],
   "source": []
  },
  {
   "cell_type": "code",
   "execution_count": null,
   "metadata": {},
   "outputs": [],
   "source": []
  },
  {
   "cell_type": "code",
   "execution_count": null,
   "metadata": {},
   "outputs": [],
   "source": []
  },
  {
   "cell_type": "code",
   "execution_count": null,
   "metadata": {},
   "outputs": [],
   "source": []
  },
  {
   "cell_type": "code",
   "execution_count": null,
   "metadata": {},
   "outputs": [],
   "source": []
  },
  {
   "cell_type": "code",
   "execution_count": null,
   "metadata": {},
   "outputs": [],
   "source": []
  },
  {
   "cell_type": "code",
   "execution_count": null,
   "metadata": {},
   "outputs": [],
   "source": []
  },
  {
   "cell_type": "markdown",
   "metadata": {},
   "source": [
    "# Time Series Linear Regression"
   ]
  },
  {
   "cell_type": "code",
   "execution_count": null,
   "metadata": {},
   "outputs": [],
   "source": []
  },
  {
   "cell_type": "code",
   "execution_count": null,
   "metadata": {},
   "outputs": [],
   "source": []
  }
 ],
 "metadata": {
  "kernelspec": {
   "display_name": "Python 3",
   "language": "python",
   "name": "python3"
  },
  "language_info": {
   "codemirror_mode": {
    "name": "ipython",
    "version": 3
   },
   "file_extension": ".py",
   "mimetype": "text/x-python",
   "name": "python",
   "nbconvert_exporter": "python",
   "pygments_lexer": "ipython3",
   "version": "3.7.4"
  }
 },
 "nbformat": 4,
 "nbformat_minor": 2
}
