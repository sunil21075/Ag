{
 "cells": [
  {
   "cell_type": "markdown",
   "metadata": {},
   "source": [
    "# Goal\n",
    "\n",
    "Our goal in this notebook is to take a time series and fill the gap. We will do this in 3 ways.\n",
    "   \n",
    "   1. Let $g_1$, $g_2$, $\\cdots$, $g_5$ be the 5 gaps. $T_0$ and $T_6$ be the two data points before and after $g_1$ and $g_5$. A linear line is drawn from $T_0$ to $T_6$ and then those gaps follow that line.\n",
    "   2. figure out what is time series linear regression and implement it. or, perhaps it is already."
   ]
  },
  {
   "cell_type": "code",
   "execution_count": 1,
   "metadata": {},
   "outputs": [],
   "source": [
    "import csv\n",
    "import numpy as np\n",
    "import pandas as pd\n",
    "# import geopandas as gpd\n",
    "from IPython.display import Image\n",
    "# from shapely.geometry import Point, Polygon\n",
    "from math import factorial\n",
    "import scipy\n",
    "import scipy.signal\n",
    "import os, os.path\n",
    "\n",
    "from datetime import date\n",
    "import datetime\n",
    "import time\n",
    "\n",
    "from statsmodels.sandbox.regression.predstd import wls_prediction_std\n",
    "from sklearn.linear_model import LinearRegression\n",
    "from patsy import cr\n",
    "\n",
    "# from pprint import pprint\n",
    "import matplotlib.pyplot as plt\n",
    "import seaborn as sb\n",
    "\n",
    "\n",
    "import sys\n",
    "\n",
    "sys.path.append('/Users/hn/Documents/00_GitHub/Ag/remote_sensing/python/')\n",
    "import remote_sensing_core as rc\n",
    "import remote_sensing_core as rcp\n"
   ]
  },
  {
   "cell_type": "code",
   "execution_count": 2,
   "metadata": {},
   "outputs": [],
   "source": [
    "data_dir =  \"/Users/hn/Documents/01_research_data/remote_sensing/regularized/\""
   ]
  },
  {
   "cell_type": "code",
   "execution_count": 3,
   "metadata": {},
   "outputs": [],
   "source": [
    "f_name = \"Regularized_Grant_SF_2017_NDVI.csv\"\n",
    "a_regularized_TS = pd.read_csv(data_dir + f_name, low_memory=False)"
   ]
  },
  {
   "cell_type": "markdown",
   "metadata": {},
   "source": [
    "# Parameters"
   ]
  },
  {
   "cell_type": "code",
   "execution_count": null,
   "metadata": {},
   "outputs": [],
   "source": [
    "indeks = \"NDVI\"\n",
    "SF_year = 2017"
   ]
  },
  {
   "cell_type": "markdown",
   "metadata": {},
   "source": [
    "# Linear Line"
   ]
  },
  {
   "cell_type": "code",
   "execution_count": null,
   "metadata": {},
   "outputs": [],
   "source": [
    "# a_regularized_TS.head(2)"
   ]
  },
  {
   "cell_type": "code",
   "execution_count": null,
   "metadata": {},
   "outputs": [],
   "source": [
    "# A = rc.fill_theGap_linearLine(a_regularized_TS, indeks, SF_year)"
   ]
  },
  {
   "cell_type": "code",
   "execution_count": null,
   "metadata": {},
   "outputs": [],
   "source": [
    "a_regularized_TS.head(2)"
   ]
  },
  {
   "cell_type": "markdown",
   "metadata": {},
   "source": [
    "# Create Aeolus like space and test"
   ]
  },
  {
   "cell_type": "code",
   "execution_count": null,
   "metadata": {},
   "outputs": [],
   "source": [
    "a_regularized_TS_1 = a_regularized_TS.copy()\n",
    "a_regularized_TS_2 = a_regularized_TS.copy()\n",
    "a_regularized_TS_3 = a_regularized_TS.copy()\n",
    "a_regularized_TS_4 = a_regularized_TS.copy()\n",
    "\n",
    "a_regularized_TS_1[\"ID\"] = \"1\"\n",
    "a_regularized_TS_2[\"ID\"] = \"2\"\n",
    "a_regularized_TS_3[\"ID\"] = \"3\"\n",
    "a_regularized_TS_4[\"ID\"] = \"4\""
   ]
  },
  {
   "cell_type": "code",
   "execution_count": null,
   "metadata": {},
   "outputs": [],
   "source": [
    "an_EE_TS = pd.concat([a_regularized_TS_1, a_regularized_TS_2, a_regularized_TS_3, a_regularized_TS_4])"
   ]
  },
  {
   "cell_type": "code",
   "execution_count": null,
   "metadata": {},
   "outputs": [],
   "source": [
    "polygon_list = an_EE_TS['ID'].unique()\n",
    "print(len(polygon_list))\n",
    "\n",
    "########################################################################################\n",
    "###\n",
    "###  initialize output data. all polygons in this case\n",
    "###  will have the same length. \n",
    "###  9 steps in the first three months, followed by 36 points in the full year,\n",
    "###  9 months in the last year\n",
    "###\n",
    "reg_cols = an_EE_TS.columns\n",
    "nrows = 54 * len(polygon_list)\n",
    "output_df = pd.DataFrame(data = None,\n",
    "                         index = np.arange(nrows), \n",
    "                         columns = reg_cols)\n"
   ]
  },
  {
   "cell_type": "code",
   "execution_count": null,
   "metadata": {},
   "outputs": [],
   "source": [
    "counter = 0\n",
    "\n",
    "for a_poly in polygon_list:\n",
    "    if (counter % 300 == 0):\n",
    "        print (counter)\n",
    "    curr_field = an_EE_TS[an_EE_TS['ID']==a_poly].copy()\n",
    "    ################################################################\n",
    "    # Sort by DoY (sanitary check)\n",
    "    curr_field.sort_values(by=['image_year', 'doy'], inplace=True)\n",
    "    \n",
    "    curr_field.reset_index(drop=True, inplace=True)\n",
    "    \n",
    "    print (\"print(curr_field.shape)\")\n",
    "    print(curr_field.shape)\n",
    "    print (\"__________________________________________\")\n",
    "    ################################################################\n",
    "    curr_field = rc.fill_theGap_linearLine(curr_field, indeks=\"EVI\", SF_year = 2017)\n",
    "\n",
    "    ################################################################\n",
    "    row_pointer = 54 * counter\n",
    "    output_df[row_pointer: row_pointer+54] = curr_field.values\n",
    "    counter += 1"
   ]
  },
  {
   "cell_type": "code",
   "execution_count": null,
   "metadata": {},
   "outputs": [],
   "source": []
  },
  {
   "cell_type": "code",
   "execution_count": null,
   "metadata": {},
   "outputs": [],
   "source": []
  },
  {
   "cell_type": "code",
   "execution_count": null,
   "metadata": {},
   "outputs": [],
   "source": []
  },
  {
   "cell_type": "code",
   "execution_count": null,
   "metadata": {},
   "outputs": [],
   "source": []
  },
  {
   "cell_type": "code",
   "execution_count": null,
   "metadata": {},
   "outputs": [],
   "source": []
  },
  {
   "cell_type": "code",
   "execution_count": null,
   "metadata": {},
   "outputs": [],
   "source": []
  },
  {
   "cell_type": "code",
   "execution_count": null,
   "metadata": {},
   "outputs": [],
   "source": []
  },
  {
   "cell_type": "code",
   "execution_count": null,
   "metadata": {},
   "outputs": [],
   "source": []
  },
  {
   "cell_type": "code",
   "execution_count": null,
   "metadata": {},
   "outputs": [],
   "source": []
  },
  {
   "cell_type": "code",
   "execution_count": null,
   "metadata": {},
   "outputs": [],
   "source": []
  },
  {
   "cell_type": "code",
   "execution_count": null,
   "metadata": {},
   "outputs": [],
   "source": []
  },
  {
   "cell_type": "code",
   "execution_count": null,
   "metadata": {},
   "outputs": [],
   "source": []
  },
  {
   "cell_type": "code",
   "execution_count": null,
   "metadata": {},
   "outputs": [],
   "source": []
  },
  {
   "cell_type": "code",
   "execution_count": null,
   "metadata": {},
   "outputs": [],
   "source": []
  },
  {
   "cell_type": "code",
   "execution_count": null,
   "metadata": {},
   "outputs": [],
   "source": []
  },
  {
   "cell_type": "code",
   "execution_count": null,
   "metadata": {},
   "outputs": [],
   "source": []
  },
  {
   "cell_type": "code",
   "execution_count": null,
   "metadata": {},
   "outputs": [],
   "source": []
  },
  {
   "cell_type": "code",
   "execution_count": null,
   "metadata": {},
   "outputs": [],
   "source": []
  },
  {
   "cell_type": "code",
   "execution_count": null,
   "metadata": {},
   "outputs": [],
   "source": []
  },
  {
   "cell_type": "markdown",
   "metadata": {},
   "source": [
    "# Time Series Linear Regression"
   ]
  },
  {
   "cell_type": "code",
   "execution_count": null,
   "metadata": {},
   "outputs": [],
   "source": []
  },
  {
   "cell_type": "code",
   "execution_count": null,
   "metadata": {},
   "outputs": [],
   "source": []
  }
 ],
 "metadata": {
  "kernelspec": {
   "display_name": "Python 3",
   "language": "python",
   "name": "python3"
  },
  "language_info": {
   "codemirror_mode": {
    "name": "ipython",
    "version": 3
   },
   "file_extension": ".py",
   "mimetype": "text/x-python",
   "name": "python",
   "nbconvert_exporter": "python",
   "pygments_lexer": "ipython3",
   "version": "3.7.4"
  }
 },
 "nbformat": 4,
 "nbformat_minor": 2
}
