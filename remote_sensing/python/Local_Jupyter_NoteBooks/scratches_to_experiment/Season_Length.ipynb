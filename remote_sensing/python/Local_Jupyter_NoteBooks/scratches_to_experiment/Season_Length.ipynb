{
 "cells": [
  {
   "cell_type": "code",
   "execution_count": 1,
   "metadata": {},
   "outputs": [
    {
     "name": "stderr",
     "output_type": "stream",
     "text": [
      "/Users/hn/opt/anaconda3/lib/python3.7/site-packages/statsmodels/tools/_testing.py:19: FutureWarning: pandas.util.testing is deprecated. Use the functions in the public API at pandas.testing instead.\n",
      "  import pandas.util.testing as tm\n"
     ]
    }
   ],
   "source": [
    "# import warnings\n",
    "# warnings.filterwarnings(\"ignore\")\n",
    "\n",
    "import csv\n",
    "import numpy as np\n",
    "import pandas as pd\n",
    "# import geopandas as gpd\n",
    "from IPython.display import Image\n",
    "# from shapely.geometry import Point, Polygon\n",
    "from math import factorial\n",
    "import scipy\n",
    "import scipy.signal\n",
    "import os, os.path\n",
    "\n",
    "from datetime import date\n",
    "import datetime\n",
    "import time\n",
    "\n",
    "from statsmodels.sandbox.regression.predstd import wls_prediction_std\n",
    "from sklearn.linear_model import LinearRegression\n",
    "from patsy import cr\n",
    "\n",
    "# from pprint import pprint\n",
    "import matplotlib.pyplot as plt\n",
    "import seaborn as sb\n",
    "\n",
    "import sys"
   ]
  },
  {
   "cell_type": "code",
   "execution_count": 2,
   "metadata": {},
   "outputs": [],
   "source": [
    "sys.path.append('/Users/hn/Documents/00_GitHub/Ag/remote_sensing/python/')\n",
    "import remote_sensing_core as rc\n",
    "import remote_sensing_plot_core as rcp\n",
    "\n",
    "start_time = time.time()"
   ]
  },
  {
   "cell_type": "code",
   "execution_count": 3,
   "metadata": {},
   "outputs": [],
   "source": [
    "data_dir = \"/Users/hn/Documents/01_research_data/\" + \\\n",
    "           \"remote_sensing/01_NDVI_TS/70_Cloud/00_Eastern_WA_withYear/2Years/\"\n",
    "\n",
    "param_dir = \"/Users/hn/Documents/00_GitHub/Ag/remote_sensing/parameters/\""
   ]
  },
  {
   "cell_type": "code",
   "execution_count": 4,
   "metadata": {},
   "outputs": [],
   "source": [
    "####################################################################################\n",
    "###\n",
    "###      Parameters                   \n",
    "###\n",
    "####################################################################################\n",
    "\n",
    "SF_year = 2017\n",
    "indeks = \"EVI\""
   ]
  },
  {
   "cell_type": "code",
   "execution_count": 5,
   "metadata": {},
   "outputs": [],
   "source": [
    "f_name = \"Eastern_WA_\" + str(SF_year) + \"_70cloud_selectors.csv\"\n",
    "a_df = pd.read_csv(data_dir + f_name, low_memory=False)\n",
    "\n",
    "##################################################################\n",
    "##################################################################\n",
    "####\n",
    "####  plots has to be exact. So, we need \n",
    "####  to filter out NASS, and filter by last survey date\n",
    "####\n",
    "##################################################################\n",
    "##################################################################\n",
    "\n",
    "a_df = a_df[a_df['county']== \"Grant\"] # Filter Grant\n",
    "# a_df = rc.filter_out_NASS(a_df) # Toss NASS\n",
    "# a_df = rc.filter_by_lastSurvey(a_df, year = SF_year) # filter by last survey date\n",
    "a_df['SF_year'] = SF_year\n"
   ]
  },
  {
   "cell_type": "markdown",
   "metadata": {},
   "source": [
    "# Pipeline\n",
    "\n",
    "   \n",
    "   1. Read the data\n",
    "   2. Remove outlliers and jumps\n",
    "   3. Regularize\n",
    "   4. Fill Gaps\n",
    "   5. Smoothen\n",
    "   6. Find peaks and troughs \n",
    "   7. Find SOS and EOS using NDVI ratio of White and TIMESAT."
   ]
  },
  {
   "cell_type": "markdown",
   "metadata": {},
   "source": [
    "## 1. Read the data \n",
    "(Extract one field)"
   ]
  },
  {
   "cell_type": "code",
   "execution_count": 6,
   "metadata": {},
   "outputs": [],
   "source": [
    "one_field = a_df[a_df.ID == \"101994_WSDA_SF_2017\"].copy()\n",
    "\n",
    "# one_field = one_field[one_field.image_year == 2017].copy()\n",
    "\n",
    "#\n",
    "# sort the time series\n",
    "#\n",
    "one_field.sort_values(by=['image_year', 'doy'], inplace=True)\n",
    "\n",
    "#\n",
    "# reset the damn index to avoid problems if loc and iloc.\n",
    "#\n",
    "one_field.reset_index(drop=True, inplace=True)\n"
   ]
  },
  {
   "cell_type": "markdown",
   "metadata": {},
   "source": [
    "## add proper date columns to make plotting easier "
   ]
  },
  {
   "cell_type": "code",
   "execution_count": 7,
   "metadata": {},
   "outputs": [],
   "source": [
    "one_field['human_system_start_time'] = pd.to_datetime(one_field['image_year'] * 1000 + \\\n",
    "                                                      one_field['doy'], format='%Y%j')\n",
    "\n",
    "one_field['Date'] = pd.to_datetime(one_field.human_system_start_time.values).values"
   ]
  },
  {
   "cell_type": "markdown",
   "metadata": {},
   "source": [
    "## 2. Remove outliers and jumps\n",
    "\n",
    "#### 2a. Remove outliers"
   ]
  },
  {
   "cell_type": "code",
   "execution_count": 8,
   "metadata": {},
   "outputs": [
    {
     "data": {
      "image/png": "[encoded data removed]",
      "text/plain": [
       "<Figure size 576x216 with 1 Axes>"
      ]
     },
     "metadata": {
      "needs_background": "light"
     },
     "output_type": "display_data"
    }
   ],
   "source": [
    "cleaned_field = rc.interpolate_outliers_EVI_NDVI(outlier_input = one_field , given_col = indeks)\n",
    "fig, ax = plt.subplots(figsize=(8,3));\n",
    "plot_title = cleaned_field.CropTyp.unique()[0]\n",
    "\n",
    "ax.plot(cleaned_field['Date'], cleaned_field['EVI'], c='r', label=\"EVI\")\n",
    "\n",
    "ax.scatter(cleaned_field['Date'], cleaned_field['EVI'], marker='o', s=25, c='b')\n",
    "\n",
    "ax.set_title(plot_title);\n",
    "ax.set(xlabel='DoY', ylabel='EVI')\n",
    "ax.legend(loc=\"best\");\n",
    "ax.grid(True)"
   ]
  },
  {
   "cell_type": "markdown",
   "metadata": {},
   "source": [
    "#### 2b. Remove Jumps"
   ]
  },
  {
   "cell_type": "code",
   "execution_count": 9,
   "metadata": {},
   "outputs": [],
   "source": [
    "cleaned_field = rc.correct_big_jumps_1DaySeries(dataTMS_jumpie = cleaned_field, \n",
    "                                                give_col = indeks, \n",
    "                                                maxjump_perDay = 0.015)"
   ]
  },
  {
   "cell_type": "code",
   "execution_count": 10,
   "metadata": {},
   "outputs": [
    {
     "data": {
      "image/png": "[encoded data removed]",
      "text/plain": [
       "<Figure size 576x216 with 1 Axes>"
      ]
     },
     "metadata": {
      "needs_background": "light"
     },
     "output_type": "display_data"
    }
   ],
   "source": [
    "fig, ax = plt.subplots(figsize=(8,3));\n",
    "plot_title = cleaned_field.CropTyp.unique()[0]\n",
    "\n",
    "ax.plot(cleaned_field['Date'], cleaned_field['EVI'], c = 'r', label=\"EVI\")\n",
    "\n",
    "ax.scatter(cleaned_field['Date'], cleaned_field['EVI'], marker='o', s=25, c='b')\n",
    "\n",
    "ax.set_title(plot_title);\n",
    "ax.set(xlabel='DoY', ylabel='EVI')\n",
    "ax.legend(loc=\"best\");\n",
    "ax.grid(True)"
   ]
  },
  {
   "cell_type": "markdown",
   "metadata": {},
   "source": [
    "### 3. Regularize"
   ]
  },
  {
   "cell_type": "code",
   "execution_count": 11,
   "metadata": {},
   "outputs": [],
   "source": [
    "regular_window_size = 10 \n",
    "regularized_TS = rc.regularize_movingWindow_windowSteps_2Yrs(one_field_df = cleaned_field, \\\n",
    "                                                             SF_yr = SF_year, \\\n",
    "                                                             veg_idxs = indeks, \\\n",
    "                                                             window_size = regular_window_size)"
   ]
  },
  {
   "cell_type": "code",
   "execution_count": 12,
   "metadata": {},
   "outputs": [
    {
     "data": {
      "text/html": [
       "<div>\n",
       "<style scoped>\n",
       "    .dataframe tbody tr th:only-of-type {\n",
       "        vertical-align: middle;\n",
       "    }\n",
       "\n",
       "    .dataframe tbody tr th {\n",
       "        vertical-align: top;\n",
       "    }\n",
       "\n",
       "    .dataframe thead th {\n",
       "        text-align: right;\n",
       "    }\n",
       "</style>\n",
       "<table border=\"1\" class=\"dataframe\">\n",
       "  <thead>\n",
       "    <tr style=\"text-align: right;\">\n",
       "      <th></th>\n",
       "      <th>ID</th>\n",
       "      <th>Acres</th>\n",
       "      <th>county</th>\n",
       "      <th>CropGrp</th>\n",
       "      <th>CropTyp</th>\n",
       "      <th>DataSrc</th>\n",
       "      <th>ExctAcr</th>\n",
       "      <th>IntlSrD</th>\n",
       "      <th>Irrigtn</th>\n",
       "      <th>LstSrvD</th>\n",
       "      <th>Notes</th>\n",
       "      <th>RtCrpTy</th>\n",
       "      <th>Shap_Ar</th>\n",
       "      <th>Shp_Lng</th>\n",
       "      <th>TRS</th>\n",
       "      <th>image_year</th>\n",
       "      <th>SF_year</th>\n",
       "      <th>doy</th>\n",
       "      <th>EVI</th>\n",
       "    </tr>\n",
       "  </thead>\n",
       "  <tbody>\n",
       "    <tr>\n",
       "      <th>0</th>\n",
       "      <td>101994_WSDA_SF_2017</td>\n",
       "      <td>142.0</td>\n",
       "      <td>Grant</td>\n",
       "      <td>Vegetable</td>\n",
       "      <td>pea, green</td>\n",
       "      <td>wsda</td>\n",
       "      <td>141.996801</td>\n",
       "      <td>2003/07/01</td>\n",
       "      <td>center pivot</td>\n",
       "      <td>2017/05/20</td>\n",
       "      <td>double cropped peas/wheat/buckwheat</td>\n",
       "      <td>Buckwheat</td>\n",
       "      <td>574640.664088</td>\n",
       "      <td>2828.521582</td>\n",
       "      <td>T14R25E19</td>\n",
       "      <td>2016</td>\n",
       "      <td>2017</td>\n",
       "      <td>213</td>\n",
       "      <td>0.82541</td>\n",
       "    </tr>\n",
       "    <tr>\n",
       "      <th>1</th>\n",
       "      <td>101994_WSDA_SF_2017</td>\n",
       "      <td>142.0</td>\n",
       "      <td>Grant</td>\n",
       "      <td>Vegetable</td>\n",
       "      <td>pea, green</td>\n",
       "      <td>wsda</td>\n",
       "      <td>141.996801</td>\n",
       "      <td>2003/07/01</td>\n",
       "      <td>center pivot</td>\n",
       "      <td>2017/05/20</td>\n",
       "      <td>double cropped peas/wheat/buckwheat</td>\n",
       "      <td>Buckwheat</td>\n",
       "      <td>574640.664088</td>\n",
       "      <td>2828.521582</td>\n",
       "      <td>T14R25E19</td>\n",
       "      <td>2016</td>\n",
       "      <td>2017</td>\n",
       "      <td>223</td>\n",
       "      <td>0.917147</td>\n",
       "    </tr>\n",
       "  </tbody>\n",
       "</table>\n",
       "</div>"
      ],
      "text/plain": [
       "                    ID  Acres county    CropGrp     CropTyp DataSrc  \\\n",
       "0  101994_WSDA_SF_2017  142.0  Grant  Vegetable  pea, green    wsda   \n",
       "1  101994_WSDA_SF_2017  142.0  Grant  Vegetable  pea, green    wsda   \n",
       "\n",
       "      ExctAcr     IntlSrD       Irrigtn     LstSrvD  \\\n",
       "0  141.996801  2003/07/01  center pivot  2017/05/20   \n",
       "1  141.996801  2003/07/01  center pivot  2017/05/20   \n",
       "\n",
       "                                 Notes    RtCrpTy        Shap_Ar      Shp_Lng  \\\n",
       "0  double cropped peas/wheat/buckwheat  Buckwheat  574640.664088  2828.521582   \n",
       "1  double cropped peas/wheat/buckwheat  Buckwheat  574640.664088  2828.521582   \n",
       "\n",
       "         TRS image_year  SF_year  doy       EVI  \n",
       "0  T14R25E19       2016     2017  213   0.82541  \n",
       "1  T14R25E19       2016     2017  223  0.917147  "
      ]
     },
     "execution_count": 12,
     "metadata": {},
     "output_type": "execute_result"
    }
   ],
   "source": [
    "regularized_TS.head(2)"
   ]
  },
  {
   "cell_type": "code",
   "execution_count": 13,
   "metadata": {},
   "outputs": [
    {
     "data": {
      "image/png": "[encoded data removed]",
      "text/plain": [
       "<Figure size 576x216 with 1 Axes>"
      ]
     },
     "metadata": {
      "needs_background": "light"
     },
     "output_type": "display_data"
    }
   ],
   "source": [
    "regularized_TS['human_system_start_time'] = pd.to_datetime(regularized_TS['image_year'] * 1000 + \\\n",
    "                                                           regularized_TS['doy'], format='%Y%j')\n",
    "\n",
    "regularized_TS['Date'] = pd.to_datetime(regularized_TS.human_system_start_time.values).values\n",
    "\n",
    "\n",
    "fig, ax = plt.subplots(figsize=(8,3));\n",
    "plot_title = regularized_TS.CropTyp.unique()[0]\n",
    "\n",
    "ax.plot(regularized_TS['Date'], regularized_TS['EVI'], c = 'r', label=\"EVI\")\n",
    "\n",
    "ax.scatter(regularized_TS['Date'], regularized_TS['EVI'], marker='o', s=25, c='b')\n",
    "\n",
    "ax.set_title(plot_title);\n",
    "ax.set(xlabel='DoY', ylabel='EVI')\n",
    "ax.legend(loc=\"best\");\n",
    "ax.grid(True)"
   ]
  },
  {
   "cell_type": "markdown",
   "metadata": {},
   "source": [
    "### 4. Fill Gaps"
   ]
  },
  {
   "cell_type": "code",
   "execution_count": 14,
   "metadata": {},
   "outputs": [],
   "source": [
    "regularized_TS = rc.fill_theGap_linearLine(regular_TS = regularized_TS, V_idx = indeks, SF_year = 2017)"
   ]
  },
  {
   "cell_type": "code",
   "execution_count": 15,
   "metadata": {},
   "outputs": [
    {
     "data": {
      "image/png": "[encoded data removed]",
      "text/plain": [
       "<Figure size 576x216 with 1 Axes>"
      ]
     },
     "metadata": {
      "needs_background": "light"
     },
     "output_type": "display_data"
    }
   ],
   "source": [
    "regularized_TS['human_system_start_time'] = pd.to_datetime(regularized_TS['image_year'] * 1000 + \\\n",
    "                                                           regularized_TS['doy'], format='%Y%j')\n",
    "\n",
    "regularized_TS['Date'] = pd.to_datetime(regularized_TS.human_system_start_time.values).values\n",
    "\n",
    "\n",
    "fig, ax = plt.subplots(figsize=(8,3));\n",
    "plot_title = regularized_TS.CropTyp.unique()[0]\n",
    "\n",
    "ax.plot(regularized_TS['Date'], regularized_TS['EVI'], c = 'r', label=\"EVI\")\n",
    "\n",
    "ax.scatter(regularized_TS['Date'], regularized_TS['EVI'], marker='o', s=25, c='b')\n",
    "\n",
    "ax.set_title(plot_title);\n",
    "ax.set(xlabel='DoY', ylabel='EVI')\n",
    "ax.legend(loc=\"best\");\n",
    "ax.set_ylim([-1.2, 1.2])\n",
    "ax.grid(True)"
   ]
  },
  {
   "cell_type": "markdown",
   "metadata": {},
   "source": [
    "# We only want to look at one year\n",
    "We did it here, because our regularization function is written for 1.5 year "
   ]
  },
  {
   "cell_type": "code",
   "execution_count": 16,
   "metadata": {},
   "outputs": [],
   "source": [
    "#\n",
    "# we only want to look at one year\n",
    "#\n",
    "clean_regularized_TS = regularized_TS[regularized_TS.image_year == 2017].copy()"
   ]
  },
  {
   "cell_type": "code",
   "execution_count": 17,
   "metadata": {},
   "outputs": [
    {
     "data": {
      "image/png": "[encoded data removed]",
      "text/plain": [
       "<Figure size 576x216 with 1 Axes>"
      ]
     },
     "metadata": {
      "needs_background": "light"
     },
     "output_type": "display_data"
    }
   ],
   "source": [
    "fig, ax = plt.subplots(figsize=(8,3));\n",
    "plot_title = clean_regularized_TS.CropTyp.unique()[0]\n",
    "\n",
    "ax.plot(clean_regularized_TS['Date'], clean_regularized_TS['EVI'], c = 'r', label=\"EVI\")\n",
    "\n",
    "ax.scatter(clean_regularized_TS['Date'], clean_regularized_TS['EVI'], marker='o', s=25, c='b')\n",
    "\n",
    "ax.set_title(plot_title);\n",
    "ax.set(xlabel='DoY', ylabel='EVI')\n",
    "ax.legend(loc=\"best\");\n",
    "ax.set_ylim([-1.2, 1.2])\n",
    "ax.grid(True)"
   ]
  },
  {
   "cell_type": "markdown",
   "metadata": {},
   "source": [
    "### 5. Smoothen\n",
    "This is done inside the plotting function. \n",
    "Maybe we can prodduce CSV fine for these and save in on the disk for further use."
   ]
  },
  {
   "cell_type": "code",
   "execution_count": 20,
   "metadata": {},
   "outputs": [],
   "source": [
    "y = clean_regularized_TS['EVI'].copy()\n",
    "SG_pred_73 = scipy.signal.savgol_filter(y, window_length= 7, polyorder=3)"
   ]
  },
  {
   "cell_type": "markdown",
   "metadata": {},
   "source": [
    "## 7. Find SOS and EOS using NDVI ratio of White \n",
    "and TIMESAT? finding min and max is already challenging. SOS and EOS depends in these two in TIMESAT."
   ]
  },
  {
   "cell_type": "code",
   "execution_count": null,
   "metadata": {},
   "outputs": [],
   "source": [
    "clean_regularized_TS ['EVI'] = SG_pred_73"
   ]
  },
  {
   "cell_type": "code",
   "execution_count": 22,
   "metadata": {},
   "outputs": [],
   "source": [
    "sos_thresh = 0.5\n",
    "eos_thresh = 0.5\n",
    "\n",
    "clean_regularized_TS = rc.addToDF_SOS_EOS_White(pd_TS = clean_regularized_TS, \n",
    "                                                VegIdx = 'EVI', \n",
    "                                                onset_thresh = sos_thresh, \n",
    "                                                offset_thresh = eos_thresh)"
   ]
  },
  {
   "cell_type": "code",
   "execution_count": null,
   "metadata": {},
   "outputs": [],
   "source": [
    "clean_regularized_TS.head(2)"
   ]
  },
  {
   "cell_type": "code",
   "execution_count": 25,
   "metadata": {},
   "outputs": [
    {
     "name": "stdout",
     "output_type": "stream",
     "text": [
      "[-0.          0.49366102  0.5424422 ]\n",
      "[-0.          0.33764981  0.45599751]\n"
     ]
    }
   ],
   "source": [
    "print(clean_regularized_TS.SOS.unique())\n",
    "print(clean_regularized_TS.EOS.unique())"
   ]
  },
  {
   "cell_type": "code",
   "execution_count": 27,
   "metadata": {},
   "outputs": [],
   "source": [
    "SOS = clean_regularized_TS[clean_regularized_TS['SOS'] != 0]\n",
    "EOS = clean_regularized_TS[clean_regularized_TS['EOS'] != 0]"
   ]
  },
  {
   "cell_type": "code",
   "execution_count": 29,
   "metadata": {},
   "outputs": [
    {
     "data": {
      "image/png": "[encoded data removed]",
      "text/plain": [
       "<Figure size 576x216 with 1 Axes>"
      ]
     },
     "metadata": {
      "needs_background": "light"
     },
     "output_type": "display_data"
    }
   ],
   "source": [
    "fig, ax = plt.subplots(figsize=(8,3));\n",
    "plot_title = clean_regularized_TS.CropTyp.unique()[0]\n",
    "\n",
    "ax.plot(clean_regularized_TS['Date'], clean_regularized_TS['EVI'], c = 'r', label=\"EVI\")\n",
    "ax.scatter(clean_regularized_TS['Date'], clean_regularized_TS['EVI'], marker='o', s=25, c='b')\n",
    "\n",
    "ax.scatter(SOS['Date'], SOS['SOS'], marker='+', s=155, c='k')\n",
    "ax.scatter(EOS['Date'], EOS['EOS'], marker='+', s=155, c='k')\n",
    "\n",
    "ax.set_title(plot_title);\n",
    "ax.set(xlabel='DoY', ylabel='EVI')\n",
    "ax.legend(loc=\"best\");\n",
    "ax.set_ylim([-1.2, 1.2])\n",
    "ax.grid(True)"
   ]
  },
  {
   "cell_type": "code",
   "execution_count": 30,
   "metadata": {},
   "outputs": [
    {
     "data": {
      "text/plain": [
       "(2, 24)"
      ]
     },
     "execution_count": 30,
     "metadata": {},
     "output_type": "execute_result"
    }
   ],
   "source": [
    "SOS.shape"
   ]
  },
  {
   "cell_type": "code",
   "execution_count": 31,
   "metadata": {},
   "outputs": [
    {
     "data": {
      "text/plain": [
       "(2, 24)"
      ]
     },
     "execution_count": 31,
     "metadata": {},
     "output_type": "execute_result"
    }
   ],
   "source": [
    "EOS.shape"
   ]
  },
  {
   "cell_type": "code",
   "execution_count": 32,
   "metadata": {},
   "outputs": [
    {
     "data": {
      "text/plain": [
       "(36, 24)"
      ]
     },
     "execution_count": 32,
     "metadata": {},
     "output_type": "execute_result"
    }
   ],
   "source": [
    "clean_regularized_TS.shape"
   ]
  },
  {
   "cell_type": "code",
   "execution_count": 34,
   "metadata": {},
   "outputs": [
    {
     "data": {
      "text/html": [
       "<div>\n",
       "<style scoped>\n",
       "    .dataframe tbody tr th:only-of-type {\n",
       "        vertical-align: middle;\n",
       "    }\n",
       "\n",
       "    .dataframe tbody tr th {\n",
       "        vertical-align: top;\n",
       "    }\n",
       "\n",
       "    .dataframe thead th {\n",
       "        text-align: right;\n",
       "    }\n",
       "</style>\n",
       "<table border=\"1\" class=\"dataframe\">\n",
       "  <thead>\n",
       "    <tr style=\"text-align: right;\">\n",
       "      <th></th>\n",
       "      <th>ID</th>\n",
       "      <th>Acres</th>\n",
       "      <th>county</th>\n",
       "      <th>CropGrp</th>\n",
       "      <th>CropTyp</th>\n",
       "      <th>DataSrc</th>\n",
       "      <th>ExctAcr</th>\n",
       "      <th>IntlSrD</th>\n",
       "      <th>Irrigtn</th>\n",
       "      <th>LstSrvD</th>\n",
       "      <th>...</th>\n",
       "      <th>TRS</th>\n",
       "      <th>image_year</th>\n",
       "      <th>SF_year</th>\n",
       "      <th>doy</th>\n",
       "      <th>EVI</th>\n",
       "      <th>human_system_start_time</th>\n",
       "      <th>Date</th>\n",
       "      <th>EVI_ratio</th>\n",
       "      <th>SOS</th>\n",
       "      <th>EOS</th>\n",
       "    </tr>\n",
       "  </thead>\n",
       "  <tbody>\n",
       "    <tr>\n",
       "      <th>15</th>\n",
       "      <td>101994_WSDA_SF_2017</td>\n",
       "      <td>142.0</td>\n",
       "      <td>Grant</td>\n",
       "      <td>Vegetable</td>\n",
       "      <td>pea, green</td>\n",
       "      <td>wsda</td>\n",
       "      <td>141.996801</td>\n",
       "      <td>2003/07/01</td>\n",
       "      <td>center pivot</td>\n",
       "      <td>2017/05/20</td>\n",
       "      <td>...</td>\n",
       "      <td>T14R25E19</td>\n",
       "      <td>2017</td>\n",
       "      <td>2017</td>\n",
       "      <td>1</td>\n",
       "      <td>-0.037317</td>\n",
       "      <td>2017-01-01</td>\n",
       "      <td>2017-01-01</td>\n",
       "      <td>0.00000</td>\n",
       "      <td>-0.0</td>\n",
       "      <td>-0.0</td>\n",
       "    </tr>\n",
       "    <tr>\n",
       "      <th>16</th>\n",
       "      <td>101994_WSDA_SF_2017</td>\n",
       "      <td>142.0</td>\n",
       "      <td>Grant</td>\n",
       "      <td>Vegetable</td>\n",
       "      <td>pea, green</td>\n",
       "      <td>wsda</td>\n",
       "      <td>141.996801</td>\n",
       "      <td>2003/07/01</td>\n",
       "      <td>center pivot</td>\n",
       "      <td>2017/05/20</td>\n",
       "      <td>...</td>\n",
       "      <td>T14R25E19</td>\n",
       "      <td>2017</td>\n",
       "      <td>2017</td>\n",
       "      <td>11</td>\n",
       "      <td>-0.008342</td>\n",
       "      <td>2017-01-11</td>\n",
       "      <td>2017-01-11</td>\n",
       "      <td>0.02826</td>\n",
       "      <td>-0.0</td>\n",
       "      <td>-0.0</td>\n",
       "    </tr>\n",
       "  </tbody>\n",
       "</table>\n",
       "<p>2 rows × 24 columns</p>\n",
       "</div>"
      ],
      "text/plain": [
       "                     ID  Acres county    CropGrp     CropTyp DataSrc  \\\n",
       "15  101994_WSDA_SF_2017  142.0  Grant  Vegetable  pea, green    wsda   \n",
       "16  101994_WSDA_SF_2017  142.0  Grant  Vegetable  pea, green    wsda   \n",
       "\n",
       "       ExctAcr     IntlSrD       Irrigtn     LstSrvD  ...        TRS  \\\n",
       "15  141.996801  2003/07/01  center pivot  2017/05/20  ...  T14R25E19   \n",
       "16  141.996801  2003/07/01  center pivot  2017/05/20  ...  T14R25E19   \n",
       "\n",
       "   image_year  SF_year  doy       EVI human_system_start_time       Date  \\\n",
       "15       2017     2017    1 -0.037317              2017-01-01 2017-01-01   \n",
       "16       2017     2017   11 -0.008342              2017-01-11 2017-01-11   \n",
       "\n",
       "   EVI_ratio  SOS  EOS  \n",
       "15   0.00000 -0.0 -0.0  \n",
       "16   0.02826 -0.0 -0.0  \n",
       "\n",
       "[2 rows x 24 columns]"
      ]
     },
     "execution_count": 34,
     "metadata": {},
     "output_type": "execute_result"
    }
   ],
   "source": [
    "clean_regularized_TS.head(2)"
   ]
  },
  {
   "cell_type": "code",
   "execution_count": null,
   "metadata": {},
   "outputs": [],
   "source": []
  },
  {
   "cell_type": "code",
   "execution_count": null,
   "metadata": {},
   "outputs": [],
   "source": []
  },
  {
   "cell_type": "code",
   "execution_count": null,
   "metadata": {},
   "outputs": [],
   "source": []
  },
  {
   "cell_type": "code",
   "execution_count": null,
   "metadata": {},
   "outputs": [],
   "source": []
  },
  {
   "cell_type": "code",
   "execution_count": null,
   "metadata": {},
   "outputs": [],
   "source": []
  },
  {
   "cell_type": "code",
   "execution_count": null,
   "metadata": {},
   "outputs": [],
   "source": []
  },
  {
   "cell_type": "code",
   "execution_count": null,
   "metadata": {},
   "outputs": [],
   "source": []
  },
  {
   "cell_type": "code",
   "execution_count": null,
   "metadata": {},
   "outputs": [],
   "source": []
  },
  {
   "cell_type": "code",
   "execution_count": null,
   "metadata": {},
   "outputs": [],
   "source": []
  }
 ],
 "metadata": {
  "kernelspec": {
   "display_name": "Python 3",
   "language": "python",
   "name": "python3"
  },
  "language_info": {
   "codemirror_mode": {
    "name": "ipython",
    "version": 3
   },
   "file_extension": ".py",
   "mimetype": "text/x-python",
   "name": "python",
   "nbconvert_exporter": "python",
   "pygments_lexer": "ipython3",
   "version": "3.7.4"
  }
 },
 "nbformat": 4,
 "nbformat_minor": 2
}
