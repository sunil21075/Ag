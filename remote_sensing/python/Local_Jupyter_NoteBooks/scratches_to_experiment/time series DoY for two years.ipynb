{
 "cells": [
  {
   "cell_type": "markdown",
   "metadata": {},
   "source": [
    "# plot time series DoY "
   ]
  },
  {
   "cell_type": "code",
   "execution_count": 9,
   "metadata": {},
   "outputs": [
    {
     "data": {
      "text/plain": [
       "(62, 27)"
      ]
     },
     "execution_count": 9,
     "metadata": {},
     "output_type": "execute_result"
    }
   ],
   "source": [
    "an_EE_TS_all.reset_index(drop=True, inplace=True)\n",
    "an_EE_TS = an_EE_TS_all[an_EE_TS_all.ID == an_EE_TS_all.ID[0]]\n",
    "an_EE_TS.reset_index(drop=True, inplace=True)\n",
    "an_EE_TS.shape"
   ]
  },
  {
   "cell_type": "code",
   "execution_count": 17,
   "metadata": {},
   "outputs": [
    {
     "data": {
      "text/plain": [
       "(50, 28)"
      ]
     },
     "execution_count": 17,
     "metadata": {},
     "output_type": "execute_result"
    }
   ],
   "source": []
  },
  {
   "cell_type": "code",
   "execution_count": 10,
   "metadata": {},
   "outputs": [
    {
     "name": "stdout",
     "output_type": "stream",
     "text": [
      "there are [1] in the data frame.\n",
      "image years are [2016 2017 2018]\n"
     ]
    }
   ],
   "source": [
    "polygon_list = an_EE_TS['ID'].unique()\n",
    "\n",
    "print(\"there are [{pol_count}] in the data frame.\".format(pol_count = str(len(polygon_list))))\n",
    "print (\"image years are \" + str(an_EE_TS.image_year.unique()))"
   ]
  },
  {
   "cell_type": "code",
   "execution_count": 11,
   "metadata": {},
   "outputs": [
    {
     "name": "stdout",
     "output_type": "stream",
     "text": [
      "image years are [2016 2017]\n"
     ]
    }
   ],
   "source": [
    "an_EE_TS = an_EE_TS[an_EE_TS.image_year.isin([2016, 2017])]\n",
    "print (\"image years are \" + str(an_EE_TS.image_year.unique()))"
   ]
  },
  {
   "cell_type": "code",
   "execution_count": 13,
   "metadata": {},
   "outputs": [
    {
     "data": {
      "text/html": [
       "<div>\n",
       "<style scoped>\n",
       "    .dataframe tbody tr th:only-of-type {\n",
       "        vertical-align: middle;\n",
       "    }\n",
       "\n",
       "    .dataframe tbody tr th {\n",
       "        vertical-align: top;\n",
       "    }\n",
       "\n",
       "    .dataframe thead th {\n",
       "        text-align: right;\n",
       "    }\n",
       "</style>\n",
       "<table border=\"1\" class=\"dataframe\">\n",
       "  <thead>\n",
       "    <tr style=\"text-align: right;\">\n",
       "      <th></th>\n",
       "      <th>ID</th>\n",
       "      <th>Acres</th>\n",
       "      <th>BSI</th>\n",
       "      <th>county</th>\n",
       "      <th>CropGrp</th>\n",
       "      <th>CropTyp</th>\n",
       "      <th>DataSrc</th>\n",
       "      <th>doy</th>\n",
       "      <th>EVI</th>\n",
       "      <th>ExctAcr</th>\n",
       "      <th>...</th>\n",
       "      <th>RtCrpTy</th>\n",
       "      <th>Shap_Ar</th>\n",
       "      <th>Shp_Lng</th>\n",
       "      <th>system_start_time</th>\n",
       "      <th>TRS</th>\n",
       "      <th>image_year</th>\n",
       "      <th>B8</th>\n",
       "      <th>SF_year</th>\n",
       "      <th>CovrCrp</th>\n",
       "      <th>human_system_start_time</th>\n",
       "    </tr>\n",
       "  </thead>\n",
       "  <tbody>\n",
       "    <tr>\n",
       "      <td>0</td>\n",
       "      <td>113035_WSDA_SF_2017</td>\n",
       "      <td>5.0</td>\n",
       "      <td>0.019722</td>\n",
       "      <td>Grant</td>\n",
       "      <td>Other</td>\n",
       "      <td>fallow</td>\n",
       "      <td>wsda</td>\n",
       "      <td>275.0</td>\n",
       "      <td>0.213343</td>\n",
       "      <td>4.697693</td>\n",
       "      <td>...</td>\n",
       "      <td>Timothy</td>\n",
       "      <td>19010.890707</td>\n",
       "      <td>622.089116</td>\n",
       "      <td>1.475434e+09</td>\n",
       "      <td>T15R24E32</td>\n",
       "      <td>2016</td>\n",
       "      <td>0.273118</td>\n",
       "      <td>2017</td>\n",
       "      <td>NA</td>\n",
       "      <td>2016-10-02</td>\n",
       "    </tr>\n",
       "    <tr>\n",
       "      <td>1</td>\n",
       "      <td>113035_WSDA_SF_2017</td>\n",
       "      <td>5.0</td>\n",
       "      <td>0.012637</td>\n",
       "      <td>Grant</td>\n",
       "      <td>Other</td>\n",
       "      <td>fallow</td>\n",
       "      <td>wsda</td>\n",
       "      <td>295.0</td>\n",
       "      <td>0.233983</td>\n",
       "      <td>4.697693</td>\n",
       "      <td>...</td>\n",
       "      <td>Timothy</td>\n",
       "      <td>19010.890707</td>\n",
       "      <td>622.089116</td>\n",
       "      <td>1.477162e+09</td>\n",
       "      <td>T15R24E32</td>\n",
       "      <td>2016</td>\n",
       "      <td>0.195637</td>\n",
       "      <td>2017</td>\n",
       "      <td>NA</td>\n",
       "      <td>2016-10-22</td>\n",
       "    </tr>\n",
       "  </tbody>\n",
       "</table>\n",
       "<p>2 rows × 28 columns</p>\n",
       "</div>"
      ],
      "text/plain": [
       "                    ID  Acres       BSI county CropGrp CropTyp DataSrc    doy  \\\n",
       "0  113035_WSDA_SF_2017    5.0  0.019722  Grant   Other  fallow    wsda  275.0   \n",
       "1  113035_WSDA_SF_2017    5.0  0.012637  Grant   Other  fallow    wsda  295.0   \n",
       "\n",
       "        EVI   ExctAcr  ...  RtCrpTy       Shap_Ar     Shp_Lng  \\\n",
       "0  0.213343  4.697693  ...  Timothy  19010.890707  622.089116   \n",
       "1  0.233983  4.697693  ...  Timothy  19010.890707  622.089116   \n",
       "\n",
       "   system_start_time        TRS  image_year        B8  SF_year CovrCrp  \\\n",
       "0       1.475434e+09  T15R24E32        2016  0.273118     2017      NA   \n",
       "1       1.477162e+09  T15R24E32        2016  0.195637     2017      NA   \n",
       "\n",
       "   human_system_start_time  \n",
       "0               2016-10-02  \n",
       "1               2016-10-22  \n",
       "\n",
       "[2 rows x 28 columns]"
      ]
     },
     "execution_count": 13,
     "metadata": {},
     "output_type": "execute_result"
    }
   ],
   "source": [
    "an_EE_TS = rc.add_human_start_time(an_EE_TS)\n",
    "an_EE_TS.head(2)"
   ]
  },
  {
   "cell_type": "code",
   "execution_count": 24,
   "metadata": {},
   "outputs": [
    {
     "data": {
      "image/png": "[encoded data removed]",
      "text/plain": [
       "<Figure size 432x288 with 1 Axes>"
      ]
     },
     "metadata": {
      "needs_background": "light"
     },
     "output_type": "display_data"
    }
   ],
   "source": [
    "ts = pd.Series(an_EE_TS[indeks].values, index = an_EE_TS.human_system_start_time.values)\n",
    "ts_1 = pd.Series(an_EE_TS[indeks].values, index = pd.to_datetime(an_EE_TS.human_system_start_time.values))\n",
    "ts_1.plot();\n",
    "\n",
    "ts_2 = pd.Series(an_EE_TS[\"Acres\"].values/12, index = pd.to_datetime(an_EE_TS.human_system_start_time.values))\n",
    "ts_2.plot();"
   ]
  },
  {
   "cell_type": "code",
   "execution_count": 22,
   "metadata": {},
   "outputs": [
    {
     "data": {
      "text/plain": [
       "Text(0.5, 1.0, 'D')"
      ]
     },
     "execution_count": 22,
     "metadata": {},
     "output_type": "execute_result"
    },
    {
     "data": {
      "image/png": "[encoded data removed]",
      "text/plain": [
       "<Figure size 432x288 with 4 Axes>"
      ]
     },
     "metadata": {
      "needs_background": "light"
     },
     "output_type": "display_data"
    }
   ],
   "source": [
    "df = pd.DataFrame(np.random.randn(50, 4), index = ts.index, columns=list('ABCD'))\n",
    "df = df.cumsum()\n",
    "\n",
    "fig, axes = plt.subplots(nrows=2, ncols=2)\n",
    "\n",
    "df['A'].plot(ax=axes[0,0]); axes[0,0].set_title('A')\n",
    "df['B'].plot(ax=axes[0,0]);\n",
    "\n",
    "df['B'].plot(ax=axes[0,1]); axes[0,1].set_title('B')\n",
    "\n",
    "df['C'].plot(ax=axes[1,0]); axes[1,0].set_title('C')\n",
    "df['D'].plot(ax=axes[1,1]); axes[1,1].set_title('D')"
   ]
  },
  {
   "cell_type": "code",
   "execution_count": null,
   "metadata": {},
   "outputs": [],
   "source": [
    "with pd.plot_params.use('x_compat', True):\n",
    "    df.A.plot(color='r')\n",
    "    df.B.plot(color='g')\n",
    "    df.C.plot(color='b')"
   ]
  },
  {
   "cell_type": "code",
   "execution_count": null,
   "metadata": {},
   "outputs": [],
   "source": []
  },
  {
   "cell_type": "code",
   "execution_count": null,
   "metadata": {},
   "outputs": [],
   "source": []
  },
  {
   "cell_type": "code",
   "execution_count": null,
   "metadata": {},
   "outputs": [],
   "source": []
  },
  {
   "cell_type": "code",
   "execution_count": null,
   "metadata": {},
   "outputs": [],
   "source": [
    "# datetime.timestamp(an_EE_TS.Date.values[0])\n",
    "pd.to_datetime(an_EE_TS.Date.values)"
   ]
  },
  {
   "cell_type": "code",
   "execution_count": null,
   "metadata": {},
   "outputs": [],
   "source": []
  },
  {
   "cell_type": "code",
   "execution_count": null,
   "metadata": {},
   "outputs": [],
   "source": [
    "ts = pd.Series(np.random.randn(1000), index = pd.date_range('1/1/2000', periods=1000))\n",
    "ts.head(2)"
   ]
  },
  {
   "cell_type": "code",
   "execution_count": null,
   "metadata": {},
   "outputs": [],
   "source": [
    "type(ts.index[0])"
   ]
  },
  {
   "cell_type": "raw",
   "metadata": {},
   "source": [
    "fig = go.Figure([go.Scatter(x = an_EE_TS['system_start_time'], \n",
    "                            y=an_EE_TS['EVI'])\n",
    "                ])\n",
    "fig.show()"
   ]
  },
  {
   "cell_type": "code",
   "execution_count": null,
   "metadata": {},
   "outputs": [],
   "source": [
    "fig = go.Figure([go.Scatter(x = an_EE_TS['human_system_start_time'], \n",
    "                            y = an_EE_TS['EVI'])\n",
    "                ])\n",
    "\n",
    "fig.show()\n",
    "\n",
    "fig.write_image(\"/Users/hn/Documents/00_GitHub/Ag/remote_sensing/python/fig1.png\")"
   ]
  },
  {
   "cell_type": "code",
   "execution_count": null,
   "metadata": {},
   "outputs": [],
   "source": [
    "fig = make_subplots(specs=[[{\"secondary_y\": True}]])\n",
    "\n",
    "# Add traces\n",
    "fig.add_trace(\n",
    "    go.Scatter(x = an_EE_TS['human_system_start_time'], \n",
    "                            y = an_EE_TS['EVI']),\n",
    "    secondary_y=False,\n",
    ")\n",
    "\n",
    "fig.add_trace(\n",
    "    go.Scatter(x = an_EE_TS['human_system_start_time'], \n",
    "                            y = an_EE_TS['Acres']/10),\n",
    "    secondary_y=False,\n",
    ")\n",
    "\n",
    "fig.show()\n",
    "fig.write_image(\"/Users/hn/Documents/00_GitHub/Ag/remote_sensing/python/fig2.png\")"
   ]
  },
  {
   "cell_type": "code",
   "execution_count": null,
   "metadata": {},
   "outputs": [],
   "source": [
    "an_EE_TS.plot(an_EE_TS[\"human_system_start_time\"], an_EE_TS[\"EVI\"], style='k.')\n",
    "pyplot.show()"
   ]
  },
  {
   "cell_type": "code",
   "execution_count": null,
   "metadata": {},
   "outputs": [],
   "source": [
    "an_EE_TS.plot()\n",
    "pyplot.show()"
   ]
  },
  {
   "cell_type": "code",
   "execution_count": null,
   "metadata": {},
   "outputs": [],
   "source": []
  },
  {
   "cell_type": "code",
   "execution_count": null,
   "metadata": {},
   "outputs": [],
   "source": []
  },
  {
   "cell_type": "code",
   "execution_count": null,
   "metadata": {},
   "outputs": [],
   "source": [
    "print (an_EE_TS.system_start_time.iloc[0])\n",
    "print (\"___________________________________________\")\n",
    "print (time.strftime('%Y-%m-%d', time.localtime(an_EE_TS.system_start_time.iloc[0])))\n",
    "print (\"___________________________________________\")\n",
    "\n",
    "print (\"Convert Epoch to datetime format\")\n",
    "print (datetime.datetime.fromtimestamp(an_EE_TS.system_start_time.iloc[0]))\n",
    "\n",
    "\n",
    "# Convert Epoch to DoY\n",
    "print (\"___________________________________________\")\n",
    "print (\"\")\n",
    "print (\"Convert Epoch to DoY\")\n",
    "print ( (datetime.datetime.fromtimestamp(an_EE_TS.system_start_time.iloc[0])).timetuple().tm_yday  )\n",
    "\n",
    "print (\"___________________________________________\")\n",
    "print (\"\")\n",
    "print (\"difference number of days\")\n",
    "print ((date(2003,11,22) - date(2002,10,20)).days)"
   ]
  },
  {
   "cell_type": "code",
   "execution_count": null,
   "metadata": {},
   "outputs": [],
   "source": [
    "time.localtime(a_df_1.system_start_time.iloc[0])"
   ]
  },
  {
   "cell_type": "code",
   "execution_count": null,
   "metadata": {},
   "outputs": [],
   "source": [
    "# datetime.datetime(2016, 1, 1) + datetime.timedelta(275 - 1)\n",
    "# im_yr_sotred = a_df_1.copy()\n",
    "# epoch_sorted = a_df_1.copy()\n",
    "# im_yr_sotred.sort_values(by=['image_year', 'doy'], inplace=True)\n",
    "# epoch_sorted.sort_values(by=['system_start_time'], inplace=True)\n",
    "# epoch_sorted.to_csv (r'/Users/hn/Desktop/test/epoch_sorted.csv', index = True, header=True)\n",
    "# im_yr_sotred.to_csv (r'/Users/hn/Desktop/test/im_yr_sotred.csv', index = True, header=True)\n",
    "# a_df_1.to_csv (r'/Users/hn/Desktop/test/a_df_1.csv', index = True, header=True)"
   ]
  }
 ],
 "metadata": {
  "kernelspec": {
   "display_name": "Python 3",
   "language": "python",
   "name": "python3"
  },
  "language_info": {
   "codemirror_mode": {
    "name": "ipython",
    "version": 3
   },
   "file_extension": ".py",
   "mimetype": "text/x-python",
   "name": "python",
   "nbconvert_exporter": "python",
   "pygments_lexer": "ipython3",
   "version": "3.7.4"
  }
 },
 "nbformat": 4,
 "nbformat_minor": 2
}
