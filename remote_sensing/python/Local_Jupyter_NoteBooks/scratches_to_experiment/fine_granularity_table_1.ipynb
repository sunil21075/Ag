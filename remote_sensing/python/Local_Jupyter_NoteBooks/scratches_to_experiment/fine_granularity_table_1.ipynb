{
 "cells": [
  {
   "cell_type": "code",
   "execution_count": 2,
   "metadata": {},
   "outputs": [],
   "source": [
    "import csv\n",
    "import numpy as np\n",
    "import pandas as pd\n",
    "# import geopandas as gpd\n",
    "from IPython.display import Image\n",
    "# from shapely.geometry import Point, Polygon\n",
    "from math import factorial\n",
    "import datetime\n",
    "import time\n",
    "import scipy\n",
    "import scipy.signal\n",
    "import os, os.path\n",
    "\n",
    "from statsmodels.sandbox.regression.predstd import wls_prediction_std\n",
    "from sklearn.linear_model import LinearRegression\n",
    "from patsy import cr\n",
    "\n",
    "# from pprint import pprint\n",
    "import matplotlib.pyplot as plt\n",
    "import seaborn as sb\n",
    "\n",
    "\n",
    "import sys\n",
    "start_time = time.time()"
   ]
  },
  {
   "cell_type": "code",
   "execution_count": 3,
   "metadata": {},
   "outputs": [],
   "source": [
    "sys.path.append('/Users/hn/Documents/00_GitHub/Ag/remote_sensing/python/')\n",
    "\n",
    "import remote_sensing_core as rc\n",
    "import remote_sensing_plot_core as rcp\n",
    "\n",
    "data_dir = \"/Users/hn/Documents/01_research_data/remote_sensing/test_Aeolus_data/\"\n",
    "f_name = \"01_Regular_filledGap_Grant_SF_2016_EVI.csv\"\n"
   ]
  },
  {
   "cell_type": "code",
   "execution_count": 4,
   "metadata": {},
   "outputs": [],
   "source": [
    "given_county = \"Grant\"\n",
    "SF_year = 2016\n",
    "indeks = \"EVI\"\n",
    "SG_params = 51\n",
    "delt = 0.4\n",
    "\n",
    "onset_cut = 0.3\n",
    "offset_cut = 0.3\n",
    "\n",
    "regularized = True\n"
   ]
  },
  {
   "cell_type": "code",
   "execution_count": 5,
   "metadata": {},
   "outputs": [
    {
     "name": "stdout",
     "output_type": "stream",
     "text": [
      "SG_params is 51.\n",
      "SG_win_size is 5 and SG_order is 1.\n"
     ]
    }
   ],
   "source": [
    "SG_win_size = int(SG_params / 10) # grab the first digit as window size\n",
    "SG_order = SG_params % 10 # grab the second digit as poly. order\n",
    "\n",
    "print(\"SG_params is {}.\".format(SG_params))\n",
    "print(\"SG_win_size is {} and SG_order is {}.\".format(SG_win_size, SG_order))\n"
   ]
  },
  {
   "cell_type": "code",
   "execution_count": 6,
   "metadata": {},
   "outputs": [],
   "source": [
    "a_df = pd.read_csv(data_dir + f_name, low_memory=False)\n",
    "a_df = a_df[a_df['image_year'] == SF_year] \n"
   ]
  },
  {
   "cell_type": "code",
   "execution_count": 7,
   "metadata": {},
   "outputs": [],
   "source": [
    "a_df['Date'] = pd.to_datetime(a_df.Date.values).values\n",
    "if \"human_system_start_time\" in list(a_df.columns):\n",
    "    a_df['human_system_start_time'] = pd.to_datetime(a_df.human_system_start_time.values).values"
   ]
  },
  {
   "cell_type": "code",
   "execution_count": 8,
   "metadata": {},
   "outputs": [],
   "source": [
    "a_df = a_df[a_df['county']== given_county.replace(\"_\", \" \")] # Filter the given county; given_county\n",
    "a_df.reset_index(drop=True, inplace=True)"
   ]
  },
  {
   "cell_type": "code",
   "execution_count": 9,
   "metadata": {},
   "outputs": [],
   "source": [
    "if not('DataSrc' in a_df.columns):\n",
    "    print (\"_________________________________________________________\")\n",
    "    print (\"Data source is being set to NA\")\n",
    "    a_df['DataSrc'] = \"NA\"\n",
    "\n",
    "a_df = rc.initial_clean(df = a_df, column_to_be_cleaned = indeks)\n",
    "a_df = a_df.copy()"
   ]
  },
  {
   "cell_type": "code",
   "execution_count": 10,
   "metadata": {},
   "outputs": [
    {
     "name": "stdout",
     "output_type": "stream",
     "text": [
      "_________________________________________________________\n",
      "polygon_list is of length 15751.\n"
     ]
    }
   ],
   "source": [
    "polygon_list = a_df['ID'].unique()\n",
    "\n",
    "print (\"_________________________________________________________\")\n",
    "print(\"polygon_list is of length {}.\".format(len(polygon_list)))\n",
    "\n",
    "\n",
    "# \n",
    "# 25 columns\n",
    "#\n",
    "SEOS_output_columns = ['ID', 'Acres', 'county', 'CropGrp', 'CropTyp', 'DataSrc', 'ExctAcr',\n",
    "                       'IntlSrD', 'Irrigtn', 'LstSrvD', 'Notes', 'RtCrpTy', 'Shap_Ar',\n",
    "                       'Shp_Lng', 'TRS', 'image_year', 'SF_year', 'doy', 'EVI',\n",
    "                       'human_system_start_time', 'Date', \n",
    "                       'EVI_ratio', 'SOS', 'EOS', 'season_count']\n",
    "\n",
    "#\n",
    "# The reason I am multiplying len(a_df) by 4 is that we can have at least two\n",
    "# seasons which means 2 SOS and 2 EOS. So, at least 4 rows are needed.\n",
    "#\n",
    "all_poly_and_SEOS = pd.DataFrame(data = None, \n",
    "                                 index = np.arange(4*len(a_df)), \n",
    "                                 columns = SEOS_output_columns)\n",
    "\n",
    "\n",
    "counter = 0\n",
    "pointer_SEOS_tab = 0"
   ]
  },
  {
   "cell_type": "code",
   "execution_count": 11,
   "metadata": {},
   "outputs": [],
   "source": [
    "###########\n",
    "###########  Re-order columns of the read data table to be consistent with the output columns\n",
    "###########\n",
    "a_df = a_df[SEOS_output_columns[0:21]]"
   ]
  },
  {
   "cell_type": "code",
   "execution_count": 12,
   "metadata": {},
   "outputs": [
    {
     "data": {
      "text/plain": [
       "'79317_WSDA_SF_2016'"
      ]
     },
     "execution_count": 12,
     "metadata": {},
     "output_type": "execute_result"
    }
   ],
   "source": [
    "polygon_list[4]"
   ]
  },
  {
   "cell_type": "code",
   "execution_count": 13,
   "metadata": {},
   "outputs": [
    {
     "data": {
      "text/plain": [
       "0.3503187851404954"
      ]
     },
     "execution_count": 13,
     "metadata": {},
     "output_type": "execute_result"
    }
   ],
   "source": [
    "a_poly = polygon_list[4]\n",
    "curr_field = a_df[a_df['ID']==a_poly].copy()\n",
    "curr_field.reset_index(drop=True, inplace=True)\n",
    "\n",
    "if (not(\"human_system_start_time\" in list(curr_field.columns))):\n",
    "    curr_field = rc.add_human_start_time_by_YearDoY(curr_field)\n",
    "\n",
    "################################################################\n",
    "# Sort by DoY (sanitary check)\n",
    "curr_field.sort_values(by=['human_system_start_time'], inplace=True)\n",
    "\n",
    "### \n",
    "###  There is a chance that a polygon is repeated twice?\n",
    "###\n",
    "\n",
    "X = curr_field['doy']\n",
    "y = curr_field[indeks]\n",
    "\n",
    "#######################################################################\n",
    "###\n",
    "###   Smoothen\n",
    "###\n",
    "\"\"\"\n",
    "Here we do the SG filtering smoothing with 1.5 years worth of data\n",
    "\"\"\"\n",
    "SG_pred = scipy.signal.savgol_filter(y, window_length= SG_win_size, polyorder=SG_order)\n",
    "\n",
    "# SG might violate the boundaries. clip them:\n",
    "SG_pred[SG_pred > 1 ] = 1\n",
    "SG_pred[SG_pred < -1 ] = -1\n",
    "\n",
    "curr_field[indeks] = SG_pred\n",
    "\n",
    "curr_field = curr_field[curr_field['image_year'] == SF_year]\n",
    "\n",
    "if len(curr_field.image_year.unique()) != 1:\n",
    "    print (curr_field.image_year.unique())\n",
    "    raise ValueError(\"image year must be unique at this point!!!\")\n",
    "\n",
    "y_orchard = curr_field[curr_field['doy'] >= 122]\n",
    "y_orchard = y_orchard[y_orchard['doy'] <= 305]\n",
    "y_orchard_range = max(y_orchard[indeks]) - min(y_orchard[indeks])\n",
    "y_orchard_range"
   ]
  },
  {
   "cell_type": "code",
   "execution_count": 18,
   "metadata": {},
   "outputs": [],
   "source": [
    "# create the full calenadr to make better estimation of SOS and EOS.\n",
    "fine_granular_table = rc.create_calendar_table(SF_year = SF_year)\n",
    "fine_granular_table = pd.merge(fine_granular_table, curr_field, on=['Date', 'SF_year', 'doy'], how='left')\n",
    "\n",
    "###### We need to fill the NAs that are created because they were not created in fine_granular_table\n",
    "fine_granular_table[\"image_year\"] = curr_field[\"image_year\"].unique()[0]\n",
    "fine_granular_table[\"ID\"] = curr_field[\"ID\"].unique()[0]\n",
    "fine_granular_table[\"Acres\"] = curr_field[\"Acres\"].unique()[0]\n",
    "fine_granular_table[\"county\"] = curr_field[\"county\"].unique()[0]\n",
    "\n",
    "fine_granular_table[\"CropGrp\"] = curr_field[\"CropGrp\"].unique()[0]\n",
    "fine_granular_table[\"CropTyp\"] = curr_field[\"CropTyp\"].unique()[0]\n",
    "fine_granular_table[\"DataSrc\"] = curr_field[\"DataSrc\"].unique()[0]\n",
    "fine_granular_table[\"ExctAcr\"] = curr_field[\"ExctAcr\"].unique()[0]\n",
    "\n",
    "fine_granular_table[\"IntlSrD\"] = curr_field[\"IntlSrD\"].unique()[0]\n",
    "fine_granular_table[\"Irrigtn\"] = curr_field[\"Irrigtn\"].unique()[0]\n",
    "\n",
    "fine_granular_table[\"LstSrvD\"] = curr_field[\"LstSrvD\"].unique()[0]\n",
    "fine_granular_table[\"Notes\"] = curr_field[\"Notes\"].unique()[0]\n",
    "fine_granular_table[\"RtCrpTy\"] = curr_field[\"RtCrpTy\"].unique()[0]\n",
    "fine_granular_table[\"Shap_Ar\"] = curr_field[\"Shap_Ar\"].unique()[0]\n",
    "fine_granular_table[\"Shp_Lng\"] = curr_field[\"Shp_Lng\"].unique()[0]\n",
    "fine_granular_table[\"TRS\"] = curr_field[\"TRS\"].unique()[0]\n",
    "\n",
    "fine_granular_table = rc.add_human_start_time_by_YearDoY(fine_granular_table)\n",
    "\n",
    "# replace NAs with -1.5. Because, that is what the function fill_theGap_linearLine()\n",
    "# uses as indicator for missing values\n",
    "fine_granular_table.fillna(value={indeks:-1.5}, inplace=True)\n",
    "fine_granular_table = rc.fill_theGap_linearLine(regular_TS = fine_granular_table, V_idx=indeks, SF_year=SF_year)\n",
    "\n",
    "fine_granular_table = rc.addToDF_SOS_EOS_White(pd_TS = fine_granular_table, \n",
    "                                      VegIdx = indeks, \n",
    "                                      onset_thresh = onset_cut, \n",
    "                                      offset_thresh = offset_cut)\n",
    "\n",
    "##\n",
    "##  Kill false detected seasons \n",
    "##\n",
    "fine_granular_table = rc.Null_SOS_EOS_by_DoYDiff(pd_TS = fine_granular_table, min_season_length=40)\n",
    "\n",
    "#\n",
    "# extract the SOS and EOS rows \n",
    "#\n",
    "SEOS = fine_granular_table[(fine_granular_table['SOS'] != 0) | fine_granular_table['EOS'] != 0]\n",
    "SEOS = SEOS.copy()\n",
    "# SEOS = SEOS.reset_index() # not needed really\n",
    "SOS_tb = fine_granular_table[fine_granular_table['SOS'] != 0]"
   ]
  },
  {
   "cell_type": "code",
   "execution_count": 20,
   "metadata": {},
   "outputs": [
    {
     "data": {
      "text/plain": [
       "False"
      ]
     },
     "execution_count": 20,
     "metadata": {},
     "output_type": "execute_result"
    }
   ],
   "source": [
    "len(SOS_tb) >= 2"
   ]
  },
  {
   "cell_type": "code",
   "execution_count": 29,
   "metadata": {},
   "outputs": [
    {
     "data": {
      "text/plain": [
       "(1, 21)"
      ]
     },
     "execution_count": 29,
     "metadata": {},
     "output_type": "execute_result"
    }
   ],
   "source": [
    "aaa = curr_field.iloc[0].values.reshape(1, len(curr_field.iloc[0]))\n",
    "aaa.shape"
   ]
  },
  {
   "cell_type": "code",
   "execution_count": 30,
   "metadata": {},
   "outputs": [
    {
     "name": "stdout",
     "output_type": "stream",
     "text": [
      "(22,)\n"
     ]
    },
    {
     "data": {
      "text/plain": [
       "(1, 22)"
      ]
     },
     "execution_count": 30,
     "metadata": {},
     "output_type": "execute_result"
    }
   ],
   "source": [
    "aaa = np.append(aaa, [1])\n",
    "print (aaa.shape)\n",
    "\n",
    "aaa = aaa.reshape(1, len(aaa))\n",
    "aaa.shape"
   ]
  },
  {
   "cell_type": "code",
   "execution_count": null,
   "metadata": {},
   "outputs": [],
   "source": [
    "aaa = np.append(aaa, [1])\n",
    "aaa = aaa.reshape(1, len(aaa))\n",
    "\n",
    "all_poly_and_SEOS.iloc[pointer_SEOS_tab:(pointer_SEOS_tab+1)] = aaa\n",
    "pointer_SEOS_tab += 1"
   ]
  },
  {
   "cell_type": "code",
   "execution_count": 31,
   "metadata": {},
   "outputs": [
    {
     "data": {
      "text/plain": [
       "(2268144, 25)"
      ]
     },
     "execution_count": 31,
     "metadata": {},
     "output_type": "execute_result"
    }
   ],
   "source": [
    "all_poly_and_SEOS.shape"
   ]
  },
  {
   "cell_type": "code",
   "execution_count": 34,
   "metadata": {},
   "outputs": [
    {
     "data": {
      "text/html": [
       "<div>\n",
       "<style scoped>\n",
       "    .dataframe tbody tr th:only-of-type {\n",
       "        vertical-align: middle;\n",
       "    }\n",
       "\n",
       "    .dataframe tbody tr th {\n",
       "        vertical-align: top;\n",
       "    }\n",
       "\n",
       "    .dataframe thead th {\n",
       "        text-align: right;\n",
       "    }\n",
       "</style>\n",
       "<table border=\"1\" class=\"dataframe\">\n",
       "  <thead>\n",
       "    <tr style=\"text-align: right;\">\n",
       "      <th></th>\n",
       "      <th>ID</th>\n",
       "      <th>Acres</th>\n",
       "      <th>county</th>\n",
       "      <th>CropGrp</th>\n",
       "      <th>CropTyp</th>\n",
       "      <th>DataSrc</th>\n",
       "      <th>ExctAcr</th>\n",
       "      <th>IntlSrD</th>\n",
       "      <th>Irrigtn</th>\n",
       "      <th>LstSrvD</th>\n",
       "      <th>...</th>\n",
       "      <th>RtCrpTy</th>\n",
       "      <th>Shap_Ar</th>\n",
       "      <th>Shp_Lng</th>\n",
       "      <th>TRS</th>\n",
       "      <th>image_year</th>\n",
       "      <th>SF_year</th>\n",
       "      <th>doy</th>\n",
       "      <th>EVI</th>\n",
       "      <th>human_system_start_time</th>\n",
       "      <th>Date</th>\n",
       "    </tr>\n",
       "  </thead>\n",
       "  <tbody>\n",
       "    <tr>\n",
       "      <th>0</th>\n",
       "      <td>79317_WSDA_SF_2016</td>\n",
       "      <td>17</td>\n",
       "      <td>Grant</td>\n",
       "      <td>Orchard</td>\n",
       "      <td>cherry</td>\n",
       "      <td>producer</td>\n",
       "      <td>17.452965</td>\n",
       "      <td>2003/07/01 00:00:00</td>\n",
       "      <td>micro-sprinkler</td>\n",
       "      <td>2014/06/05 00:00:00</td>\n",
       "      <td>...</td>\n",
       "      <td>Apricot</td>\n",
       "      <td>70629.643479</td>\n",
       "      <td>1104.670379</td>\n",
       "      <td>T13R24E3</td>\n",
       "      <td>2016</td>\n",
       "      <td>2016</td>\n",
       "      <td>1</td>\n",
       "      <td>0.365010</td>\n",
       "      <td>2016-01-01</td>\n",
       "      <td>2016-01-01</td>\n",
       "    </tr>\n",
       "    <tr>\n",
       "      <th>1</th>\n",
       "      <td>79317_WSDA_SF_2016</td>\n",
       "      <td>17</td>\n",
       "      <td>Grant</td>\n",
       "      <td>Orchard</td>\n",
       "      <td>cherry</td>\n",
       "      <td>producer</td>\n",
       "      <td>17.452965</td>\n",
       "      <td>2003/07/01 00:00:00</td>\n",
       "      <td>micro-sprinkler</td>\n",
       "      <td>2014/06/05 00:00:00</td>\n",
       "      <td>...</td>\n",
       "      <td>Apricot</td>\n",
       "      <td>70629.643479</td>\n",
       "      <td>1104.670379</td>\n",
       "      <td>T13R24E3</td>\n",
       "      <td>2016</td>\n",
       "      <td>2016</td>\n",
       "      <td>11</td>\n",
       "      <td>0.333205</td>\n",
       "      <td>2016-01-11</td>\n",
       "      <td>2016-01-11</td>\n",
       "    </tr>\n",
       "  </tbody>\n",
       "</table>\n",
       "<p>2 rows × 21 columns</p>\n",
       "</div>"
      ],
      "text/plain": [
       "                   ID  Acres county  CropGrp CropTyp   DataSrc    ExctAcr  \\\n",
       "0  79317_WSDA_SF_2016     17  Grant  Orchard  cherry  producer  17.452965   \n",
       "1  79317_WSDA_SF_2016     17  Grant  Orchard  cherry  producer  17.452965   \n",
       "\n",
       "               IntlSrD          Irrigtn              LstSrvD  ...  RtCrpTy  \\\n",
       "0  2003/07/01 00:00:00  micro-sprinkler  2014/06/05 00:00:00  ...  Apricot   \n",
       "1  2003/07/01 00:00:00  micro-sprinkler  2014/06/05 00:00:00  ...  Apricot   \n",
       "\n",
       "        Shap_Ar      Shp_Lng       TRS image_year  SF_year  doy       EVI  \\\n",
       "0  70629.643479  1104.670379  T13R24E3       2016     2016    1  0.365010   \n",
       "1  70629.643479  1104.670379  T13R24E3       2016     2016   11  0.333205   \n",
       "\n",
       "   human_system_start_time       Date  \n",
       "0               2016-01-01 2016-01-01  \n",
       "1               2016-01-11 2016-01-11  \n",
       "\n",
       "[2 rows x 21 columns]"
      ]
     },
     "execution_count": 34,
     "metadata": {},
     "output_type": "execute_result"
    }
   ],
   "source": [
    "curr_field.head(2)"
   ]
  },
  {
   "cell_type": "code",
   "execution_count": 35,
   "metadata": {},
   "outputs": [
    {
     "data": {
      "text/html": [
       "<div>\n",
       "<style scoped>\n",
       "    .dataframe tbody tr th:only-of-type {\n",
       "        vertical-align: middle;\n",
       "    }\n",
       "\n",
       "    .dataframe tbody tr th {\n",
       "        vertical-align: top;\n",
       "    }\n",
       "\n",
       "    .dataframe thead th {\n",
       "        text-align: right;\n",
       "    }\n",
       "</style>\n",
       "<table border=\"1\" class=\"dataframe\">\n",
       "  <thead>\n",
       "    <tr style=\"text-align: right;\">\n",
       "      <th></th>\n",
       "      <th>ID</th>\n",
       "      <th>Acres</th>\n",
       "      <th>county</th>\n",
       "      <th>CropGrp</th>\n",
       "      <th>CropTyp</th>\n",
       "      <th>DataSrc</th>\n",
       "      <th>ExctAcr</th>\n",
       "      <th>IntlSrD</th>\n",
       "      <th>Irrigtn</th>\n",
       "      <th>LstSrvD</th>\n",
       "      <th>...</th>\n",
       "      <th>image_year</th>\n",
       "      <th>SF_year</th>\n",
       "      <th>doy</th>\n",
       "      <th>EVI</th>\n",
       "      <th>human_system_start_time</th>\n",
       "      <th>Date</th>\n",
       "      <th>EVI_ratio</th>\n",
       "      <th>SOS</th>\n",
       "      <th>EOS</th>\n",
       "      <th>season_count</th>\n",
       "    </tr>\n",
       "  </thead>\n",
       "  <tbody>\n",
       "    <tr>\n",
       "      <th>0</th>\n",
       "      <td>NaN</td>\n",
       "      <td>NaN</td>\n",
       "      <td>NaN</td>\n",
       "      <td>NaN</td>\n",
       "      <td>NaN</td>\n",
       "      <td>NaN</td>\n",
       "      <td>NaN</td>\n",
       "      <td>NaN</td>\n",
       "      <td>NaN</td>\n",
       "      <td>NaN</td>\n",
       "      <td>...</td>\n",
       "      <td>NaN</td>\n",
       "      <td>NaN</td>\n",
       "      <td>NaN</td>\n",
       "      <td>NaN</td>\n",
       "      <td>NaN</td>\n",
       "      <td>NaN</td>\n",
       "      <td>NaN</td>\n",
       "      <td>NaN</td>\n",
       "      <td>NaN</td>\n",
       "      <td>NaN</td>\n",
       "    </tr>\n",
       "    <tr>\n",
       "      <th>1</th>\n",
       "      <td>NaN</td>\n",
       "      <td>NaN</td>\n",
       "      <td>NaN</td>\n",
       "      <td>NaN</td>\n",
       "      <td>NaN</td>\n",
       "      <td>NaN</td>\n",
       "      <td>NaN</td>\n",
       "      <td>NaN</td>\n",
       "      <td>NaN</td>\n",
       "      <td>NaN</td>\n",
       "      <td>...</td>\n",
       "      <td>NaN</td>\n",
       "      <td>NaN</td>\n",
       "      <td>NaN</td>\n",
       "      <td>NaN</td>\n",
       "      <td>NaN</td>\n",
       "      <td>NaN</td>\n",
       "      <td>NaN</td>\n",
       "      <td>NaN</td>\n",
       "      <td>NaN</td>\n",
       "      <td>NaN</td>\n",
       "    </tr>\n",
       "  </tbody>\n",
       "</table>\n",
       "<p>2 rows × 25 columns</p>\n",
       "</div>"
      ],
      "text/plain": [
       "    ID Acres county CropGrp CropTyp DataSrc ExctAcr IntlSrD Irrigtn LstSrvD  \\\n",
       "0  NaN   NaN    NaN     NaN     NaN     NaN     NaN     NaN     NaN     NaN   \n",
       "1  NaN   NaN    NaN     NaN     NaN     NaN     NaN     NaN     NaN     NaN   \n",
       "\n",
       "   ... image_year SF_year  doy  EVI human_system_start_time Date EVI_ratio  \\\n",
       "0  ...        NaN     NaN  NaN  NaN                     NaN  NaN       NaN   \n",
       "1  ...        NaN     NaN  NaN  NaN                     NaN  NaN       NaN   \n",
       "\n",
       "   SOS  EOS season_count  \n",
       "0  NaN  NaN          NaN  \n",
       "1  NaN  NaN          NaN  \n",
       "\n",
       "[2 rows x 25 columns]"
      ]
     },
     "execution_count": 35,
     "metadata": {},
     "output_type": "execute_result"
    }
   ],
   "source": [
    "all_poly_and_SEOS.head(2)"
   ]
  },
  {
   "cell_type": "code",
   "execution_count": 37,
   "metadata": {},
   "outputs": [
    {
     "data": {
      "text/html": [
       "<div>\n",
       "<style scoped>\n",
       "    .dataframe tbody tr th:only-of-type {\n",
       "        vertical-align: middle;\n",
       "    }\n",
       "\n",
       "    .dataframe tbody tr th {\n",
       "        vertical-align: top;\n",
       "    }\n",
       "\n",
       "    .dataframe thead th {\n",
       "        text-align: right;\n",
       "    }\n",
       "</style>\n",
       "<table border=\"1\" class=\"dataframe\">\n",
       "  <thead>\n",
       "    <tr style=\"text-align: right;\">\n",
       "      <th></th>\n",
       "      <th>Date</th>\n",
       "      <th>SF_year</th>\n",
       "      <th>doy</th>\n",
       "      <th>ID</th>\n",
       "      <th>Acres</th>\n",
       "      <th>county</th>\n",
       "      <th>CropGrp</th>\n",
       "      <th>CropTyp</th>\n",
       "      <th>DataSrc</th>\n",
       "      <th>ExctAcr</th>\n",
       "      <th>...</th>\n",
       "      <th>RtCrpTy</th>\n",
       "      <th>Shap_Ar</th>\n",
       "      <th>Shp_Lng</th>\n",
       "      <th>TRS</th>\n",
       "      <th>image_year</th>\n",
       "      <th>EVI</th>\n",
       "      <th>human_system_start_time</th>\n",
       "      <th>EVI_ratio</th>\n",
       "      <th>SOS</th>\n",
       "      <th>EOS</th>\n",
       "    </tr>\n",
       "  </thead>\n",
       "  <tbody>\n",
       "    <tr>\n",
       "      <th>0</th>\n",
       "      <td>2016-01-01</td>\n",
       "      <td>2016</td>\n",
       "      <td>1</td>\n",
       "      <td>79317_WSDA_SF_2016</td>\n",
       "      <td>17</td>\n",
       "      <td>Grant</td>\n",
       "      <td>Orchard</td>\n",
       "      <td>cherry</td>\n",
       "      <td>producer</td>\n",
       "      <td>17.452965</td>\n",
       "      <td>...</td>\n",
       "      <td>Apricot</td>\n",
       "      <td>70629.643479</td>\n",
       "      <td>1104.670379</td>\n",
       "      <td>T13R24E3</td>\n",
       "      <td>2016</td>\n",
       "      <td>0.365010</td>\n",
       "      <td>2016-01-01</td>\n",
       "      <td>0.268564</td>\n",
       "      <td>0.0</td>\n",
       "      <td>0.0</td>\n",
       "    </tr>\n",
       "    <tr>\n",
       "      <th>1</th>\n",
       "      <td>2016-01-02</td>\n",
       "      <td>2016</td>\n",
       "      <td>2</td>\n",
       "      <td>79317_WSDA_SF_2016</td>\n",
       "      <td>17</td>\n",
       "      <td>Grant</td>\n",
       "      <td>Orchard</td>\n",
       "      <td>cherry</td>\n",
       "      <td>producer</td>\n",
       "      <td>17.452965</td>\n",
       "      <td>...</td>\n",
       "      <td>Apricot</td>\n",
       "      <td>70629.643479</td>\n",
       "      <td>1104.670379</td>\n",
       "      <td>T13R24E3</td>\n",
       "      <td>2016</td>\n",
       "      <td>0.361829</td>\n",
       "      <td>2016-01-02</td>\n",
       "      <td>0.262589</td>\n",
       "      <td>0.0</td>\n",
       "      <td>0.0</td>\n",
       "    </tr>\n",
       "  </tbody>\n",
       "</table>\n",
       "<p>2 rows × 24 columns</p>\n",
       "</div>"
      ],
      "text/plain": [
       "        Date  SF_year  doy                  ID  Acres county  CropGrp CropTyp  \\\n",
       "0 2016-01-01     2016    1  79317_WSDA_SF_2016     17  Grant  Orchard  cherry   \n",
       "1 2016-01-02     2016    2  79317_WSDA_SF_2016     17  Grant  Orchard  cherry   \n",
       "\n",
       "    DataSrc    ExctAcr  ...  RtCrpTy       Shap_Ar      Shp_Lng       TRS  \\\n",
       "0  producer  17.452965  ...  Apricot  70629.643479  1104.670379  T13R24E3   \n",
       "1  producer  17.452965  ...  Apricot  70629.643479  1104.670379  T13R24E3   \n",
       "\n",
       "  image_year       EVI  human_system_start_time EVI_ratio  SOS  EOS  \n",
       "0       2016  0.365010               2016-01-01  0.268564  0.0  0.0  \n",
       "1       2016  0.361829               2016-01-02  0.262589  0.0  0.0  \n",
       "\n",
       "[2 rows x 24 columns]"
      ]
     },
     "execution_count": 37,
     "metadata": {},
     "output_type": "execute_result"
    }
   ],
   "source": [
    "fine_granular_table.head(2)"
   ]
  },
  {
   "cell_type": "code",
   "execution_count": null,
   "metadata": {},
   "outputs": [],
   "source": []
  },
  {
   "cell_type": "code",
   "execution_count": null,
   "metadata": {},
   "outputs": [],
   "source": []
  },
  {
   "cell_type": "code",
   "execution_count": null,
   "metadata": {},
   "outputs": [],
   "source": []
  },
  {
   "cell_type": "code",
   "execution_count": 14,
   "metadata": {},
   "outputs": [
    {
     "ename": "ValueError",
     "evalue": "could not broadcast input array from shape (1,22) into shape (1,25)",
     "output_type": "error",
     "traceback": [
      "\u001b[0;31m---------------------------------------------------------------------------\u001b[0m",
      "\u001b[0;31mValueError\u001b[0m                                Traceback (most recent call last)",
      "\u001b[0;32m<ipython-input-14-ccd08f4f9695>\u001b[0m in \u001b[0;36m<module>\u001b[0;34m\u001b[0m\n\u001b[1;32m     64\u001b[0m         \u001b[0maaa\u001b[0m \u001b[0;34m=\u001b[0m \u001b[0maaa\u001b[0m\u001b[0;34m.\u001b[0m\u001b[0mreshape\u001b[0m\u001b[0;34m(\u001b[0m\u001b[0;36m1\u001b[0m\u001b[0;34m,\u001b[0m \u001b[0mlen\u001b[0m\u001b[0;34m(\u001b[0m\u001b[0maaa\u001b[0m\u001b[0;34m)\u001b[0m\u001b[0;34m)\u001b[0m\u001b[0;34m\u001b[0m\u001b[0;34m\u001b[0m\u001b[0m\n\u001b[1;32m     65\u001b[0m \u001b[0;34m\u001b[0m\u001b[0m\n\u001b[0;32m---> 66\u001b[0;31m         \u001b[0mall_poly_and_SEOS\u001b[0m\u001b[0;34m.\u001b[0m\u001b[0miloc\u001b[0m\u001b[0;34m[\u001b[0m\u001b[0mpointer_SEOS_tab\u001b[0m\u001b[0;34m:\u001b[0m\u001b[0;34m(\u001b[0m\u001b[0mpointer_SEOS_tab\u001b[0m\u001b[0;34m+\u001b[0m\u001b[0;36m1\u001b[0m\u001b[0;34m)\u001b[0m\u001b[0;34m]\u001b[0m \u001b[0;34m=\u001b[0m \u001b[0maaa\u001b[0m\u001b[0;34m\u001b[0m\u001b[0;34m\u001b[0m\u001b[0m\n\u001b[0m\u001b[1;32m     67\u001b[0m         \u001b[0mpointer_SEOS_tab\u001b[0m \u001b[0;34m+=\u001b[0m \u001b[0;36m1\u001b[0m\u001b[0;34m\u001b[0m\u001b[0;34m\u001b[0m\u001b[0m\n\u001b[1;32m     68\u001b[0m \u001b[0;32melse\u001b[0m\u001b[0;34m:\u001b[0m \u001b[0;31m# here are potentially apples, cherries, etc.\u001b[0m\u001b[0;34m\u001b[0m\u001b[0;34m\u001b[0m\u001b[0m\n",
      "\u001b[0;32m~/opt/anaconda3/lib/python3.7/site-packages/pandas/core/indexing.py\u001b[0m in \u001b[0;36m__setitem__\u001b[0;34m(self, key, value)\u001b[0m\n\u001b[1;32m    669\u001b[0m             \u001b[0mkey\u001b[0m \u001b[0;34m=\u001b[0m \u001b[0mcom\u001b[0m\u001b[0;34m.\u001b[0m\u001b[0mapply_if_callable\u001b[0m\u001b[0;34m(\u001b[0m\u001b[0mkey\u001b[0m\u001b[0;34m,\u001b[0m \u001b[0mself\u001b[0m\u001b[0;34m.\u001b[0m\u001b[0mobj\u001b[0m\u001b[0;34m)\u001b[0m\u001b[0;34m\u001b[0m\u001b[0;34m\u001b[0m\u001b[0m\n\u001b[1;32m    670\u001b[0m         \u001b[0mindexer\u001b[0m \u001b[0;34m=\u001b[0m \u001b[0mself\u001b[0m\u001b[0;34m.\u001b[0m\u001b[0m_get_setitem_indexer\u001b[0m\u001b[0;34m(\u001b[0m\u001b[0mkey\u001b[0m\u001b[0;34m)\u001b[0m\u001b[0;34m\u001b[0m\u001b[0;34m\u001b[0m\u001b[0m\n\u001b[0;32m--> 671\u001b[0;31m         \u001b[0mself\u001b[0m\u001b[0;34m.\u001b[0m\u001b[0m_setitem_with_indexer\u001b[0m\u001b[0;34m(\u001b[0m\u001b[0mindexer\u001b[0m\u001b[0;34m,\u001b[0m \u001b[0mvalue\u001b[0m\u001b[0;34m)\u001b[0m\u001b[0;34m\u001b[0m\u001b[0;34m\u001b[0m\u001b[0m\n\u001b[0m\u001b[1;32m    672\u001b[0m \u001b[0;34m\u001b[0m\u001b[0m\n\u001b[1;32m    673\u001b[0m     \u001b[0;32mdef\u001b[0m \u001b[0m_validate_key\u001b[0m\u001b[0;34m(\u001b[0m\u001b[0mself\u001b[0m\u001b[0;34m,\u001b[0m \u001b[0mkey\u001b[0m\u001b[0;34m,\u001b[0m \u001b[0maxis\u001b[0m\u001b[0;34m:\u001b[0m \u001b[0mint\u001b[0m\u001b[0;34m)\u001b[0m\u001b[0;34m:\u001b[0m\u001b[0;34m\u001b[0m\u001b[0;34m\u001b[0m\u001b[0m\n",
      "\u001b[0;32m~/opt/anaconda3/lib/python3.7/site-packages/pandas/core/indexing.py\u001b[0m in \u001b[0;36m_setitem_with_indexer\u001b[0;34m(self, indexer, value)\u001b[0m\n\u001b[1;32m   1063\u001b[0m             \u001b[0;31m# actually do the set\u001b[0m\u001b[0;34m\u001b[0m\u001b[0;34m\u001b[0m\u001b[0;34m\u001b[0m\u001b[0m\n\u001b[1;32m   1064\u001b[0m             \u001b[0mself\u001b[0m\u001b[0;34m.\u001b[0m\u001b[0mobj\u001b[0m\u001b[0;34m.\u001b[0m\u001b[0m_consolidate_inplace\u001b[0m\u001b[0;34m(\u001b[0m\u001b[0;34m)\u001b[0m\u001b[0;34m\u001b[0m\u001b[0;34m\u001b[0m\u001b[0m\n\u001b[0;32m-> 1065\u001b[0;31m             \u001b[0mself\u001b[0m\u001b[0;34m.\u001b[0m\u001b[0mobj\u001b[0m\u001b[0;34m.\u001b[0m\u001b[0m_data\u001b[0m \u001b[0;34m=\u001b[0m \u001b[0mself\u001b[0m\u001b[0;34m.\u001b[0m\u001b[0mobj\u001b[0m\u001b[0;34m.\u001b[0m\u001b[0m_data\u001b[0m\u001b[0;34m.\u001b[0m\u001b[0msetitem\u001b[0m\u001b[0;34m(\u001b[0m\u001b[0mindexer\u001b[0m\u001b[0;34m=\u001b[0m\u001b[0mindexer\u001b[0m\u001b[0;34m,\u001b[0m \u001b[0mvalue\u001b[0m\u001b[0;34m=\u001b[0m\u001b[0mvalue\u001b[0m\u001b[0;34m)\u001b[0m\u001b[0;34m\u001b[0m\u001b[0;34m\u001b[0m\u001b[0m\n\u001b[0m\u001b[1;32m   1066\u001b[0m             \u001b[0mself\u001b[0m\u001b[0;34m.\u001b[0m\u001b[0mobj\u001b[0m\u001b[0;34m.\u001b[0m\u001b[0m_maybe_update_cacher\u001b[0m\u001b[0;34m(\u001b[0m\u001b[0mclear\u001b[0m\u001b[0;34m=\u001b[0m\u001b[0;32mTrue\u001b[0m\u001b[0;34m)\u001b[0m\u001b[0;34m\u001b[0m\u001b[0;34m\u001b[0m\u001b[0m\n\u001b[1;32m   1067\u001b[0m \u001b[0;34m\u001b[0m\u001b[0m\n",
      "\u001b[0;32m~/opt/anaconda3/lib/python3.7/site-packages/pandas/core/internals/managers.py\u001b[0m in \u001b[0;36msetitem\u001b[0;34m(self, **kwargs)\u001b[0m\n\u001b[1;32m    559\u001b[0m \u001b[0;34m\u001b[0m\u001b[0m\n\u001b[1;32m    560\u001b[0m     \u001b[0;32mdef\u001b[0m \u001b[0msetitem\u001b[0m\u001b[0;34m(\u001b[0m\u001b[0mself\u001b[0m\u001b[0;34m,\u001b[0m \u001b[0;34m**\u001b[0m\u001b[0mkwargs\u001b[0m\u001b[0;34m)\u001b[0m\u001b[0;34m:\u001b[0m\u001b[0;34m\u001b[0m\u001b[0;34m\u001b[0m\u001b[0m\n\u001b[0;32m--> 561\u001b[0;31m         \u001b[0;32mreturn\u001b[0m \u001b[0mself\u001b[0m\u001b[0;34m.\u001b[0m\u001b[0mapply\u001b[0m\u001b[0;34m(\u001b[0m\u001b[0;34m\"setitem\"\u001b[0m\u001b[0;34m,\u001b[0m \u001b[0;34m**\u001b[0m\u001b[0mkwargs\u001b[0m\u001b[0;34m)\u001b[0m\u001b[0;34m\u001b[0m\u001b[0;34m\u001b[0m\u001b[0m\n\u001b[0m\u001b[1;32m    562\u001b[0m \u001b[0;34m\u001b[0m\u001b[0m\n\u001b[1;32m    563\u001b[0m     \u001b[0;32mdef\u001b[0m \u001b[0mputmask\u001b[0m\u001b[0;34m(\u001b[0m\u001b[0mself\u001b[0m\u001b[0;34m,\u001b[0m \u001b[0;34m**\u001b[0m\u001b[0mkwargs\u001b[0m\u001b[0;34m)\u001b[0m\u001b[0;34m:\u001b[0m\u001b[0;34m\u001b[0m\u001b[0;34m\u001b[0m\u001b[0m\n",
      "\u001b[0;32m~/opt/anaconda3/lib/python3.7/site-packages/pandas/core/internals/managers.py\u001b[0m in \u001b[0;36mapply\u001b[0;34m(self, f, filter, **kwargs)\u001b[0m\n\u001b[1;32m    440\u001b[0m                 \u001b[0mapplied\u001b[0m \u001b[0;34m=\u001b[0m \u001b[0mb\u001b[0m\u001b[0;34m.\u001b[0m\u001b[0mapply\u001b[0m\u001b[0;34m(\u001b[0m\u001b[0mf\u001b[0m\u001b[0;34m,\u001b[0m \u001b[0;34m**\u001b[0m\u001b[0mkwargs\u001b[0m\u001b[0;34m)\u001b[0m\u001b[0;34m\u001b[0m\u001b[0;34m\u001b[0m\u001b[0m\n\u001b[1;32m    441\u001b[0m             \u001b[0;32melse\u001b[0m\u001b[0;34m:\u001b[0m\u001b[0;34m\u001b[0m\u001b[0;34m\u001b[0m\u001b[0m\n\u001b[0;32m--> 442\u001b[0;31m                 \u001b[0mapplied\u001b[0m \u001b[0;34m=\u001b[0m \u001b[0mgetattr\u001b[0m\u001b[0;34m(\u001b[0m\u001b[0mb\u001b[0m\u001b[0;34m,\u001b[0m \u001b[0mf\u001b[0m\u001b[0;34m)\u001b[0m\u001b[0;34m(\u001b[0m\u001b[0;34m**\u001b[0m\u001b[0mkwargs\u001b[0m\u001b[0;34m)\u001b[0m\u001b[0;34m\u001b[0m\u001b[0;34m\u001b[0m\u001b[0m\n\u001b[0m\u001b[1;32m    443\u001b[0m             \u001b[0mresult_blocks\u001b[0m \u001b[0;34m=\u001b[0m \u001b[0m_extend_blocks\u001b[0m\u001b[0;34m(\u001b[0m\u001b[0mapplied\u001b[0m\u001b[0;34m,\u001b[0m \u001b[0mresult_blocks\u001b[0m\u001b[0;34m)\u001b[0m\u001b[0;34m\u001b[0m\u001b[0;34m\u001b[0m\u001b[0m\n\u001b[1;32m    444\u001b[0m \u001b[0;34m\u001b[0m\u001b[0m\n",
      "\u001b[0;32m~/opt/anaconda3/lib/python3.7/site-packages/pandas/core/internals/blocks.py\u001b[0m in \u001b[0;36msetitem\u001b[0;34m(self, indexer, value)\u001b[0m\n\u001b[1;32m    918\u001b[0m         \u001b[0;31m# set\u001b[0m\u001b[0;34m\u001b[0m\u001b[0;34m\u001b[0m\u001b[0;34m\u001b[0m\u001b[0m\n\u001b[1;32m    919\u001b[0m         \u001b[0;32melse\u001b[0m\u001b[0;34m:\u001b[0m\u001b[0;34m\u001b[0m\u001b[0;34m\u001b[0m\u001b[0m\n\u001b[0;32m--> 920\u001b[0;31m             \u001b[0mvalues\u001b[0m\u001b[0;34m[\u001b[0m\u001b[0mindexer\u001b[0m\u001b[0;34m]\u001b[0m \u001b[0;34m=\u001b[0m \u001b[0mvalue\u001b[0m\u001b[0;34m\u001b[0m\u001b[0;34m\u001b[0m\u001b[0m\n\u001b[0m\u001b[1;32m    921\u001b[0m \u001b[0;34m\u001b[0m\u001b[0m\n\u001b[1;32m    922\u001b[0m         \u001b[0;32mif\u001b[0m \u001b[0mtranspose\u001b[0m\u001b[0;34m:\u001b[0m\u001b[0;34m\u001b[0m\u001b[0;34m\u001b[0m\u001b[0m\n",
      "\u001b[0;31mValueError\u001b[0m: could not broadcast input array from shape (1,22) into shape (1,25)"
     ]
    }
   ],
   "source": [
    "if y_orchard_range > 0.3:\n",
    "    #######################################################################\n",
    "    ###\n",
    "    ###             find SOS and EOS, and add them to the table\n",
    "    ###\n",
    "    #######################################################################\n",
    "\n",
    "    # create the full calenadr to make better estimation of SOS and EOS.\n",
    "    fine_granular_table = rc.create_calendar_table(SF_year = SF_year)\n",
    "    fine_granular_table = pd.merge(fine_granular_table, curr_field, on=['Date', 'SF_year', 'doy'], how='left')\n",
    "\n",
    "    ###### We need to fill the NAs that are created because they were not created in fine_granular_table\n",
    "    fine_granular_table[\"image_year\"] = curr_field[\"image_year\"].unique()[0]\n",
    "    fine_granular_table[\"ID\"] = curr_field[\"ID\"].unique()[0]\n",
    "    fine_granular_table[\"Acres\"] = curr_field[\"Acres\"].unique()[0]\n",
    "    fine_granular_table[\"county\"] = curr_field[\"county\"].unique()[0]\n",
    "\n",
    "    fine_granular_table[\"CropGrp\"] = curr_field[\"CropGrp\"].unique()[0]\n",
    "    fine_granular_table[\"CropTyp\"] = curr_field[\"CropTyp\"].unique()[0]\n",
    "    fine_granular_table[\"DataSrc\"] = curr_field[\"DataSrc\"].unique()[0]\n",
    "    fine_granular_table[\"ExctAcr\"] = curr_field[\"ExctAcr\"].unique()[0]\n",
    "\n",
    "    fine_granular_table[\"IntlSrD\"] = curr_field[\"IntlSrD\"].unique()[0]\n",
    "    fine_granular_table[\"Irrigtn\"] = curr_field[\"Irrigtn\"].unique()[0]\n",
    "\n",
    "    fine_granular_table[\"LstSrvD\"] = curr_field[\"LstSrvD\"].unique()[0]\n",
    "    fine_granular_table[\"Notes\"] = curr_field[\"Notes\"].unique()[0]\n",
    "    fine_granular_table[\"RtCrpTy\"] = curr_field[\"RtCrpTy\"].unique()[0]\n",
    "    fine_granular_table[\"Shap_Ar\"] = curr_field[\"Shap_Ar\"].unique()[0]\n",
    "    fine_granular_table[\"Shp_Lng\"] = curr_field[\"Shp_Lng\"].unique()[0]\n",
    "    fine_granular_table[\"TRS\"] = curr_field[\"TRS\"].unique()[0]\n",
    "\n",
    "    fine_granular_table = rc.add_human_start_time_by_YearDoY(fine_granular_table)\n",
    "\n",
    "    # replace NAs with -1.5. Because, that is what the function fill_theGap_linearLine()\n",
    "    # uses as indicator for missing values\n",
    "    fine_granular_table.fillna(value={indeks:-1.5}, inplace=True)\n",
    "    fine_granular_table = rc.fill_theGap_linearLine(regular_TS = fine_granular_table, V_idx=indeks, SF_year=SF_year)\n",
    "\n",
    "    fine_granular_table = rc.addToDF_SOS_EOS_White(pd_TS = fine_granular_table, \n",
    "                                          VegIdx = indeks, \n",
    "                                          onset_thresh = onset_cut, \n",
    "                                          offset_thresh = offset_cut)\n",
    "\n",
    "    ##\n",
    "    ##  Kill false detected seasons \n",
    "    ##\n",
    "    fine_granular_table = rc.Null_SOS_EOS_by_DoYDiff(pd_TS = fine_granular_table, min_season_length=40)\n",
    "\n",
    "    #\n",
    "    # extract the SOS and EOS rows \n",
    "    #\n",
    "    SEOS = fine_granular_table[(fine_granular_table['SOS'] != 0) | fine_granular_table['EOS'] != 0]\n",
    "    SEOS = SEOS.copy()\n",
    "    # SEOS = SEOS.reset_index() # not needed really\n",
    "    SOS_tb = fine_granular_table[fine_granular_table['SOS'] != 0]\n",
    "    if len(SOS_tb) >= 2:\n",
    "        SEOS[\"season_count\"] = len(SOS_tb)\n",
    "        all_poly_and_SEOS[pointer_SEOS_tab:(pointer_SEOS_tab+len(SEOS))] = SEOS.values\n",
    "        pointer_SEOS_tab += len(SEOS)\n",
    "    else:\n",
    "        aaa = curr_field.iloc[0].values.reshape(1, len(curr_field.iloc[0]))\n",
    "        aaa = np.append(aaa, [1])\n",
    "        aaa = aaa.reshape(1, len(aaa))\n",
    "\n",
    "        all_poly_and_SEOS.iloc[pointer_SEOS_tab:(pointer_SEOS_tab+1)] = aaa\n",
    "        pointer_SEOS_tab += 1\n",
    "else: # here are potentially apples, cherries, etc.\n",
    "    # we did not add EVI_ratio, SOS, and EOS. So, we are missing these\n",
    "    # columns in the data frame. So, use 666 as proxy\n",
    "    aaa = np.append(curr_field.iloc[0], [666, 666, 666, 1])\n",
    "    aaa = aaa.reshape(1, len(aaa))\n",
    "    all_poly_and_SEOS.iloc[pointer_SEOS_tab:(pointer_SEOS_tab+1)] = aaa\n",
    "    pointer_SEOS_tab += 1\n",
    "\n",
    "counter += 1"
   ]
  },
  {
   "cell_type": "code",
   "execution_count": null,
   "metadata": {},
   "outputs": [],
   "source": [
    "aaa.shape"
   ]
  },
  {
   "cell_type": "code",
   "execution_count": null,
   "metadata": {},
   "outputs": [],
   "source": [
    "all_poly_and_SEOS.shape"
   ]
  },
  {
   "cell_type": "code",
   "execution_count": 15,
   "metadata": {},
   "outputs": [
    {
     "data": {
      "text/plain": [
       "(366, 24)"
      ]
     },
     "execution_count": 15,
     "metadata": {},
     "output_type": "execute_result"
    }
   ],
   "source": [
    "fine_granular_table.shape"
   ]
  },
  {
   "cell_type": "code",
   "execution_count": 16,
   "metadata": {},
   "outputs": [
    {
     "data": {
      "text/plain": [
       "(2268144, 25)"
      ]
     },
     "execution_count": 16,
     "metadata": {},
     "output_type": "execute_result"
    }
   ],
   "source": [
    "all_poly_and_SEOS.shape"
   ]
  },
  {
   "cell_type": "code",
   "execution_count": null,
   "metadata": {},
   "outputs": [],
   "source": []
  },
  {
   "cell_type": "code",
   "execution_count": null,
   "metadata": {},
   "outputs": [],
   "source": []
  },
  {
   "cell_type": "code",
   "execution_count": null,
   "metadata": {},
   "outputs": [],
   "source": []
  },
  {
   "cell_type": "code",
   "execution_count": null,
   "metadata": {},
   "outputs": [],
   "source": []
  },
  {
   "cell_type": "code",
   "execution_count": null,
   "metadata": {},
   "outputs": [],
   "source": [
    "a_poly = polygon_list[1]\n",
    "\n",
    "curr_field = a_df[a_df['ID']==a_poly].copy()\n",
    "curr_field.reset_index(drop=True, inplace=True)\n",
    "\n",
    "if (not(\"human_system_start_time\" in list(curr_field.columns))):\n",
    "    curr_field = rc.add_human_start_time(curr_field)\n",
    "\n",
    "curr_field.sort_values(by=['human_system_start_time'], inplace=True)\n",
    "\n",
    "X = curr_field['doy']\n",
    "y = curr_field[indeks]\n"
   ]
  },
  {
   "cell_type": "code",
   "execution_count": null,
   "metadata": {},
   "outputs": [],
   "source": [
    "#######################################################################\n",
    "###\n",
    "###   Smoothen\n",
    "###\n",
    "SG_pred = scipy.signal.savgol_filter(y, window_length= SG_win_size, polyorder=SG_order)\n",
    "SG_pred[SG_pred > 1 ] = 1\n",
    "SG_pred[SG_pred < -1 ] = -1\n",
    "\n",
    "curr_field[indeks] = SG_pred\n",
    "\n",
    "\n",
    "curr_field = curr_field[curr_field.image_year == SF_year]\n",
    "curr_field.head(2)\n",
    "\n",
    "y_orchard = curr_field[curr_field['doy'] >= 122]\n",
    "y_orchard = y_orchard[y_orchard['doy'] <= 305]\n",
    "y_orchard_range = max(y_orchard[indeks]) - min(y_orchard[indeks])\n",
    "\n",
    "print (y_orchard_range)"
   ]
  },
  {
   "cell_type": "code",
   "execution_count": null,
   "metadata": {},
   "outputs": [],
   "source": [
    "curr_field.head(2)"
   ]
  },
  {
   "cell_type": "code",
   "execution_count": null,
   "metadata": {},
   "outputs": [],
   "source": [
    "fine_granular_table = rc.create_calendar_table(SF_year = SF_year)\n",
    "fine_granular_table.head(2)"
   ]
  },
  {
   "cell_type": "code",
   "execution_count": null,
   "metadata": {},
   "outputs": [],
   "source": []
  },
  {
   "cell_type": "code",
   "execution_count": null,
   "metadata": {},
   "outputs": [],
   "source": [
    "fine_granular_table = pd.merge(fine_granular_table, curr_field, on=['Date', 'SF_year', 'doy'], how='left')\n",
    "fine_granular_table.columns"
   ]
  },
  {
   "cell_type": "code",
   "execution_count": null,
   "metadata": {},
   "outputs": [],
   "source": [
    "fine_granular_table.head(2)"
   ]
  },
  {
   "cell_type": "code",
   "execution_count": null,
   "metadata": {},
   "outputs": [],
   "source": [
    "fine_granular_table[\"image_year\"] = curr_field[\"image_year\"].unique()[0]\n",
    "fine_granular_table[\"ID\"] = curr_field[\"ID\"].unique()[0]\n",
    "fine_granular_table[\"Acres\"] = curr_field[\"Acres\"].unique()[0]\n",
    "fine_granular_table[\"county\"] = curr_field[\"county\"].unique()[0]\n",
    "\n",
    "fine_granular_table[\"CropGrp\"] = curr_field[\"CropGrp\"].unique()[0]\n",
    "fine_granular_table[\"CropTyp\"] = curr_field[\"CropTyp\"].unique()[0]\n",
    "fine_granular_table[\"DataSrc\"] = curr_field[\"DataSrc\"].unique()[0]\n",
    "fine_granular_table[\"ExctAcr\"] = curr_field[\"ExctAcr\"].unique()[0]\n",
    "\n",
    "fine_granular_table[\"IntlSrD\"] = curr_field[\"IntlSrD\"].unique()[0]\n",
    "fine_granular_table[\"Irrigtn\"] = curr_field[\"Irrigtn\"].unique()[0]\n",
    "\n",
    "fine_granular_table[\"LstSrvD\"] = curr_field[\"LstSrvD\"].unique()[0]\n",
    "fine_granular_table[\"Notes\"] = curr_field[\"Notes\"].unique()[0]\n",
    "fine_granular_table[\"RtCrpTy\"] = curr_field[\"RtCrpTy\"].unique()[0]\n",
    "fine_granular_table[\"Shap_Ar\"] = curr_field[\"Shap_Ar\"].unique()[0]\n",
    "fine_granular_table[\"Shp_Lng\"] = curr_field[\"Shp_Lng\"].unique()[0]\n",
    "fine_granular_table[\"TRS\"] = curr_field[\"TRS\"].unique()[0]\n",
    "fine_granular_table.head(2)"
   ]
  },
  {
   "cell_type": "code",
   "execution_count": null,
   "metadata": {},
   "outputs": [],
   "source": [
    "fine_granular_table = rc.add_human_start_time_by_YearDoY(fine_granular_table)\n",
    "fine_granular_table.head(2)"
   ]
  },
  {
   "cell_type": "code",
   "execution_count": null,
   "metadata": {},
   "outputs": [],
   "source": [
    "# replace NAs with -1.5. Because, that is what the function fill_theGap_linearLine()\n",
    "# uses as indicator for missing values\n",
    "fine_granular_table.fillna(value={indeks:-1.5}, inplace=True)\n"
   ]
  },
  {
   "cell_type": "code",
   "execution_count": null,
   "metadata": {},
   "outputs": [],
   "source": [
    "fig, ax = plt.subplots(figsize=(8,3));\n",
    "plot_title = fine_granular_table.CropTyp.unique()[0]\n",
    "\n",
    "ax.plot(fine_granular_table['Date'], fine_granular_table['EVI'], c='r', label=\"EVI\")\n",
    "\n",
    "ax.scatter(fine_granular_table['Date'], fine_granular_table['EVI'], marker='o', s=25, c='b')\n",
    "\n",
    "ax.set_title(plot_title);\n",
    "ax.set(xlabel='DoY', ylabel='EVI')\n",
    "ax.legend(loc=\"best\");\n",
    "ax.grid(True)"
   ]
  },
  {
   "cell_type": "code",
   "execution_count": null,
   "metadata": {},
   "outputs": [],
   "source": [
    "fine_granular_table = rc.fill_theGap_linearLine(regular_TS = fine_granular_table, V_idx=indeks, SF_year=SF_year)"
   ]
  },
  {
   "cell_type": "code",
   "execution_count": null,
   "metadata": {},
   "outputs": [],
   "source": [
    "fig, ax = plt.subplots(figsize=(8,3));\n",
    "plot_title = fine_granular_table.CropTyp.unique()[0]\n",
    "\n",
    "ax.plot(fine_granular_table['Date'], fine_granular_table['EVI'], c='r', label=\"EVI\")\n",
    "\n",
    "ax.scatter(fine_granular_table['Date'], fine_granular_table['EVI'], marker='o', s=25, c='b')\n",
    "\n",
    "ax.set_title(plot_title);\n",
    "ax.set(xlabel='DoY', ylabel='EVI')\n",
    "ax.legend(loc=\"best\");\n",
    "ax.grid(True)"
   ]
  },
  {
   "cell_type": "code",
   "execution_count": null,
   "metadata": {},
   "outputs": [],
   "source": [
    "fine_granular_table = rc.addToDF_SOS_EOS_White(pd_TS = fine_granular_table, \n",
    "                                               VegIdx = indeks, \n",
    "                                               onset_thresh = onset_cut, \n",
    "                                               offset_thresh = offset_cut)\n",
    "\n",
    "##\n",
    "##  Kill false detected seasons \n",
    "##\n",
    "fine_granular_table = rc.Null_SOS_EOS_by_DoYDiff(pd_TS = fine_granular_table, min_season_length=40)"
   ]
  },
  {
   "cell_type": "code",
   "execution_count": null,
   "metadata": {},
   "outputs": [],
   "source": [
    "fig, ax = plt.subplots(figsize=(8,3));\n",
    "plot_title = fine_granular_table.CropTyp.unique()[0]\n",
    "\n",
    "ax.plot(fine_granular_table['Date'], fine_granular_table['EVI'], c='r', label=\"EVI\")\n",
    "ax.plot(fine_granular_table['Date'], fine_granular_table['EVI_ratio'], c='y', label=\"EVI_ratio\")\n",
    "\n",
    "\n",
    "ax.scatter(fine_granular_table['Date'], fine_granular_table['EVI'], marker='o', s=25, c='b')\n",
    "\n",
    "ax.set_title(plot_title);\n",
    "ax.set(xlabel='DoY', ylabel='EVI')\n",
    "ax.legend(loc=\"best\");\n",
    "ax.grid(True)"
   ]
  },
  {
   "cell_type": "code",
   "execution_count": null,
   "metadata": {},
   "outputs": [],
   "source": [
    "SEOS = fine_granular_table[(fine_granular_table['SOS'] != 0) | fine_granular_table['EOS'] != 0]\n",
    "SEOS = SEOS.copy()\n",
    "# SEOS = SEOS.reset_index() # not needed really\n",
    "SOS_tb = fine_granular_table[fine_granular_table['SOS'] != 0]\n",
    "EOS_tb = fine_granular_table[fine_granular_table['EOS'] != 0]"
   ]
  },
  {
   "cell_type": "code",
   "execution_count": null,
   "metadata": {},
   "outputs": [],
   "source": [
    "SEOS"
   ]
  },
  {
   "cell_type": "code",
   "execution_count": null,
   "metadata": {},
   "outputs": [],
   "source": [
    "fig, ax = plt.subplots(figsize=(8,3));\n",
    "plot_title = fine_granular_table.CropTyp.unique()[0]\n",
    "\n",
    "ax.plot(fine_granular_table['Date'], fine_granular_table['EVI'], c='r', label=\"EVI\")\n",
    "ax.plot(fine_granular_table['Date'], fine_granular_table['EVI_ratio'], c='y', label=\"EVI_ratio\")\n",
    "\n",
    "ax.scatter(fine_granular_table['Date'], fine_granular_table['EVI'], marker='o', s=25, c='b')\n",
    "\n",
    "ax.axhline(0 , color = 'r', linewidth=.5)\n",
    "ax.axhline(0.5 , color = 'r', linewidth=.5)\n",
    "ax.axhline(1 , color = 'r', linewidth=.5)\n",
    "\n",
    "ax.scatter(SOS_tb['Date'], SOS_tb['SOS'], marker='+', s=300, c='g')\n",
    "ax.scatter(EOS_tb['Date'], EOS_tb['EOS'], marker='+', s=300, c='g')\n",
    "# ax.axhline(-1, color = 'r', linewidth=.5)\n",
    "\n",
    "ax.set_title(plot_title);\n",
    "ax.set(xlabel='DoY', ylabel='EVI')\n",
    "ax.legend(loc=\"best\");\n",
    "ax.grid(True)"
   ]
  },
  {
   "cell_type": "code",
   "execution_count": null,
   "metadata": {},
   "outputs": [],
   "source": [
    "fine_granular_table.head(2)"
   ]
  },
  {
   "cell_type": "code",
   "execution_count": null,
   "metadata": {},
   "outputs": [],
   "source": []
  },
  {
   "cell_type": "code",
   "execution_count": null,
   "metadata": {},
   "outputs": [],
   "source": []
  },
  {
   "cell_type": "code",
   "execution_count": null,
   "metadata": {},
   "outputs": [],
   "source": [
    "regular_TS = fine_granular_table\n",
    "V_idx = indeks\n",
    "a_regularized_TS = regular_TS.copy()\n",
    "\n",
    "if (len(a_regularized_TS.image_year.unique()) == 2):\n",
    "    x_axis = extract_XValues_of_2Yrs_TS(regularized_TS = a_regularized_TS, SF_yr = SF_year)\n",
    "elif (len(a_regularized_TS.image_year.unique()) == 3):\n",
    "    x_axis = extract_XValues_of_3Yrs_TS(regularized_TS = a_regularized_TS, SF_yr = SF_year)\n",
    "elif (len(a_regularized_TS.image_year.unique()) == 1):\n",
    "    x_axis = a_regularized_TS[\"doy\"].copy()\n",
    "\n",
    "TS_array = a_regularized_TS[V_idx].copy().values\n",
    "\n",
    "\"\"\"\n",
    "TS_array[0] = -1.5\n",
    "TS_array[51] = -1.5\n",
    "TS_array[52] = -1.5\n",
    "TS_array[53] = -1.5\n",
    "TS_array.shape\n",
    "\"\"\"\n",
    "\n",
    "\"\"\"\n",
    "-1.5 is an indicator of missing values by Sentinel, i.e. a gap.\n",
    "The -1.5 was used as indicator in the function regularize_movingWindow_windowSteps_2Yrs()\n",
    "\"\"\"\n",
    "missing_indicies = np.where(TS_array == -1.5)[0]\n",
    "Notmissing_indicies = np.where(TS_array != -1.5)[0]"
   ]
  },
  {
   "cell_type": "code",
   "execution_count": null,
   "metadata": {},
   "outputs": [],
   "source": [
    "#\n",
    "#    Check if the first or last k values are missing\n",
    "#    if so, replace them with proper number and shorten the task\n",
    "#\n",
    "left_pointer = Notmissing_indicies[0]\n",
    "right_pointer = Notmissing_indicies[-1]\n"
   ]
  },
  {
   "cell_type": "code",
   "execution_count": null,
   "metadata": {},
   "outputs": [],
   "source": [
    "TS_array[0:5]"
   ]
  },
  {
   "cell_type": "code",
   "execution_count": null,
   "metadata": {},
   "outputs": [],
   "source": [
    "TS_array[360:]"
   ]
  },
  {
   "cell_type": "code",
   "execution_count": null,
   "metadata": {},
   "outputs": [],
   "source": [
    "if left_pointer > 0:\n",
    "    TS_array[:left_pointer] = TS_array[left_pointer]\n",
    "\n",
    "if right_pointer < (len(TS_array) - 1):\n",
    "    TS_array[right_pointer:] = TS_array[right_pointer]"
   ]
  },
  {
   "cell_type": "code",
   "execution_count": null,
   "metadata": {},
   "outputs": [],
   "source": [
    "\n",
    "#    \n",
    "# update indexes.\n",
    "#\n",
    "missing_indicies = np.where(TS_array == -1.5)[0]\n",
    "Notmissing_indicies = np.where(TS_array != -1.5)[0]"
   ]
  },
  {
   "cell_type": "code",
   "execution_count": null,
   "metadata": {},
   "outputs": [],
   "source": [
    "# left_pointer = Notmissing_indicies[0]\n",
    "stop = right_pointer\n",
    "right_pointer = left_pointer + 1"
   ]
  },
  {
   "cell_type": "code",
   "execution_count": null,
   "metadata": {},
   "outputs": [],
   "source": [
    "print (stop)\n",
    "print (right_pointer)"
   ]
  },
  {
   "cell_type": "code",
   "execution_count": null,
   "metadata": {},
   "outputs": [],
   "source": [
    "TS_array[0:4]"
   ]
  },
  {
   "cell_type": "code",
   "execution_count": null,
   "metadata": {},
   "outputs": [],
   "source": [
    "missing_indicies = np.where(TS_array == -1.5)[0]"
   ]
  },
  {
   "cell_type": "code",
   "execution_count": null,
   "metadata": {},
   "outputs": [],
   "source": []
  },
  {
   "cell_type": "code",
   "execution_count": null,
   "metadata": {},
   "outputs": [],
   "source": [
    "left_pointer = missing_indicies[0] - 1\n",
    "left_value = TS_array[left_pointer]\n",
    "right_pointer = missing_indicies[0]"
   ]
  },
  {
   "cell_type": "code",
   "execution_count": null,
   "metadata": {},
   "outputs": [],
   "source": [
    "print(left_pointer)\n",
    "print(right_pointer)"
   ]
  },
  {
   "cell_type": "code",
   "execution_count": null,
   "metadata": {},
   "outputs": [],
   "source": [
    "while TS_array[right_pointer] == -1.5:\n",
    "        right_pointer += 1"
   ]
  },
  {
   "cell_type": "code",
   "execution_count": null,
   "metadata": {},
   "outputs": [],
   "source": [
    "print(right_pointer)"
   ]
  },
  {
   "cell_type": "code",
   "execution_count": null,
   "metadata": {},
   "outputs": [],
   "source": [
    "TS_array[0:12]"
   ]
  },
  {
   "cell_type": "code",
   "execution_count": null,
   "metadata": {},
   "outputs": [],
   "source": [
    "right_value = TS_array[right_pointer]\n",
    "right_value"
   ]
  },
  {
   "cell_type": "code",
   "execution_count": null,
   "metadata": {},
   "outputs": [],
   "source": [
    "right_pointer - left_pointer"
   ]
  },
  {
   "cell_type": "code",
   "execution_count": null,
   "metadata": {},
   "outputs": [],
   "source": [
    "slope = (right_value - left_value) / (x_axis[right_pointer] - x_axis[left_pointer]) # a\n",
    "b = right_value - (slope * x_axis[right_pointer])\n",
    "TS_array[left_pointer+1 : right_pointer]"
   ]
  },
  {
   "cell_type": "code",
   "execution_count": null,
   "metadata": {},
   "outputs": [],
   "source": [
    "TS_array[left_pointer+1 : right_pointer] = slope * x_axis[left_pointer+1 : right_pointer] + b\n",
    "TS_array[0:12]"
   ]
  },
  {
   "cell_type": "code",
   "execution_count": null,
   "metadata": {},
   "outputs": [],
   "source": [
    "left_pointer = missing_indicies[0] - 1\n",
    "left_value = TS_array[left_pointer]\n",
    "right_pointer = missing_indicies[0]"
   ]
  },
  {
   "cell_type": "code",
   "execution_count": null,
   "metadata": {},
   "outputs": [],
   "source": [
    "print (left_pointer)\n",
    "print (right_pointer)"
   ]
  },
  {
   "cell_type": "code",
   "execution_count": null,
   "metadata": {},
   "outputs": [],
   "source": [
    "while TS_array[right_pointer] == -1.5:\n",
    "    right_pointer += 1\n",
    "right_value = TS_array[right_pointer]"
   ]
  },
  {
   "cell_type": "code",
   "execution_count": null,
   "metadata": {},
   "outputs": [],
   "source": [
    "print (left_pointer)\n",
    "print (right_pointer)"
   ]
  },
  {
   "cell_type": "code",
   "execution_count": null,
   "metadata": {},
   "outputs": [],
   "source": [
    "slope = (right_value - left_value) / (x_axis[right_pointer] - x_axis[left_pointer]) # a\n",
    "b = right_value - (slope * x_axis[right_pointer])"
   ]
  },
  {
   "cell_type": "code",
   "execution_count": null,
   "metadata": {},
   "outputs": [],
   "source": [
    "print (TS_array[left_pointer+1 : right_pointer])\n",
    "TS_array[left_pointer+1 : right_pointer] = slope * x_axis[left_pointer+1 : right_pointer] + b\n",
    "missing_indicies = np.where(TS_array == -1.5)[0]\n",
    "TS_array[left_pointer+1 : right_pointer]"
   ]
  },
  {
   "cell_type": "code",
   "execution_count": null,
   "metadata": {},
   "outputs": [],
   "source": [
    "TS_array[8 : 22]"
   ]
  },
  {
   "cell_type": "code",
   "execution_count": null,
   "metadata": {},
   "outputs": [],
   "source": [
    "right_pointer"
   ]
  },
  {
   "cell_type": "code",
   "execution_count": null,
   "metadata": {},
   "outputs": [],
   "source": []
  },
  {
   "cell_type": "code",
   "execution_count": null,
   "metadata": {},
   "outputs": [],
   "source": []
  },
  {
   "cell_type": "code",
   "execution_count": null,
   "metadata": {},
   "outputs": [],
   "source": [
    "while len(missing_indicies) > 0:\n",
    "    left_pointer = missing_indicies[0] - 1\n",
    "    left_value = TS_array[left_pointer]\n",
    "    right_pointer = missing_indicies[0]\n",
    "\n",
    "    while TS_array[right_pointer] == -1.5:\n",
    "        right_pointer += 1\n",
    "    right_value = TS_array[right_pointer]\n",
    "\n",
    "    if (right_pointer - left_pointer) == 2:\n",
    "        # if there is a single gap, then we have just average of the\n",
    "        # values\n",
    "        # Avoid extra computation!\n",
    "        #\n",
    "        TS_array[left_pointer + 1] = 0.5 * (TS_array[left_pointer] + TS_array[right_pointer])\n",
    "    else:\n",
    "        # form y= ax + b\n",
    "        slope = (right_value - left_value) / (x_axis[right_pointer] - x_axis[left_pointer]) # a\n",
    "        b = right_value - (slope * x_axis[right_pointer])\n",
    "        TS_array[left_pointer+1 : right_pointer] = slope * x_axis[left_pointer+1 : right_pointer] + b\n",
    "        missing_indicies = np.where(TS_array == -1.5)[0]\n",
    "\n",
    "\n",
    "a_regularized_TS[V_idx] = TS_array"
   ]
  },
  {
   "cell_type": "code",
   "execution_count": null,
   "metadata": {},
   "outputs": [],
   "source": []
  },
  {
   "cell_type": "code",
   "execution_count": null,
   "metadata": {},
   "outputs": [],
   "source": []
  },
  {
   "cell_type": "code",
   "execution_count": null,
   "metadata": {},
   "outputs": [],
   "source": []
  },
  {
   "cell_type": "code",
   "execution_count": null,
   "metadata": {},
   "outputs": [],
   "source": [
    "fine_granular_table = rc.fill_theGap_linearLine(regular_TS = fine_granular_table, V_idx=indeks, SF_year=SF_year)"
   ]
  },
  {
   "cell_type": "code",
   "execution_count": null,
   "metadata": {},
   "outputs": [],
   "source": [
    "fig, ax = plt.subplots(figsize=(8,3));\n",
    "plot_title = fine_granular_table.CropTyp.unique()[0]\n",
    "\n",
    "ax.plot(fine_granular_table['Date'], fine_granular_table['EVI'], c='r', label=\"EVI\")\n",
    "\n",
    "ax.scatter(fine_granular_table['Date'], fine_granular_table['EVI'], marker='o', s=25, c='b')\n",
    "\n",
    "ax.set_title(plot_title);\n",
    "ax.set(xlabel='DoY', ylabel='EVI')\n",
    "ax.legend(loc=\"best\");\n",
    "ax.grid(True)"
   ]
  },
  {
   "cell_type": "code",
   "execution_count": null,
   "metadata": {},
   "outputs": [],
   "source": []
  },
  {
   "cell_type": "code",
   "execution_count": null,
   "metadata": {},
   "outputs": [],
   "source": []
  },
  {
   "cell_type": "code",
   "execution_count": null,
   "metadata": {},
   "outputs": [],
   "source": []
  },
  {
   "cell_type": "code",
   "execution_count": null,
   "metadata": {},
   "outputs": [],
   "source": []
  },
  {
   "cell_type": "code",
   "execution_count": null,
   "metadata": {},
   "outputs": [],
   "source": []
  },
  {
   "cell_type": "code",
   "execution_count": null,
   "metadata": {},
   "outputs": [],
   "source": []
  },
  {
   "cell_type": "code",
   "execution_count": null,
   "metadata": {},
   "outputs": [],
   "source": []
  },
  {
   "cell_type": "code",
   "execution_count": null,
   "metadata": {},
   "outputs": [],
   "source": []
  },
  {
   "cell_type": "code",
   "execution_count": null,
   "metadata": {},
   "outputs": [],
   "source": []
  },
  {
   "cell_type": "code",
   "execution_count": null,
   "metadata": {},
   "outputs": [],
   "source": []
  },
  {
   "cell_type": "code",
   "execution_count": null,
   "metadata": {},
   "outputs": [],
   "source": []
  },
  {
   "cell_type": "code",
   "execution_count": null,
   "metadata": {},
   "outputs": [],
   "source": []
  },
  {
   "cell_type": "code",
   "execution_count": null,
   "metadata": {},
   "outputs": [],
   "source": []
  },
  {
   "cell_type": "code",
   "execution_count": null,
   "metadata": {},
   "outputs": [],
   "source": [
    "fine_granular_table = rc.addToDF_SOS_EOS_White(pd_TS = fine_granular_table, \n",
    "                                               VegIdx = indeks, \n",
    "                                               onset_thresh = onset_cut, \n",
    "                                               offset_thresh = offset_cut)"
   ]
  },
  {
   "cell_type": "code",
   "execution_count": null,
   "metadata": {},
   "outputs": [],
   "source": [
    "print(np.array(fine_granular_table.SOS))"
   ]
  },
  {
   "cell_type": "code",
   "execution_count": null,
   "metadata": {},
   "outputs": [],
   "source": [
    "fine_granular_table = rc.addToDF_SOS_EOS_White(pd_TS = fine_granular_table, \n",
    "                                               VegIdx = indeks, \n",
    "                                               onset_thresh = onset_cut, \n",
    "                                               offset_thresh = offset_cut)\n",
    "\n",
    "##\n",
    "##  Kill false detected seasons \n",
    "##\n",
    "fine_granular_table = rc.Null_SOS_EOS_by_DoYDiff(pd_TS = fine_granular_table, min_season_length=40)"
   ]
  },
  {
   "cell_type": "code",
   "execution_count": null,
   "metadata": {},
   "outputs": [],
   "source": [
    "SEOS = fine_granular_table[(fine_granular_table['SOS'] != 0) | fine_granular_table['EOS'] != 0]\n",
    "SEOS = SEOS.copy()\n",
    "# SEOS = SEOS.reset_index() # not needed really\n",
    "SOS_tb = fine_granular_table[fine_granular_table['SOS'] != 0]"
   ]
  },
  {
   "cell_type": "code",
   "execution_count": null,
   "metadata": {},
   "outputs": [],
   "source": [
    "fine_granular_table"
   ]
  },
  {
   "cell_type": "code",
   "execution_count": null,
   "metadata": {},
   "outputs": [],
   "source": []
  },
  {
   "cell_type": "code",
   "execution_count": null,
   "metadata": {},
   "outputs": [],
   "source": [
    "def fill_theGap_linearLine(regular_TS, V_idx, SF_year):\n",
    "\n",
    "    a_regularized_TS = regular_TS.copy()\n",
    "\n",
    "    if (len(a_regularized_TS.image_year.unique()) == 2):\n",
    "        x_axis = extract_XValues_of_2Yrs_TS(regularized_TS = a_regularized_TS, SF_yr = SF_year)\n",
    "    elif (len(a_regularized_TS.image_year.unique()) == 3):\n",
    "        x_axis = extract_XValues_of_3Yrs_TS(regularized_TS = a_regularized_TS, SF_yr = SF_year)\n",
    "    elif (len(a_regularized_TS.image_year.unique()) == 1):\n",
    "        x_axis = a_regularized_TS[\"doy\"].copy()\n",
    "\n",
    "    TS_array = a_regularized_TS[V_idx].copy().values\n",
    "\n",
    "    \"\"\"\n",
    "    TS_array[0] = -1.5\n",
    "    TS_array[51] = -1.5\n",
    "    TS_array[52] = -1.5\n",
    "    TS_array[53] = -1.5\n",
    "    TS_array.shape\n",
    "    \"\"\"\n",
    "\n",
    "    \"\"\"\n",
    "    -1.5 is an indicator of missing values by Sentinel, i.e. a gap.\n",
    "    The -1.5 was used as indicator in the function regularize_movingWindow_windowSteps_2Yrs()\n",
    "    \"\"\"\n",
    "    missing_indicies = np.where(TS_array == -1.5)[0]\n",
    "    Notmissing_indicies = np.where(TS_array != -1.5)[0]\n",
    "\n",
    "    #\n",
    "    #    Check if the first or last k values are missing\n",
    "    #    if so, replace them with proper number and shorten the task\n",
    "    #\n",
    "    left_pointer = Notmissing_indicies[0]\n",
    "    right_pointer = Notmissing_indicies[-1]\n",
    "\n",
    "    if left_pointer > 0:\n",
    "        TS_array[:left_pointer] = TS_array[left_pointer]\n",
    "\n",
    "    if right_pointer < (len(TS_array) - 1):\n",
    "        TS_array[right_pointer:] = TS_array[right_pointer]\n",
    "    #    \n",
    "    # update indexes.\n",
    "    #\n",
    "    missing_indicies = np.where(TS_array == -1.5)[0]\n",
    "    Notmissing_indicies = np.where(TS_array != -1.5)[0]\n",
    "\n",
    "    # left_pointer = Notmissing_indicies[0]\n",
    "    stop = right_pointer\n",
    "    right_pointer = left_pointer + 1\n",
    "\n",
    "    missing_indicies = np.where(TS_array == -1.5)[0]\n",
    "\n",
    "    while len(missing_indicies) > 0:\n",
    "        left_pointer = missing_indicies[0] - 1\n",
    "        left_value = TS_array[left_pointer]\n",
    "        \n",
    "        right_pointer = missing_indicies[0]\n",
    "        \n",
    "        while TS_array[right_pointer] == -1.5:\n",
    "            right_pointer += 1\n",
    "        \n",
    "        right_value = TS_array[right_pointer]\n",
    "        \n",
    "        if (right_pointer - left_pointer) == 2:\n",
    "            # if there is a single gap, then we have just average of the\n",
    "            # values\n",
    "            # Avoid extra computation!\n",
    "            #\n",
    "            TS_array[left_pointer + 1] = 0.5 * (TS_array[left_pointer] + TS_array[right_pointer])\n",
    "        else:\n",
    "            # form y= ax + b\n",
    "            slope = (right_value - left_value) / (x_axis[right_pointer] - x_axis[left_pointer]) # a\n",
    "            b = right_value - (slope * x_axis[right_pointer])\n",
    "            TS_array[left_pointer+1 : right_pointer] = slope * x_axis[left_pointer+1 : right_pointer] + b\n",
    "            missing_indicies = np.where(TS_array == -1.5)[0]\n",
    "            \n",
    "        \n",
    "    a_regularized_TS[V_idx] = TS_array\n",
    "    return (a_regularized_TS)\n"
   ]
  },
  {
   "cell_type": "code",
   "execution_count": null,
   "metadata": {},
   "outputs": [],
   "source": [
    "import numpy as np\n",
    "\n",
    "array = [1, 2, 1, 3, 4, 5, 1]\n",
    "item = 1\n",
    "np_array = np.array(array)\n",
    "item_index = np.where(np_array==item)\n",
    "print (item_index)"
   ]
  },
  {
   "cell_type": "code",
   "execution_count": null,
   "metadata": {},
   "outputs": [],
   "source": [
    "TS_array = np.array(TS_array)\n",
    "item_index = np.where(TS_array == -1.5)\n",
    "print (item_index)"
   ]
  },
  {
   "cell_type": "code",
   "execution_count": null,
   "metadata": {},
   "outputs": [],
   "source": [
    "TS_array[2]"
   ]
  },
  {
   "cell_type": "code",
   "execution_count": null,
   "metadata": {},
   "outputs": [],
   "source": [
    "TS_array[0:10]"
   ]
  },
  {
   "cell_type": "code",
   "execution_count": null,
   "metadata": {},
   "outputs": [],
   "source": []
  }
 ],
 "metadata": {
  "kernelspec": {
   "display_name": "Python 3",
   "language": "python",
   "name": "python3"
  },
  "language_info": {
   "codemirror_mode": {
    "name": "ipython",
    "version": 3
   },
   "file_extension": ".py",
   "mimetype": "text/x-python",
   "name": "python",
   "nbconvert_exporter": "python",
   "pygments_lexer": "ipython3",
   "version": "3.7.4"
  }
 },
 "nbformat": 4,
 "nbformat_minor": 2
}
