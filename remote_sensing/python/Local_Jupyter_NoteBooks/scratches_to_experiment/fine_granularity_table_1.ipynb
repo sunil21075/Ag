{
 "cells": [
  {
   "cell_type": "code",
   "execution_count": 1,
   "metadata": {},
   "outputs": [
    {
     "name": "stderr",
     "output_type": "stream",
     "text": [
      "/Users/hn/opt/anaconda3/lib/python3.7/site-packages/statsmodels/tools/_testing.py:19: FutureWarning: pandas.util.testing is deprecated. Use the functions in the public API at pandas.testing instead.\n",
      "  import pandas.util.testing as tm\n"
     ]
    }
   ],
   "source": [
    "import csv\n",
    "import numpy as np\n",
    "import pandas as pd\n",
    "# import geopandas as gpd\n",
    "from IPython.display import Image\n",
    "# from shapely.geometry import Point, Polygon\n",
    "from math import factorial\n",
    "import datetime\n",
    "import time\n",
    "import scipy\n",
    "import scipy.signal\n",
    "import os, os.path\n",
    "\n",
    "from statsmodels.sandbox.regression.predstd import wls_prediction_std\n",
    "from sklearn.linear_model import LinearRegression\n",
    "from patsy import cr\n",
    "\n",
    "# from pprint import pprint\n",
    "import matplotlib.pyplot as plt\n",
    "import seaborn as sb\n",
    "\n",
    "\n",
    "import sys\n",
    "start_time = time.time()"
   ]
  },
  {
   "cell_type": "code",
   "execution_count": 2,
   "metadata": {},
   "outputs": [],
   "source": [
    "sys.path.append('/Users/hn/Documents/00_GitHub/Ag/remote_sensing/python/')\n",
    "\n",
    "import remote_sensing_core as rc\n",
    "import remote_sensing_plot_core as rcp\n",
    "\n",
    "data_dir = \"/Users/hn/Documents/01_research_data/remote_sensing/test_Aeolus_data/\"\n",
    "f_name = \"01_Regular_filledGap_Grant_SF_2017_EVI.csv\"\n"
   ]
  },
  {
   "cell_type": "code",
   "execution_count": 4,
   "metadata": {},
   "outputs": [],
   "source": [
    "given_county = \"Grant\"\n",
    "SF_year = 2017\n",
    "indeks = \"EVI\"\n",
    "SG_params = 51\n",
    "delt = 0.4\n",
    "\n",
    "onset_cut = 0.5\n",
    "offset_cut = 0.5\n",
    "\n",
    "regularized = True\n"
   ]
  },
  {
   "cell_type": "code",
   "execution_count": 5,
   "metadata": {},
   "outputs": [
    {
     "name": "stdout",
     "output_type": "stream",
     "text": [
      "SG_params is 51.\n",
      "SG_win_size is 5 and SG_order is 1.\n"
     ]
    }
   ],
   "source": [
    "SG_win_size = int(SG_params / 10) # grab the first digit as window size\n",
    "SG_order = SG_params % 10 # grab the second digit as poly. order\n",
    "\n",
    "print(\"SG_params is {}.\".format(SG_params))\n",
    "print(\"SG_win_size is {} and SG_order is {}.\".format(SG_win_size, SG_order))\n"
   ]
  },
  {
   "cell_type": "code",
   "execution_count": 6,
   "metadata": {},
   "outputs": [],
   "source": [
    "a_df = pd.read_csv(data_dir + f_name, low_memory=False)\n",
    "a_df = a_df[a_df['image_year'] == SF_year] \n"
   ]
  },
  {
   "cell_type": "code",
   "execution_count": 7,
   "metadata": {},
   "outputs": [],
   "source": [
    "a_df['Date'] = pd.to_datetime(a_df.Date.values).values\n",
    "if \"human_system_start_time\" in list(a_df.columns):\n",
    "    a_df['human_system_start_time'] = pd.to_datetime(a_df.human_system_start_time.values).values"
   ]
  },
  {
   "cell_type": "code",
   "execution_count": 8,
   "metadata": {},
   "outputs": [],
   "source": [
    "a_df = a_df[a_df['county']== given_county.replace(\"_\", \" \")] # Filter the given county; given_county\n",
    "a_df.reset_index(drop=True, inplace=True)"
   ]
  },
  {
   "cell_type": "code",
   "execution_count": null,
   "metadata": {},
   "outputs": [],
   "source": []
  },
  {
   "cell_type": "code",
   "execution_count": 9,
   "metadata": {},
   "outputs": [],
   "source": [
    "if not('DataSrc' in a_df.columns):\n",
    "    print (\"_________________________________________________________\")\n",
    "    print (\"Data source is being set to NA\")\n",
    "    a_df['DataSrc'] = \"NA\"\n",
    "\n",
    "a_df = rc.initial_clean(df = a_df, column_to_be_cleaned = indeks)\n",
    "a_df = a_df.copy()"
   ]
  },
  {
   "cell_type": "code",
   "execution_count": 10,
   "metadata": {},
   "outputs": [
    {
     "name": "stdout",
     "output_type": "stream",
     "text": [
      "_________________________________________________________\n",
      "polygon_list is of length 17705.\n"
     ]
    }
   ],
   "source": [
    "polygon_list = a_df['ID'].unique()\n",
    "\n",
    "print (\"_________________________________________________________\")\n",
    "print(\"polygon_list is of length {}.\".format(len(polygon_list)))\n",
    "\n",
    "\n",
    "# \n",
    "# 25 columns\n",
    "#\n",
    "SEOS_output_columns = ['ID', 'Acres', 'county', 'CropGrp', 'CropTyp', 'DataSrc', 'ExctAcr',\n",
    "                       'IntlSrD', 'Irrigtn', 'LstSrvD', 'Notes', 'RtCrpTy', 'Shap_Ar',\n",
    "                       'Shp_Lng', 'TRS', 'image_year', 'SF_year', 'doy', 'EVI',\n",
    "                       'human_system_start_time', 'Date', \n",
    "                       'EVI_ratio', 'SOS', 'EOS', 'season_count']\n",
    "\n",
    "#\n",
    "# The reason I am multiplying len(a_df) by 4 is that we can have at least two\n",
    "# seasons which means 2 SOS and 2 EOS. So, at least 4 rows are needed.\n",
    "#\n",
    "all_poly_and_SEOS = pd.DataFrame(data = None, \n",
    "                                 index = np.arange(4*len(a_df)), \n",
    "                                 columns = SEOS_output_columns)\n",
    "\n",
    "\n",
    "counter = 0\n",
    "pointer_SEOS_tab = 0"
   ]
  },
  {
   "cell_type": "code",
   "execution_count": 11,
   "metadata": {},
   "outputs": [],
   "source": [
    "###########\n",
    "###########  Re-order columns of the read data table to be consistent with the output columns\n",
    "###########\n",
    "a_df = a_df[SEOS_output_columns[0:21]]"
   ]
  },
  {
   "cell_type": "code",
   "execution_count": 12,
   "metadata": {},
   "outputs": [],
   "source": [
    "a_poly = polygon_list[1]\n",
    "\n",
    "curr_field = a_df[a_df['ID']==a_poly].copy()\n",
    "curr_field.reset_index(drop=True, inplace=True)\n",
    "\n",
    "if (not(\"human_system_start_time\" in list(curr_field.columns))):\n",
    "    curr_field = rc.add_human_start_time(curr_field)\n",
    "\n",
    "curr_field.sort_values(by=['human_system_start_time'], inplace=True)\n",
    "\n",
    "X = curr_field['doy']\n",
    "y = curr_field[indeks]\n"
   ]
  },
  {
   "cell_type": "code",
   "execution_count": 13,
   "metadata": {},
   "outputs": [
    {
     "name": "stdout",
     "output_type": "stream",
     "text": [
      "0.22275684152121877\n"
     ]
    }
   ],
   "source": [
    "#######################################################################\n",
    "###\n",
    "###   Smoothen\n",
    "###\n",
    "\n",
    "SG_pred = scipy.signal.savgol_filter(y, window_length= SG_win_size, polyorder=SG_order)\n",
    "SG_pred[SG_pred > 1 ] = 1\n",
    "SG_pred[SG_pred < -1 ] = -1\n",
    "\n",
    "curr_field[indeks] = SG_pred\n",
    "\n",
    "y_orchard = curr_field[curr_field['doy'] >= 122]\n",
    "y_orchard = y_orchard[y_orchard['doy'] <= 305]\n",
    "y_orchard_range = max(y_orchard[indeks]) - min(y_orchard[indeks])\n",
    "\n",
    "print (y_orchard_range)"
   ]
  },
  {
   "cell_type": "code",
   "execution_count": 14,
   "metadata": {},
   "outputs": [
    {
     "data": {
      "text/html": [
       "<div>\n",
       "<style scoped>\n",
       "    .dataframe tbody tr th:only-of-type {\n",
       "        vertical-align: middle;\n",
       "    }\n",
       "\n",
       "    .dataframe tbody tr th {\n",
       "        vertical-align: top;\n",
       "    }\n",
       "\n",
       "    .dataframe thead th {\n",
       "        text-align: right;\n",
       "    }\n",
       "</style>\n",
       "<table border=\"1\" class=\"dataframe\">\n",
       "  <thead>\n",
       "    <tr style=\"text-align: right;\">\n",
       "      <th></th>\n",
       "      <th>ID</th>\n",
       "      <th>Acres</th>\n",
       "      <th>county</th>\n",
       "      <th>CropGrp</th>\n",
       "      <th>CropTyp</th>\n",
       "      <th>DataSrc</th>\n",
       "      <th>ExctAcr</th>\n",
       "      <th>IntlSrD</th>\n",
       "      <th>Irrigtn</th>\n",
       "      <th>LstSrvD</th>\n",
       "      <th>...</th>\n",
       "      <th>RtCrpTy</th>\n",
       "      <th>Shap_Ar</th>\n",
       "      <th>Shp_Lng</th>\n",
       "      <th>TRS</th>\n",
       "      <th>image_year</th>\n",
       "      <th>SF_year</th>\n",
       "      <th>doy</th>\n",
       "      <th>EVI</th>\n",
       "      <th>human_system_start_time</th>\n",
       "      <th>Date</th>\n",
       "    </tr>\n",
       "  </thead>\n",
       "  <tbody>\n",
       "    <tr>\n",
       "      <th>0</th>\n",
       "      <td>108538_WSDA_SF_2017</td>\n",
       "      <td>73.0</td>\n",
       "      <td>Grant</td>\n",
       "      <td>Orchard</td>\n",
       "      <td>apple</td>\n",
       "      <td>wsda</td>\n",
       "      <td>72.617809</td>\n",
       "      <td>2006/08/31</td>\n",
       "      <td>micro-sprinkler</td>\n",
       "      <td>2017/04/24</td>\n",
       "      <td>...</td>\n",
       "      <td>NaN</td>\n",
       "      <td>293873.845089</td>\n",
       "      <td>3557.668759</td>\n",
       "      <td>T13R24E4</td>\n",
       "      <td>2017</td>\n",
       "      <td>2017</td>\n",
       "      <td>1</td>\n",
       "      <td>0.351753</td>\n",
       "      <td>2017-01-01</td>\n",
       "      <td>2017-01-01</td>\n",
       "    </tr>\n",
       "    <tr>\n",
       "      <th>1</th>\n",
       "      <td>108538_WSDA_SF_2017</td>\n",
       "      <td>73.0</td>\n",
       "      <td>Grant</td>\n",
       "      <td>Orchard</td>\n",
       "      <td>apple</td>\n",
       "      <td>wsda</td>\n",
       "      <td>72.617809</td>\n",
       "      <td>2006/08/31</td>\n",
       "      <td>micro-sprinkler</td>\n",
       "      <td>2017/04/24</td>\n",
       "      <td>...</td>\n",
       "      <td>NaN</td>\n",
       "      <td>293873.845089</td>\n",
       "      <td>3557.668759</td>\n",
       "      <td>T13R24E4</td>\n",
       "      <td>2017</td>\n",
       "      <td>2017</td>\n",
       "      <td>11</td>\n",
       "      <td>0.328086</td>\n",
       "      <td>2017-01-11</td>\n",
       "      <td>2017-01-11</td>\n",
       "    </tr>\n",
       "  </tbody>\n",
       "</table>\n",
       "<p>2 rows × 21 columns</p>\n",
       "</div>"
      ],
      "text/plain": [
       "                    ID  Acres county  CropGrp CropTyp DataSrc    ExctAcr  \\\n",
       "0  108538_WSDA_SF_2017   73.0  Grant  Orchard   apple    wsda  72.617809   \n",
       "1  108538_WSDA_SF_2017   73.0  Grant  Orchard   apple    wsda  72.617809   \n",
       "\n",
       "      IntlSrD          Irrigtn     LstSrvD  ... RtCrpTy        Shap_Ar  \\\n",
       "0  2006/08/31  micro-sprinkler  2017/04/24  ...     NaN  293873.845089   \n",
       "1  2006/08/31  micro-sprinkler  2017/04/24  ...     NaN  293873.845089   \n",
       "\n",
       "       Shp_Lng       TRS image_year  SF_year  doy       EVI  \\\n",
       "0  3557.668759  T13R24E4       2017     2017    1  0.351753   \n",
       "1  3557.668759  T13R24E4       2017     2017   11  0.328086   \n",
       "\n",
       "   human_system_start_time       Date  \n",
       "0               2017-01-01 2017-01-01  \n",
       "1               2017-01-11 2017-01-11  \n",
       "\n",
       "[2 rows x 21 columns]"
      ]
     },
     "execution_count": 14,
     "metadata": {},
     "output_type": "execute_result"
    }
   ],
   "source": [
    "curr_field.head(2)"
   ]
  },
  {
   "cell_type": "code",
   "execution_count": 27,
   "metadata": {},
   "outputs": [
    {
     "data": {
      "text/html": [
       "<div>\n",
       "<style scoped>\n",
       "    .dataframe tbody tr th:only-of-type {\n",
       "        vertical-align: middle;\n",
       "    }\n",
       "\n",
       "    .dataframe tbody tr th {\n",
       "        vertical-align: top;\n",
       "    }\n",
       "\n",
       "    .dataframe thead th {\n",
       "        text-align: right;\n",
       "    }\n",
       "</style>\n",
       "<table border=\"1\" class=\"dataframe\">\n",
       "  <thead>\n",
       "    <tr style=\"text-align: right;\">\n",
       "      <th></th>\n",
       "      <th>Date</th>\n",
       "      <th>SF_year</th>\n",
       "      <th>doy</th>\n",
       "    </tr>\n",
       "  </thead>\n",
       "  <tbody>\n",
       "    <tr>\n",
       "      <th>0</th>\n",
       "      <td>2017-01-01</td>\n",
       "      <td>2017</td>\n",
       "      <td>1</td>\n",
       "    </tr>\n",
       "    <tr>\n",
       "      <th>1</th>\n",
       "      <td>2017-01-02</td>\n",
       "      <td>2017</td>\n",
       "      <td>2</td>\n",
       "    </tr>\n",
       "  </tbody>\n",
       "</table>\n",
       "</div>"
      ],
      "text/plain": [
       "        Date  SF_year  doy\n",
       "0 2017-01-01     2017    1\n",
       "1 2017-01-02     2017    2"
      ]
     },
     "execution_count": 27,
     "metadata": {},
     "output_type": "execute_result"
    }
   ],
   "source": [
    "fine_granular_table = rc.create_calendar_table(SF_year = SF_year)\n",
    "fine_granular_table.head(2)"
   ]
  },
  {
   "cell_type": "code",
   "execution_count": 28,
   "metadata": {},
   "outputs": [
    {
     "data": {
      "text/html": [
       "<div>\n",
       "<style scoped>\n",
       "    .dataframe tbody tr th:only-of-type {\n",
       "        vertical-align: middle;\n",
       "    }\n",
       "\n",
       "    .dataframe tbody tr th {\n",
       "        vertical-align: top;\n",
       "    }\n",
       "\n",
       "    .dataframe thead th {\n",
       "        text-align: right;\n",
       "    }\n",
       "</style>\n",
       "<table border=\"1\" class=\"dataframe\">\n",
       "  <thead>\n",
       "    <tr style=\"text-align: right;\">\n",
       "      <th></th>\n",
       "      <th>ID</th>\n",
       "      <th>Acres</th>\n",
       "      <th>county</th>\n",
       "      <th>CropGrp</th>\n",
       "      <th>CropTyp</th>\n",
       "      <th>DataSrc</th>\n",
       "      <th>ExctAcr</th>\n",
       "      <th>IntlSrD</th>\n",
       "      <th>Irrigtn</th>\n",
       "      <th>LstSrvD</th>\n",
       "      <th>...</th>\n",
       "      <th>RtCrpTy</th>\n",
       "      <th>Shap_Ar</th>\n",
       "      <th>Shp_Lng</th>\n",
       "      <th>TRS</th>\n",
       "      <th>image_year</th>\n",
       "      <th>SF_year</th>\n",
       "      <th>doy</th>\n",
       "      <th>EVI</th>\n",
       "      <th>human_system_start_time</th>\n",
       "      <th>Date</th>\n",
       "    </tr>\n",
       "  </thead>\n",
       "  <tbody>\n",
       "    <tr>\n",
       "      <th>0</th>\n",
       "      <td>108538_WSDA_SF_2017</td>\n",
       "      <td>73.0</td>\n",
       "      <td>Grant</td>\n",
       "      <td>Orchard</td>\n",
       "      <td>apple</td>\n",
       "      <td>wsda</td>\n",
       "      <td>72.617809</td>\n",
       "      <td>2006/08/31</td>\n",
       "      <td>micro-sprinkler</td>\n",
       "      <td>2017/04/24</td>\n",
       "      <td>...</td>\n",
       "      <td>NaN</td>\n",
       "      <td>293873.845089</td>\n",
       "      <td>3557.668759</td>\n",
       "      <td>T13R24E4</td>\n",
       "      <td>2017</td>\n",
       "      <td>2017</td>\n",
       "      <td>1</td>\n",
       "      <td>0.351753</td>\n",
       "      <td>2017-01-01</td>\n",
       "      <td>2017-01-01</td>\n",
       "    </tr>\n",
       "    <tr>\n",
       "      <th>1</th>\n",
       "      <td>108538_WSDA_SF_2017</td>\n",
       "      <td>73.0</td>\n",
       "      <td>Grant</td>\n",
       "      <td>Orchard</td>\n",
       "      <td>apple</td>\n",
       "      <td>wsda</td>\n",
       "      <td>72.617809</td>\n",
       "      <td>2006/08/31</td>\n",
       "      <td>micro-sprinkler</td>\n",
       "      <td>2017/04/24</td>\n",
       "      <td>...</td>\n",
       "      <td>NaN</td>\n",
       "      <td>293873.845089</td>\n",
       "      <td>3557.668759</td>\n",
       "      <td>T13R24E4</td>\n",
       "      <td>2017</td>\n",
       "      <td>2017</td>\n",
       "      <td>11</td>\n",
       "      <td>0.328086</td>\n",
       "      <td>2017-01-11</td>\n",
       "      <td>2017-01-11</td>\n",
       "    </tr>\n",
       "  </tbody>\n",
       "</table>\n",
       "<p>2 rows × 21 columns</p>\n",
       "</div>"
      ],
      "text/plain": [
       "                    ID  Acres county  CropGrp CropTyp DataSrc    ExctAcr  \\\n",
       "0  108538_WSDA_SF_2017   73.0  Grant  Orchard   apple    wsda  72.617809   \n",
       "1  108538_WSDA_SF_2017   73.0  Grant  Orchard   apple    wsda  72.617809   \n",
       "\n",
       "      IntlSrD          Irrigtn     LstSrvD  ... RtCrpTy        Shap_Ar  \\\n",
       "0  2006/08/31  micro-sprinkler  2017/04/24  ...     NaN  293873.845089   \n",
       "1  2006/08/31  micro-sprinkler  2017/04/24  ...     NaN  293873.845089   \n",
       "\n",
       "       Shp_Lng       TRS image_year  SF_year  doy       EVI  \\\n",
       "0  3557.668759  T13R24E4       2017     2017    1  0.351753   \n",
       "1  3557.668759  T13R24E4       2017     2017   11  0.328086   \n",
       "\n",
       "   human_system_start_time       Date  \n",
       "0               2017-01-01 2017-01-01  \n",
       "1               2017-01-11 2017-01-11  \n",
       "\n",
       "[2 rows x 21 columns]"
      ]
     },
     "execution_count": 28,
     "metadata": {},
     "output_type": "execute_result"
    }
   ],
   "source": [
    "curr_field = curr_field[curr_field.image_year == SF_year]\n",
    "curr_field.head(2)"
   ]
  },
  {
   "cell_type": "code",
   "execution_count": 29,
   "metadata": {},
   "outputs": [
    {
     "data": {
      "text/plain": [
       "Index(['Date', 'SF_year', 'doy', 'ID', 'Acres', 'county', 'CropGrp', 'CropTyp',\n",
       "       'DataSrc', 'ExctAcr', 'IntlSrD', 'Irrigtn', 'LstSrvD', 'Notes',\n",
       "       'RtCrpTy', 'Shap_Ar', 'Shp_Lng', 'TRS', 'image_year', 'EVI',\n",
       "       'human_system_start_time'],\n",
       "      dtype='object')"
      ]
     },
     "execution_count": 29,
     "metadata": {},
     "output_type": "execute_result"
    }
   ],
   "source": [
    "fine_granular_table = pd.merge(fine_granular_table, curr_field, on=['Date', 'SF_year', 'doy'], how='left')\n",
    "fine_granular_table.columns"
   ]
  },
  {
   "cell_type": "code",
   "execution_count": 30,
   "metadata": {},
   "outputs": [
    {
     "data": {
      "text/html": [
       "<div>\n",
       "<style scoped>\n",
       "    .dataframe tbody tr th:only-of-type {\n",
       "        vertical-align: middle;\n",
       "    }\n",
       "\n",
       "    .dataframe tbody tr th {\n",
       "        vertical-align: top;\n",
       "    }\n",
       "\n",
       "    .dataframe thead th {\n",
       "        text-align: right;\n",
       "    }\n",
       "</style>\n",
       "<table border=\"1\" class=\"dataframe\">\n",
       "  <thead>\n",
       "    <tr style=\"text-align: right;\">\n",
       "      <th></th>\n",
       "      <th>Date</th>\n",
       "      <th>SF_year</th>\n",
       "      <th>doy</th>\n",
       "      <th>ID</th>\n",
       "      <th>Acres</th>\n",
       "      <th>county</th>\n",
       "      <th>CropGrp</th>\n",
       "      <th>CropTyp</th>\n",
       "      <th>DataSrc</th>\n",
       "      <th>ExctAcr</th>\n",
       "      <th>...</th>\n",
       "      <th>Irrigtn</th>\n",
       "      <th>LstSrvD</th>\n",
       "      <th>Notes</th>\n",
       "      <th>RtCrpTy</th>\n",
       "      <th>Shap_Ar</th>\n",
       "      <th>Shp_Lng</th>\n",
       "      <th>TRS</th>\n",
       "      <th>image_year</th>\n",
       "      <th>EVI</th>\n",
       "      <th>human_system_start_time</th>\n",
       "    </tr>\n",
       "  </thead>\n",
       "  <tbody>\n",
       "    <tr>\n",
       "      <th>0</th>\n",
       "      <td>2017-01-01</td>\n",
       "      <td>2017</td>\n",
       "      <td>1</td>\n",
       "      <td>108538_WSDA_SF_2017</td>\n",
       "      <td>73.0</td>\n",
       "      <td>Grant</td>\n",
       "      <td>Orchard</td>\n",
       "      <td>apple</td>\n",
       "      <td>wsda</td>\n",
       "      <td>72.617809</td>\n",
       "      <td>...</td>\n",
       "      <td>micro-sprinkler</td>\n",
       "      <td>2017/04/24</td>\n",
       "      <td>NaN</td>\n",
       "      <td>NaN</td>\n",
       "      <td>293873.845089</td>\n",
       "      <td>3557.668759</td>\n",
       "      <td>T13R24E4</td>\n",
       "      <td>2017.0</td>\n",
       "      <td>0.351753</td>\n",
       "      <td>2017-01-01</td>\n",
       "    </tr>\n",
       "    <tr>\n",
       "      <th>1</th>\n",
       "      <td>2017-01-02</td>\n",
       "      <td>2017</td>\n",
       "      <td>2</td>\n",
       "      <td>NaN</td>\n",
       "      <td>NaN</td>\n",
       "      <td>NaN</td>\n",
       "      <td>NaN</td>\n",
       "      <td>NaN</td>\n",
       "      <td>NaN</td>\n",
       "      <td>NaN</td>\n",
       "      <td>...</td>\n",
       "      <td>NaN</td>\n",
       "      <td>NaN</td>\n",
       "      <td>NaN</td>\n",
       "      <td>NaN</td>\n",
       "      <td>NaN</td>\n",
       "      <td>NaN</td>\n",
       "      <td>NaN</td>\n",
       "      <td>NaN</td>\n",
       "      <td>NaN</td>\n",
       "      <td>NaT</td>\n",
       "    </tr>\n",
       "  </tbody>\n",
       "</table>\n",
       "<p>2 rows × 21 columns</p>\n",
       "</div>"
      ],
      "text/plain": [
       "        Date  SF_year  doy                   ID  Acres county  CropGrp  \\\n",
       "0 2017-01-01     2017    1  108538_WSDA_SF_2017   73.0  Grant  Orchard   \n",
       "1 2017-01-02     2017    2                  NaN    NaN    NaN      NaN   \n",
       "\n",
       "  CropTyp DataSrc    ExctAcr  ...          Irrigtn     LstSrvD Notes RtCrpTy  \\\n",
       "0   apple    wsda  72.617809  ...  micro-sprinkler  2017/04/24   NaN     NaN   \n",
       "1     NaN     NaN        NaN  ...              NaN         NaN   NaN     NaN   \n",
       "\n",
       "         Shap_Ar      Shp_Lng       TRS image_year       EVI  \\\n",
       "0  293873.845089  3557.668759  T13R24E4     2017.0  0.351753   \n",
       "1            NaN          NaN       NaN        NaN       NaN   \n",
       "\n",
       "   human_system_start_time  \n",
       "0               2017-01-01  \n",
       "1                      NaT  \n",
       "\n",
       "[2 rows x 21 columns]"
      ]
     },
     "execution_count": 30,
     "metadata": {},
     "output_type": "execute_result"
    }
   ],
   "source": [
    "fine_granular_table.head(2)"
   ]
  },
  {
   "cell_type": "code",
   "execution_count": 31,
   "metadata": {},
   "outputs": [
    {
     "data": {
      "text/html": [
       "<div>\n",
       "<style scoped>\n",
       "    .dataframe tbody tr th:only-of-type {\n",
       "        vertical-align: middle;\n",
       "    }\n",
       "\n",
       "    .dataframe tbody tr th {\n",
       "        vertical-align: top;\n",
       "    }\n",
       "\n",
       "    .dataframe thead th {\n",
       "        text-align: right;\n",
       "    }\n",
       "</style>\n",
       "<table border=\"1\" class=\"dataframe\">\n",
       "  <thead>\n",
       "    <tr style=\"text-align: right;\">\n",
       "      <th></th>\n",
       "      <th>Date</th>\n",
       "      <th>SF_year</th>\n",
       "      <th>doy</th>\n",
       "      <th>ID</th>\n",
       "      <th>Acres</th>\n",
       "      <th>county</th>\n",
       "      <th>CropGrp</th>\n",
       "      <th>CropTyp</th>\n",
       "      <th>DataSrc</th>\n",
       "      <th>ExctAcr</th>\n",
       "      <th>...</th>\n",
       "      <th>Irrigtn</th>\n",
       "      <th>LstSrvD</th>\n",
       "      <th>Notes</th>\n",
       "      <th>RtCrpTy</th>\n",
       "      <th>Shap_Ar</th>\n",
       "      <th>Shp_Lng</th>\n",
       "      <th>TRS</th>\n",
       "      <th>image_year</th>\n",
       "      <th>EVI</th>\n",
       "      <th>human_system_start_time</th>\n",
       "    </tr>\n",
       "  </thead>\n",
       "  <tbody>\n",
       "    <tr>\n",
       "      <th>0</th>\n",
       "      <td>2017-01-01</td>\n",
       "      <td>2017</td>\n",
       "      <td>1</td>\n",
       "      <td>108538_WSDA_SF_2017</td>\n",
       "      <td>73.0</td>\n",
       "      <td>Grant</td>\n",
       "      <td>Orchard</td>\n",
       "      <td>apple</td>\n",
       "      <td>wsda</td>\n",
       "      <td>72.617809</td>\n",
       "      <td>...</td>\n",
       "      <td>micro-sprinkler</td>\n",
       "      <td>2017/04/24</td>\n",
       "      <td>NaN</td>\n",
       "      <td>NaN</td>\n",
       "      <td>293873.845089</td>\n",
       "      <td>3557.668759</td>\n",
       "      <td>T13R24E4</td>\n",
       "      <td>2017</td>\n",
       "      <td>0.351753</td>\n",
       "      <td>2017-01-01</td>\n",
       "    </tr>\n",
       "    <tr>\n",
       "      <th>1</th>\n",
       "      <td>2017-01-02</td>\n",
       "      <td>2017</td>\n",
       "      <td>2</td>\n",
       "      <td>108538_WSDA_SF_2017</td>\n",
       "      <td>73.0</td>\n",
       "      <td>Grant</td>\n",
       "      <td>Orchard</td>\n",
       "      <td>apple</td>\n",
       "      <td>wsda</td>\n",
       "      <td>72.617809</td>\n",
       "      <td>...</td>\n",
       "      <td>micro-sprinkler</td>\n",
       "      <td>2017/04/24</td>\n",
       "      <td>NaN</td>\n",
       "      <td>NaN</td>\n",
       "      <td>293873.845089</td>\n",
       "      <td>3557.668759</td>\n",
       "      <td>T13R24E4</td>\n",
       "      <td>2017</td>\n",
       "      <td>NaN</td>\n",
       "      <td>NaT</td>\n",
       "    </tr>\n",
       "  </tbody>\n",
       "</table>\n",
       "<p>2 rows × 21 columns</p>\n",
       "</div>"
      ],
      "text/plain": [
       "        Date  SF_year  doy                   ID  Acres county  CropGrp  \\\n",
       "0 2017-01-01     2017    1  108538_WSDA_SF_2017   73.0  Grant  Orchard   \n",
       "1 2017-01-02     2017    2  108538_WSDA_SF_2017   73.0  Grant  Orchard   \n",
       "\n",
       "  CropTyp DataSrc    ExctAcr  ...          Irrigtn     LstSrvD Notes  RtCrpTy  \\\n",
       "0   apple    wsda  72.617809  ...  micro-sprinkler  2017/04/24   NaN      NaN   \n",
       "1   apple    wsda  72.617809  ...  micro-sprinkler  2017/04/24   NaN      NaN   \n",
       "\n",
       "         Shap_Ar      Shp_Lng       TRS image_year       EVI  \\\n",
       "0  293873.845089  3557.668759  T13R24E4       2017  0.351753   \n",
       "1  293873.845089  3557.668759  T13R24E4       2017       NaN   \n",
       "\n",
       "   human_system_start_time  \n",
       "0               2017-01-01  \n",
       "1                      NaT  \n",
       "\n",
       "[2 rows x 21 columns]"
      ]
     },
     "execution_count": 31,
     "metadata": {},
     "output_type": "execute_result"
    }
   ],
   "source": [
    "fine_granular_table[\"image_year\"] = curr_field[\"image_year\"].unique()[0]\n",
    "fine_granular_table[\"ID\"] = curr_field[\"ID\"].unique()[0]\n",
    "fine_granular_table[\"Acres\"] = curr_field[\"Acres\"].unique()[0]\n",
    "fine_granular_table[\"county\"] = curr_field[\"county\"].unique()[0]\n",
    "\n",
    "fine_granular_table[\"CropGrp\"] = curr_field[\"CropGrp\"].unique()[0]\n",
    "fine_granular_table[\"CropTyp\"] = curr_field[\"CropTyp\"].unique()[0]\n",
    "fine_granular_table[\"DataSrc\"] = curr_field[\"DataSrc\"].unique()[0]\n",
    "fine_granular_table[\"ExctAcr\"] = curr_field[\"ExctAcr\"].unique()[0]\n",
    "\n",
    "fine_granular_table[\"IntlSrD\"] = curr_field[\"IntlSrD\"].unique()[0]\n",
    "fine_granular_table[\"Irrigtn\"] = curr_field[\"Irrigtn\"].unique()[0]\n",
    "\n",
    "fine_granular_table[\"LstSrvD\"] = curr_field[\"LstSrvD\"].unique()[0]\n",
    "fine_granular_table[\"Notes\"] = curr_field[\"Notes\"].unique()[0]\n",
    "fine_granular_table[\"RtCrpTy\"] = curr_field[\"RtCrpTy\"].unique()[0]\n",
    "fine_granular_table[\"Shap_Ar\"] = curr_field[\"Shap_Ar\"].unique()[0]\n",
    "fine_granular_table[\"Shp_Lng\"] = curr_field[\"Shp_Lng\"].unique()[0]\n",
    "fine_granular_table[\"TRS\"] = curr_field[\"TRS\"].unique()[0]\n",
    "fine_granular_table.head(2)"
   ]
  },
  {
   "cell_type": "code",
   "execution_count": 32,
   "metadata": {},
   "outputs": [
    {
     "data": {
      "text/html": [
       "<div>\n",
       "<style scoped>\n",
       "    .dataframe tbody tr th:only-of-type {\n",
       "        vertical-align: middle;\n",
       "    }\n",
       "\n",
       "    .dataframe tbody tr th {\n",
       "        vertical-align: top;\n",
       "    }\n",
       "\n",
       "    .dataframe thead th {\n",
       "        text-align: right;\n",
       "    }\n",
       "</style>\n",
       "<table border=\"1\" class=\"dataframe\">\n",
       "  <thead>\n",
       "    <tr style=\"text-align: right;\">\n",
       "      <th></th>\n",
       "      <th>Date</th>\n",
       "      <th>SF_year</th>\n",
       "      <th>doy</th>\n",
       "      <th>ID</th>\n",
       "      <th>Acres</th>\n",
       "      <th>county</th>\n",
       "      <th>CropGrp</th>\n",
       "      <th>CropTyp</th>\n",
       "      <th>DataSrc</th>\n",
       "      <th>ExctAcr</th>\n",
       "      <th>...</th>\n",
       "      <th>Irrigtn</th>\n",
       "      <th>LstSrvD</th>\n",
       "      <th>Notes</th>\n",
       "      <th>RtCrpTy</th>\n",
       "      <th>Shap_Ar</th>\n",
       "      <th>Shp_Lng</th>\n",
       "      <th>TRS</th>\n",
       "      <th>image_year</th>\n",
       "      <th>EVI</th>\n",
       "      <th>human_system_start_time</th>\n",
       "    </tr>\n",
       "  </thead>\n",
       "  <tbody>\n",
       "    <tr>\n",
       "      <th>0</th>\n",
       "      <td>2017-01-01</td>\n",
       "      <td>2017</td>\n",
       "      <td>1</td>\n",
       "      <td>108538_WSDA_SF_2017</td>\n",
       "      <td>73.0</td>\n",
       "      <td>Grant</td>\n",
       "      <td>Orchard</td>\n",
       "      <td>apple</td>\n",
       "      <td>wsda</td>\n",
       "      <td>72.617809</td>\n",
       "      <td>...</td>\n",
       "      <td>micro-sprinkler</td>\n",
       "      <td>2017/04/24</td>\n",
       "      <td>NaN</td>\n",
       "      <td>NaN</td>\n",
       "      <td>293873.845089</td>\n",
       "      <td>3557.668759</td>\n",
       "      <td>T13R24E4</td>\n",
       "      <td>2017</td>\n",
       "      <td>0.351753</td>\n",
       "      <td>2017-01-01</td>\n",
       "    </tr>\n",
       "    <tr>\n",
       "      <th>1</th>\n",
       "      <td>2017-01-02</td>\n",
       "      <td>2017</td>\n",
       "      <td>2</td>\n",
       "      <td>108538_WSDA_SF_2017</td>\n",
       "      <td>73.0</td>\n",
       "      <td>Grant</td>\n",
       "      <td>Orchard</td>\n",
       "      <td>apple</td>\n",
       "      <td>wsda</td>\n",
       "      <td>72.617809</td>\n",
       "      <td>...</td>\n",
       "      <td>micro-sprinkler</td>\n",
       "      <td>2017/04/24</td>\n",
       "      <td>NaN</td>\n",
       "      <td>NaN</td>\n",
       "      <td>293873.845089</td>\n",
       "      <td>3557.668759</td>\n",
       "      <td>T13R24E4</td>\n",
       "      <td>2017</td>\n",
       "      <td>NaN</td>\n",
       "      <td>2017-01-02</td>\n",
       "    </tr>\n",
       "  </tbody>\n",
       "</table>\n",
       "<p>2 rows × 21 columns</p>\n",
       "</div>"
      ],
      "text/plain": [
       "        Date  SF_year  doy                   ID  Acres county  CropGrp  \\\n",
       "0 2017-01-01     2017    1  108538_WSDA_SF_2017   73.0  Grant  Orchard   \n",
       "1 2017-01-02     2017    2  108538_WSDA_SF_2017   73.0  Grant  Orchard   \n",
       "\n",
       "  CropTyp DataSrc    ExctAcr  ...          Irrigtn     LstSrvD Notes  RtCrpTy  \\\n",
       "0   apple    wsda  72.617809  ...  micro-sprinkler  2017/04/24   NaN      NaN   \n",
       "1   apple    wsda  72.617809  ...  micro-sprinkler  2017/04/24   NaN      NaN   \n",
       "\n",
       "         Shap_Ar      Shp_Lng       TRS image_year       EVI  \\\n",
       "0  293873.845089  3557.668759  T13R24E4       2017  0.351753   \n",
       "1  293873.845089  3557.668759  T13R24E4       2017       NaN   \n",
       "\n",
       "   human_system_start_time  \n",
       "0               2017-01-01  \n",
       "1               2017-01-02  \n",
       "\n",
       "[2 rows x 21 columns]"
      ]
     },
     "execution_count": 32,
     "metadata": {},
     "output_type": "execute_result"
    }
   ],
   "source": [
    "fine_granular_table = rc.add_human_start_time_by_YearDoY(fine_granular_table)\n",
    "fine_granular_table.head(2)"
   ]
  },
  {
   "cell_type": "code",
   "execution_count": 33,
   "metadata": {},
   "outputs": [],
   "source": [
    "# replace NAs with -1.5. Because, that is what the function fill_theGap_linearLine()\n",
    "# uses as indicator for missing values\n",
    "fine_granular_table.fillna(value={indeks:-1.5}, inplace=True)\n"
   ]
  },
  {
   "cell_type": "code",
   "execution_count": 34,
   "metadata": {},
   "outputs": [
    {
     "data": {
      "text/html": [
       "<div>\n",
       "<style scoped>\n",
       "    .dataframe tbody tr th:only-of-type {\n",
       "        vertical-align: middle;\n",
       "    }\n",
       "\n",
       "    .dataframe tbody tr th {\n",
       "        vertical-align: top;\n",
       "    }\n",
       "\n",
       "    .dataframe thead th {\n",
       "        text-align: right;\n",
       "    }\n",
       "</style>\n",
       "<table border=\"1\" class=\"dataframe\">\n",
       "  <thead>\n",
       "    <tr style=\"text-align: right;\">\n",
       "      <th></th>\n",
       "      <th>Date</th>\n",
       "      <th>SF_year</th>\n",
       "      <th>doy</th>\n",
       "      <th>ID</th>\n",
       "      <th>Acres</th>\n",
       "      <th>county</th>\n",
       "      <th>CropGrp</th>\n",
       "      <th>CropTyp</th>\n",
       "      <th>DataSrc</th>\n",
       "      <th>ExctAcr</th>\n",
       "      <th>...</th>\n",
       "      <th>Irrigtn</th>\n",
       "      <th>LstSrvD</th>\n",
       "      <th>Notes</th>\n",
       "      <th>RtCrpTy</th>\n",
       "      <th>Shap_Ar</th>\n",
       "      <th>Shp_Lng</th>\n",
       "      <th>TRS</th>\n",
       "      <th>image_year</th>\n",
       "      <th>EVI</th>\n",
       "      <th>human_system_start_time</th>\n",
       "    </tr>\n",
       "  </thead>\n",
       "  <tbody>\n",
       "    <tr>\n",
       "      <th>0</th>\n",
       "      <td>2017-01-01</td>\n",
       "      <td>2017</td>\n",
       "      <td>1</td>\n",
       "      <td>108538_WSDA_SF_2017</td>\n",
       "      <td>73.0</td>\n",
       "      <td>Grant</td>\n",
       "      <td>Orchard</td>\n",
       "      <td>apple</td>\n",
       "      <td>wsda</td>\n",
       "      <td>72.617809</td>\n",
       "      <td>...</td>\n",
       "      <td>micro-sprinkler</td>\n",
       "      <td>2017/04/24</td>\n",
       "      <td>NaN</td>\n",
       "      <td>NaN</td>\n",
       "      <td>293873.845089</td>\n",
       "      <td>3557.668759</td>\n",
       "      <td>T13R24E4</td>\n",
       "      <td>2017</td>\n",
       "      <td>0.351753</td>\n",
       "      <td>2017-01-01</td>\n",
       "    </tr>\n",
       "    <tr>\n",
       "      <th>1</th>\n",
       "      <td>2017-01-02</td>\n",
       "      <td>2017</td>\n",
       "      <td>2</td>\n",
       "      <td>108538_WSDA_SF_2017</td>\n",
       "      <td>73.0</td>\n",
       "      <td>Grant</td>\n",
       "      <td>Orchard</td>\n",
       "      <td>apple</td>\n",
       "      <td>wsda</td>\n",
       "      <td>72.617809</td>\n",
       "      <td>...</td>\n",
       "      <td>micro-sprinkler</td>\n",
       "      <td>2017/04/24</td>\n",
       "      <td>NaN</td>\n",
       "      <td>NaN</td>\n",
       "      <td>293873.845089</td>\n",
       "      <td>3557.668759</td>\n",
       "      <td>T13R24E4</td>\n",
       "      <td>2017</td>\n",
       "      <td>-1.500000</td>\n",
       "      <td>2017-01-02</td>\n",
       "    </tr>\n",
       "    <tr>\n",
       "      <th>2</th>\n",
       "      <td>2017-01-03</td>\n",
       "      <td>2017</td>\n",
       "      <td>3</td>\n",
       "      <td>108538_WSDA_SF_2017</td>\n",
       "      <td>73.0</td>\n",
       "      <td>Grant</td>\n",
       "      <td>Orchard</td>\n",
       "      <td>apple</td>\n",
       "      <td>wsda</td>\n",
       "      <td>72.617809</td>\n",
       "      <td>...</td>\n",
       "      <td>micro-sprinkler</td>\n",
       "      <td>2017/04/24</td>\n",
       "      <td>NaN</td>\n",
       "      <td>NaN</td>\n",
       "      <td>293873.845089</td>\n",
       "      <td>3557.668759</td>\n",
       "      <td>T13R24E4</td>\n",
       "      <td>2017</td>\n",
       "      <td>-1.500000</td>\n",
       "      <td>2017-01-03</td>\n",
       "    </tr>\n",
       "  </tbody>\n",
       "</table>\n",
       "<p>3 rows × 21 columns</p>\n",
       "</div>"
      ],
      "text/plain": [
       "        Date  SF_year  doy                   ID  Acres county  CropGrp  \\\n",
       "0 2017-01-01     2017    1  108538_WSDA_SF_2017   73.0  Grant  Orchard   \n",
       "1 2017-01-02     2017    2  108538_WSDA_SF_2017   73.0  Grant  Orchard   \n",
       "2 2017-01-03     2017    3  108538_WSDA_SF_2017   73.0  Grant  Orchard   \n",
       "\n",
       "  CropTyp DataSrc    ExctAcr  ...          Irrigtn     LstSrvD Notes  RtCrpTy  \\\n",
       "0   apple    wsda  72.617809  ...  micro-sprinkler  2017/04/24   NaN      NaN   \n",
       "1   apple    wsda  72.617809  ...  micro-sprinkler  2017/04/24   NaN      NaN   \n",
       "2   apple    wsda  72.617809  ...  micro-sprinkler  2017/04/24   NaN      NaN   \n",
       "\n",
       "         Shap_Ar      Shp_Lng       TRS image_year       EVI  \\\n",
       "0  293873.845089  3557.668759  T13R24E4       2017  0.351753   \n",
       "1  293873.845089  3557.668759  T13R24E4       2017 -1.500000   \n",
       "2  293873.845089  3557.668759  T13R24E4       2017 -1.500000   \n",
       "\n",
       "   human_system_start_time  \n",
       "0               2017-01-01  \n",
       "1               2017-01-02  \n",
       "2               2017-01-03  \n",
       "\n",
       "[3 rows x 21 columns]"
      ]
     },
     "execution_count": 34,
     "metadata": {},
     "output_type": "execute_result"
    }
   ],
   "source": [
    "fine_granular_table.head(3)"
   ]
  },
  {
   "cell_type": "code",
   "execution_count": 35,
   "metadata": {},
   "outputs": [
    {
     "data": {
      "image/png": "[encoded data removed]",
      "text/plain": [
       "<Figure size 576x216 with 1 Axes>"
      ]
     },
     "metadata": {
      "needs_background": "light"
     },
     "output_type": "display_data"
    }
   ],
   "source": [
    "fig, ax = plt.subplots(figsize=(8,3));\n",
    "plot_title = fine_granular_table.CropTyp.unique()[0]\n",
    "\n",
    "ax.plot(fine_granular_table['Date'], fine_granular_table['EVI'], c='r', label=\"EVI\")\n",
    "\n",
    "ax.scatter(fine_granular_table['Date'], fine_granular_table['EVI'], marker='o', s=25, c='b')\n",
    "\n",
    "ax.set_title(plot_title);\n",
    "ax.set(xlabel='DoY', ylabel='EVI')\n",
    "ax.legend(loc=\"best\");\n",
    "ax.grid(True)"
   ]
  },
  {
   "cell_type": "code",
   "execution_count": 36,
   "metadata": {},
   "outputs": [],
   "source": [
    "fine_granular_table = rc.fill_theGap_linearLine(regular_TS = fine_granular_table, V_idx=indeks, SF_year=SF_year)"
   ]
  },
  {
   "cell_type": "code",
   "execution_count": 37,
   "metadata": {},
   "outputs": [
    {
     "data": {
      "image/png": "[encoded data removed]",
      "text/plain": [
       "<Figure size 576x216 with 1 Axes>"
      ]
     },
     "metadata": {
      "needs_background": "light"
     },
     "output_type": "display_data"
    }
   ],
   "source": [
    "fig, ax = plt.subplots(figsize=(8,3));\n",
    "plot_title = fine_granular_table.CropTyp.unique()[0]\n",
    "\n",
    "ax.plot(fine_granular_table['Date'], fine_granular_table['EVI'], c='r', label=\"EVI\")\n",
    "\n",
    "ax.scatter(fine_granular_table['Date'], fine_granular_table['EVI'], marker='o', s=25, c='b')\n",
    "\n",
    "ax.set_title(plot_title);\n",
    "ax.set(xlabel='DoY', ylabel='EVI')\n",
    "ax.legend(loc=\"best\");\n",
    "ax.grid(True)"
   ]
  },
  {
   "cell_type": "code",
   "execution_count": 54,
   "metadata": {},
   "outputs": [],
   "source": [
    "fine_granular_table = rc.addToDF_SOS_EOS_White(pd_TS = fine_granular_table, \n",
    "                                               VegIdx = indeks, \n",
    "                                               onset_thresh = onset_cut, \n",
    "                                               offset_thresh = offset_cut)\n",
    "\n",
    "##\n",
    "##  Kill false detected seasons \n",
    "##\n",
    "fine_granular_table = rc.Null_SOS_EOS_by_DoYDiff(pd_TS = fine_granular_table, min_season_length=40)"
   ]
  },
  {
   "cell_type": "code",
   "execution_count": 55,
   "metadata": {},
   "outputs": [
    {
     "data": {
      "image/png": "[encoded data removed]",
      "text/plain": [
       "<Figure size 576x216 with 1 Axes>"
      ]
     },
     "metadata": {
      "needs_background": "light"
     },
     "output_type": "display_data"
    }
   ],
   "source": [
    "fig, ax = plt.subplots(figsize=(8,3));\n",
    "plot_title = fine_granular_table.CropTyp.unique()[0]\n",
    "\n",
    "ax.plot(fine_granular_table['Date'], fine_granular_table['EVI'], c='r', label=\"EVI\")\n",
    "ax.plot(fine_granular_table['Date'], fine_granular_table['EVI_ratio'], c='y', label=\"EVI_ratio\")\n",
    "\n",
    "\n",
    "ax.scatter(fine_granular_table['Date'], fine_granular_table['EVI'], marker='o', s=25, c='b')\n",
    "\n",
    "ax.set_title(plot_title);\n",
    "ax.set(xlabel='DoY', ylabel='EVI')\n",
    "ax.legend(loc=\"best\");\n",
    "ax.grid(True)"
   ]
  },
  {
   "cell_type": "code",
   "execution_count": 61,
   "metadata": {},
   "outputs": [],
   "source": [
    "SEOS = fine_granular_table[(fine_granular_table['SOS'] != 0) | fine_granular_table['EOS'] != 0]\n",
    "SEOS = SEOS.copy()\n",
    "# SEOS = SEOS.reset_index() # not needed really\n",
    "SOS_tb = fine_granular_table[fine_granular_table['SOS'] != 0]\n",
    "EOS_tb = fine_granular_table[fine_granular_table['EOS'] != 0]"
   ]
  },
  {
   "cell_type": "code",
   "execution_count": 57,
   "metadata": {},
   "outputs": [
    {
     "data": {
      "text/html": [
       "<div>\n",
       "<style scoped>\n",
       "    .dataframe tbody tr th:only-of-type {\n",
       "        vertical-align: middle;\n",
       "    }\n",
       "\n",
       "    .dataframe tbody tr th {\n",
       "        vertical-align: top;\n",
       "    }\n",
       "\n",
       "    .dataframe thead th {\n",
       "        text-align: right;\n",
       "    }\n",
       "</style>\n",
       "<table border=\"1\" class=\"dataframe\">\n",
       "  <thead>\n",
       "    <tr style=\"text-align: right;\">\n",
       "      <th></th>\n",
       "      <th>Date</th>\n",
       "      <th>SF_year</th>\n",
       "      <th>doy</th>\n",
       "      <th>ID</th>\n",
       "      <th>Acres</th>\n",
       "      <th>county</th>\n",
       "      <th>CropGrp</th>\n",
       "      <th>CropTyp</th>\n",
       "      <th>DataSrc</th>\n",
       "      <th>ExctAcr</th>\n",
       "      <th>...</th>\n",
       "      <th>RtCrpTy</th>\n",
       "      <th>Shap_Ar</th>\n",
       "      <th>Shp_Lng</th>\n",
       "      <th>TRS</th>\n",
       "      <th>image_year</th>\n",
       "      <th>EVI</th>\n",
       "      <th>human_system_start_time</th>\n",
       "      <th>EVI_ratio</th>\n",
       "      <th>SOS</th>\n",
       "      <th>EOS</th>\n",
       "    </tr>\n",
       "  </thead>\n",
       "  <tbody>\n",
       "    <tr>\n",
       "      <th>122</th>\n",
       "      <td>2017-05-03</td>\n",
       "      <td>2017</td>\n",
       "      <td>123</td>\n",
       "      <td>108538_WSDA_SF_2017</td>\n",
       "      <td>73.0</td>\n",
       "      <td>Grant</td>\n",
       "      <td>Orchard</td>\n",
       "      <td>apple</td>\n",
       "      <td>wsda</td>\n",
       "      <td>72.617809</td>\n",
       "      <td>...</td>\n",
       "      <td>NaN</td>\n",
       "      <td>293873.845089</td>\n",
       "      <td>3557.668759</td>\n",
       "      <td>T13R24E4</td>\n",
       "      <td>2017</td>\n",
       "      <td>0.545033</td>\n",
       "      <td>2017-05-03</td>\n",
       "      <td>0.512089</td>\n",
       "      <td>0.545033</td>\n",
       "      <td>0.000000</td>\n",
       "    </tr>\n",
       "    <tr>\n",
       "      <th>335</th>\n",
       "      <td>2017-12-02</td>\n",
       "      <td>2017</td>\n",
       "      <td>336</td>\n",
       "      <td>108538_WSDA_SF_2017</td>\n",
       "      <td>73.0</td>\n",
       "      <td>Grant</td>\n",
       "      <td>Orchard</td>\n",
       "      <td>apple</td>\n",
       "      <td>wsda</td>\n",
       "      <td>72.617809</td>\n",
       "      <td>...</td>\n",
       "      <td>NaN</td>\n",
       "      <td>293873.845089</td>\n",
       "      <td>3557.668759</td>\n",
       "      <td>T13R24E4</td>\n",
       "      <td>2017</td>\n",
       "      <td>0.537844</td>\n",
       "      <td>2017-12-02</td>\n",
       "      <td>0.499653</td>\n",
       "      <td>0.000000</td>\n",
       "      <td>0.537844</td>\n",
       "    </tr>\n",
       "  </tbody>\n",
       "</table>\n",
       "<p>2 rows × 24 columns</p>\n",
       "</div>"
      ],
      "text/plain": [
       "          Date  SF_year  doy                   ID  Acres county  CropGrp  \\\n",
       "122 2017-05-03     2017  123  108538_WSDA_SF_2017   73.0  Grant  Orchard   \n",
       "335 2017-12-02     2017  336  108538_WSDA_SF_2017   73.0  Grant  Orchard   \n",
       "\n",
       "    CropTyp DataSrc    ExctAcr  ... RtCrpTy        Shap_Ar      Shp_Lng  \\\n",
       "122   apple    wsda  72.617809  ...     NaN  293873.845089  3557.668759   \n",
       "335   apple    wsda  72.617809  ...     NaN  293873.845089  3557.668759   \n",
       "\n",
       "          TRS  image_year       EVI  human_system_start_time EVI_ratio  \\\n",
       "122  T13R24E4        2017  0.545033               2017-05-03  0.512089   \n",
       "335  T13R24E4        2017  0.537844               2017-12-02  0.499653   \n",
       "\n",
       "          SOS       EOS  \n",
       "122  0.545033  0.000000  \n",
       "335  0.000000  0.537844  \n",
       "\n",
       "[2 rows x 24 columns]"
      ]
     },
     "execution_count": 57,
     "metadata": {},
     "output_type": "execute_result"
    }
   ],
   "source": [
    "SEOS"
   ]
  },
  {
   "cell_type": "code",
   "execution_count": 62,
   "metadata": {},
   "outputs": [
    {
     "data": {
      "image/png": "[encoded data removed]",
      "text/plain": [
       "<Figure size 576x216 with 1 Axes>"
      ]
     },
     "metadata": {
      "needs_background": "light"
     },
     "output_type": "display_data"
    }
   ],
   "source": [
    "fig, ax = plt.subplots(figsize=(8,3));\n",
    "plot_title = fine_granular_table.CropTyp.unique()[0]\n",
    "\n",
    "ax.plot(fine_granular_table['Date'], fine_granular_table['EVI'], c='r', label=\"EVI\")\n",
    "ax.plot(fine_granular_table['Date'], fine_granular_table['EVI_ratio'], c='y', label=\"EVI_ratio\")\n",
    "\n",
    "ax.scatter(fine_granular_table['Date'], fine_granular_table['EVI'], marker='o', s=25, c='b')\n",
    "\n",
    "ax.axhline(0 , color = 'r', linewidth=.5)\n",
    "ax.axhline(0.5 , color = 'r', linewidth=.5)\n",
    "ax.axhline(1 , color = 'r', linewidth=.5)\n",
    "\n",
    "ax.scatter(SOS_tb['Date'], SOS_tb['SOS'], marker='+', s=300, c='g')\n",
    "ax.scatter(EOS_tb['Date'], EOS_tb['EOS'], marker='+', s=300, c='g')\n",
    "# ax.axhline(-1, color = 'r', linewidth=.5)\n",
    "\n",
    "ax.set_title(plot_title);\n",
    "ax.set(xlabel='DoY', ylabel='EVI')\n",
    "ax.legend(loc=\"best\");\n",
    "ax.grid(True)"
   ]
  },
  {
   "cell_type": "code",
   "execution_count": 52,
   "metadata": {},
   "outputs": [
    {
     "data": {
      "text/html": [
       "<div>\n",
       "<style scoped>\n",
       "    .dataframe tbody tr th:only-of-type {\n",
       "        vertical-align: middle;\n",
       "    }\n",
       "\n",
       "    .dataframe tbody tr th {\n",
       "        vertical-align: top;\n",
       "    }\n",
       "\n",
       "    .dataframe thead th {\n",
       "        text-align: right;\n",
       "    }\n",
       "</style>\n",
       "<table border=\"1\" class=\"dataframe\">\n",
       "  <thead>\n",
       "    <tr style=\"text-align: right;\">\n",
       "      <th></th>\n",
       "      <th>Date</th>\n",
       "      <th>SF_year</th>\n",
       "      <th>doy</th>\n",
       "      <th>ID</th>\n",
       "      <th>Acres</th>\n",
       "      <th>county</th>\n",
       "      <th>CropGrp</th>\n",
       "      <th>CropTyp</th>\n",
       "      <th>DataSrc</th>\n",
       "      <th>ExctAcr</th>\n",
       "      <th>...</th>\n",
       "      <th>RtCrpTy</th>\n",
       "      <th>Shap_Ar</th>\n",
       "      <th>Shp_Lng</th>\n",
       "      <th>TRS</th>\n",
       "      <th>image_year</th>\n",
       "      <th>EVI</th>\n",
       "      <th>human_system_start_time</th>\n",
       "      <th>EVI_ratio</th>\n",
       "      <th>SOS</th>\n",
       "      <th>EOS</th>\n",
       "    </tr>\n",
       "  </thead>\n",
       "  <tbody>\n",
       "    <tr>\n",
       "      <th>0</th>\n",
       "      <td>2017-01-01</td>\n",
       "      <td>2017</td>\n",
       "      <td>1</td>\n",
       "      <td>108538_WSDA_SF_2017</td>\n",
       "      <td>73.0</td>\n",
       "      <td>Grant</td>\n",
       "      <td>Orchard</td>\n",
       "      <td>apple</td>\n",
       "      <td>wsda</td>\n",
       "      <td>72.617809</td>\n",
       "      <td>...</td>\n",
       "      <td>NaN</td>\n",
       "      <td>293873.845089</td>\n",
       "      <td>3557.668759</td>\n",
       "      <td>T13R24E4</td>\n",
       "      <td>2017</td>\n",
       "      <td>0.351753</td>\n",
       "      <td>2017-01-01</td>\n",
       "      <td>0.177778</td>\n",
       "      <td>0.0</td>\n",
       "      <td>0.0</td>\n",
       "    </tr>\n",
       "    <tr>\n",
       "      <th>1</th>\n",
       "      <td>2017-01-02</td>\n",
       "      <td>2017</td>\n",
       "      <td>2</td>\n",
       "      <td>108538_WSDA_SF_2017</td>\n",
       "      <td>73.0</td>\n",
       "      <td>Grant</td>\n",
       "      <td>Orchard</td>\n",
       "      <td>apple</td>\n",
       "      <td>wsda</td>\n",
       "      <td>72.617809</td>\n",
       "      <td>...</td>\n",
       "      <td>NaN</td>\n",
       "      <td>293873.845089</td>\n",
       "      <td>3557.668759</td>\n",
       "      <td>T13R24E4</td>\n",
       "      <td>2017</td>\n",
       "      <td>0.349387</td>\n",
       "      <td>2017-01-02</td>\n",
       "      <td>0.173685</td>\n",
       "      <td>0.0</td>\n",
       "      <td>0.0</td>\n",
       "    </tr>\n",
       "  </tbody>\n",
       "</table>\n",
       "<p>2 rows × 24 columns</p>\n",
       "</div>"
      ],
      "text/plain": [
       "        Date  SF_year  doy                   ID  Acres county  CropGrp  \\\n",
       "0 2017-01-01     2017    1  108538_WSDA_SF_2017   73.0  Grant  Orchard   \n",
       "1 2017-01-02     2017    2  108538_WSDA_SF_2017   73.0  Grant  Orchard   \n",
       "\n",
       "  CropTyp DataSrc    ExctAcr  ... RtCrpTy        Shap_Ar      Shp_Lng  \\\n",
       "0   apple    wsda  72.617809  ...     NaN  293873.845089  3557.668759   \n",
       "1   apple    wsda  72.617809  ...     NaN  293873.845089  3557.668759   \n",
       "\n",
       "        TRS  image_year       EVI  human_system_start_time EVI_ratio  SOS  EOS  \n",
       "0  T13R24E4        2017  0.351753               2017-01-01  0.177778  0.0  0.0  \n",
       "1  T13R24E4        2017  0.349387               2017-01-02  0.173685  0.0  0.0  \n",
       "\n",
       "[2 rows x 24 columns]"
      ]
     },
     "execution_count": 52,
     "metadata": {},
     "output_type": "execute_result"
    }
   ],
   "source": [
    "fine_granular_table.head(2)"
   ]
  },
  {
   "cell_type": "code",
   "execution_count": null,
   "metadata": {},
   "outputs": [],
   "source": []
  },
  {
   "cell_type": "code",
   "execution_count": null,
   "metadata": {},
   "outputs": [],
   "source": []
  },
  {
   "cell_type": "code",
   "execution_count": null,
   "metadata": {},
   "outputs": [],
   "source": [
    "regular_TS = fine_granular_table\n",
    "V_idx = indeks\n",
    "a_regularized_TS = regular_TS.copy()\n",
    "\n",
    "if (len(a_regularized_TS.image_year.unique()) == 2):\n",
    "    x_axis = extract_XValues_of_2Yrs_TS(regularized_TS = a_regularized_TS, SF_yr = SF_year)\n",
    "elif (len(a_regularized_TS.image_year.unique()) == 3):\n",
    "    x_axis = extract_XValues_of_3Yrs_TS(regularized_TS = a_regularized_TS, SF_yr = SF_year)\n",
    "elif (len(a_regularized_TS.image_year.unique()) == 1):\n",
    "    x_axis = a_regularized_TS[\"doy\"].copy()\n",
    "\n",
    "TS_array = a_regularized_TS[V_idx].copy().values\n",
    "\n",
    "\"\"\"\n",
    "TS_array[0] = -1.5\n",
    "TS_array[51] = -1.5\n",
    "TS_array[52] = -1.5\n",
    "TS_array[53] = -1.5\n",
    "TS_array.shape\n",
    "\"\"\"\n",
    "\n",
    "\"\"\"\n",
    "-1.5 is an indicator of missing values by Sentinel, i.e. a gap.\n",
    "The -1.5 was used as indicator in the function regularize_movingWindow_windowSteps_2Yrs()\n",
    "\"\"\"\n",
    "missing_indicies = np.where(TS_array == -1.5)[0]\n",
    "Notmissing_indicies = np.where(TS_array != -1.5)[0]"
   ]
  },
  {
   "cell_type": "code",
   "execution_count": null,
   "metadata": {},
   "outputs": [],
   "source": [
    "#\n",
    "#    Check if the first or last k values are missing\n",
    "#    if so, replace them with proper number and shorten the task\n",
    "#\n",
    "left_pointer = Notmissing_indicies[0]\n",
    "right_pointer = Notmissing_indicies[-1]\n"
   ]
  },
  {
   "cell_type": "code",
   "execution_count": null,
   "metadata": {},
   "outputs": [],
   "source": [
    "TS_array[0:5]"
   ]
  },
  {
   "cell_type": "code",
   "execution_count": null,
   "metadata": {},
   "outputs": [],
   "source": [
    "TS_array[360:]"
   ]
  },
  {
   "cell_type": "code",
   "execution_count": null,
   "metadata": {},
   "outputs": [],
   "source": [
    "if left_pointer > 0:\n",
    "    TS_array[:left_pointer] = TS_array[left_pointer]\n",
    "\n",
    "if right_pointer < (len(TS_array) - 1):\n",
    "    TS_array[right_pointer:] = TS_array[right_pointer]"
   ]
  },
  {
   "cell_type": "code",
   "execution_count": null,
   "metadata": {},
   "outputs": [],
   "source": [
    "\n",
    "#    \n",
    "# update indexes.\n",
    "#\n",
    "missing_indicies = np.where(TS_array == -1.5)[0]\n",
    "Notmissing_indicies = np.where(TS_array != -1.5)[0]"
   ]
  },
  {
   "cell_type": "code",
   "execution_count": null,
   "metadata": {},
   "outputs": [],
   "source": [
    "# left_pointer = Notmissing_indicies[0]\n",
    "stop = right_pointer\n",
    "right_pointer = left_pointer + 1"
   ]
  },
  {
   "cell_type": "code",
   "execution_count": null,
   "metadata": {},
   "outputs": [],
   "source": [
    "print (stop)\n",
    "print (right_pointer)"
   ]
  },
  {
   "cell_type": "code",
   "execution_count": null,
   "metadata": {},
   "outputs": [],
   "source": [
    "TS_array[0:4]"
   ]
  },
  {
   "cell_type": "code",
   "execution_count": null,
   "metadata": {},
   "outputs": [],
   "source": [
    "missing_indicies = np.where(TS_array == -1.5)[0]"
   ]
  },
  {
   "cell_type": "code",
   "execution_count": null,
   "metadata": {},
   "outputs": [],
   "source": []
  },
  {
   "cell_type": "code",
   "execution_count": null,
   "metadata": {},
   "outputs": [],
   "source": [
    "left_pointer = missing_indicies[0] - 1\n",
    "left_value = TS_array[left_pointer]\n",
    "right_pointer = missing_indicies[0]"
   ]
  },
  {
   "cell_type": "code",
   "execution_count": null,
   "metadata": {},
   "outputs": [],
   "source": [
    "print(left_pointer)\n",
    "print(right_pointer)"
   ]
  },
  {
   "cell_type": "code",
   "execution_count": null,
   "metadata": {},
   "outputs": [],
   "source": [
    "while TS_array[right_pointer] == -1.5:\n",
    "        right_pointer += 1"
   ]
  },
  {
   "cell_type": "code",
   "execution_count": null,
   "metadata": {},
   "outputs": [],
   "source": [
    "print(right_pointer)"
   ]
  },
  {
   "cell_type": "code",
   "execution_count": null,
   "metadata": {},
   "outputs": [],
   "source": [
    "TS_array[0:12]"
   ]
  },
  {
   "cell_type": "code",
   "execution_count": null,
   "metadata": {},
   "outputs": [],
   "source": [
    "right_value = TS_array[right_pointer]\n",
    "right_value"
   ]
  },
  {
   "cell_type": "code",
   "execution_count": null,
   "metadata": {},
   "outputs": [],
   "source": [
    "right_pointer - left_pointer"
   ]
  },
  {
   "cell_type": "code",
   "execution_count": null,
   "metadata": {},
   "outputs": [],
   "source": [
    "slope = (right_value - left_value) / (x_axis[right_pointer] - x_axis[left_pointer]) # a\n",
    "b = right_value - (slope * x_axis[right_pointer])\n",
    "TS_array[left_pointer+1 : right_pointer]"
   ]
  },
  {
   "cell_type": "code",
   "execution_count": null,
   "metadata": {},
   "outputs": [],
   "source": [
    "TS_array[left_pointer+1 : right_pointer] = slope * x_axis[left_pointer+1 : right_pointer] + b\n",
    "TS_array[0:12]"
   ]
  },
  {
   "cell_type": "code",
   "execution_count": null,
   "metadata": {},
   "outputs": [],
   "source": [
    "left_pointer = missing_indicies[0] - 1\n",
    "left_value = TS_array[left_pointer]\n",
    "right_pointer = missing_indicies[0]"
   ]
  },
  {
   "cell_type": "code",
   "execution_count": null,
   "metadata": {},
   "outputs": [],
   "source": [
    "print (left_pointer)\n",
    "print (right_pointer)"
   ]
  },
  {
   "cell_type": "code",
   "execution_count": null,
   "metadata": {},
   "outputs": [],
   "source": [
    "while TS_array[right_pointer] == -1.5:\n",
    "    right_pointer += 1\n",
    "right_value = TS_array[right_pointer]"
   ]
  },
  {
   "cell_type": "code",
   "execution_count": null,
   "metadata": {},
   "outputs": [],
   "source": [
    "print (left_pointer)\n",
    "print (right_pointer)"
   ]
  },
  {
   "cell_type": "code",
   "execution_count": null,
   "metadata": {},
   "outputs": [],
   "source": [
    "slope = (right_value - left_value) / (x_axis[right_pointer] - x_axis[left_pointer]) # a\n",
    "b = right_value - (slope * x_axis[right_pointer])"
   ]
  },
  {
   "cell_type": "code",
   "execution_count": null,
   "metadata": {},
   "outputs": [],
   "source": [
    "print (TS_array[left_pointer+1 : right_pointer])\n",
    "TS_array[left_pointer+1 : right_pointer] = slope * x_axis[left_pointer+1 : right_pointer] + b\n",
    "missing_indicies = np.where(TS_array == -1.5)[0]\n",
    "TS_array[left_pointer+1 : right_pointer]"
   ]
  },
  {
   "cell_type": "code",
   "execution_count": null,
   "metadata": {},
   "outputs": [],
   "source": [
    "TS_array[8 : 22]"
   ]
  },
  {
   "cell_type": "code",
   "execution_count": null,
   "metadata": {},
   "outputs": [],
   "source": [
    "right_pointer"
   ]
  },
  {
   "cell_type": "code",
   "execution_count": null,
   "metadata": {},
   "outputs": [],
   "source": []
  },
  {
   "cell_type": "code",
   "execution_count": null,
   "metadata": {},
   "outputs": [],
   "source": []
  },
  {
   "cell_type": "code",
   "execution_count": null,
   "metadata": {},
   "outputs": [],
   "source": [
    "while len(missing_indicies) > 0:\n",
    "    left_pointer = missing_indicies[0] - 1\n",
    "    left_value = TS_array[left_pointer]\n",
    "    right_pointer = missing_indicies[0]\n",
    "\n",
    "    while TS_array[right_pointer] == -1.5:\n",
    "        right_pointer += 1\n",
    "    right_value = TS_array[right_pointer]\n",
    "\n",
    "    if (right_pointer - left_pointer) == 2:\n",
    "        # if there is a single gap, then we have just average of the\n",
    "        # values\n",
    "        # Avoid extra computation!\n",
    "        #\n",
    "        TS_array[left_pointer + 1] = 0.5 * (TS_array[left_pointer] + TS_array[right_pointer])\n",
    "    else:\n",
    "        # form y= ax + b\n",
    "        slope = (right_value - left_value) / (x_axis[right_pointer] - x_axis[left_pointer]) # a\n",
    "        b = right_value - (slope * x_axis[right_pointer])\n",
    "        TS_array[left_pointer+1 : right_pointer] = slope * x_axis[left_pointer+1 : right_pointer] + b\n",
    "        missing_indicies = np.where(TS_array == -1.5)[0]\n",
    "\n",
    "\n",
    "a_regularized_TS[V_idx] = TS_array"
   ]
  },
  {
   "cell_type": "code",
   "execution_count": null,
   "metadata": {},
   "outputs": [],
   "source": []
  },
  {
   "cell_type": "code",
   "execution_count": null,
   "metadata": {},
   "outputs": [],
   "source": []
  },
  {
   "cell_type": "code",
   "execution_count": null,
   "metadata": {},
   "outputs": [],
   "source": []
  },
  {
   "cell_type": "code",
   "execution_count": null,
   "metadata": {},
   "outputs": [],
   "source": [
    "fine_granular_table = rc.fill_theGap_linearLine(regular_TS = fine_granular_table, V_idx=indeks, SF_year=SF_year)"
   ]
  },
  {
   "cell_type": "code",
   "execution_count": null,
   "metadata": {},
   "outputs": [],
   "source": [
    "fig, ax = plt.subplots(figsize=(8,3));\n",
    "plot_title = fine_granular_table.CropTyp.unique()[0]\n",
    "\n",
    "ax.plot(fine_granular_table['Date'], fine_granular_table['EVI'], c='r', label=\"EVI\")\n",
    "\n",
    "ax.scatter(fine_granular_table['Date'], fine_granular_table['EVI'], marker='o', s=25, c='b')\n",
    "\n",
    "ax.set_title(plot_title);\n",
    "ax.set(xlabel='DoY', ylabel='EVI')\n",
    "ax.legend(loc=\"best\");\n",
    "ax.grid(True)"
   ]
  },
  {
   "cell_type": "code",
   "execution_count": null,
   "metadata": {},
   "outputs": [],
   "source": []
  },
  {
   "cell_type": "code",
   "execution_count": null,
   "metadata": {},
   "outputs": [],
   "source": []
  },
  {
   "cell_type": "code",
   "execution_count": null,
   "metadata": {},
   "outputs": [],
   "source": []
  },
  {
   "cell_type": "code",
   "execution_count": null,
   "metadata": {},
   "outputs": [],
   "source": []
  },
  {
   "cell_type": "code",
   "execution_count": null,
   "metadata": {},
   "outputs": [],
   "source": []
  },
  {
   "cell_type": "code",
   "execution_count": null,
   "metadata": {},
   "outputs": [],
   "source": []
  },
  {
   "cell_type": "code",
   "execution_count": null,
   "metadata": {},
   "outputs": [],
   "source": []
  },
  {
   "cell_type": "code",
   "execution_count": null,
   "metadata": {},
   "outputs": [],
   "source": []
  },
  {
   "cell_type": "code",
   "execution_count": null,
   "metadata": {},
   "outputs": [],
   "source": []
  },
  {
   "cell_type": "code",
   "execution_count": null,
   "metadata": {},
   "outputs": [],
   "source": []
  },
  {
   "cell_type": "code",
   "execution_count": null,
   "metadata": {},
   "outputs": [],
   "source": []
  },
  {
   "cell_type": "code",
   "execution_count": null,
   "metadata": {},
   "outputs": [],
   "source": []
  },
  {
   "cell_type": "code",
   "execution_count": null,
   "metadata": {},
   "outputs": [],
   "source": []
  },
  {
   "cell_type": "code",
   "execution_count": null,
   "metadata": {},
   "outputs": [],
   "source": [
    "fine_granular_table = rc.addToDF_SOS_EOS_White(pd_TS = fine_granular_table, \n",
    "                                               VegIdx = indeks, \n",
    "                                               onset_thresh = onset_cut, \n",
    "                                               offset_thresh = offset_cut)"
   ]
  },
  {
   "cell_type": "code",
   "execution_count": null,
   "metadata": {},
   "outputs": [],
   "source": [
    "print(np.array(fine_granular_table.SOS))"
   ]
  },
  {
   "cell_type": "code",
   "execution_count": null,
   "metadata": {},
   "outputs": [],
   "source": [
    "fine_granular_table = rc.addToDF_SOS_EOS_White(pd_TS = fine_granular_table, \n",
    "                                               VegIdx = indeks, \n",
    "                                               onset_thresh = onset_cut, \n",
    "                                               offset_thresh = offset_cut)\n",
    "\n",
    "##\n",
    "##  Kill false detected seasons \n",
    "##\n",
    "fine_granular_table = rc.Null_SOS_EOS_by_DoYDiff(pd_TS = fine_granular_table, min_season_length=40)"
   ]
  },
  {
   "cell_type": "code",
   "execution_count": null,
   "metadata": {},
   "outputs": [],
   "source": [
    "SEOS = fine_granular_table[(fine_granular_table['SOS'] != 0) | fine_granular_table['EOS'] != 0]\n",
    "SEOS = SEOS.copy()\n",
    "# SEOS = SEOS.reset_index() # not needed really\n",
    "SOS_tb = fine_granular_table[fine_granular_table['SOS'] != 0]"
   ]
  },
  {
   "cell_type": "code",
   "execution_count": null,
   "metadata": {},
   "outputs": [],
   "source": [
    "fine_granular_table"
   ]
  },
  {
   "cell_type": "code",
   "execution_count": null,
   "metadata": {},
   "outputs": [],
   "source": []
  },
  {
   "cell_type": "code",
   "execution_count": null,
   "metadata": {},
   "outputs": [],
   "source": [
    "def fill_theGap_linearLine(regular_TS, V_idx, SF_year):\n",
    "\n",
    "    a_regularized_TS = regular_TS.copy()\n",
    "\n",
    "    if (len(a_regularized_TS.image_year.unique()) == 2):\n",
    "        x_axis = extract_XValues_of_2Yrs_TS(regularized_TS = a_regularized_TS, SF_yr = SF_year)\n",
    "    elif (len(a_regularized_TS.image_year.unique()) == 3):\n",
    "        x_axis = extract_XValues_of_3Yrs_TS(regularized_TS = a_regularized_TS, SF_yr = SF_year)\n",
    "    elif (len(a_regularized_TS.image_year.unique()) == 1):\n",
    "        x_axis = a_regularized_TS[\"doy\"].copy()\n",
    "\n",
    "    TS_array = a_regularized_TS[V_idx].copy().values\n",
    "\n",
    "    \"\"\"\n",
    "    TS_array[0] = -1.5\n",
    "    TS_array[51] = -1.5\n",
    "    TS_array[52] = -1.5\n",
    "    TS_array[53] = -1.5\n",
    "    TS_array.shape\n",
    "    \"\"\"\n",
    "\n",
    "    \"\"\"\n",
    "    -1.5 is an indicator of missing values by Sentinel, i.e. a gap.\n",
    "    The -1.5 was used as indicator in the function regularize_movingWindow_windowSteps_2Yrs()\n",
    "    \"\"\"\n",
    "    missing_indicies = np.where(TS_array == -1.5)[0]\n",
    "    Notmissing_indicies = np.where(TS_array != -1.5)[0]\n",
    "\n",
    "    #\n",
    "    #    Check if the first or last k values are missing\n",
    "    #    if so, replace them with proper number and shorten the task\n",
    "    #\n",
    "    left_pointer = Notmissing_indicies[0]\n",
    "    right_pointer = Notmissing_indicies[-1]\n",
    "\n",
    "    if left_pointer > 0:\n",
    "        TS_array[:left_pointer] = TS_array[left_pointer]\n",
    "\n",
    "    if right_pointer < (len(TS_array) - 1):\n",
    "        TS_array[right_pointer:] = TS_array[right_pointer]\n",
    "    #    \n",
    "    # update indexes.\n",
    "    #\n",
    "    missing_indicies = np.where(TS_array == -1.5)[0]\n",
    "    Notmissing_indicies = np.where(TS_array != -1.5)[0]\n",
    "\n",
    "    # left_pointer = Notmissing_indicies[0]\n",
    "    stop = right_pointer\n",
    "    right_pointer = left_pointer + 1\n",
    "\n",
    "    missing_indicies = np.where(TS_array == -1.5)[0]\n",
    "\n",
    "    while len(missing_indicies) > 0:\n",
    "        left_pointer = missing_indicies[0] - 1\n",
    "        left_value = TS_array[left_pointer]\n",
    "        \n",
    "        right_pointer = missing_indicies[0]\n",
    "        \n",
    "        while TS_array[right_pointer] == -1.5:\n",
    "            right_pointer += 1\n",
    "        \n",
    "        right_value = TS_array[right_pointer]\n",
    "        \n",
    "        if (right_pointer - left_pointer) == 2:\n",
    "            # if there is a single gap, then we have just average of the\n",
    "            # values\n",
    "            # Avoid extra computation!\n",
    "            #\n",
    "            TS_array[left_pointer + 1] = 0.5 * (TS_array[left_pointer] + TS_array[right_pointer])\n",
    "        else:\n",
    "            # form y= ax + b\n",
    "            slope = (right_value - left_value) / (x_axis[right_pointer] - x_axis[left_pointer]) # a\n",
    "            b = right_value - (slope * x_axis[right_pointer])\n",
    "            TS_array[left_pointer+1 : right_pointer] = slope * x_axis[left_pointer+1 : right_pointer] + b\n",
    "            missing_indicies = np.where(TS_array == -1.5)[0]\n",
    "            \n",
    "        \n",
    "    a_regularized_TS[V_idx] = TS_array\n",
    "    return (a_regularized_TS)\n"
   ]
  },
  {
   "cell_type": "code",
   "execution_count": null,
   "metadata": {},
   "outputs": [],
   "source": [
    "import numpy as np\n",
    "\n",
    "array = [1, 2, 1, 3, 4, 5, 1]\n",
    "item = 1\n",
    "np_array = np.array(array)\n",
    "item_index = np.where(np_array==item)\n",
    "print (item_index)"
   ]
  },
  {
   "cell_type": "code",
   "execution_count": null,
   "metadata": {},
   "outputs": [],
   "source": [
    "TS_array = np.array(TS_array)\n",
    "item_index = np.where(TS_array == -1.5)\n",
    "print (item_index)"
   ]
  },
  {
   "cell_type": "code",
   "execution_count": null,
   "metadata": {},
   "outputs": [],
   "source": [
    "TS_array[2]"
   ]
  },
  {
   "cell_type": "code",
   "execution_count": null,
   "metadata": {},
   "outputs": [],
   "source": [
    "TS_array[0:10]"
   ]
  },
  {
   "cell_type": "code",
   "execution_count": null,
   "metadata": {},
   "outputs": [],
   "source": []
  }
 ],
 "metadata": {
  "kernelspec": {
   "display_name": "Python 3",
   "language": "python",
   "name": "python3"
  },
  "language_info": {
   "codemirror_mode": {
    "name": "ipython",
    "version": 3
   },
   "file_extension": ".py",
   "mimetype": "text/x-python",
   "name": "python",
   "nbconvert_exporter": "python",
   "pygments_lexer": "ipython3",
   "version": "3.7.4"
  }
 },
 "nbformat": 4,
 "nbformat_minor": 2
}
