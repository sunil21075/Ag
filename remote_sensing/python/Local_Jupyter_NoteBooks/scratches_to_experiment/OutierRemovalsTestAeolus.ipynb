{
 "cells": [
  {
   "cell_type": "markdown",
   "metadata": {},
   "source": [
    "Some of the outlier removals fail on Aeolus, we need to fix that."
   ]
  },
  {
   "cell_type": "code",
   "execution_count": 2,
   "metadata": {},
   "outputs": [],
   "source": [
    "####\n",
    "#### July 23, 2020\n",
    "####\n",
    "\n",
    "\"\"\"\n",
    "  remove outliers that are beyond -1 and 1 in NDVI and EVI.\n",
    "  Looking at 2017 data I did not see any NDVI beyond those boundaries. \n",
    "  EVI had outliers only.\n",
    "\"\"\"\n",
    "\n",
    "import csv\n",
    "import numpy as np\n",
    "import pandas as pd\n",
    "# import geopandas as gpd\n",
    "from IPython.display import Image\n",
    "# from shapely.geometry import Point, Polygon\n",
    "from math import factorial\n",
    "import scipy\n",
    "import scipy.signal\n",
    "import os, os.path\n",
    "\n",
    "from datetime import date\n",
    "import datetime\n",
    "import time\n",
    "\n",
    "from statsmodels.sandbox.regression.predstd import wls_prediction_std\n",
    "from sklearn.linear_model import LinearRegression\n",
    "from patsy import cr\n",
    "\n",
    "# from pprint import pprint\n",
    "import matplotlib.pyplot as plt\n",
    "import seaborn as sb\n",
    "\n",
    "import sys\n",
    "start_time = time.time()"
   ]
  },
  {
   "cell_type": "code",
   "execution_count": 3,
   "metadata": {},
   "outputs": [],
   "source": [
    "sys.path.append('/Users/hn/Documents/00_GitHub/Ag/remote_sensing/python/')\n",
    "import remote_sensing_core as rc\n",
    "import remote_sensing_core as rcp"
   ]
  },
  {
   "cell_type": "code",
   "execution_count": 4,
   "metadata": {},
   "outputs": [],
   "source": [
    "indeks = \"EVI\"\n",
    "SF_year = \"2015\"\n",
    "county = \"Chelan\"\n",
    "cloud_type = \"30_cloud_max\""
   ]
  },
  {
   "cell_type": "code",
   "execution_count": 19,
   "metadata": {},
   "outputs": [],
   "source": [
    "data_dir = \"/Users/hn/Documents/01_research_data/remote_sensing/01_NDVI_TS/30_cloud_max/\"\n",
    "an_EE_TS = pd.read_csv(data_dir + \"Eastern_WA_2015_30cloud_selectors_max.csv\", low_memory=False)"
   ]
  },
  {
   "cell_type": "code",
   "execution_count": 20,
   "metadata": {},
   "outputs": [
    {
     "name": "stdout",
     "output_type": "stream",
     "text": [
      "(3095917, 25)\n",
      "['Franklin' 'Benton' 'Yakima' 'Spokane' 'Klickitat' 'Stevens' 'Adams'\n",
      " 'Pend Oreille' 'Okanogan' 'Walla Walla' 'Ferry' 'Grant' 'Columbia'\n",
      " 'Douglas' 'Chelan' 'Kittitas' 'Lincoln' 'Whitman' 'Garfield' 'Asotin']\n"
     ]
    }
   ],
   "source": [
    "print (an_EE_TS.shape)\n",
    "print (an_EE_TS.county.unique())"
   ]
  },
  {
   "cell_type": "code",
   "execution_count": 21,
   "metadata": {},
   "outputs": [],
   "source": [
    "an_EE_TS = an_EE_TS[an_EE_TS['county'] == county] # Filter county\n",
    "an_EE_TS['SF_year'] = SF_year"
   ]
  },
  {
   "cell_type": "code",
   "execution_count": 22,
   "metadata": {},
   "outputs": [
    {
     "name": "stdout",
     "output_type": "stream",
     "text": [
      "(86621, 26)\n",
      "['Chelan']\n",
      "4559\n"
     ]
    }
   ],
   "source": [
    "print (an_EE_TS.shape)\n",
    "print (an_EE_TS.county.unique())\n",
    "print (len(an_EE_TS.ID.unique()))"
   ]
  },
  {
   "cell_type": "code",
   "execution_count": null,
   "metadata": {},
   "outputs": [],
   "source": []
  },
  {
   "cell_type": "code",
   "execution_count": 17,
   "metadata": {},
   "outputs": [],
   "source": [
    "if (indeks == \"EVI\"):\n",
    "    an_EE_TS = rc.initial_clean_EVI(an_EE_TS)\n",
    "else:\n",
    "    an_EE_TS = rc.initial_clean_NDVI(an_EE_TS)"
   ]
  },
  {
   "cell_type": "code",
   "execution_count": 18,
   "metadata": {},
   "outputs": [
    {
     "name": "stdout",
     "output_type": "stream",
     "text": [
      "(286, 26)\n",
      "['Chelan']\n",
      "276\n"
     ]
    }
   ],
   "source": [
    "print (an_EE_TS.shape)\n",
    "print (an_EE_TS.county.unique())\n",
    "print (len(an_EE_TS.ID.unique()))"
   ]
  },
  {
   "cell_type": "code",
   "execution_count": null,
   "metadata": {},
   "outputs": [],
   "source": []
  }
 ],
 "metadata": {
  "kernelspec": {
   "display_name": "Python 3",
   "language": "python",
   "name": "python3"
  },
  "language_info": {
   "codemirror_mode": {
    "name": "ipython",
    "version": 3
   },
   "file_extension": ".py",
   "mimetype": "text/x-python",
   "name": "python",
   "nbconvert_exporter": "python",
   "pygments_lexer": "ipython3",
   "version": "3.7.4"
  }
 },
 "nbformat": 4,
 "nbformat_minor": 2
}
