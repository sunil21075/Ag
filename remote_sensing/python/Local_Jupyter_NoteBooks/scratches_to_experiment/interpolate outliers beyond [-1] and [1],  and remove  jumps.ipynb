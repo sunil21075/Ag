{
 "cells": [
  {
   "cell_type": "markdown",
   "metadata": {},
   "source": [
    "This is scratch to replace the outliers of NDVI and EVI that are beyond 1 and -1"
   ]
  },
  {
   "cell_type": "code",
   "execution_count": 1,
   "metadata": {},
   "outputs": [],
   "source": [
    "import csv\n",
    "import numpy as np\n",
    "import pandas as pd\n",
    "# import geopandas as gpd\n",
    "from IPython.display import Image\n",
    "# from shapely.geometry import Point, Polygon\n",
    "from math import factorial\n",
    "import scipy\n",
    "import scipy.signal\n",
    "import os, os.path\n",
    "\n",
    "from datetime import date\n",
    "import datetime\n",
    "import time\n",
    "\n",
    "from statsmodels.sandbox.regression.predstd import wls_prediction_std\n",
    "from sklearn.linear_model import LinearRegression\n",
    "from patsy import cr\n",
    "\n",
    "# from pprint import pprint\n",
    "import matplotlib.pyplot as plt\n",
    "import seaborn as sb\n",
    "\n",
    "import sys"
   ]
  },
  {
   "cell_type": "code",
   "execution_count": 2,
   "metadata": {},
   "outputs": [],
   "source": [
    "sys.path.append('/Users/hn/Documents/00_GitHub/Ag/remote_sensing/python/')\n",
    "import remote_sensing_core as rc\n",
    "import remote_sensing_core as rcp\n",
    "\n",
    "start_time = time.time()"
   ]
  },
  {
   "cell_type": "code",
   "execution_count": 3,
   "metadata": {},
   "outputs": [],
   "source": [
    "data_dir = \"/Users/hn/Documents/01_research_data/\" + \\\n",
    "           \"remote_sensing/01_NDVI_TS/00_Eastern_WA_withYear/2Years/\"\n",
    "\n",
    "param_dir = \"/Users/hn/Documents/00_GitHub/Ag/remote_sensing/parameters/\""
   ]
  },
  {
   "cell_type": "markdown",
   "metadata": {},
   "source": [
    "# Parameters"
   ]
  },
  {
   "cell_type": "code",
   "execution_count": 5,
   "metadata": {},
   "outputs": [],
   "source": [
    "####################################################################################\n",
    "###\n",
    "###      Parameters                   \n",
    "###\n",
    "####################################################################################\n",
    "\n",
    "SF_year = 2017\n",
    "indeks = \"EVI\""
   ]
  },
  {
   "cell_type": "markdown",
   "metadata": {},
   "source": [
    "# Read the data"
   ]
  },
  {
   "cell_type": "code",
   "execution_count": 6,
   "metadata": {},
   "outputs": [],
   "source": [
    "f_name = \"Eastern_WA_\" + str(SF_year) + \"_70cloud_selectors.csv\"\n",
    "a_df = pd.read_csv(data_dir + f_name, low_memory=False)\n",
    "\n",
    "##################################################################\n",
    "##################################################################\n",
    "####\n",
    "####  plots has to be exact. So, we need \n",
    "####  to filter out NASS, and filter by last survey date\n",
    "####\n",
    "##################################################################\n",
    "##################################################################\n",
    "\n",
    "a_df = a_df[a_df['county']== \"Grant\"] # Filter Grant\n",
    "# a_df = rc.filter_out_NASS(a_df) # Toss NASS\n",
    "# a_df = rc.filter_by_lastSurvey(a_df, year = SF_year) # filter by last survey date\n",
    "a_df['SF_year'] = SF_year\n"
   ]
  },
  {
   "cell_type": "markdown",
   "metadata": {},
   "source": [
    "# Get a field's data"
   ]
  },
  {
   "cell_type": "code",
   "execution_count": 7,
   "metadata": {},
   "outputs": [],
   "source": [
    "a_df.reset_index(drop=True, inplace=True)"
   ]
  },
  {
   "cell_type": "code",
   "execution_count": 8,
   "metadata": {},
   "outputs": [
    {
     "data": {
      "text/plain": [
       "(4744940, 26)"
      ]
     },
     "execution_count": 8,
     "metadata": {},
     "output_type": "execute_result"
    }
   ],
   "source": [
    "a_df.shape"
   ]
  },
  {
   "cell_type": "markdown",
   "metadata": {},
   "source": [
    "# pick a field that has outliers"
   ]
  },
  {
   "cell_type": "code",
   "execution_count": 9,
   "metadata": {},
   "outputs": [],
   "source": [
    "a_clean_df_EVI = rc.initial_clean_EVI(a_df)\n",
    "clean_df_with_outliers = a_clean_df_EVI[a_clean_df_EVI.EVI > 1]\n",
    "clean_df_with_outliers.reset_index(drop=True, inplace=True)"
   ]
  },
  {
   "cell_type": "code",
   "execution_count": 10,
   "metadata": {},
   "outputs": [
    {
     "name": "stdout",
     "output_type": "stream",
     "text": [
      "(268, 26)\n",
      "(57, 26)\n",
      "\n",
      "0.815794653490361\n",
      "0.03896769117695066\n",
      "1.5\n",
      "0.04831437323534887\n",
      "(57, 26)\n"
     ]
    }
   ],
   "source": [
    "a_df_1 = a_df[a_df.ID == clean_df_with_outliers.ID[0]]\n",
    "print (a_df_1.shape)\n",
    "\n",
    "a_df_1 = rc.initial_clean_EVI(a_df_1)\n",
    "# a_df_1.sort_values(by=['system_start_time'], inplace=True)\n",
    "a_df_1.sort_values(by=['image_year', 'doy'], inplace=True)\n",
    "print (a_df_1.shape)\n",
    "print()\n",
    "print (max(a_df_1.NDVI))\n",
    "print (min(a_df_1.NDVI))\n",
    "\n",
    "print (max(a_df_1.EVI))\n",
    "print (min(a_df_1.EVI))\n",
    "print(a_df_1.shape)"
   ]
  },
  {
   "cell_type": "code",
   "execution_count": 11,
   "metadata": {},
   "outputs": [
    {
     "data": {
      "text/plain": [
       "(57, 26)"
      ]
     },
     "execution_count": 11,
     "metadata": {},
     "output_type": "execute_result"
    }
   ],
   "source": [
    "a_df_1.shape"
   ]
  },
  {
   "cell_type": "raw",
   "metadata": {},
   "source": [
    "print (time.strftime('%Y-%m-%d', time.localtime(a_df_1.system_start_time.iloc[0]/1000)))\n",
    "\n",
    "from calendar import timegm\n",
    "\n",
    "utc_time = time.strptime(\"2016-08-03\", \"%Y-%m-%d\")\n",
    "epoch_time = timegm(utc_time)\n",
    "print (epoch_time)\n",
    "print (a_df_1.system_start_time.iloc[0]/1000)"
   ]
  },
  {
   "cell_type": "code",
   "execution_count": 12,
   "metadata": {},
   "outputs": [],
   "source": [
    "given_col = \"EVI\"\n",
    "ZZ = a_df_1.copy()"
   ]
  },
  {
   "cell_type": "code",
   "execution_count": 13,
   "metadata": {},
   "outputs": [
    {
     "name": "stdout",
     "output_type": "stream",
     "text": [
      "(57, 26)\n",
      "(57, 26)\n"
     ]
    }
   ],
   "source": [
    "print (ZZ.shape)\n",
    "print(a_df_1.shape)"
   ]
  },
  {
   "cell_type": "code",
   "execution_count": 14,
   "metadata": {},
   "outputs": [
    {
     "data": {
      "text/html": [
       "<div>\n",
       "<style scoped>\n",
       "    .dataframe tbody tr th:only-of-type {\n",
       "        vertical-align: middle;\n",
       "    }\n",
       "\n",
       "    .dataframe tbody tr th {\n",
       "        vertical-align: top;\n",
       "    }\n",
       "\n",
       "    .dataframe thead th {\n",
       "        text-align: right;\n",
       "    }\n",
       "</style>\n",
       "<table border=\"1\" class=\"dataframe\">\n",
       "  <thead>\n",
       "    <tr style=\"text-align: right;\">\n",
       "      <th></th>\n",
       "      <th>ID</th>\n",
       "      <th>Acres</th>\n",
       "      <th>BSI</th>\n",
       "      <th>county</th>\n",
       "      <th>CropGrp</th>\n",
       "      <th>CropTyp</th>\n",
       "      <th>DataSrc</th>\n",
       "      <th>doy</th>\n",
       "      <th>EVI</th>\n",
       "      <th>ExctAcr</th>\n",
       "      <th>...</th>\n",
       "      <th>Notes</th>\n",
       "      <th>PSRI</th>\n",
       "      <th>RtCrpTy</th>\n",
       "      <th>Shap_Ar</th>\n",
       "      <th>Shp_Lng</th>\n",
       "      <th>system_start_time</th>\n",
       "      <th>TRS</th>\n",
       "      <th>image_year</th>\n",
       "      <th>B8</th>\n",
       "      <th>SF_year</th>\n",
       "    </tr>\n",
       "  </thead>\n",
       "  <tbody>\n",
       "    <tr>\n",
       "      <td>18400</td>\n",
       "      <td>107509_WSDA_SF_2017</td>\n",
       "      <td>120.0</td>\n",
       "      <td>-0.379966</td>\n",
       "      <td>Grant</td>\n",
       "      <td>Hay/Silage</td>\n",
       "      <td>timothy</td>\n",
       "      <td>wsda</td>\n",
       "      <td>215.0</td>\n",
       "      <td>1.500000</td>\n",
       "      <td>120.245957</td>\n",
       "      <td>...</td>\n",
       "      <td>NaN</td>\n",
       "      <td>-0.108302</td>\n",
       "      <td>Alfalfa Hay</td>\n",
       "      <td>486618.122925</td>\n",
       "      <td>2554.280525</td>\n",
       "      <td>1.470250e+12</td>\n",
       "      <td>T15R23E27</td>\n",
       "      <td>2016</td>\n",
       "      <td>0.564784</td>\n",
       "      <td>2017</td>\n",
       "    </tr>\n",
       "    <tr>\n",
       "      <td>89220</td>\n",
       "      <td>107509_WSDA_SF_2017</td>\n",
       "      <td>120.0</td>\n",
       "      <td>-0.471686</td>\n",
       "      <td>Grant</td>\n",
       "      <td>Hay/Silage</td>\n",
       "      <td>timothy</td>\n",
       "      <td>wsda</td>\n",
       "      <td>228.0</td>\n",
       "      <td>0.897852</td>\n",
       "      <td>120.245957</td>\n",
       "      <td>...</td>\n",
       "      <td>NaN</td>\n",
       "      <td>-0.080714</td>\n",
       "      <td>Alfalfa Hay</td>\n",
       "      <td>486618.122925</td>\n",
       "      <td>2554.280525</td>\n",
       "      <td>1.471375e+12</td>\n",
       "      <td>T15R23E27</td>\n",
       "      <td>2016</td>\n",
       "      <td>0.451564</td>\n",
       "      <td>2017</td>\n",
       "    </tr>\n",
       "  </tbody>\n",
       "</table>\n",
       "<p>2 rows × 26 columns</p>\n",
       "</div>"
      ],
      "text/plain": [
       "                        ID  Acres       BSI county     CropGrp  CropTyp  \\\n",
       "18400  107509_WSDA_SF_2017  120.0 -0.379966  Grant  Hay/Silage  timothy   \n",
       "89220  107509_WSDA_SF_2017  120.0 -0.471686  Grant  Hay/Silage  timothy   \n",
       "\n",
       "      DataSrc    doy       EVI     ExctAcr  ... Notes      PSRI      RtCrpTy  \\\n",
       "18400    wsda  215.0  1.500000  120.245957  ...   NaN -0.108302  Alfalfa Hay   \n",
       "89220    wsda  228.0  0.897852  120.245957  ...   NaN -0.080714  Alfalfa Hay   \n",
       "\n",
       "             Shap_Ar      Shp_Lng  system_start_time        TRS  image_year  \\\n",
       "18400  486618.122925  2554.280525       1.470250e+12  T15R23E27        2016   \n",
       "89220  486618.122925  2554.280525       1.471375e+12  T15R23E27        2016   \n",
       "\n",
       "             B8  SF_year  \n",
       "18400  0.564784     2017  \n",
       "89220  0.451564     2017  \n",
       "\n",
       "[2 rows x 26 columns]"
      ]
     },
     "execution_count": 14,
     "metadata": {},
     "output_type": "execute_result"
    }
   ],
   "source": [
    "a_df_1.head(2)"
   ]
  },
  {
   "cell_type": "code",
   "execution_count": 15,
   "metadata": {},
   "outputs": [
    {
     "name": "stdout",
     "output_type": "stream",
     "text": [
      "(57, 26)\n"
     ]
    },
    {
     "data": {
      "text/plain": [
       "(57, 26)"
      ]
     },
     "execution_count": 15,
     "metadata": {},
     "output_type": "execute_result"
    }
   ],
   "source": [
    "a_df_1.reset_index(drop=True, inplace=True)\n",
    "print(a_df_1.shape) \n",
    "\n",
    "a_df_1.loc[1, given_col] = 2\n",
    "a_df_1.loc[8, given_col] = 2\n",
    "\n",
    "a_df_1.loc[20, given_col] = -2\n",
    "a_df_1.loc[21, given_col] = -2\n",
    "a_df_1.loc[22, given_col] = -2\n",
    "a_df_1.loc[23, given_col] = -2\n",
    "a_df_1.loc[25, given_col] = -2\n",
    "a_df_1.loc[30, given_col] = 2\n",
    "a_df_1.loc[31, given_col] = -2\n",
    "a_df_1.loc[35, given_col] = -2\n",
    "a_df_1.loc[45, given_col] = -2\n",
    "\n",
    "a_df_1.loc[55, given_col] = -2\n",
    "a_df_1.loc[56, given_col] = -2\n",
    "a_df_1.shape"
   ]
  },
  {
   "cell_type": "code",
   "execution_count": 16,
   "metadata": {},
   "outputs": [],
   "source": [
    "clean_a_df_1 = rc.interpolate_outliers_EVI_NDVI(outlier_input = a_df_1 , given_col=\"EVI\")"
   ]
  },
  {
   "cell_type": "code",
   "execution_count": 17,
   "metadata": {},
   "outputs": [
    {
     "data": {
      "text/html": [
       "<div>\n",
       "<style scoped>\n",
       "    .dataframe tbody tr th:only-of-type {\n",
       "        vertical-align: middle;\n",
       "    }\n",
       "\n",
       "    .dataframe tbody tr th {\n",
       "        vertical-align: top;\n",
       "    }\n",
       "\n",
       "    .dataframe thead th {\n",
       "        text-align: right;\n",
       "    }\n",
       "</style>\n",
       "<table border=\"1\" class=\"dataframe\">\n",
       "  <thead>\n",
       "    <tr style=\"text-align: right;\">\n",
       "      <th></th>\n",
       "      <th>ID</th>\n",
       "      <th>Acres</th>\n",
       "      <th>BSI</th>\n",
       "      <th>county</th>\n",
       "      <th>CropGrp</th>\n",
       "      <th>CropTyp</th>\n",
       "      <th>DataSrc</th>\n",
       "      <th>doy</th>\n",
       "      <th>EVI</th>\n",
       "      <th>ExctAcr</th>\n",
       "      <th>...</th>\n",
       "      <th>Notes</th>\n",
       "      <th>PSRI</th>\n",
       "      <th>RtCrpTy</th>\n",
       "      <th>Shap_Ar</th>\n",
       "      <th>Shp_Lng</th>\n",
       "      <th>system_start_time</th>\n",
       "      <th>TRS</th>\n",
       "      <th>image_year</th>\n",
       "      <th>B8</th>\n",
       "      <th>SF_year</th>\n",
       "    </tr>\n",
       "  </thead>\n",
       "  <tbody>\n",
       "    <tr>\n",
       "      <td>8</td>\n",
       "      <td>107509_WSDA_SF_2017</td>\n",
       "      <td>120.0</td>\n",
       "      <td>0.012000</td>\n",
       "      <td>Grant</td>\n",
       "      <td>Hay/Silage</td>\n",
       "      <td>timothy</td>\n",
       "      <td>wsda</td>\n",
       "      <td>295.0</td>\n",
       "      <td>0.284171</td>\n",
       "      <td>120.245957</td>\n",
       "      <td>...</td>\n",
       "      <td>NaN</td>\n",
       "      <td>0.068787</td>\n",
       "      <td>Alfalfa Hay</td>\n",
       "      <td>486618.122925</td>\n",
       "      <td>2554.280525</td>\n",
       "      <td>1.477162e+12</td>\n",
       "      <td>T15R23E27</td>\n",
       "      <td>2016</td>\n",
       "      <td>0.183269</td>\n",
       "      <td>2017</td>\n",
       "    </tr>\n",
       "    <tr>\n",
       "      <td>9</td>\n",
       "      <td>107509_WSDA_SF_2017</td>\n",
       "      <td>120.0</td>\n",
       "      <td>0.050765</td>\n",
       "      <td>Grant</td>\n",
       "      <td>Hay/Silage</td>\n",
       "      <td>timothy</td>\n",
       "      <td>wsda</td>\n",
       "      <td>305.0</td>\n",
       "      <td>0.138725</td>\n",
       "      <td>120.245957</td>\n",
       "      <td>...</td>\n",
       "      <td>NaN</td>\n",
       "      <td>0.030926</td>\n",
       "      <td>Alfalfa Hay</td>\n",
       "      <td>486618.122925</td>\n",
       "      <td>2554.280525</td>\n",
       "      <td>1.478027e+12</td>\n",
       "      <td>T15R23E27</td>\n",
       "      <td>2016</td>\n",
       "      <td>0.144146</td>\n",
       "      <td>2017</td>\n",
       "    </tr>\n",
       "    <tr>\n",
       "      <td>10</td>\n",
       "      <td>107509_WSDA_SF_2017</td>\n",
       "      <td>120.0</td>\n",
       "      <td>0.044663</td>\n",
       "      <td>Grant</td>\n",
       "      <td>Hay/Silage</td>\n",
       "      <td>timothy</td>\n",
       "      <td>wsda</td>\n",
       "      <td>308.0</td>\n",
       "      <td>0.142062</td>\n",
       "      <td>120.245957</td>\n",
       "      <td>...</td>\n",
       "      <td>NaN</td>\n",
       "      <td>0.029841</td>\n",
       "      <td>Alfalfa Hay</td>\n",
       "      <td>486618.122925</td>\n",
       "      <td>2554.280525</td>\n",
       "      <td>1.478286e+12</td>\n",
       "      <td>T15R23E27</td>\n",
       "      <td>2016</td>\n",
       "      <td>0.151878</td>\n",
       "      <td>2017</td>\n",
       "    </tr>\n",
       "    <tr>\n",
       "      <td>11</td>\n",
       "      <td>107509_WSDA_SF_2017</td>\n",
       "      <td>120.0</td>\n",
       "      <td>0.065388</td>\n",
       "      <td>Grant</td>\n",
       "      <td>Hay/Silage</td>\n",
       "      <td>timothy</td>\n",
       "      <td>wsda</td>\n",
       "      <td>335.0</td>\n",
       "      <td>0.077013</td>\n",
       "      <td>120.245957</td>\n",
       "      <td>...</td>\n",
       "      <td>NaN</td>\n",
       "      <td>0.065315</td>\n",
       "      <td>Alfalfa Hay</td>\n",
       "      <td>486618.122925</td>\n",
       "      <td>2554.280525</td>\n",
       "      <td>1.480619e+12</td>\n",
       "      <td>T15R23E27</td>\n",
       "      <td>2016</td>\n",
       "      <td>0.149623</td>\n",
       "      <td>2017</td>\n",
       "    </tr>\n",
       "    <tr>\n",
       "      <td>12</td>\n",
       "      <td>107509_WSDA_SF_2017</td>\n",
       "      <td>120.0</td>\n",
       "      <td>-0.082110</td>\n",
       "      <td>Grant</td>\n",
       "      <td>Hay/Silage</td>\n",
       "      <td>timothy</td>\n",
       "      <td>wsda</td>\n",
       "      <td>355.0</td>\n",
       "      <td>0.048314</td>\n",
       "      <td>120.245957</td>\n",
       "      <td>...</td>\n",
       "      <td>NaN</td>\n",
       "      <td>-0.042852</td>\n",
       "      <td>Alfalfa Hay</td>\n",
       "      <td>486618.122925</td>\n",
       "      <td>2554.280525</td>\n",
       "      <td>1.482347e+12</td>\n",
       "      <td>T15R23E27</td>\n",
       "      <td>2016</td>\n",
       "      <td>0.113291</td>\n",
       "      <td>2017</td>\n",
       "    </tr>\n",
       "  </tbody>\n",
       "</table>\n",
       "<p>5 rows × 26 columns</p>\n",
       "</div>"
      ],
      "text/plain": [
       "                     ID  Acres       BSI county     CropGrp  CropTyp DataSrc  \\\n",
       "8   107509_WSDA_SF_2017  120.0  0.012000  Grant  Hay/Silage  timothy    wsda   \n",
       "9   107509_WSDA_SF_2017  120.0  0.050765  Grant  Hay/Silage  timothy    wsda   \n",
       "10  107509_WSDA_SF_2017  120.0  0.044663  Grant  Hay/Silage  timothy    wsda   \n",
       "11  107509_WSDA_SF_2017  120.0  0.065388  Grant  Hay/Silage  timothy    wsda   \n",
       "12  107509_WSDA_SF_2017  120.0 -0.082110  Grant  Hay/Silage  timothy    wsda   \n",
       "\n",
       "      doy       EVI     ExctAcr  ... Notes      PSRI      RtCrpTy  \\\n",
       "8   295.0  0.284171  120.245957  ...   NaN  0.068787  Alfalfa Hay   \n",
       "9   305.0  0.138725  120.245957  ...   NaN  0.030926  Alfalfa Hay   \n",
       "10  308.0  0.142062  120.245957  ...   NaN  0.029841  Alfalfa Hay   \n",
       "11  335.0  0.077013  120.245957  ...   NaN  0.065315  Alfalfa Hay   \n",
       "12  355.0  0.048314  120.245957  ...   NaN -0.042852  Alfalfa Hay   \n",
       "\n",
       "          Shap_Ar      Shp_Lng  system_start_time        TRS  image_year  \\\n",
       "8   486618.122925  2554.280525       1.477162e+12  T15R23E27        2016   \n",
       "9   486618.122925  2554.280525       1.478027e+12  T15R23E27        2016   \n",
       "10  486618.122925  2554.280525       1.478286e+12  T15R23E27        2016   \n",
       "11  486618.122925  2554.280525       1.480619e+12  T15R23E27        2016   \n",
       "12  486618.122925  2554.280525       1.482347e+12  T15R23E27        2016   \n",
       "\n",
       "          B8  SF_year  \n",
       "8   0.183269     2017  \n",
       "9   0.144146     2017  \n",
       "10  0.151878     2017  \n",
       "11  0.149623     2017  \n",
       "12  0.113291     2017  \n",
       "\n",
       "[5 rows x 26 columns]"
      ]
     },
     "execution_count": 17,
     "metadata": {},
     "output_type": "execute_result"
    }
   ],
   "source": [
    "clean_a_df_1.loc[8:12]"
   ]
  },
  {
   "cell_type": "code",
   "execution_count": 18,
   "metadata": {},
   "outputs": [
    {
     "data": {
      "text/html": [
       "<div>\n",
       "<style scoped>\n",
       "    .dataframe tbody tr th:only-of-type {\n",
       "        vertical-align: middle;\n",
       "    }\n",
       "\n",
       "    .dataframe tbody tr th {\n",
       "        vertical-align: top;\n",
       "    }\n",
       "\n",
       "    .dataframe thead th {\n",
       "        text-align: right;\n",
       "    }\n",
       "</style>\n",
       "<table border=\"1\" class=\"dataframe\">\n",
       "  <thead>\n",
       "    <tr style=\"text-align: right;\">\n",
       "      <th></th>\n",
       "      <th>ID</th>\n",
       "      <th>Acres</th>\n",
       "      <th>BSI</th>\n",
       "      <th>county</th>\n",
       "      <th>CropGrp</th>\n",
       "      <th>CropTyp</th>\n",
       "      <th>DataSrc</th>\n",
       "      <th>doy</th>\n",
       "      <th>EVI</th>\n",
       "      <th>ExctAcr</th>\n",
       "      <th>...</th>\n",
       "      <th>Notes</th>\n",
       "      <th>PSRI</th>\n",
       "      <th>RtCrpTy</th>\n",
       "      <th>Shap_Ar</th>\n",
       "      <th>Shp_Lng</th>\n",
       "      <th>system_start_time</th>\n",
       "      <th>TRS</th>\n",
       "      <th>image_year</th>\n",
       "      <th>B8</th>\n",
       "      <th>SF_year</th>\n",
       "    </tr>\n",
       "  </thead>\n",
       "  <tbody>\n",
       "    <tr>\n",
       "      <td>0</td>\n",
       "      <td>107509_WSDA_SF_2017</td>\n",
       "      <td>120.0</td>\n",
       "      <td>-0.379966</td>\n",
       "      <td>Grant</td>\n",
       "      <td>Hay/Silage</td>\n",
       "      <td>timothy</td>\n",
       "      <td>wsda</td>\n",
       "      <td>215.0</td>\n",
       "      <td>1.500000</td>\n",
       "      <td>120.245957</td>\n",
       "      <td>...</td>\n",
       "      <td>NaN</td>\n",
       "      <td>-0.108302</td>\n",
       "      <td>Alfalfa Hay</td>\n",
       "      <td>486618.122925</td>\n",
       "      <td>2554.280525</td>\n",
       "      <td>1.470250e+12</td>\n",
       "      <td>T15R23E27</td>\n",
       "      <td>2016</td>\n",
       "      <td>0.564784</td>\n",
       "      <td>2017</td>\n",
       "    </tr>\n",
       "    <tr>\n",
       "      <td>1</td>\n",
       "      <td>107509_WSDA_SF_2017</td>\n",
       "      <td>120.0</td>\n",
       "      <td>-0.471686</td>\n",
       "      <td>Grant</td>\n",
       "      <td>Hay/Silage</td>\n",
       "      <td>timothy</td>\n",
       "      <td>wsda</td>\n",
       "      <td>228.0</td>\n",
       "      <td>2.000000</td>\n",
       "      <td>120.245957</td>\n",
       "      <td>...</td>\n",
       "      <td>NaN</td>\n",
       "      <td>-0.080714</td>\n",
       "      <td>Alfalfa Hay</td>\n",
       "      <td>486618.122925</td>\n",
       "      <td>2554.280525</td>\n",
       "      <td>1.471375e+12</td>\n",
       "      <td>T15R23E27</td>\n",
       "      <td>2016</td>\n",
       "      <td>0.451564</td>\n",
       "      <td>2017</td>\n",
       "    </tr>\n",
       "    <tr>\n",
       "      <td>2</td>\n",
       "      <td>107509_WSDA_SF_2017</td>\n",
       "      <td>120.0</td>\n",
       "      <td>-0.425461</td>\n",
       "      <td>Grant</td>\n",
       "      <td>Hay/Silage</td>\n",
       "      <td>timothy</td>\n",
       "      <td>wsda</td>\n",
       "      <td>235.0</td>\n",
       "      <td>0.897598</td>\n",
       "      <td>120.245957</td>\n",
       "      <td>...</td>\n",
       "      <td>NaN</td>\n",
       "      <td>-0.078930</td>\n",
       "      <td>Alfalfa Hay</td>\n",
       "      <td>486618.122925</td>\n",
       "      <td>2554.280525</td>\n",
       "      <td>1.471979e+12</td>\n",
       "      <td>T15R23E27</td>\n",
       "      <td>2016</td>\n",
       "      <td>0.459508</td>\n",
       "      <td>2017</td>\n",
       "    </tr>\n",
       "    <tr>\n",
       "      <td>3</td>\n",
       "      <td>107509_WSDA_SF_2017</td>\n",
       "      <td>120.0</td>\n",
       "      <td>-0.194313</td>\n",
       "      <td>Grant</td>\n",
       "      <td>Hay/Silage</td>\n",
       "      <td>timothy</td>\n",
       "      <td>wsda</td>\n",
       "      <td>245.0</td>\n",
       "      <td>0.693495</td>\n",
       "      <td>120.245957</td>\n",
       "      <td>...</td>\n",
       "      <td>NaN</td>\n",
       "      <td>-0.044603</td>\n",
       "      <td>Alfalfa Hay</td>\n",
       "      <td>486618.122925</td>\n",
       "      <td>2554.280525</td>\n",
       "      <td>1.472843e+12</td>\n",
       "      <td>T15R23E27</td>\n",
       "      <td>2016</td>\n",
       "      <td>0.434905</td>\n",
       "      <td>2017</td>\n",
       "    </tr>\n",
       "    <tr>\n",
       "      <td>4</td>\n",
       "      <td>107509_WSDA_SF_2017</td>\n",
       "      <td>120.0</td>\n",
       "      <td>-0.422894</td>\n",
       "      <td>Grant</td>\n",
       "      <td>Hay/Silage</td>\n",
       "      <td>timothy</td>\n",
       "      <td>wsda</td>\n",
       "      <td>248.0</td>\n",
       "      <td>0.908730</td>\n",
       "      <td>120.245957</td>\n",
       "      <td>...</td>\n",
       "      <td>NaN</td>\n",
       "      <td>-0.083305</td>\n",
       "      <td>Alfalfa Hay</td>\n",
       "      <td>486618.122925</td>\n",
       "      <td>2554.280525</td>\n",
       "      <td>1.473102e+12</td>\n",
       "      <td>T15R23E27</td>\n",
       "      <td>2016</td>\n",
       "      <td>0.472898</td>\n",
       "      <td>2017</td>\n",
       "    </tr>\n",
       "  </tbody>\n",
       "</table>\n",
       "<p>5 rows × 26 columns</p>\n",
       "</div>"
      ],
      "text/plain": [
       "                    ID  Acres       BSI county     CropGrp  CropTyp DataSrc  \\\n",
       "0  107509_WSDA_SF_2017  120.0 -0.379966  Grant  Hay/Silage  timothy    wsda   \n",
       "1  107509_WSDA_SF_2017  120.0 -0.471686  Grant  Hay/Silage  timothy    wsda   \n",
       "2  107509_WSDA_SF_2017  120.0 -0.425461  Grant  Hay/Silage  timothy    wsda   \n",
       "3  107509_WSDA_SF_2017  120.0 -0.194313  Grant  Hay/Silage  timothy    wsda   \n",
       "4  107509_WSDA_SF_2017  120.0 -0.422894  Grant  Hay/Silage  timothy    wsda   \n",
       "\n",
       "     doy       EVI     ExctAcr  ... Notes      PSRI      RtCrpTy  \\\n",
       "0  215.0  1.500000  120.245957  ...   NaN -0.108302  Alfalfa Hay   \n",
       "1  228.0  2.000000  120.245957  ...   NaN -0.080714  Alfalfa Hay   \n",
       "2  235.0  0.897598  120.245957  ...   NaN -0.078930  Alfalfa Hay   \n",
       "3  245.0  0.693495  120.245957  ...   NaN -0.044603  Alfalfa Hay   \n",
       "4  248.0  0.908730  120.245957  ...   NaN -0.083305  Alfalfa Hay   \n",
       "\n",
       "         Shap_Ar      Shp_Lng  system_start_time        TRS  image_year  \\\n",
       "0  486618.122925  2554.280525       1.470250e+12  T15R23E27        2016   \n",
       "1  486618.122925  2554.280525       1.471375e+12  T15R23E27        2016   \n",
       "2  486618.122925  2554.280525       1.471979e+12  T15R23E27        2016   \n",
       "3  486618.122925  2554.280525       1.472843e+12  T15R23E27        2016   \n",
       "4  486618.122925  2554.280525       1.473102e+12  T15R23E27        2016   \n",
       "\n",
       "         B8  SF_year  \n",
       "0  0.564784     2017  \n",
       "1  0.451564     2017  \n",
       "2  0.459508     2017  \n",
       "3  0.434905     2017  \n",
       "4  0.472898     2017  \n",
       "\n",
       "[5 rows x 26 columns]"
      ]
     },
     "execution_count": 18,
     "metadata": {},
     "output_type": "execute_result"
    }
   ],
   "source": [
    "a_df_1.head(5)"
   ]
  },
  {
   "cell_type": "code",
   "execution_count": 19,
   "metadata": {},
   "outputs": [],
   "source": [
    "clean_a_df_1.loc[10, \"EVI\"] = 0\n",
    "clean_a_df_1.loc[11, \"EVI\"] = 0.5"
   ]
  },
  {
   "cell_type": "raw",
   "metadata": {},
   "source": [
    "dataTS = rc.correct_big_jumps(dataTS_jumpy = clean_a_df_1, \n",
    "                              given_col = \"EVI\", \n",
    "                              jump_amount = 0.4, \n",
    "                              no_days_between_points = 20)"
   ]
  },
  {
   "cell_type": "code",
   "execution_count": 22,
   "metadata": {},
   "outputs": [],
   "source": [
    "dataTSS = rc.correct_big_jumps_1DaySeries(dataTMS_jumpie = clean_a_df_1, \n",
    "                                          give_col = \"EVI\", \n",
    "                                           maxjump_perDay = 0.015)"
   ]
  },
  {
   "cell_type": "code",
   "execution_count": 25,
   "metadata": {},
   "outputs": [
    {
     "data": {
      "image/png": "[encoded data removed]",
      "text/plain": [
       "<Figure size 432x288 with 1 Axes>"
      ]
     },
     "metadata": {
      "needs_background": "light"
     },
     "output_type": "display_data"
    }
   ],
   "source": [
    "plt.plot(clean_a_df_1[\"system_start_time\"], clean_a_df_1[\"EVI\"]);"
   ]
  },
  {
   "cell_type": "code",
   "execution_count": 26,
   "metadata": {},
   "outputs": [
    {
     "data": {
      "image/png": "[encoded data removed]",
      "text/plain": [
       "<Figure size 432x288 with 1 Axes>"
      ]
     },
     "metadata": {
      "needs_background": "light"
     },
     "output_type": "display_data"
    }
   ],
   "source": [
    "plt.plot(dataTSS[\"system_start_time\"], dataTSS[\"EVI\"]);"
   ]
  },
  {
   "cell_type": "code",
   "execution_count": 34,
   "metadata": {},
   "outputs": [
    {
     "name": "stdout",
     "output_type": "stream",
     "text": [
      "['Grant']\n"
     ]
    }
   ],
   "source": []
  },
  {
   "cell_type": "code",
   "execution_count": null,
   "metadata": {},
   "outputs": [],
   "source": []
  },
  {
   "cell_type": "code",
   "execution_count": null,
   "metadata": {},
   "outputs": [],
   "source": [
    "jump_indexes"
   ]
  },
  {
   "cell_type": "code",
   "execution_count": null,
   "metadata": {},
   "outputs": [],
   "source": [
    "dataTS.loc[0:8]"
   ]
  },
  {
   "cell_type": "code",
   "execution_count": null,
   "metadata": {},
   "outputs": [],
   "source": [
    "x_min = 0\n",
    "x_max = 12\n",
    "VI = \"EVI\"\n",
    "x = dataTS.loc[x_min:x_max, 'system_start_time']\n",
    "y = dataTS.loc[x_min:x_max, VI]\n",
    "plt.plot(x, y)"
   ]
  },
  {
   "cell_type": "code",
   "execution_count": null,
   "metadata": {},
   "outputs": [],
   "source": [
    "plt.plot( clean_a_df_1[\"system_start_time\"], clean_a_df_1[\"EVI\"])"
   ]
  },
  {
   "cell_type": "code",
   "execution_count": null,
   "metadata": {},
   "outputs": [],
   "source": [
    "plt.plot(thyme_vec, Veg_indks)"
   ]
  },
  {
   "cell_type": "code",
   "execution_count": null,
   "metadata": {},
   "outputs": [],
   "source": [
    "plt.plot(thyme_vec, Veg_indks)"
   ]
  },
  {
   "cell_type": "code",
   "execution_count": null,
   "metadata": {},
   "outputs": [],
   "source": []
  },
  {
   "cell_type": "code",
   "execution_count": null,
   "metadata": {},
   "outputs": [],
   "source": []
  },
  {
   "cell_type": "code",
   "execution_count": null,
   "metadata": {},
   "outputs": [],
   "source": []
  },
  {
   "cell_type": "code",
   "execution_count": null,
   "metadata": {},
   "outputs": [],
   "source": []
  },
  {
   "cell_type": "code",
   "execution_count": null,
   "metadata": {},
   "outputs": [],
   "source": [
    "dataTS[8:14]"
   ]
  },
  {
   "cell_type": "code",
   "execution_count": null,
   "metadata": {},
   "outputs": [],
   "source": [
    "clean_a_df_1[8:14]"
   ]
  },
  {
   "cell_type": "code",
   "execution_count": null,
   "metadata": {},
   "outputs": [],
   "source": []
  },
  {
   "cell_type": "markdown",
   "metadata": {},
   "source": [
    "\n",
    "#   Try to remove outliers inplace without copying anything.\n"
   ]
  },
  {
   "cell_type": "raw",
   "metadata": {},
   "source": [
    "an_EE_TS = a_df.copy()\n",
    "\n",
    "indeks = 'EVI'\n",
    "\n",
    "if (indeks == \"EVI\"):\n",
    "    an_EE_TS = rc.initial_clean_EVI(an_EE_TS)\n",
    "else:\n",
    "    an_EE_TS = rc.initial_clean_NDVI(an_EE_TS)\n",
    "\n",
    "an_EE_TS.head(2)\n",
    "\n",
    "###\n",
    "### List of unique polygons\n",
    "###\n",
    "polygon_list = an_EE_TS['ID'].unique()\n",
    "print(len(polygon_list))\n",
    "\n",
    "output_df = pd.DataFrame(data = None,\n",
    "                         index = np.arange(an_EE_TS.shape[0]), \n",
    "                         columns = an_EE_TS.columns)\n",
    "\n",
    "counter = 0\n",
    "row_pointer = 0"
   ]
  },
  {
   "cell_type": "raw",
   "metadata": {},
   "source": [
    "a_poly = polygon_list[1]\n",
    "curr_field = an_EE_TS[an_EE_TS['ID']==a_poly].copy()\n",
    "curr_field.sort_values(by=['image_year', 'doy'], inplace=True)\n",
    "curr_field.reset_index(drop=True, inplace=True)\n",
    "no_Outlier_TS = rc.interpolate_outliers_EVI_NDVI(outlier_input = curr_field, given_col = indeks)\n",
    "\n",
    "output_df[row_pointer: row_pointer + curr_field.shape[0]] = no_Outlier_TS.values\n",
    "\n",
    "counter += 1\n",
    "row_pointer += curr_field.shape[0]"
   ]
  },
  {
   "cell_type": "code",
   "execution_count": null,
   "metadata": {},
   "outputs": [],
   "source": []
  },
  {
   "cell_type": "code",
   "execution_count": null,
   "metadata": {},
   "outputs": [],
   "source": []
  },
  {
   "cell_type": "code",
   "execution_count": null,
   "metadata": {},
   "outputs": [],
   "source": []
  },
  {
   "cell_type": "code",
   "execution_count": null,
   "metadata": {},
   "outputs": [],
   "source": []
  },
  {
   "cell_type": "code",
   "execution_count": 35,
   "metadata": {},
   "outputs": [],
   "source": [
    "East_2018 = pd.read_csv(\"/Users/hn/Documents/01_research_data/\" + \\\n",
    "                        \"remote_sensing/01_NDVI_TS/00_Eastern_WA_withYear/\" + \\\n",
    "                        \"2Years/Eastern_WA_2018_70cloud_selectors.csv\", low_memory=False)"
   ]
  },
  {
   "cell_type": "code",
   "execution_count": 38,
   "metadata": {},
   "outputs": [],
   "source": [
    "East_2018 = East_2018[East_2018['county'] == \"Whitman\"]"
   ]
  },
  {
   "cell_type": "code",
   "execution_count": 41,
   "metadata": {},
   "outputs": [
    {
     "data": {
      "text/plain": [
       "26650"
      ]
     },
     "execution_count": 41,
     "metadata": {},
     "output_type": "execute_result"
    }
   ],
   "source": [
    "len(East_2018.ID.unique())"
   ]
  },
  {
   "cell_type": "code",
   "execution_count": 44,
   "metadata": {},
   "outputs": [
    {
     "name": "stdout",
     "output_type": "stream",
     "text": [
      "[0 0 1 0 0 1 0]\n"
     ]
    }
   ],
   "source": [
    "a = np.array([1,1,-1,-2,-3,4,5])\n",
    "asign = np.sign(a)\n",
    "signchange = ((np.roll(asign, 1) - asign) != 0).astype(int)\n",
    "print (signchange)"
   ]
  },
  {
   "cell_type": "code",
   "execution_count": 45,
   "metadata": {},
   "outputs": [
    {
     "data": {
      "text/plain": [
       "array([ 1,  1, -1, -1, -1,  1,  1])"
      ]
     },
     "execution_count": 45,
     "metadata": {},
     "output_type": "execute_result"
    }
   ],
   "source": [
    "asign"
   ]
  },
  {
   "cell_type": "code",
   "execution_count": null,
   "metadata": {},
   "outputs": [],
   "source": []
  }
 ],
 "metadata": {
  "kernelspec": {
   "display_name": "Python 3",
   "language": "python",
   "name": "python3"
  },
  "language_info": {
   "codemirror_mode": {
    "name": "ipython",
    "version": 3
   },
   "file_extension": ".py",
   "mimetype": "text/x-python",
   "name": "python",
   "nbconvert_exporter": "python",
   "pygments_lexer": "ipython3",
   "version": "3.7.4"
  }
 },
 "nbformat": 4,
 "nbformat_minor": 2
}
