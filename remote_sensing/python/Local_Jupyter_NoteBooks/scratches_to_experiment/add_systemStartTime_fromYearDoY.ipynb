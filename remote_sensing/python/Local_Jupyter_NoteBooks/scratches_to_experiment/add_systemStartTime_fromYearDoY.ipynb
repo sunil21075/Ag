{
 "cells": [
  {
   "cell_type": "markdown",
   "metadata": {},
   "source": [
    "# add system start time to data by converting DoY and year\n",
    "\n",
    "when we regularize and fill the gaps, then our data do not have system start time anymore.\n",
    "We need this for linear interpolation stuff. Just lets add them in there."
   ]
  },
  {
   "cell_type": "code",
   "execution_count": 2,
   "metadata": {},
   "outputs": [],
   "source": [
    "import csv\n",
    "import numpy as np\n",
    "import pandas as pd\n",
    "# import geopandas as gpd\n",
    "from IPython.display import Image\n",
    "# from shapely.geometry import Point, Polygon\n",
    "from math import factorial\n",
    "import scipy\n",
    "import scipy.signal\n",
    "import os, os.path\n",
    "\n",
    "from datetime import date\n",
    "import datetime\n",
    "import time\n",
    "\n",
    "from statsmodels.sandbox.regression.predstd import wls_prediction_std\n",
    "from sklearn.linear_model import LinearRegression\n",
    "from patsy import cr\n",
    "\n",
    "# from pprint import pprint\n",
    "import matplotlib.pyplot as plt\n",
    "import seaborn as sb\n",
    "\n",
    "import sys"
   ]
  },
  {
   "cell_type": "code",
   "execution_count": 3,
   "metadata": {},
   "outputs": [],
   "source": [
    "sys.path.append('/Users/hn/Documents/00_GitHub/Ag/remote_sensing/python/')\n",
    "import remote_sensing_core as rc\n",
    "import remote_sensing_core as rcp\n",
    "\n",
    "start_time = time.time()"
   ]
  },
  {
   "cell_type": "code",
   "execution_count": 5,
   "metadata": {},
   "outputs": [],
   "source": [
    "data_dir = \"/Users/hn/Documents/01_research_data/remote_sensing/\"\n",
    "\n",
    "param_dir = \"/Users/hn/Documents/00_GitHub/Ag/remote_sensing/parameters/\""
   ]
  },
  {
   "cell_type": "code",
   "execution_count": 82,
   "metadata": {},
   "outputs": [],
   "source": [
    "f_name = \"01_Regular_filledGap_Grant_SF_2017_NDVI.csv\"\n",
    "a_df = pd.read_csv(data_dir + f_name, low_memory=False)\n"
   ]
  },
  {
   "cell_type": "code",
   "execution_count": 83,
   "metadata": {},
   "outputs": [
    {
     "data": {
      "text/html": [
       "<div>\n",
       "<style scoped>\n",
       "    .dataframe tbody tr th:only-of-type {\n",
       "        vertical-align: middle;\n",
       "    }\n",
       "\n",
       "    .dataframe tbody tr th {\n",
       "        vertical-align: top;\n",
       "    }\n",
       "\n",
       "    .dataframe thead th {\n",
       "        text-align: right;\n",
       "    }\n",
       "</style>\n",
       "<table border=\"1\" class=\"dataframe\">\n",
       "  <thead>\n",
       "    <tr style=\"text-align: right;\">\n",
       "      <th></th>\n",
       "      <th>ID</th>\n",
       "      <th>Acres</th>\n",
       "      <th>county</th>\n",
       "      <th>CropGrp</th>\n",
       "      <th>CropTyp</th>\n",
       "      <th>DataSrc</th>\n",
       "      <th>ExctAcr</th>\n",
       "      <th>IntlSrD</th>\n",
       "      <th>Irrigtn</th>\n",
       "      <th>LstSrvD</th>\n",
       "      <th>Notes</th>\n",
       "      <th>RtCrpTy</th>\n",
       "      <th>Shap_Ar</th>\n",
       "      <th>Shp_Lng</th>\n",
       "      <th>TRS</th>\n",
       "      <th>image_year</th>\n",
       "      <th>SF_year</th>\n",
       "      <th>doy</th>\n",
       "      <th>NDVI</th>\n",
       "      <th>human_system_start_time</th>\n",
       "    </tr>\n",
       "  </thead>\n",
       "  <tbody>\n",
       "    <tr>\n",
       "      <td>0</td>\n",
       "      <td>115184_WSDA_SF_2017</td>\n",
       "      <td>72.0</td>\n",
       "      <td>Grant</td>\n",
       "      <td>Orchard</td>\n",
       "      <td>apple</td>\n",
       "      <td>wsda</td>\n",
       "      <td>72.371199</td>\n",
       "      <td>2006/08/31</td>\n",
       "      <td>micro-sprinkler</td>\n",
       "      <td>2017/04/24</td>\n",
       "      <td>NaN</td>\n",
       "      <td>NaN</td>\n",
       "      <td>292875.850894</td>\n",
       "      <td>3308.620365</td>\n",
       "      <td>T13R24E4</td>\n",
       "      <td>2016</td>\n",
       "      <td>2017</td>\n",
       "      <td>213</td>\n",
       "      <td>0.685304</td>\n",
       "      <td>2016-07-31</td>\n",
       "    </tr>\n",
       "    <tr>\n",
       "      <td>1</td>\n",
       "      <td>115184_WSDA_SF_2017</td>\n",
       "      <td>72.0</td>\n",
       "      <td>Grant</td>\n",
       "      <td>Orchard</td>\n",
       "      <td>apple</td>\n",
       "      <td>wsda</td>\n",
       "      <td>72.371199</td>\n",
       "      <td>2006/08/31</td>\n",
       "      <td>micro-sprinkler</td>\n",
       "      <td>2017/04/24</td>\n",
       "      <td>NaN</td>\n",
       "      <td>NaN</td>\n",
       "      <td>292875.850894</td>\n",
       "      <td>3308.620365</td>\n",
       "      <td>T13R24E4</td>\n",
       "      <td>2016</td>\n",
       "      <td>2017</td>\n",
       "      <td>223</td>\n",
       "      <td>0.733553</td>\n",
       "      <td>2016-08-10</td>\n",
       "    </tr>\n",
       "  </tbody>\n",
       "</table>\n",
       "</div>"
      ],
      "text/plain": [
       "                    ID  Acres county  CropGrp CropTyp DataSrc    ExctAcr  \\\n",
       "0  115184_WSDA_SF_2017   72.0  Grant  Orchard   apple    wsda  72.371199   \n",
       "1  115184_WSDA_SF_2017   72.0  Grant  Orchard   apple    wsda  72.371199   \n",
       "\n",
       "      IntlSrD          Irrigtn     LstSrvD Notes RtCrpTy        Shap_Ar  \\\n",
       "0  2006/08/31  micro-sprinkler  2017/04/24   NaN     NaN  292875.850894   \n",
       "1  2006/08/31  micro-sprinkler  2017/04/24   NaN     NaN  292875.850894   \n",
       "\n",
       "       Shp_Lng       TRS  image_year  SF_year  doy      NDVI  \\\n",
       "0  3308.620365  T13R24E4        2016     2017  213  0.685304   \n",
       "1  3308.620365  T13R24E4        2016     2017  223  0.733553   \n",
       "\n",
       "  human_system_start_time  \n",
       "0              2016-07-31  \n",
       "1              2016-08-10  "
      ]
     },
     "execution_count": 83,
     "metadata": {},
     "output_type": "execute_result"
    }
   ],
   "source": [
    "a_df.head(2)"
   ]
  },
  {
   "cell_type": "code",
   "execution_count": 84,
   "metadata": {},
   "outputs": [
    {
     "name": "stdout",
     "output_type": "stream",
     "text": [
      "1470870200000\n",
      "2016-08-10\n"
     ]
    }
   ],
   "source": [
    "from calendar import timegm\n",
    "\n",
    "utc_time = time.strptime(a_df.human_system_start_time[1], \"%Y-%m-%d\")\n",
    "epoch_time = timegm(utc_time)\n",
    "epoch_time = (epoch_time + 83000) * 1000\n",
    "print (epoch_time)\n",
    "\n",
    "print (time.strftime('%Y-%m-%d', time.localtime(epoch_time/1000)))"
   ]
  },
  {
   "cell_type": "code",
   "execution_count": null,
   "metadata": {},
   "outputs": [],
   "source": []
  },
  {
   "cell_type": "code",
   "execution_count": 85,
   "metadata": {},
   "outputs": [
    {
     "name": "stdout",
     "output_type": "stream",
     "text": [
      "1470870200000\n",
      "2016-08-10\n"
     ]
    }
   ],
   "source": [
    "epoch_vec = pd.to_datetime(a_df['human_system_start_time']).values.astype(np.int64) // 10 ** 6\n",
    "epoch_vec = epoch_vec + 83000000\n",
    "print (epoch_vec[1])\n",
    "print (time.strftime('%Y-%m-%d', time.localtime(epoch_vec[1]/1000))) "
   ]
  },
  {
   "cell_type": "code",
   "execution_count": 86,
   "metadata": {},
   "outputs": [
    {
     "data": {
      "text/plain": [
       "1470787200"
      ]
     },
     "execution_count": 86,
     "metadata": {},
     "output_type": "execute_result"
    }
   ],
   "source": [
    "utc_time = time.strptime(a_df.human_system_start_time[1], \"%Y-%m-%d\")\n",
    "epoch_time = timegm(utc_time)\n",
    "epoch_time"
   ]
  },
  {
   "cell_type": "code",
   "execution_count": 87,
   "metadata": {},
   "outputs": [],
   "source": [
    "def convert_human_system_start_time_to_systemStart_time(humantimeDF):\n",
    "    epoch_vec = pd.to_datetime(humantimeDF['human_system_start_time']).values.astype(np.int64) // 10 ** 6\n",
    "\n",
    "    # add 83000000 mili sec. since system_start_time is 1 day ahead of image_taken_time\n",
    "    # that is recorded in human_system_start_time column.\n",
    "    epoch_vec = epoch_vec + 83000000\n",
    "    humantimeDF['system_start_time'] = epoch_vec"
   ]
  },
  {
   "cell_type": "code",
   "execution_count": 88,
   "metadata": {},
   "outputs": [],
   "source": []
  },
  {
   "cell_type": "code",
   "execution_count": 89,
   "metadata": {},
   "outputs": [
    {
     "data": {
      "text/html": [
       "<div>\n",
       "<style scoped>\n",
       "    .dataframe tbody tr th:only-of-type {\n",
       "        vertical-align: middle;\n",
       "    }\n",
       "\n",
       "    .dataframe tbody tr th {\n",
       "        vertical-align: top;\n",
       "    }\n",
       "\n",
       "    .dataframe thead th {\n",
       "        text-align: right;\n",
       "    }\n",
       "</style>\n",
       "<table border=\"1\" class=\"dataframe\">\n",
       "  <thead>\n",
       "    <tr style=\"text-align: right;\">\n",
       "      <th></th>\n",
       "      <th>ID</th>\n",
       "      <th>Acres</th>\n",
       "      <th>county</th>\n",
       "      <th>CropGrp</th>\n",
       "      <th>CropTyp</th>\n",
       "      <th>DataSrc</th>\n",
       "      <th>ExctAcr</th>\n",
       "      <th>IntlSrD</th>\n",
       "      <th>Irrigtn</th>\n",
       "      <th>LstSrvD</th>\n",
       "      <th>...</th>\n",
       "      <th>RtCrpTy</th>\n",
       "      <th>Shap_Ar</th>\n",
       "      <th>Shp_Lng</th>\n",
       "      <th>TRS</th>\n",
       "      <th>image_year</th>\n",
       "      <th>SF_year</th>\n",
       "      <th>doy</th>\n",
       "      <th>NDVI</th>\n",
       "      <th>human_system_start_time</th>\n",
       "      <th>system_start_time</th>\n",
       "    </tr>\n",
       "  </thead>\n",
       "  <tbody>\n",
       "    <tr>\n",
       "      <td>0</td>\n",
       "      <td>115184_WSDA_SF_2017</td>\n",
       "      <td>72.0</td>\n",
       "      <td>Grant</td>\n",
       "      <td>Orchard</td>\n",
       "      <td>apple</td>\n",
       "      <td>wsda</td>\n",
       "      <td>72.371199</td>\n",
       "      <td>2006/08/31</td>\n",
       "      <td>micro-sprinkler</td>\n",
       "      <td>2017/04/24</td>\n",
       "      <td>...</td>\n",
       "      <td>NaN</td>\n",
       "      <td>292875.850894</td>\n",
       "      <td>3308.620365</td>\n",
       "      <td>T13R24E4</td>\n",
       "      <td>2016</td>\n",
       "      <td>2017</td>\n",
       "      <td>213</td>\n",
       "      <td>0.685304</td>\n",
       "      <td>2016-07-31</td>\n",
       "      <td>1470006200000</td>\n",
       "    </tr>\n",
       "    <tr>\n",
       "      <td>1</td>\n",
       "      <td>115184_WSDA_SF_2017</td>\n",
       "      <td>72.0</td>\n",
       "      <td>Grant</td>\n",
       "      <td>Orchard</td>\n",
       "      <td>apple</td>\n",
       "      <td>wsda</td>\n",
       "      <td>72.371199</td>\n",
       "      <td>2006/08/31</td>\n",
       "      <td>micro-sprinkler</td>\n",
       "      <td>2017/04/24</td>\n",
       "      <td>...</td>\n",
       "      <td>NaN</td>\n",
       "      <td>292875.850894</td>\n",
       "      <td>3308.620365</td>\n",
       "      <td>T13R24E4</td>\n",
       "      <td>2016</td>\n",
       "      <td>2017</td>\n",
       "      <td>223</td>\n",
       "      <td>0.733553</td>\n",
       "      <td>2016-08-10</td>\n",
       "      <td>1470870200000</td>\n",
       "    </tr>\n",
       "  </tbody>\n",
       "</table>\n",
       "<p>2 rows × 21 columns</p>\n",
       "</div>"
      ],
      "text/plain": [
       "                    ID  Acres county  CropGrp CropTyp DataSrc    ExctAcr  \\\n",
       "0  115184_WSDA_SF_2017   72.0  Grant  Orchard   apple    wsda  72.371199   \n",
       "1  115184_WSDA_SF_2017   72.0  Grant  Orchard   apple    wsda  72.371199   \n",
       "\n",
       "      IntlSrD          Irrigtn     LstSrvD  ... RtCrpTy        Shap_Ar  \\\n",
       "0  2006/08/31  micro-sprinkler  2017/04/24  ...     NaN  292875.850894   \n",
       "1  2006/08/31  micro-sprinkler  2017/04/24  ...     NaN  292875.850894   \n",
       "\n",
       "       Shp_Lng       TRS image_year  SF_year  doy      NDVI  \\\n",
       "0  3308.620365  T13R24E4       2016     2017  213  0.685304   \n",
       "1  3308.620365  T13R24E4       2016     2017  223  0.733553   \n",
       "\n",
       "   human_system_start_time system_start_time  \n",
       "0               2016-07-31     1470006200000  \n",
       "1               2016-08-10     1470870200000  \n",
       "\n",
       "[2 rows x 21 columns]"
      ]
     },
     "execution_count": 89,
     "metadata": {},
     "output_type": "execute_result"
    }
   ],
   "source": [
    "a_df.head(2)"
   ]
  },
  {
   "cell_type": "code",
   "execution_count": 81,
   "metadata": {},
   "outputs": [],
   "source": [
    "a_df"
   ]
  },
  {
   "cell_type": "code",
   "execution_count": null,
   "metadata": {},
   "outputs": [],
   "source": []
  },
  {
   "cell_type": "code",
   "execution_count": null,
   "metadata": {},
   "outputs": [],
   "source": []
  },
  {
   "cell_type": "code",
   "execution_count": null,
   "metadata": {},
   "outputs": [],
   "source": []
  },
  {
   "cell_type": "code",
   "execution_count": null,
   "metadata": {},
   "outputs": [],
   "source": []
  }
 ],
 "metadata": {
  "kernelspec": {
   "display_name": "Python 3",
   "language": "python",
   "name": "python3"
  },
  "language_info": {
   "codemirror_mode": {
    "name": "ipython",
    "version": 3
   },
   "file_extension": ".py",
   "mimetype": "text/x-python",
   "name": "python",
   "nbconvert_exporter": "python",
   "pygments_lexer": "ipython3",
   "version": "3.7.4"
  }
 },
 "nbformat": 4,
 "nbformat_minor": 2
}
