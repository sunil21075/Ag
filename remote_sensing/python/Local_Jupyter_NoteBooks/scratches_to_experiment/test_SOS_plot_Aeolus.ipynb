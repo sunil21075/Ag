{
 "cells": [
  {
   "cell_type": "code",
   "execution_count": 1,
   "metadata": {},
   "outputs": [
    {
     "name": "stderr",
     "output_type": "stream",
     "text": [
      "/Users/hn/opt/anaconda3/lib/python3.7/site-packages/statsmodels/tools/_testing.py:19: FutureWarning: pandas.util.testing is deprecated. Use the functions in the public API at pandas.testing instead.\n",
      "  import pandas.util.testing as tm\n"
     ]
    }
   ],
   "source": [
    "import matplotlib.backends.backend_pdf\n",
    "import csv\n",
    "import numpy as np\n",
    "import pandas as pd\n",
    "# import geopandas as gpd\n",
    "from IPython.display import Image\n",
    "# from shapely.geometry import Point, Polygon\n",
    "from math import factorial\n",
    "import datetime\n",
    "import time\n",
    "import scipy\n",
    "import scipy.signal\n",
    "import os, os.path\n",
    "import matplotlib\n",
    "\n",
    "from statsmodels.sandbox.regression.predstd import wls_prediction_std\n",
    "from sklearn.linear_model import LinearRegression\n",
    "from patsy import cr\n",
    "\n",
    "# from pprint import pprint\n",
    "import matplotlib.pyplot as plt\n",
    "import seaborn as sb\n",
    "\n",
    "from pandas.plotting import register_matplotlib_converters\n",
    "register_matplotlib_converters()\n",
    "\n",
    "import sys\n",
    "start_time = time.time()"
   ]
  },
  {
   "cell_type": "code",
   "execution_count": 2,
   "metadata": {},
   "outputs": [],
   "source": [
    "sys.path.append('/Users/hn/Documents/00_GitHub/Ag/remote_sensing/python/')\n",
    "import remote_sensing_core as rc\n",
    "import remote_sensing_plot_core as rcp\n",
    "\n",
    "start_time = time.time()"
   ]
  },
  {
   "cell_type": "code",
   "execution_count": 3,
   "metadata": {},
   "outputs": [],
   "source": [
    "SF_year = 2017\n",
    "indeks = \"EVI\"\n",
    "given_county = \"Grant\"\n",
    "irrigated_only = True\n",
    "\n",
    "sos_thresh = 0.5\n",
    "eos_thresh = 0.5\n",
    "minFinderDetla = 0.4"
   ]
  },
  {
   "cell_type": "code",
   "execution_count": 121,
   "metadata": {},
   "outputs": [],
   "source": [
    "data_dir = \"/Users/hn/Documents/01_research_data/remote_sensing/test_aeolus_outputs/\"\n",
    "f_name = \"01_Regular_filledGap_Grant_SF_2017_EVI.csv\"\n",
    "a_df = pd.read_csv(data_dir + f_name, low_memory=False)"
   ]
  },
  {
   "cell_type": "code",
   "execution_count": 123,
   "metadata": {},
   "outputs": [
    {
     "data": {
      "text/plain": [
       "'2016-07-31'"
      ]
     },
     "execution_count": 123,
     "metadata": {},
     "output_type": "execute_result"
    }
   ],
   "source": [
    "a_df.loc[0, 'Date']"
   ]
  },
  {
   "cell_type": "code",
   "execution_count": 5,
   "metadata": {},
   "outputs": [],
   "source": [
    "irrigated_a_df = rc.filter_out_nonIrrigated(a_df)\n",
    "nonIrrigateda_df = rc.filter_out_Irrigated(a_df)"
   ]
  },
  {
   "cell_type": "code",
   "execution_count": 6,
   "metadata": {},
   "outputs": [
    {
     "name": "stdout",
     "output_type": "stream",
     "text": [
      "13793\n",
      "3908\n"
     ]
    }
   ],
   "source": [
    "print (len(irrigated_a_df.ID.unique()))\n",
    "print (len(nonIrrigateda_df.ID.unique()))"
   ]
  },
  {
   "cell_type": "code",
   "execution_count": 7,
   "metadata": {},
   "outputs": [],
   "source": [
    "# Filter irrigated only\n",
    "a_df = rc.filter_out_nonIrrigated(a_df)"
   ]
  },
  {
   "cell_type": "code",
   "execution_count": null,
   "metadata": {},
   "outputs": [],
   "source": [
    "print (len(a_df.ID.unique()))"
   ]
  },
  {
   "cell_type": "code",
   "execution_count": 9,
   "metadata": {},
   "outputs": [],
   "source": [
    "a_df = a_df[a_df['county']== given_county]"
   ]
  },
  {
   "cell_type": "code",
   "execution_count": 10,
   "metadata": {},
   "outputs": [],
   "source": [
    "a_df = rc.filter_out_NASS(a_df) # Toss NASS\n",
    "a_df = rc.filter_by_lastSurvey(a_df, year = SF_year) # filter by last survey date\n",
    "a_df['SF_year'] = SF_year\n"
   ]
  },
  {
   "cell_type": "code",
   "execution_count": 11,
   "metadata": {},
   "outputs": [],
   "source": [
    "a_df['Date'] = pd.to_datetime(a_df.Date.values).values"
   ]
  },
  {
   "cell_type": "code",
   "execution_count": 12,
   "metadata": {},
   "outputs": [
    {
     "data": {
      "text/plain": [
       "Timestamp('2016-07-31 00:00:00')"
      ]
     },
     "execution_count": 12,
     "metadata": {},
     "output_type": "execute_result"
    }
   ],
   "source": [
    "a_df.loc[0, 'Date']"
   ]
  },
  {
   "cell_type": "code",
   "execution_count": 13,
   "metadata": {},
   "outputs": [],
   "source": [
    "if irrigated_only == True:\n",
    "    a_df = rc.filter_out_nonIrrigated(a_df)\n",
    "    output_Irr = \"irrigated_only\"\n",
    "else:\n",
    "    output_Irr = \"non_irrigated_only\"\n",
    "    a_df = rc.filter_out_Irrigated(a_df)\n"
   ]
  },
  {
   "cell_type": "code",
   "execution_count": 14,
   "metadata": {},
   "outputs": [
    {
     "data": {
      "text/plain": [
       "(467925, 22)"
      ]
     },
     "execution_count": 14,
     "metadata": {},
     "output_type": "execute_result"
    }
   ],
   "source": [
    "a_df = rc.initial_clean(df = a_df, column_to_be_cleaned = indeks)\n",
    "a_df.shape"
   ]
  },
  {
   "cell_type": "code",
   "execution_count": 15,
   "metadata": {},
   "outputs": [],
   "source": [
    "an_EE_TS = a_df.copy()\n",
    "del(a_df)\n"
   ]
  },
  {
   "cell_type": "code",
   "execution_count": 16,
   "metadata": {},
   "outputs": [],
   "source": [
    "polygon_list = np.sort(an_EE_TS['ID'].unique())\n",
    "a_poly = polygon_list[81]"
   ]
  },
  {
   "cell_type": "code",
   "execution_count": 18,
   "metadata": {},
   "outputs": [],
   "source": [
    "a_poly = \"105675_WSDA_SF_2017\""
   ]
  },
  {
   "cell_type": "code",
   "execution_count": 19,
   "metadata": {},
   "outputs": [
    {
     "name": "stdout",
     "output_type": "stream",
     "text": [
      "(36, 22)\n"
     ]
    }
   ],
   "source": [
    "curr_field = an_EE_TS[an_EE_TS['ID']==a_poly].copy()\n",
    "curr_field = curr_field[curr_field.image_year == SF_year]\n",
    "print (curr_field.shape)\n",
    "\n",
    "curr_field.sort_values(by=['image_year', 'doy'], inplace=True)\n",
    "\n",
    "ID = curr_field['ID'].unique()[0]\n",
    "plant = curr_field['CropTyp'].unique()[0]\n",
    "plant = plant.replace(\"/\", \"_\")\n",
    "plant = plant.replace(\",\", \"_\")\n",
    "plant = plant.replace(\" \", \"_\")\n",
    "plant = plant.replace(\"__\", \"_\")\n",
    "\n",
    "county = given_county"
   ]
  },
  {
   "cell_type": "code",
   "execution_count": null,
   "metadata": {},
   "outputs": [],
   "source": []
  },
  {
   "cell_type": "code",
   "execution_count": 20,
   "metadata": {},
   "outputs": [
    {
     "data": {
      "image/png": "[encoded data removed]",
      "text/plain": [
       "<Figure size 1440x864 with 4 Axes>"
      ]
     },
     "metadata": {
      "needs_background": "light"
     },
     "output_type": "display_data"
    }
   ],
   "source": [
    "fig, axs = plt.subplots(2, 2, figsize=(20,12),\n",
    "                sharex='col', sharey='row',\n",
    "                gridspec_kw={'hspace': 0.1, 'wspace': .1});\n",
    "\n",
    "(ax1, ax2), (ax3, ax4) = axs;\n",
    "ax1.grid(True); ax2.grid(True); ax3.grid(True); ax4.grid(True);\n",
    "\n",
    "rcp.SG_1yr_panels_clean_sciPy_My_Peaks_SOS(dataAB = curr_field, \n",
    "                                           idx=indeks, \n",
    "                                           SG_params=[5, 1], \n",
    "                                           SFYr = SF_year, ax=ax1, deltA= minFinderDetla,\n",
    "                                           onset_cut = sos_thresh, \n",
    "                                           offset_cut = eos_thresh);\n",
    "\n",
    "rcp.SG_1yr_panels_clean_sciPy_My_Peaks_SOS(dataAB = curr_field, \n",
    "                                           idx=indeks, SG_params=[5, 3], \n",
    "                                           SFYr=SF_year, ax=ax2, deltA=minFinderDetla,\n",
    "                                           onset_cut = sos_thresh, \n",
    "                                           offset_cut = eos_thresh); \n",
    "\n",
    "rcp.SG_1yr_panels_clean_sciPy_My_Peaks_SOS(dataAB = curr_field, \n",
    "                                           idx = indeks, SG_params=[7, 3],\n",
    "                                           SFYr = SF_year, ax=ax3, deltA=minFinderDetla,\n",
    "                                           onset_cut = sos_thresh, \n",
    "                                           offset_cut = eos_thresh);\n",
    "\n",
    "rcp.SG_1yr_panels_clean_sciPy_My_Peaks_SOS(dataAB = curr_field, \n",
    "                                           idx=indeks, SG_params=[9, 3],\n",
    "                                           SFYr=SF_year, ax=ax4, deltA=minFinderDetla,\n",
    "                                           onset_cut = sos_thresh, \n",
    "                                           offset_cut = eos_thresh)\n",
    "\n",
    "plot_path = \"/Users/hn/Desktop/\"\n",
    "fig_name = plot_path + county + \"_\" + plant + \"_SF_year_\" + str(SF_year) + \"_\" + ID + '.png'\n",
    "plt.savefig(fname = fig_name, dpi=600, bbox_inches='tight')"
   ]
  },
  {
   "cell_type": "code",
   "execution_count": 74,
   "metadata": {},
   "outputs": [
    {
     "name": "stdout",
     "output_type": "stream",
     "text": [
      "len(polygon_list) is 9175.\n"
     ]
    }
   ],
   "source": [
    "print(\"len(polygon_list) is {}.\".format(len(polygon_list)))"
   ]
  },
  {
   "cell_type": "code",
   "execution_count": 73,
   "metadata": {},
   "outputs": [
    {
     "name": "stdout",
     "output_type": "stream",
     "text": [
      "First number is 1 and second number is 1\n"
     ]
    }
   ],
   "source": [
    "print(\"First number is {} and second number is {}\".format(len(curr_field.ID.unique()), len(curr_field.ID.unique())))"
   ]
  },
  {
   "cell_type": "code",
   "execution_count": 118,
   "metadata": {},
   "outputs": [
    {
     "name": "stdout",
     "output_type": "stream",
     "text": [
      "SG_win_size is 10 and SG_order is 100.\n"
     ]
    }
   ],
   "source": [
    "print(\"SG_win_size is {} and SG_order is {}.\".format(10, 100))"
   ]
  },
  {
   "cell_type": "markdown",
   "metadata": {},
   "source": [
    "### Test SG_1yr_panels_clean_sciPy_My_Peaks_SOS(.)"
   ]
  },
  {
   "cell_type": "code",
   "execution_count": 54,
   "metadata": {},
   "outputs": [],
   "source": [
    "dataAB = curr_field\n",
    "idx=indeks\n",
    "SG_params=[7, 3]\n",
    "SFYr = SF_year\n",
    "ax=ax1\n",
    "deltA= minFinderDetla\n",
    "onset_cut = sos_thresh\n",
    "offset_cut = eos_thresh"
   ]
  },
  {
   "cell_type": "code",
   "execution_count": 55,
   "metadata": {},
   "outputs": [],
   "source": [
    "crr_fld = dataAB.copy()\n",
    "if (not(\"human_system_start_time\" in list(crr_fld.columns))):\n",
    "    crr_fld = rc.add_human_start_time(crr_fld)\n",
    "\n",
    "eleven_colors = [\"gray\", \"lightcoral\", \"red\", \"peru\",\n",
    "             \"darkorange\", \"gold\", \"olive\", \"green\",\n",
    "             \"blue\", \"violet\", \"deepskyblue\"]\n",
    "\n",
    "plant = crr_fld['CropTyp'].unique()[0]\n",
    "# Take care of names, replace \"/\" and \",\" and \" \" by \"_\"\n",
    "plant = plant.replace(\"/\", \"_\")\n",
    "plant = plant.replace(\",\", \"_\")\n",
    "plant = plant.replace(\" \", \"_\")\n",
    "plant = plant.replace(\"__\", \"_\")\n",
    "\n",
    "county = crr_fld['county'].unique()[0]\n",
    "ID = crr_fld['ID'].unique()[0]\n",
    "\n",
    "y = crr_fld[idx].copy()\n",
    "\n",
    "\n",
    "window_len = SG_params[0]\n",
    "poly_order = SG_params[1]\n",
    "\n",
    "SG_pred = scipy.signal.savgol_filter(y, window_length= window_len, polyorder=poly_order)"
   ]
  },
  {
   "cell_type": "code",
   "execution_count": 56,
   "metadata": {},
   "outputs": [],
   "source": [
    "if len(crr_fld['image_year'].unique()) == 2:\n",
    "    X = rc.extract_XValues_of_2Yrs_TS(crr_fld, SF_yr = SFYr)\n",
    "elif len(crr_fld['image_year'].unique()) == 1:\n",
    "    X = crr_fld['doy']\n",
    "\n",
    "d = {'DoY': X, 'Date': pd.to_datetime(crr_fld.human_system_start_time.values).values}\n",
    "date_df = pd.DataFrame(data=d)\n",
    "\n",
    "min_val_for_being_peak = 0.5"
   ]
  },
  {
   "cell_type": "code",
   "execution_count": 57,
   "metadata": {},
   "outputs": [],
   "source": [
    "crr_fld [idx] = SG_pred\n",
    "crr_fld = rc.addToDF_SOS_EOS_White(pd_TS = crr_fld, \n",
    "                                   VegIdx = idx, \n",
    "                                   onset_thresh = onset_cut, \n",
    "                                   offset_thresh = offset_cut)"
   ]
  },
  {
   "cell_type": "code",
   "execution_count": 58,
   "metadata": {},
   "outputs": [
    {
     "data": {
      "text/html": [
       "<div>\n",
       "<style scoped>\n",
       "    .dataframe tbody tr th:only-of-type {\n",
       "        vertical-align: middle;\n",
       "    }\n",
       "\n",
       "    .dataframe tbody tr th {\n",
       "        vertical-align: top;\n",
       "    }\n",
       "\n",
       "    .dataframe thead th {\n",
       "        text-align: right;\n",
       "    }\n",
       "</style>\n",
       "<table border=\"1\" class=\"dataframe\">\n",
       "  <thead>\n",
       "    <tr style=\"text-align: right;\">\n",
       "      <th></th>\n",
       "      <th>ID</th>\n",
       "      <th>Acres</th>\n",
       "      <th>county</th>\n",
       "      <th>CropGrp</th>\n",
       "      <th>CropTyp</th>\n",
       "      <th>DataSrc</th>\n",
       "      <th>ExctAcr</th>\n",
       "      <th>IntlSrD</th>\n",
       "      <th>Irrigtn</th>\n",
       "      <th>LstSrvD</th>\n",
       "      <th>...</th>\n",
       "      <th>image_year</th>\n",
       "      <th>SF_year</th>\n",
       "      <th>doy</th>\n",
       "      <th>EVI</th>\n",
       "      <th>human_system_start_time</th>\n",
       "      <th>Date</th>\n",
       "      <th>system_start_time</th>\n",
       "      <th>EVI_ratio</th>\n",
       "      <th>SOS</th>\n",
       "      <th>EOS</th>\n",
       "    </tr>\n",
       "  </thead>\n",
       "  <tbody>\n",
       "    <tr>\n",
       "      <th>485637</th>\n",
       "      <td>105675_WSDA_SF_2017</td>\n",
       "      <td>135.0</td>\n",
       "      <td>Grant</td>\n",
       "      <td>Vegetable</td>\n",
       "      <td>corn, sweet</td>\n",
       "      <td>wsda</td>\n",
       "      <td>135.282707</td>\n",
       "      <td>2003/07/01</td>\n",
       "      <td>center pivot</td>\n",
       "      <td>2017/10/17</td>\n",
       "      <td>...</td>\n",
       "      <td>2017</td>\n",
       "      <td>2017</td>\n",
       "      <td>1</td>\n",
       "      <td>0.033386</td>\n",
       "      <td>2017-01-01</td>\n",
       "      <td>2017-01-01</td>\n",
       "      <td>1483311800000</td>\n",
       "      <td>0.051506</td>\n",
       "      <td>0.0</td>\n",
       "      <td>0.0</td>\n",
       "    </tr>\n",
       "    <tr>\n",
       "      <th>485638</th>\n",
       "      <td>105675_WSDA_SF_2017</td>\n",
       "      <td>135.0</td>\n",
       "      <td>Grant</td>\n",
       "      <td>Vegetable</td>\n",
       "      <td>corn, sweet</td>\n",
       "      <td>wsda</td>\n",
       "      <td>135.282707</td>\n",
       "      <td>2003/07/01</td>\n",
       "      <td>center pivot</td>\n",
       "      <td>2017/10/17</td>\n",
       "      <td>...</td>\n",
       "      <td>2017</td>\n",
       "      <td>2017</td>\n",
       "      <td>11</td>\n",
       "      <td>0.004376</td>\n",
       "      <td>2017-01-11</td>\n",
       "      <td>2017-01-11</td>\n",
       "      <td>1484175800000</td>\n",
       "      <td>0.021515</td>\n",
       "      <td>0.0</td>\n",
       "      <td>0.0</td>\n",
       "    </tr>\n",
       "  </tbody>\n",
       "</table>\n",
       "<p>2 rows × 25 columns</p>\n",
       "</div>"
      ],
      "text/plain": [
       "                         ID  Acres county    CropGrp      CropTyp DataSrc  \\\n",
       "485637  105675_WSDA_SF_2017  135.0  Grant  Vegetable  corn, sweet    wsda   \n",
       "485638  105675_WSDA_SF_2017  135.0  Grant  Vegetable  corn, sweet    wsda   \n",
       "\n",
       "           ExctAcr     IntlSrD       Irrigtn     LstSrvD  ... image_year  \\\n",
       "485637  135.282707  2003/07/01  center pivot  2017/10/17  ...       2017   \n",
       "485638  135.282707  2003/07/01  center pivot  2017/10/17  ...       2017   \n",
       "\n",
       "       SF_year  doy       EVI human_system_start_time       Date  \\\n",
       "485637    2017    1  0.033386              2017-01-01 2017-01-01   \n",
       "485638    2017   11  0.004376              2017-01-11 2017-01-11   \n",
       "\n",
       "        system_start_time  EVI_ratio  SOS  EOS  \n",
       "485637      1483311800000   0.051506  0.0  0.0  \n",
       "485638      1484175800000   0.021515  0.0  0.0  \n",
       "\n",
       "[2 rows x 25 columns]"
      ]
     },
     "execution_count": 58,
     "metadata": {},
     "output_type": "execute_result"
    }
   ],
   "source": [
    "crr_fld.head(2)"
   ]
  },
  {
   "cell_type": "code",
   "execution_count": 92,
   "metadata": {},
   "outputs": [],
   "source": [
    "SOS_tb = crr_fld[crr_fld['SOS'] != 0]\n",
    "EOS_tb = crr_fld[crr_fld['EOS'] != 0]"
   ]
  },
  {
   "cell_type": "code",
   "execution_count": 108,
   "metadata": {},
   "outputs": [
    {
     "data": {
      "text/plain": [
       "0.8476371878086512"
      ]
     },
     "execution_count": 108,
     "metadata": {},
     "output_type": "execute_result"
    }
   ],
   "source": [
    "max(y_orchard[\"EVI\"]) - min(y_orchard[\"EVI\"])"
   ]
  },
  {
   "cell_type": "code",
   "execution_count": 107,
   "metadata": {},
   "outputs": [],
   "source": [
    "y_orchard = crr_fld[crr_fld['doy']>= 122]\n",
    "y_orchard = y_orchard[y_orchard['doy'] <=305]"
   ]
  },
  {
   "cell_type": "code",
   "execution_count": 113,
   "metadata": {},
   "outputs": [
    {
     "data": {
      "text/html": [
       "<div>\n",
       "<style scoped>\n",
       "    .dataframe tbody tr th:only-of-type {\n",
       "        vertical-align: middle;\n",
       "    }\n",
       "\n",
       "    .dataframe tbody tr th {\n",
       "        vertical-align: top;\n",
       "    }\n",
       "\n",
       "    .dataframe thead th {\n",
       "        text-align: right;\n",
       "    }\n",
       "</style>\n",
       "<table border=\"1\" class=\"dataframe\">\n",
       "  <thead>\n",
       "    <tr style=\"text-align: right;\">\n",
       "      <th></th>\n",
       "      <th>ID</th>\n",
       "      <th>Acres</th>\n",
       "      <th>county</th>\n",
       "      <th>CropGrp</th>\n",
       "      <th>CropTyp</th>\n",
       "      <th>DataSrc</th>\n",
       "      <th>ExctAcr</th>\n",
       "      <th>IntlSrD</th>\n",
       "      <th>Irrigtn</th>\n",
       "      <th>LstSrvD</th>\n",
       "      <th>...</th>\n",
       "      <th>image_year</th>\n",
       "      <th>SF_year</th>\n",
       "      <th>doy</th>\n",
       "      <th>EVI</th>\n",
       "      <th>human_system_start_time</th>\n",
       "      <th>Date</th>\n",
       "      <th>system_start_time</th>\n",
       "      <th>EVI_ratio</th>\n",
       "      <th>SOS</th>\n",
       "      <th>EOS</th>\n",
       "    </tr>\n",
       "  </thead>\n",
       "  <tbody>\n",
       "    <tr>\n",
       "      <th>485637</th>\n",
       "      <td>105675_WSDA_SF_2017</td>\n",
       "      <td>135.0</td>\n",
       "      <td>Grant</td>\n",
       "      <td>Vegetable</td>\n",
       "      <td>corn, sweet</td>\n",
       "      <td>wsda</td>\n",
       "      <td>135.282707</td>\n",
       "      <td>2003/07/01</td>\n",
       "      <td>center pivot</td>\n",
       "      <td>2017/10/17</td>\n",
       "      <td>...</td>\n",
       "      <td>2017</td>\n",
       "      <td>2017</td>\n",
       "      <td>1</td>\n",
       "      <td>0.033386</td>\n",
       "      <td>2017-01-01</td>\n",
       "      <td>2017-01-01</td>\n",
       "      <td>1483311800000</td>\n",
       "      <td>0.051506</td>\n",
       "      <td>0.0</td>\n",
       "      <td>0.0</td>\n",
       "    </tr>\n",
       "    <tr>\n",
       "      <th>485638</th>\n",
       "      <td>105675_WSDA_SF_2017</td>\n",
       "      <td>135.0</td>\n",
       "      <td>Grant</td>\n",
       "      <td>Vegetable</td>\n",
       "      <td>corn, sweet</td>\n",
       "      <td>wsda</td>\n",
       "      <td>135.282707</td>\n",
       "      <td>2003/07/01</td>\n",
       "      <td>center pivot</td>\n",
       "      <td>2017/10/17</td>\n",
       "      <td>...</td>\n",
       "      <td>2017</td>\n",
       "      <td>2017</td>\n",
       "      <td>11</td>\n",
       "      <td>0.004376</td>\n",
       "      <td>2017-01-11</td>\n",
       "      <td>2017-01-11</td>\n",
       "      <td>1484175800000</td>\n",
       "      <td>0.021515</td>\n",
       "      <td>0.0</td>\n",
       "      <td>0.0</td>\n",
       "    </tr>\n",
       "  </tbody>\n",
       "</table>\n",
       "<p>2 rows × 25 columns</p>\n",
       "</div>"
      ],
      "text/plain": [
       "                         ID  Acres county    CropGrp      CropTyp DataSrc  \\\n",
       "485637  105675_WSDA_SF_2017  135.0  Grant  Vegetable  corn, sweet    wsda   \n",
       "485638  105675_WSDA_SF_2017  135.0  Grant  Vegetable  corn, sweet    wsda   \n",
       "\n",
       "           ExctAcr     IntlSrD       Irrigtn     LstSrvD  ... image_year  \\\n",
       "485637  135.282707  2003/07/01  center pivot  2017/10/17  ...       2017   \n",
       "485638  135.282707  2003/07/01  center pivot  2017/10/17  ...       2017   \n",
       "\n",
       "       SF_year  doy       EVI human_system_start_time       Date  \\\n",
       "485637    2017    1  0.033386              2017-01-01 2017-01-01   \n",
       "485638    2017   11  0.004376              2017-01-11 2017-01-11   \n",
       "\n",
       "        system_start_time  EVI_ratio  SOS  EOS  \n",
       "485637      1483311800000   0.051506  0.0  0.0  \n",
       "485638      1484175800000   0.021515  0.0  0.0  \n",
       "\n",
       "[2 rows x 25 columns]"
      ]
     },
     "execution_count": 113,
     "metadata": {},
     "output_type": "execute_result"
    }
   ],
   "source": [
    "crr_fld.head(2)"
   ]
  },
  {
   "cell_type": "code",
   "execution_count": 60,
   "metadata": {},
   "outputs": [
    {
     "data": {
      "image/png": "[encoded data removed]",
      "text/plain": [
       "<Figure size 576x216 with 1 Axes>"
      ]
     },
     "metadata": {
      "needs_background": "light"
     },
     "output_type": "display_data"
    }
   ],
   "source": [
    "fig, ax = plt.subplots(figsize=(8,3));\n",
    "plot_title = curr_field.CropTyp.unique()[0] + \", \" + crr_fld.ID.unique()[0]\n",
    "\n",
    "ax.plot(curr_field['Date'], SG_pred, c='k', label=\"smoothed EVI\")\n",
    "ax.scatter(curr_field['Date'], SG_pred, marker='o', s=2, c='k')\n",
    "\n",
    "ax.scatter(SOS_tb['Date'], SOS_tb['SOS'], marker='+', s=40, c='g')\n",
    "ax.scatter(EOS_tb['Date'], EOS_tb['EOS'], marker='+', s=40, c='r')\n",
    "\n",
    "\n",
    "ax.axhline(0.5 , color = 'r', linewidth=.5)\n",
    "ax.set_title(plot_title);\n",
    "ax.set(xlabel='DoY', ylabel='EVI')\n",
    "ax.legend(loc=\"best\");\n",
    "ax.grid(True)\n",
    "\n",
    "plot_path = \"/Users/hn/Desktop/\"\n",
    "fig_name = plot_path + '60DaysisAlot.png'\n",
    "plt.savefig(fname = fig_name, dpi=600, bbox_inches='tight')"
   ]
  },
  {
   "cell_type": "code",
   "execution_count": 66,
   "metadata": {},
   "outputs": [
    {
     "data": {
      "text/plain": [
       "Timedelta('40 days 00:00:00')"
      ]
     },
     "execution_count": 66,
     "metadata": {},
     "output_type": "execute_result"
    }
   ],
   "source": [
    "EOS_tb.Date.iloc[0] - SOS_tb.Date.iloc[0]"
   ]
  },
  {
   "cell_type": "code",
   "execution_count": 120,
   "metadata": {},
   "outputs": [
    {
     "data": {
      "text/plain": [
       "pandas._libs.tslibs.timestamps.Timestamp"
      ]
     },
     "execution_count": 120,
     "metadata": {},
     "output_type": "execute_result"
    }
   ],
   "source": [
    "EOS_tb.Date.iloc[0]"
   ]
  },
  {
   "cell_type": "code",
   "execution_count": null,
   "metadata": {},
   "outputs": [],
   "source": []
  },
  {
   "cell_type": "code",
   "execution_count": 90,
   "metadata": {},
   "outputs": [],
   "source": []
  },
  {
   "cell_type": "code",
   "execution_count": 91,
   "metadata": {},
   "outputs": [
    {
     "data": {
      "text/plain": [
       "True"
      ]
     },
     "execution_count": 91,
     "metadata": {},
     "output_type": "execute_result"
    }
   ],
   "source": [
    "A.equals(SEOS)"
   ]
  },
  {
   "cell_type": "code",
   "execution_count": null,
   "metadata": {},
   "outputs": [],
   "source": [
    "# crr_fld = rc.Null_SOS_EOS_by_DoYDiff(pd_TS = crr_fld, min_season_length=60)"
   ]
  },
  {
   "cell_type": "markdown",
   "metadata": {},
   "source": [
    "### Test crr_fld = rc.Null_SOS_EOS_by_DoYDiff(pd_TS = crr_fld, min_season_length=60)"
   ]
  },
  {
   "cell_type": "code",
   "execution_count": null,
   "metadata": {},
   "outputs": [],
   "source": [
    "pd_TS = crr_fld\n",
    "min_season_length=60"
   ]
  },
  {
   "cell_type": "code",
   "execution_count": null,
   "metadata": {},
   "outputs": [],
   "source": [
    "pd_TS_DoYDiff = pd_TS.copy()\n",
    "\n",
    "# find indexes of SOS and EOS\n",
    "SOS_indexes = pd_TS_DoYDiff.index[pd_TS_DoYDiff['SOS'] != 0].tolist()\n",
    "EOS_indexes = pd_TS_DoYDiff.index[pd_TS_DoYDiff['EOS'] != 0].tolist()"
   ]
  },
  {
   "cell_type": "code",
   "execution_count": null,
   "metadata": {},
   "outputs": [],
   "source": [
    "SOS_indexes"
   ]
  },
  {
   "cell_type": "code",
   "execution_count": null,
   "metadata": {},
   "outputs": [],
   "source": [
    "EOS_indexes"
   ]
  },
  {
   "cell_type": "code",
   "execution_count": null,
   "metadata": {},
   "outputs": [],
   "source": [
    "SOS_pointer = SOS_indexes[-1]\n",
    "EOS_pointer = EOS_indexes[-1]"
   ]
  },
  {
   "cell_type": "code",
   "execution_count": null,
   "metadata": {},
   "outputs": [],
   "source": [
    "(pd_TS_DoYDiff.loc[EOS_pointer, 'Date'] < pd_TS_DoYDiff.loc[SOS_pointer, 'Date'])"
   ]
  },
  {
   "cell_type": "code",
   "execution_count": null,
   "metadata": {},
   "outputs": [],
   "source": [
    "SOS_pointer"
   ]
  },
  {
   "cell_type": "code",
   "execution_count": null,
   "metadata": {},
   "outputs": [],
   "source": [
    "EOS_pointer"
   ]
  },
  {
   "cell_type": "code",
   "execution_count": null,
   "metadata": {},
   "outputs": [],
   "source": [
    "SOS_indexes"
   ]
  },
  {
   "cell_type": "code",
   "execution_count": null,
   "metadata": {},
   "outputs": [],
   "source": [
    "EOS_pointer"
   ]
  },
  {
   "cell_type": "code",
   "execution_count": null,
   "metadata": {},
   "outputs": [],
   "source": [
    "pd_TS_DoYDiff.loc[SOS_indexes, 'EVI']"
   ]
  },
  {
   "cell_type": "code",
   "execution_count": null,
   "metadata": {},
   "outputs": [],
   "source": []
  },
  {
   "cell_type": "code",
   "execution_count": null,
   "metadata": {},
   "outputs": [],
   "source": [
    "# pd_TS_DoYDiff"
   ]
  },
  {
   "cell_type": "code",
   "execution_count": null,
   "metadata": {},
   "outputs": [],
   "source": [
    "fig, ax = plt.subplots(figsize=(8,3));\n",
    "plot_title = curr_field.CropTyp.unique()[0]\n",
    "\n",
    "ax.plot(curr_field['Date'], curr_field['EVI'], c='k', label=\"EVI\")\n",
    "ax.scatter(curr_field['Date'], curr_field['EVI'], marker='o', s=2, c='k')\n",
    "\n",
    "ax.plot(curr_field['Date'], SG_pred, c='c', label=\"smoothed EVI\")\n",
    "ax.scatter(curr_field['Date'], SG_pred, marker='o', s=2, c='c')\n",
    "\n",
    "ax.scatter(pd_TS_DoYDiff.loc[SOS_indexes, 'Date'].values, \n",
    "           pd_TS_DoYDiff.loc[SOS_indexes, 'EVI'].values, \n",
    "           marker='+', s=20, c='c')\n",
    "\n",
    "ax.scatter(pd_TS_DoYDiff.loc[EOS_indexes, 'Date'].values, \n",
    "           pd_TS_DoYDiff.loc[EOS_indexes, 'EVI'].values, \n",
    "           marker='+', s=20, c='c')\n",
    "\n",
    "\n",
    "ax.axhline(0.5 , color = 'r', linewidth=.5)\n",
    "ax.set_title(plot_title);\n",
    "ax.set(xlabel='DoY', ylabel='EVI')\n",
    "ax.legend(loc=\"best\");\n",
    "ax.grid(True)\n",
    "\n",
    "# plot_path = \"/Users/hn/Desktop/\"\n",
    "# fig_name = plot_path + 'EVI_VS_EVIratio.png'\n",
    "# plt.savefig(fname = fig_name, dpi=600, bbox_inches='tight')"
   ]
  },
  {
   "cell_type": "code",
   "execution_count": null,
   "metadata": {},
   "outputs": [],
   "source": [
    "pd_TS_DoYDiff.loc[SOS_indexes, 'EVI'].values"
   ]
  },
  {
   "cell_type": "markdown",
   "metadata": {},
   "source": [
    "#### It seems EOS should exist, so, lets examine the function addToDF_SOS_EOS_White(.) now.\n"
   ]
  },
  {
   "cell_type": "code",
   "execution_count": null,
   "metadata": {},
   "outputs": [],
   "source": [
    "pd_TS = crr_fld\n",
    "VegIdx = idx\n",
    "onset_thresh = onset_cut\n",
    "offset_thresh = offset_cut"
   ]
  },
  {
   "cell_type": "code",
   "execution_count": null,
   "metadata": {},
   "outputs": [],
   "source": [
    "pandaFrame = pd_TS.copy()\n",
    "\n",
    "VegIdx_min = pandaFrame[VegIdx].min()\n",
    "VegIdx_max = pandaFrame[VegIdx].max()\n",
    "VegRange = VegIdx_max - VegIdx_min + sys.float_info.epsilon\n",
    "\n",
    "colName = VegIdx + \"_ratio\"\n",
    "pandaFrame[colName] = (pandaFrame[VegIdx] - VegIdx_min) / VegRange"
   ]
  },
  {
   "cell_type": "code",
   "execution_count": null,
   "metadata": {},
   "outputs": [],
   "source": [
    "VegRange"
   ]
  },
  {
   "cell_type": "code",
   "execution_count": null,
   "metadata": {},
   "outputs": [],
   "source": [
    "fig, ax = plt.subplots(figsize=(8,3));\n",
    "plot_title = curr_field.CropTyp.unique()[0]\n",
    "\n",
    "ax.plot(curr_field['Date'], curr_field['EVI'], c='k', label=\"EVI\")\n",
    "ax.scatter(curr_field['Date'], curr_field['EVI'], marker='o', s=2, c='k')\n",
    "\n",
    "ax.plot(curr_field['Date'], SG_pred, c='c', label=\"smoothed EVI\")\n",
    "ax.scatter(curr_field['Date'], SG_pred, marker='o', s=2, c='c')\n",
    "\n",
    "\n",
    "ax.plot(pandaFrame['Date'], pandaFrame[colName], c='r', label = \"EVI ratio\")\n",
    "ax.scatter(pandaFrame['Date'], pandaFrame[colName], marker='o', s=2, c='r')\n",
    "\n",
    "ax.axhline(0.5 , color = 'r', linewidth=.5)\n",
    "ax.set_title(plot_title);\n",
    "ax.set(xlabel='DoY', ylabel='EVI')\n",
    "ax.legend(loc=\"best\");\n",
    "ax.grid(True)\n",
    "\n",
    "plot_path = \"/Users/hn/Desktop/\"\n",
    "fig_name = plot_path + 'EVI_VS_EVIratio.png'\n",
    "plt.savefig(fname = fig_name, dpi=600, bbox_inches='tight')"
   ]
  },
  {
   "cell_type": "code",
   "execution_count": null,
   "metadata": {},
   "outputs": [],
   "source": [
    "curr_field.columns"
   ]
  },
  {
   "cell_type": "code",
   "execution_count": null,
   "metadata": {},
   "outputs": [],
   "source": []
  },
  {
   "cell_type": "code",
   "execution_count": null,
   "metadata": {},
   "outputs": [],
   "source": []
  }
 ],
 "metadata": {
  "kernelspec": {
   "display_name": "Python 3",
   "language": "python",
   "name": "python3"
  },
  "language_info": {
   "codemirror_mode": {
    "name": "ipython",
    "version": 3
   },
   "file_extension": ".py",
   "mimetype": "text/x-python",
   "name": "python",
   "nbconvert_exporter": "python",
   "pygments_lexer": "ipython3",
   "version": "3.7.4"
  }
 },
 "nbformat": 4,
 "nbformat_minor": 2
}
