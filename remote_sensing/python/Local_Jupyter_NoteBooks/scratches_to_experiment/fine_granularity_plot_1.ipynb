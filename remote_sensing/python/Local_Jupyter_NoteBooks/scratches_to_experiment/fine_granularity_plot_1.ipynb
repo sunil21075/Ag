{
 "cells": [
  {
   "cell_type": "code",
   "execution_count": 1,
   "metadata": {},
   "outputs": [
    {
     "name": "stderr",
     "output_type": "stream",
     "text": [
      "/Users/hn/opt/anaconda3/lib/python3.7/site-packages/statsmodels/tools/_testing.py:19: FutureWarning: pandas.util.testing is deprecated. Use the functions in the public API at pandas.testing instead.\n",
      "  import pandas.util.testing as tm\n"
     ]
    }
   ],
   "source": [
    "import csv\n",
    "import numpy as np\n",
    "import pandas as pd\n",
    "# import geopandas as gpd\n",
    "from IPython.display import Image\n",
    "# from shapely.geometry import Point, Polygon\n",
    "from math import factorial\n",
    "import datetime\n",
    "import time\n",
    "import scipy\n",
    "import scipy.signal\n",
    "import os, os.path\n",
    "\n",
    "from statsmodels.sandbox.regression.predstd import wls_prediction_std\n",
    "from sklearn.linear_model import LinearRegression\n",
    "from patsy import cr\n",
    "\n",
    "# from pprint import pprint\n",
    "import matplotlib.pyplot as plt\n",
    "import seaborn as sb\n",
    "\n",
    "\n",
    "import sys\n",
    "start_time = time.time()"
   ]
  },
  {
   "cell_type": "code",
   "execution_count": 2,
   "metadata": {},
   "outputs": [],
   "source": [
    "sys.path.append('/Users/hn/Documents/00_GitHub/Ag/remote_sensing/python/')\n",
    "\n",
    "import remote_sensing_core as rc\n",
    "import remote_sensing_core as rcp\n",
    "\n",
    "data_dir = \"/Users/hn/Documents/01_research_data/remote_sensing/test_Aeolus_data/\"\n",
    "f_name = \"01_Regular_filledGap_Grant_SF_2017_EVI.csv\""
   ]
  },
  {
   "cell_type": "code",
   "execution_count": 3,
   "metadata": {},
   "outputs": [],
   "source": [
    "eleven_colors = [\"gray\", \"lightcoral\", \"red\", \"peru\",\n",
    "                 \"darkorange\", \"gold\", \"olive\", \"green\",\n",
    "                 \"blue\", \"violet\", \"deepskyblue\"]\n",
    "\n",
    "indeks = \"EVI\"\n",
    "# irrigated_only = 1\n",
    "# SF_year = 2017\n",
    "\n",
    "given_county = \"Grant\"\n",
    "\n",
    "# jumps = sys.argv[1]\n",
    "# indeks = sys.argv[2]\n",
    "# irrigated_only = int(sys.argv[3])\n",
    "# SF_year = int(sys.argv[4])\n",
    "# given_county = sys.argv[5]\n",
    "# regularized = True\n",
    "SF_year = 2017\n",
    "sos_thresh = 0.5\n",
    "eos_thresh = 0.5\n",
    "minFinderDetla = 0.4"
   ]
  },
  {
   "cell_type": "code",
   "execution_count": 4,
   "metadata": {},
   "outputs": [],
   "source": [
    "a_df = pd.read_csv(data_dir + f_name, low_memory=False)\n",
    "\n",
    "if 'Date' in a_df.columns:\n",
    "    if type(a_df.Date.iloc[0]) == str:\n",
    "        a_df['Date'] = pd.to_datetime(a_df.Date.values).values\n"
   ]
  },
  {
   "cell_type": "code",
   "execution_count": 5,
   "metadata": {},
   "outputs": [],
   "source": [
    "a_df = a_df[a_df['county'] == given_county.replace(\"_\", \" \")] # Filter Grant\n",
    "a_df = rc.filter_out_NASS(a_df) # Toss NASS\n",
    "a_df = rc.filter_by_lastSurvey(a_df, year = SF_year) # filter by last survey date\n",
    "a_df['SF_year'] = SF_year\n"
   ]
  },
  {
   "cell_type": "code",
   "execution_count": 6,
   "metadata": {},
   "outputs": [
    {
     "name": "stdout",
     "output_type": "stream",
     "text": [
      "CovrCrp is being set to NA\n"
     ]
    }
   ],
   "source": [
    "if not('DataSrc' in a_df.columns):\n",
    "    print (\"Data source is being set to NA\")\n",
    "    a_df['DataSrc'] = \"NA\"\n",
    "\n",
    "if not('CovrCrp' in a_df.columns):\n",
    "    print (\"CovrCrp is being set to NA\")\n",
    "    a_df['CovrCrp'] = \"NA\"\n"
   ]
  },
  {
   "cell_type": "code",
   "execution_count": 7,
   "metadata": {},
   "outputs": [
    {
     "data": {
      "text/html": [
       "<div>\n",
       "<style scoped>\n",
       "    .dataframe tbody tr th:only-of-type {\n",
       "        vertical-align: middle;\n",
       "    }\n",
       "\n",
       "    .dataframe tbody tr th {\n",
       "        vertical-align: top;\n",
       "    }\n",
       "\n",
       "    .dataframe thead th {\n",
       "        text-align: right;\n",
       "    }\n",
       "</style>\n",
       "<table border=\"1\" class=\"dataframe\">\n",
       "  <thead>\n",
       "    <tr style=\"text-align: right;\">\n",
       "      <th></th>\n",
       "      <th>ID</th>\n",
       "      <th>Acres</th>\n",
       "      <th>county</th>\n",
       "      <th>CropGrp</th>\n",
       "      <th>CropTyp</th>\n",
       "      <th>DataSrc</th>\n",
       "      <th>ExctAcr</th>\n",
       "      <th>IntlSrD</th>\n",
       "      <th>Irrigtn</th>\n",
       "      <th>LstSrvD</th>\n",
       "      <th>...</th>\n",
       "      <th>Shp_Lng</th>\n",
       "      <th>TRS</th>\n",
       "      <th>image_year</th>\n",
       "      <th>SF_year</th>\n",
       "      <th>doy</th>\n",
       "      <th>EVI</th>\n",
       "      <th>human_system_start_time</th>\n",
       "      <th>Date</th>\n",
       "      <th>system_start_time</th>\n",
       "      <th>CovrCrp</th>\n",
       "    </tr>\n",
       "  </thead>\n",
       "  <tbody>\n",
       "    <tr>\n",
       "      <th>0</th>\n",
       "      <td>115184_WSDA_SF_2017</td>\n",
       "      <td>72.0</td>\n",
       "      <td>Grant</td>\n",
       "      <td>Orchard</td>\n",
       "      <td>apple</td>\n",
       "      <td>wsda</td>\n",
       "      <td>72.371199</td>\n",
       "      <td>2006/08/31</td>\n",
       "      <td>micro-sprinkler</td>\n",
       "      <td>2017/04/24</td>\n",
       "      <td>...</td>\n",
       "      <td>3308.620365</td>\n",
       "      <td>T13R24E4</td>\n",
       "      <td>2016</td>\n",
       "      <td>2017</td>\n",
       "      <td>213</td>\n",
       "      <td>0.718179</td>\n",
       "      <td>2016-07-31</td>\n",
       "      <td>2016-07-31</td>\n",
       "      <td>1470006200000</td>\n",
       "      <td>NA</td>\n",
       "    </tr>\n",
       "    <tr>\n",
       "      <th>1</th>\n",
       "      <td>115184_WSDA_SF_2017</td>\n",
       "      <td>72.0</td>\n",
       "      <td>Grant</td>\n",
       "      <td>Orchard</td>\n",
       "      <td>apple</td>\n",
       "      <td>wsda</td>\n",
       "      <td>72.371199</td>\n",
       "      <td>2006/08/31</td>\n",
       "      <td>micro-sprinkler</td>\n",
       "      <td>2017/04/24</td>\n",
       "      <td>...</td>\n",
       "      <td>3308.620365</td>\n",
       "      <td>T13R24E4</td>\n",
       "      <td>2016</td>\n",
       "      <td>2017</td>\n",
       "      <td>223</td>\n",
       "      <td>0.716998</td>\n",
       "      <td>2016-08-10</td>\n",
       "      <td>2016-08-10</td>\n",
       "      <td>1470870200000</td>\n",
       "      <td>NA</td>\n",
       "    </tr>\n",
       "  </tbody>\n",
       "</table>\n",
       "<p>2 rows × 23 columns</p>\n",
       "</div>"
      ],
      "text/plain": [
       "                    ID  Acres county  CropGrp CropTyp DataSrc    ExctAcr  \\\n",
       "0  115184_WSDA_SF_2017   72.0  Grant  Orchard   apple    wsda  72.371199   \n",
       "1  115184_WSDA_SF_2017   72.0  Grant  Orchard   apple    wsda  72.371199   \n",
       "\n",
       "      IntlSrD          Irrigtn     LstSrvD  ...      Shp_Lng       TRS  \\\n",
       "0  2006/08/31  micro-sprinkler  2017/04/24  ...  3308.620365  T13R24E4   \n",
       "1  2006/08/31  micro-sprinkler  2017/04/24  ...  3308.620365  T13R24E4   \n",
       "\n",
       "   image_year  SF_year  doy       EVI  human_system_start_time       Date  \\\n",
       "0        2016     2017  213  0.718179               2016-07-31 2016-07-31   \n",
       "1        2016     2017  223  0.716998               2016-08-10 2016-08-10   \n",
       "\n",
       "   system_start_time CovrCrp  \n",
       "0      1470006200000      NA  \n",
       "1      1470870200000      NA  \n",
       "\n",
       "[2 rows x 23 columns]"
      ]
     },
     "execution_count": 7,
     "metadata": {},
     "output_type": "execute_result"
    }
   ],
   "source": [
    "a_df.head(2)"
   ]
  },
  {
   "cell_type": "code",
   "execution_count": 10,
   "metadata": {},
   "outputs": [],
   "source": [
    "a_df = rc.initial_clean(df = a_df, column_to_be_cleaned = indeks)"
   ]
  },
  {
   "cell_type": "code",
   "execution_count": 13,
   "metadata": {},
   "outputs": [
    {
     "name": "stdout",
     "output_type": "stream",
     "text": [
      "_____________________________________\n",
      "len(polygon_list)\n",
      "9514\n",
      "_____________________________________\n"
     ]
    }
   ],
   "source": [
    "an_EE_TS = a_df.copy()\n",
    "del(a_df)\n",
    "\n",
    "### List of unique polygons\n",
    "polygon_list = np.sort(an_EE_TS['ID'].unique())\n",
    "print (\"_____________________________________\")\n",
    "print(\"len(polygon_list)\")\n",
    "print (len(polygon_list))\n",
    "print (\"_____________________________________\")\n",
    "\n",
    "counter = 0\n"
   ]
  },
  {
   "cell_type": "code",
   "execution_count": 15,
   "metadata": {},
   "outputs": [
    {
     "name": "stdout",
     "output_type": "stream",
     "text": [
      "_____________________________________\n",
      "counter: 0\n",
      "100003_WSDA_SF_2017\n"
     ]
    }
   ],
   "source": [
    "a_poly = polygon_list[0]\n",
    "if (counter%10 == 0):\n",
    "        print (\"_____________________________________\")\n",
    "        print (\"counter: \" + str(counter))\n",
    "        print (a_poly)"
   ]
  },
  {
   "cell_type": "code",
   "execution_count": 16,
   "metadata": {},
   "outputs": [
    {
     "ename": "NameError",
     "evalue": "name 'curr_field' is not defined",
     "output_type": "error",
     "traceback": [
      "\u001b[0;31m---------------------------------------------------------------------------\u001b[0m",
      "\u001b[0;31mNameError\u001b[0m                                 Traceback (most recent call last)",
      "\u001b[0;32m<ipython-input-16-dcb7de968370>\u001b[0m in \u001b[0;36m<module>\u001b[0;34m\u001b[0m\n\u001b[0;32m----> 1\u001b[0;31m \u001b[0mcurr_field\u001b[0m\u001b[0;34m.\u001b[0m\u001b[0mimage_year\u001b[0m\u001b[0;34m.\u001b[0m\u001b[0munique\u001b[0m\u001b[0;34m(\u001b[0m\u001b[0;34m)\u001b[0m\u001b[0;34m\u001b[0m\u001b[0;34m\u001b[0m\u001b[0m\n\u001b[0m",
      "\u001b[0;31mNameError\u001b[0m: name 'curr_field' is not defined"
     ]
    }
   ],
   "source": []
  },
  {
   "cell_type": "code",
   "execution_count": 17,
   "metadata": {},
   "outputs": [],
   "source": [
    "curr_field = an_EE_TS[an_EE_TS['ID']==a_poly].copy()\n",
    "\n",
    "#\n",
    "#  filter just one year to have a clean SOS EOS stuff\n",
    "#\n",
    "curr_field = curr_field[curr_field.image_year == SF_year]\n",
    "\n",
    "################################################################\n",
    "# Sort by DoY (sanitary check)\n",
    "curr_field.sort_values(by=['image_year', 'doy'], inplace=True)"
   ]
  },
  {
   "cell_type": "code",
   "execution_count": 20,
   "metadata": {},
   "outputs": [
    {
     "data": {
      "image/png": "[encoded data removed]",
      "text/plain": [
       "<Figure size 1440x864 with 4 Axes>"
      ]
     },
     "metadata": {
      "needs_background": "light"
     },
     "output_type": "display_data"
    }
   ],
   "source": [
    "fig, axs = plt.subplots(2, 2, figsize=(20,12),\n",
    "                        sharex='col', sharey='row',\n",
    "                        gridspec_kw={'hspace': 0.1, 'wspace': .1});\n",
    "\n",
    "(ax1, ax2), (ax3, ax4) = axs;\n",
    "ax1.grid(True); ax2.grid(True); ax3.grid(True); ax4.grid(True);\n",
    "\n",
    "dataAB = curr_field\n",
    "idx=indeks\n",
    "SG_params=[5, 1]\n",
    "SFYr = SF_year\n",
    "ax=ax1\n",
    "deltA= minFinderDetla\n",
    "onset_cut = sos_thresh\n",
    "offset_cut = eos_thresh"
   ]
  },
  {
   "cell_type": "code",
   "execution_count": 21,
   "metadata": {},
   "outputs": [],
   "source": [
    "crr_fld = dataAB.copy()\n",
    "if (not(\"human_system_start_time\" in list(crr_fld.columns))):\n",
    "    crr_fld = rc.add_human_start_time(crr_fld)\n",
    "\n",
    "eleven_colors = [\"gray\", \"lightcoral\", \"red\", \"peru\",\n",
    "                 \"darkorange\", \"gold\", \"olive\", \"green\",\n",
    "                 \"blue\", \"violet\", \"deepskyblue\"]\n",
    "\n",
    "plant = crr_fld['CropTyp'].unique()[0]\n",
    "# Take care of names, replace \"/\" and \",\" and \" \" by \"_\"\n",
    "plant = plant.replace(\"/\", \"_\")\n",
    "plant = plant.replace(\",\", \"_\")\n",
    "plant = plant.replace(\" \", \"_\")\n",
    "plant = plant.replace(\"__\", \"_\")\n",
    "\n",
    "county = crr_fld['county'].unique()[0]\n",
    "ID = crr_fld['ID'].unique()[0]\n",
    "\n",
    "y = crr_fld[idx].copy()\n",
    "\n",
    "#############################################\n",
    "###\n",
    "###             Smoothen\n",
    "###\n",
    "#############################################\n",
    "# differences are minor, but lets keep using Pythons function\n",
    "# my_savitzky_pred = rc.savitzky_golay(y, window_size=Sav_win_size, order=sav_order)\n",
    "window_len = SG_params[0]\n",
    "poly_order = SG_params[1]\n",
    "\n",
    "SG_pred = scipy.signal.savgol_filter(y, window_length= window_len, polyorder=poly_order)\n",
    "\n",
    "# SG might violate the boundaries. clip them:\n",
    "SG_pred[SG_pred > 1 ] = 1\n",
    "SG_pred[SG_pred < -1 ] = -1\n"
   ]
  },
  {
   "cell_type": "code",
   "execution_count": null,
   "metadata": {},
   "outputs": [],
   "source": []
  },
  {
   "cell_type": "code",
   "execution_count": null,
   "metadata": {},
   "outputs": [],
   "source": []
  }
 ],
 "metadata": {
  "kernelspec": {
   "display_name": "Python 3",
   "language": "python",
   "name": "python3"
  },
  "language_info": {
   "codemirror_mode": {
    "name": "ipython",
    "version": 3
   },
   "file_extension": ".py",
   "mimetype": "text/x-python",
   "name": "python",
   "nbconvert_exporter": "python",
   "pygments_lexer": "ipython3",
   "version": "3.7.4"
  }
 },
 "nbformat": 4,
 "nbformat_minor": 2
}
