{
 "cells": [
  {
   "cell_type": "markdown",
   "metadata": {},
   "source": [
    "# This is scratch to do maximum in 10-days intervals. "
   ]
  },
  {
   "cell_type": "code",
   "execution_count": 1,
   "metadata": {},
   "outputs": [],
   "source": [
    "import csv\n",
    "import numpy as np\n",
    "import pandas as pd\n",
    "# import geopandas as gpd\n",
    "from IPython.display import Image\n",
    "# from shapely.geometry import Point, Polygon\n",
    "from math import factorial\n",
    "import scipy\n",
    "import scipy.signal\n",
    "import os, os.path\n",
    "\n",
    "from datetime import date\n",
    "import datetime\n",
    "import time\n",
    "\n",
    "from statsmodels.sandbox.regression.predstd import wls_prediction_std\n",
    "from sklearn.linear_model import LinearRegression\n",
    "from patsy import cr\n",
    "\n",
    "# from pprint import pprint\n",
    "import matplotlib.pyplot as plt\n",
    "import seaborn as sb\n",
    "\n",
    "import sys\n",
    "\n",
    "sys.path.append('/Users/hn/Documents/00_GitHub/Ag/remote_sensing/python/')\n",
    "import remote_sensing_core as rc\n",
    "import remote_sensing_core as rcp\n",
    "\n",
    "start_time = time.time()"
   ]
  },
  {
   "cell_type": "code",
   "execution_count": 2,
   "metadata": {},
   "outputs": [],
   "source": [
    "data_dir = \"/Users/hn/Documents/01_research_data/\" + \\\n",
    "           \"remote_sensing/01_NDVI_TS/00_Eastern_WA_withYear/2Years/\"\n",
    "\n",
    "param_dir = \"/Users/hn/Documents/00_GitHub/Ag/remote_sensing/parameters/\""
   ]
  },
  {
   "cell_type": "markdown",
   "metadata": {},
   "source": [
    "# Parameters"
   ]
  },
  {
   "cell_type": "code",
   "execution_count": 3,
   "metadata": {},
   "outputs": [],
   "source": [
    "####################################################################################\n",
    "###\n",
    "###      Parameters                   \n",
    "###\n",
    "####################################################################################\n",
    "\n",
    "irrigated_only = 0\n",
    "SF_year = 2017\n",
    "indeks = \"EVI\"\n",
    "\n",
    "regular_window_size = 10"
   ]
  },
  {
   "cell_type": "markdown",
   "metadata": {},
   "source": [
    "# Read the data"
   ]
  },
  {
   "cell_type": "code",
   "execution_count": 4,
   "metadata": {},
   "outputs": [],
   "source": [
    "f_name = \"Eastern_WA_\" + str(SF_year) + \"_70cloud_selectors.csv\"\n",
    "a_df = pd.read_csv(data_dir + f_name, low_memory=False)\n",
    "\n",
    "##################################################################\n",
    "##################################################################\n",
    "####\n",
    "####  plots has to be exact. So, we need \n",
    "####  to filter out NASS, and filter by last survey date\n",
    "####\n",
    "##################################################################\n",
    "##################################################################\n",
    "\n",
    "a_df = a_df[a_df['county']== \"Grant\"] # Filter Grant\n",
    "# a_df = rc.filter_out_NASS(a_df) # Toss NASS\n",
    "# a_df = rc.filter_by_lastSurvey(a_df, year = SF_year) # filter by last survey date\n",
    "a_df['SF_year'] = SF_year\n"
   ]
  },
  {
   "cell_type": "markdown",
   "metadata": {},
   "source": [
    "# Functions"
   ]
  },
  {
   "cell_type": "code",
   "execution_count": 5,
   "metadata": {},
   "outputs": [],
   "source": []
  },
  {
   "cell_type": "code",
   "execution_count": null,
   "metadata": {},
   "outputs": [],
   "source": []
  },
  {
   "cell_type": "markdown",
   "metadata": {},
   "source": [
    "# Get a field's data"
   ]
  },
  {
   "cell_type": "code",
   "execution_count": 6,
   "metadata": {},
   "outputs": [
    {
     "data": {
      "text/plain": [
       "(268, 26)"
      ]
     },
     "execution_count": 6,
     "metadata": {},
     "output_type": "execute_result"
    }
   ],
   "source": [
    "a_df.reset_index(drop=True, inplace=True)\n",
    "a_df_1 = a_df[a_df.ID == a_df.ID[0]]\n",
    "a_df_1.shape"
   ]
  },
  {
   "cell_type": "code",
   "execution_count": null,
   "metadata": {},
   "outputs": [],
   "source": []
  },
  {
   "cell_type": "code",
   "execution_count": 7,
   "metadata": {},
   "outputs": [],
   "source": [
    "a_df_1 = rc.initial_clean_EVI(a_df_1)\n",
    "# a_df_1.sort_values(by=['system_start_time'], inplace=True)\n",
    "a_df_1.sort_values(by=['image_year', 'doy'], inplace=True)\n"
   ]
  },
  {
   "cell_type": "code",
   "execution_count": 8,
   "metadata": {},
   "outputs": [
    {
     "name": "stdout",
     "output_type": "stream",
     "text": [
      "(61, 26)\n"
     ]
    }
   ],
   "source": [
    "a_df_1 = rc.correct_timeColumns_dataTypes(a_df_1)\n",
    "\n",
    "a_df_1.reset_index(drop=True, inplace=True)\n",
    "print(a_df_1.shape)\n",
    "# a_df_1.head(2)"
   ]
  },
  {
   "cell_type": "code",
   "execution_count": null,
   "metadata": {},
   "outputs": [],
   "source": [
    "a_df_1.system_start_time[0]"
   ]
  },
  {
   "cell_type": "code",
   "execution_count": 11,
   "metadata": {},
   "outputs": [],
   "source": [
    "A = rc.regularize_movingWindow_windowSteps_2Yrs(one_field_df = a_df_1, SF_yr=SF_year, idks=indeks, window_size=10)"
   ]
  },
  {
   "cell_type": "code",
   "execution_count": 9,
   "metadata": {},
   "outputs": [
    {
     "data": {
      "text/plain": [
       "array([2016, 2017])"
      ]
     },
     "execution_count": 9,
     "metadata": {},
     "output_type": "execute_result"
    }
   ],
   "source": [
    "a_df_1.image_year.unique()"
   ]
  },
  {
   "cell_type": "code",
   "execution_count": 12,
   "metadata": {},
   "outputs": [
    {
     "data": {
      "text/plain": [
       "(51, 19)"
      ]
     },
     "execution_count": 12,
     "metadata": {},
     "output_type": "execute_result"
    }
   ],
   "source": [
    "A.shape"
   ]
  },
  {
   "cell_type": "code",
   "execution_count": null,
   "metadata": {},
   "outputs": [],
   "source": []
  },
  {
   "cell_type": "code",
   "execution_count": null,
   "metadata": {},
   "outputs": [],
   "source": [
    "print (a_field_df.shape)\n",
    "print (regular_df.shape)"
   ]
  },
  {
   "cell_type": "code",
   "execution_count": null,
   "metadata": {},
   "outputs": [],
   "source": []
  },
  {
   "cell_type": "code",
   "execution_count": null,
   "metadata": {},
   "outputs": [],
   "source": []
  },
  {
   "cell_type": "code",
   "execution_count": null,
   "metadata": {},
   "outputs": [],
   "source": []
  },
  {
   "cell_type": "code",
   "execution_count": null,
   "metadata": {},
   "outputs": [],
   "source": []
  },
  {
   "cell_type": "code",
   "execution_count": null,
   "metadata": {},
   "outputs": [],
   "source": []
  },
  {
   "cell_type": "code",
   "execution_count": null,
   "metadata": {},
   "outputs": [],
   "source": []
  },
  {
   "cell_type": "code",
   "execution_count": null,
   "metadata": {},
   "outputs": [],
   "source": [
    "outName = \"/Users/hn/Documents/01_research_data/remote_sensing/test_data/a_regularized_TS.csv\"\n",
    "regularized_TS.to_csv(outName, index=False)"
   ]
  },
  {
   "cell_type": "markdown",
   "metadata": {},
   "source": [
    "# Create Aeolus Enviornment, and see things works"
   ]
  },
  {
   "cell_type": "code",
   "execution_count": null,
   "metadata": {},
   "outputs": [],
   "source": [
    "first_10_IDs = a_df.ID.unique()[:10]\n",
    "an_EE_TS = a_df[a_df.ID.isin(first_10_IDs) ]"
   ]
  },
  {
   "cell_type": "code",
   "execution_count": null,
   "metadata": {},
   "outputs": [],
   "source": []
  },
  {
   "cell_type": "code",
   "execution_count": null,
   "metadata": {},
   "outputs": [],
   "source": [
    "indeks = \"EVI\"\n",
    "county = \"Grant\"\n",
    "SF_year = 2017\n",
    "regular_window_size = 10"
   ]
  },
  {
   "cell_type": "code",
   "execution_count": null,
   "metadata": {},
   "outputs": [],
   "source": [
    "########################################################################################\n",
    "\n",
    "an_EE_TS = an_EE_TS[an_EE_TS['county'] == county] # Filter Grant\n",
    "an_EE_TS['SF_year'] = SF_year\n",
    "\n",
    "########################################################################################\n",
    "\n",
    "# output_dir = \"/data/hydro/users/Hossein/remote_sensing/02_Regularized_TS/\"\n",
    "\n",
    "# os.makedirs(output_dir, exist_ok=True)\n",
    "########################################################################################\n",
    "\n",
    "if (indeks == \"EVI\"):\n",
    "    an_EE_TS = rc.initial_clean_EVI(an_EE_TS)\n",
    "else:\n",
    "    an_EE_TS = rc.initial_clean_NDVI(an_EE_TS)\n",
    "\n",
    "an_EE_TS.head(2)\n",
    "\n",
    "###\n",
    "### List of unique polygons\n",
    "###\n",
    "polygon_list = an_EE_TS['ID'].unique()\n",
    "print(len(polygon_list))\n",
    "\n",
    "########################################################################################\n",
    "###\n",
    "###  initialize output data. all polygons in this case\n",
    "###  will have the same length. \n",
    "###  9 steps in the first three months, followed by 36 points in the full year,\n",
    "###  9 months in the last year\n",
    "###\n",
    "reg_cols = ['ID', 'Acres', 'county', 'CropGrp', 'CropTyp',\n",
    "            'DataSrc', 'ExctAcr', 'IntlSrD', 'Irrigtn', 'LstSrvD', 'Notes',\n",
    "            'RtCrpTy', 'Shap_Ar', 'Shp_Lng', 'TRS', 'image_year', \n",
    "            'SF_year', 'doy', indeks]\n",
    "\n",
    "nrows = 54 * len(polygon_list)\n",
    "output_df = pd.DataFrame(data = None,\n",
    "                         index = np.arange(nrows), \n",
    "                         columns = reg_cols)\n",
    "########################################################################################\n",
    "\n",
    "counter = 0\n",
    "\n",
    "for a_poly in polygon_list:\n",
    "    if (counter): # % 100 == 0\n",
    "        print (counter)\n",
    "    \n",
    "    curr_field = an_EE_TS[an_EE_TS['ID']==a_poly].copy()\n",
    "    ################################################################\n",
    "    # Sort by DoY (sanitary check)\n",
    "    curr_field.sort_values(by=['image_year', 'doy'], inplace=True)\n",
    "    \n",
    "    curr_field = rc.correct_timeColumns_dataTypes(curr_field)\n",
    "    curr_field.reset_index(drop=True, inplace=True)\n",
    "    \n",
    "    print (\"print(curr_field.shape\")\n",
    "    print(curr_field.shape)\n",
    "    print (\"__________________________________________\")\n",
    "    ################################################################\n",
    "    regularized_TS = rc.regularize_movingWindow_windowSteps_18Months(curr_field, \\\n",
    "                                                                     SF_yr = SF_year, \\\n",
    "                                                                     idks = indeks, \\\n",
    "                                                                     window_size = 10)\n",
    "    print(regularized_TS.shape)\n",
    "\n",
    "    ################################################################\n",
    "    row_pointer = 54 * counter\n",
    "    output_df[row_pointer: row_pointer+54] = regularized_TS.values\n",
    "    counter += 1\n",
    "\n",
    "\n"
   ]
  },
  {
   "cell_type": "code",
   "execution_count": null,
   "metadata": {},
   "outputs": [],
   "source": [
    "regularized_TS.values.shape"
   ]
  },
  {
   "cell_type": "code",
   "execution_count": null,
   "metadata": {},
   "outputs": [],
   "source": [
    "output_df[row_pointer: row_pointer+54].shape"
   ]
  },
  {
   "cell_type": "code",
   "execution_count": null,
   "metadata": {},
   "outputs": [],
   "source": [
    "row_pointer"
   ]
  },
  {
   "cell_type": "code",
   "execution_count": null,
   "metadata": {},
   "outputs": [],
   "source": [
    "output_df.shape"
   ]
  },
  {
   "cell_type": "code",
   "execution_count": null,
   "metadata": {},
   "outputs": [],
   "source": [
    "output_df.head(2)"
   ]
  },
  {
   "cell_type": "code",
   "execution_count": null,
   "metadata": {},
   "outputs": [],
   "source": []
  },
  {
   "cell_type": "code",
   "execution_count": null,
   "metadata": {},
   "outputs": [],
   "source": []
  },
  {
   "cell_type": "code",
   "execution_count": null,
   "metadata": {},
   "outputs": [],
   "source": [
    "print (a_df_1.system_start_time.iloc[0])\n",
    "print (time.strftime('%Y-%m-%d', time.localtime(a_df_1.system_start_time.iloc[0])))\n",
    "\n",
    "\n",
    "print (\"Convert Epoch to datetime format\")\n",
    "print (datetime.datetime.fromtimestamp(a_df_1.system_start_time.iloc[0]))\n",
    "\n",
    "# Convert Epoch to DoY\n",
    "print (\"___________________________________________\")\n",
    "print (\"\")\n",
    "print (\"Convert Epoch to DoY\")\n",
    "print ( (datetime.datetime.fromtimestamp(a_df_1.system_start_time.iloc[0])).timetuple().tm_yday  )\n",
    "\n",
    "print (\"___________________________________________\")\n",
    "print (\"\")\n",
    "print (\"difference number of days\")\n",
    "print ((date(2003,11,22) - date(2002,10,20)).days)"
   ]
  },
  {
   "cell_type": "code",
   "execution_count": null,
   "metadata": {},
   "outputs": [],
   "source": [
    "time.localtime(a_df_1.system_start_time.iloc[0])"
   ]
  },
  {
   "cell_type": "code",
   "execution_count": null,
   "metadata": {},
   "outputs": [],
   "source": []
  },
  {
   "cell_type": "code",
   "execution_count": null,
   "metadata": {},
   "outputs": [],
   "source": []
  },
  {
   "cell_type": "code",
   "execution_count": null,
   "metadata": {},
   "outputs": [],
   "source": [
    "# datetime.datetime(2016, 1, 1) + datetime.timedelta(275 - 1)\n",
    "# im_yr_sotred = a_df_1.copy()\n",
    "# epoch_sorted = a_df_1.copy()\n",
    "# im_yr_sotred.sort_values(by=['image_year', 'doy'], inplace=True)\n",
    "# epoch_sorted.sort_values(by=['system_start_time'], inplace=True)\n",
    "# epoch_sorted.to_csv (r'/Users/hn/Desktop/test/epoch_sorted.csv', index = True, header=True)\n",
    "# im_yr_sotred.to_csv (r'/Users/hn/Desktop/test/im_yr_sotred.csv', index = True, header=True)\n",
    "# a_df_1.to_csv (r'/Users/hn/Desktop/test/a_df_1.csv', index = True, header=True)"
   ]
  },
  {
   "cell_type": "code",
   "execution_count": null,
   "metadata": {},
   "outputs": [],
   "source": []
  },
  {
   "cell_type": "code",
   "execution_count": null,
   "metadata": {},
   "outputs": [],
   "source": []
  },
  {
   "cell_type": "code",
   "execution_count": null,
   "metadata": {},
   "outputs": [],
   "source": []
  },
  {
   "cell_type": "code",
   "execution_count": null,
   "metadata": {},
   "outputs": [],
   "source": []
  },
  {
   "cell_type": "code",
   "execution_count": null,
   "metadata": {},
   "outputs": [],
   "source": []
  },
  {
   "cell_type": "code",
   "execution_count": null,
   "metadata": {},
   "outputs": [],
   "source": []
  },
  {
   "cell_type": "code",
   "execution_count": null,
   "metadata": {},
   "outputs": [],
   "source": []
  }
 ],
 "metadata": {
  "kernelspec": {
   "display_name": "Python 3",
   "language": "python",
   "name": "python3"
  },
  "language_info": {
   "codemirror_mode": {
    "name": "ipython",
    "version": 3
   },
   "file_extension": ".py",
   "mimetype": "text/x-python",
   "name": "python",
   "nbconvert_exporter": "python",
   "pygments_lexer": "ipython3",
   "version": "3.7.4"
  }
 },
 "nbformat": 4,
 "nbformat_minor": 2
}
