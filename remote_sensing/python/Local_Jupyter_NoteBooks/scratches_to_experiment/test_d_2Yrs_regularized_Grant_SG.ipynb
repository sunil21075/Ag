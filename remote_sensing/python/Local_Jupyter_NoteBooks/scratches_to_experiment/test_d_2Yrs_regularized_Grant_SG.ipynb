{
 "cells": [
  {
   "cell_type": "code",
   "execution_count": 1,
   "metadata": {},
   "outputs": [
    {
     "name": "stderr",
     "output_type": "stream",
     "text": [
      "/Users/hn/opt/anaconda3/lib/python3.7/site-packages/statsmodels/tools/_testing.py:19: FutureWarning: pandas.util.testing is deprecated. Use the functions in the public API at pandas.testing instead.\n",
      "  import pandas.util.testing as tm\n"
     ]
    }
   ],
   "source": [
    "import csv\n",
    "import numpy as np\n",
    "import pandas as pd\n",
    "# import geopandas as gpd\n",
    "from IPython.display import Image\n",
    "# from shapely.geometry import Point, Polygon\n",
    "from math import factorial\n",
    "import datetime\n",
    "import time\n",
    "import scipy\n",
    "import scipy.signal\n",
    "import os, os.path\n",
    "\n",
    "from statsmodels.sandbox.regression.predstd import wls_prediction_std\n",
    "from sklearn.linear_model import LinearRegression\n",
    "from patsy import cr\n",
    "\n",
    "# from pprint import pprint\n",
    "import matplotlib.pyplot as plt\n",
    "import seaborn as sb\n",
    "\n",
    "\n",
    "import sys\n",
    "start_time = time.time()"
   ]
  },
  {
   "cell_type": "code",
   "execution_count": 2,
   "metadata": {},
   "outputs": [],
   "source": [
    "\n",
    "sys.path.append('/Users/hn/Documents/00_GitHub/Ag/remote_sensing/python/')\n",
    "\n",
    "import remote_sensing_core as rc\n",
    "import remote_sensing_core as rcp"
   ]
  },
  {
   "cell_type": "code",
   "execution_count": 3,
   "metadata": {},
   "outputs": [],
   "source": [
    "given_county = \"Grant\"\n",
    "SF_year = 2016\n",
    "indeks = \"EVI\"\n",
    "SG_params = 51\n",
    "delt = 0.4"
   ]
  },
  {
   "cell_type": "code",
   "execution_count": 4,
   "metadata": {},
   "outputs": [
    {
     "name": "stdout",
     "output_type": "stream",
     "text": [
      "SG_params is 51.\n",
      "SG_win_size is 5 and SG_order is 1.\n"
     ]
    }
   ],
   "source": [
    "SG_win_size = int(SG_params / 10) # grab the first digit as window size\n",
    "SG_order = SG_params % 10 # grab the second digit as poly. order\n",
    "\n",
    "print(\"SG_params is {}.\".format(SG_params))\n",
    "print(\"SG_win_size is {} and SG_order is {}.\".format(SG_win_size, SG_order))\n"
   ]
  },
  {
   "cell_type": "code",
   "execution_count": 5,
   "metadata": {},
   "outputs": [],
   "source": [
    "onset_cut = 0.5\n",
    "offset_cut = 0.5\n",
    "\n",
    "regularized = True\n"
   ]
  },
  {
   "cell_type": "code",
   "execution_count": 6,
   "metadata": {},
   "outputs": [],
   "source": [
    "regular_data_dir = \"/Users/hn/Documents/01_research_data/remote_sensing/test_aeolus_outputs/regularized/\"\n",
    "f_name = \"01_Regular_filledGap_\" + given_county + \"_SF_\" + str(SF_year) + \"_\" + indeks + \".csv\""
   ]
  },
  {
   "cell_type": "code",
   "execution_count": 7,
   "metadata": {},
   "outputs": [],
   "source": [
    "data_dir = regular_data_dir\n",
    "a_df = pd.read_csv(data_dir + f_name, low_memory=False)"
   ]
  },
  {
   "cell_type": "code",
   "execution_count": 8,
   "metadata": {},
   "outputs": [],
   "source": [
    "a_df = a_df[a_df['county']== given_county] # Filter the given county; given_county\n",
    "a_df = a_df[a_df['image_year']== SF_year]\n",
    "\n",
    "a_df['human_system_start_time'] = pd.to_datetime(a_df.human_system_start_time.values).values\n",
    "a_df['Date'] = pd.to_datetime(a_df.Date.values).values"
   ]
  },
  {
   "cell_type": "code",
   "execution_count": 9,
   "metadata": {},
   "outputs": [
    {
     "name": "stdout",
     "output_type": "stream",
     "text": [
      "_________________________________________________________\n",
      "polygon_list is of length 15751.\n"
     ]
    }
   ],
   "source": [
    "# a_df['year'] = SF_year\n",
    "#\n",
    "# The following columns do not exist in the old data\n",
    "#\n",
    "if not('DataSrc' in a_df.columns):\n",
    "    print (\"_________________________________________________________\")\n",
    "    print (\"Data source is being set to NA\")\n",
    "    a_df['DataSrc'] = \"NA\"\n",
    "\n",
    "a_df = rc.initial_clean(df = a_df, column_to_be_cleaned = indeks)\n",
    "\n",
    "### List of unique polygons\n",
    "polygon_list = a_df['ID'].unique()\n",
    "\n",
    "print (\"_________________________________________________________\")\n",
    "print(\"polygon_list is of length {}.\".format(len(polygon_list)))\n"
   ]
  },
  {
   "cell_type": "code",
   "execution_count": 10,
   "metadata": {},
   "outputs": [],
   "source": [
    "SEOS_output_columns = ['ID', 'Acres', 'county', 'CropGrp', 'CropTyp', 'DataSrc', 'ExctAcr',\n",
    "                       'IntlSrD', 'Irrigtn', 'LstSrvD', 'Notes', 'RtCrpTy', 'Shap_Ar',\n",
    "                       'Shp_Lng', 'TRS', 'image_year', 'SF_year', 'doy', 'EVI',\n",
    "                       'human_system_start_time', 'Date', 'system_start_time', \n",
    "                       'EVI_ratio', 'SOS', 'EOS', 'season_count']\n",
    "\n",
    "#\n",
    "# The reason I am multiplying len(a_df) by 4 is that we can have at least two\n",
    "# seasons which means 2 SOS and 2 EOS. So, at least 4 rows are needed.\n",
    "#\n",
    "all_poly_and_SEOS = pd.DataFrame(data = None, \n",
    "                                 index = np.arange(4*len(a_df)), \n",
    "                                 columns = SEOS_output_columns)\n",
    "\n",
    "pointer_SEOS_tab = 0\n",
    "counter = 0\n"
   ]
  },
  {
   "cell_type": "code",
   "execution_count": 11,
   "metadata": {},
   "outputs": [],
   "source": [
    "a_df = a_df[SEOS_output_columns[0:22]]"
   ]
  },
  {
   "cell_type": "code",
   "execution_count": 86,
   "metadata": {},
   "outputs": [],
   "source": [
    "a_poly = polygon_list[4]\n",
    "curr_field = a_df[a_df['ID']==a_poly].copy()\n",
    "curr_field.reset_index(drop=True, inplace=True)\n",
    "# curr_field.columns"
   ]
  },
  {
   "cell_type": "code",
   "execution_count": 87,
   "metadata": {},
   "outputs": [],
   "source": [
    "if (not(\"human_system_start_time\" in list(curr_field.columns))):\n",
    "        curr_field = rc.add_human_start_time(curr_field)\n",
    "        \n",
    "curr_field.sort_values(by=['image_year', 'doy'], inplace=True)"
   ]
  },
  {
   "cell_type": "code",
   "execution_count": 88,
   "metadata": {},
   "outputs": [],
   "source": [
    "year = SF_year\n",
    "plant = curr_field['CropTyp'].unique()[0]\n",
    "\n",
    "# Take care of names, replace \"/\" and \",\" and \" \" by \"_\"\n",
    "plant = plant.replace(\"/\", \"_\")\n",
    "plant = plant.replace(\",\", \"_\")\n",
    "plant = plant.replace(\" \", \"_\")\n",
    "plant = plant.replace(\"__\", \"_\")\n",
    "\n",
    "ID = a_poly\n",
    "\n",
    "### \n",
    "###  There is a chance that a polygon is repeated twice?\n",
    "###\n",
    "\n",
    "X = curr_field['doy']\n",
    "y = curr_field[indeks]"
   ]
  },
  {
   "cell_type": "code",
   "execution_count": 89,
   "metadata": {},
   "outputs": [
    {
     "data": {
      "text/plain": [
       "0.3503187851404954"
      ]
     },
     "execution_count": 89,
     "metadata": {},
     "output_type": "execute_result"
    }
   ],
   "source": [
    "SG_pred = scipy.signal.savgol_filter(y, window_length= SG_win_size, polyorder=SG_order)\n",
    "\n",
    "curr_field[indeks] = SG_pred\n",
    "\n",
    "y_orchard = curr_field[curr_field['doy']>= 122]\n",
    "y_orchard = y_orchard[y_orchard['doy'] <=305]\n",
    "y_orchard_range = max(y_orchard[indeks]) - min(y_orchard[indeks])\n",
    "y_orchard_range"
   ]
  },
  {
   "cell_type": "code",
   "execution_count": 92,
   "metadata": {},
   "outputs": [],
   "source": [
    "if y_orchard_range > 0.3:\n",
    "    #######################################################################\n",
    "    ###\n",
    "    ###             find SOS and EOS, and add them to the table\n",
    "    ###\n",
    "    #######################################################################\n",
    "    curr_field = rc.addToDF_SOS_EOS_White(pd_TS = curr_field, \n",
    "                                          VegIdx = indeks, \n",
    "                                          onset_thresh = onset_cut, \n",
    "                                          offset_thresh = offset_cut)\n",
    "\n",
    "    ##\n",
    "    ##  Kill false detected seasons \n",
    "    ##\n",
    "    curr_field = rc.Null_SOS_EOS_by_DoYDiff(pd_TS = curr_field, min_season_length=40)\n",
    "\n",
    "    #\n",
    "    # extract the SOS and EOS rows \n",
    "    #\n",
    "    SEOS = curr_field[(curr_field['SOS'] != 0) | curr_field['EOS'] != 0]\n",
    "    # SEOS = SEOS.reset_index() # not needed really\n",
    "    SOS_tb = curr_field[curr_field['SOS'] != 0]\n",
    "    if len(SOS_tb) >= 2:\n",
    "        SEOS[\"season_count\"] = len(SEOS)\n",
    "        all_poly_and_SEOS[pointer_SEOS_tab:(pointer_SEOS_tab+len(SEOS))] = SEOS.values\n",
    "        pointer_SEOS_tab += len(SEOS)\n",
    "    else:\n",
    "        aaa = curr_field.iloc[0].values.reshape(1, len(curr_field.iloc[0]))\n",
    "        aaa = np.append(aaa, [1])\n",
    "        aaa = aaa.reshape(1, len(aaa))\n",
    "        \n",
    "        all_poly_and_SEOS.iloc[pointer_SEOS_tab:(pointer_SEOS_tab+1)] = aaa\n",
    "        pointer_SEOS_tab += 1\n",
    "else:\n",
    "    # we did not add EVI_ratio, SOS, and EOS. So, we are missing these\n",
    "    # columns in the data frame. So, use 666 as proxy\n",
    "    aaa = np.append(curr_field.iloc[0], [666, 666, 666, 1])\n",
    "    aaa = aaa.reshape(1, len(aaa))\n",
    "    \n",
    "    all_poly_and_SEOS.iloc[pointer_SEOS_tab:(pointer_SEOS_tab+1)] = aaa\n",
    "    pointer_SEOS_tab += 1\n",
    "\n",
    "counter += 1"
   ]
  },
  {
   "cell_type": "code",
   "execution_count": 94,
   "metadata": {},
   "outputs": [
    {
     "data": {
      "text/html": [
       "<div>\n",
       "<style scoped>\n",
       "    .dataframe tbody tr th:only-of-type {\n",
       "        vertical-align: middle;\n",
       "    }\n",
       "\n",
       "    .dataframe tbody tr th {\n",
       "        vertical-align: top;\n",
       "    }\n",
       "\n",
       "    .dataframe thead th {\n",
       "        text-align: right;\n",
       "    }\n",
       "</style>\n",
       "<table border=\"1\" class=\"dataframe\">\n",
       "  <thead>\n",
       "    <tr style=\"text-align: right;\">\n",
       "      <th></th>\n",
       "      <th>ID</th>\n",
       "      <th>Acres</th>\n",
       "      <th>county</th>\n",
       "      <th>CropGrp</th>\n",
       "      <th>CropTyp</th>\n",
       "      <th>DataSrc</th>\n",
       "      <th>ExctAcr</th>\n",
       "      <th>IntlSrD</th>\n",
       "      <th>Irrigtn</th>\n",
       "      <th>LstSrvD</th>\n",
       "      <th>...</th>\n",
       "      <th>SF_year</th>\n",
       "      <th>doy</th>\n",
       "      <th>EVI</th>\n",
       "      <th>human_system_start_time</th>\n",
       "      <th>Date</th>\n",
       "      <th>system_start_time</th>\n",
       "      <th>EVI_ratio</th>\n",
       "      <th>SOS</th>\n",
       "      <th>EOS</th>\n",
       "      <th>season_count</th>\n",
       "    </tr>\n",
       "  </thead>\n",
       "  <tbody>\n",
       "    <tr>\n",
       "      <th>0</th>\n",
       "      <td>83672_WSDA_SF_2016</td>\n",
       "      <td>4</td>\n",
       "      <td>Grant</td>\n",
       "      <td>Orchard</td>\n",
       "      <td>apple</td>\n",
       "      <td>producer</td>\n",
       "      <td>4.1814</td>\n",
       "      <td>2003/07/01 00:00:00</td>\n",
       "      <td>sprinkler</td>\n",
       "      <td>2014/06/05 00:00:00</td>\n",
       "      <td>...</td>\n",
       "      <td>2016</td>\n",
       "      <td>1</td>\n",
       "      <td>0.378917</td>\n",
       "      <td>2016-01-01 00:00:00</td>\n",
       "      <td>2016-01-01 00:00:00</td>\n",
       "      <td>1451689400000</td>\n",
       "      <td>666</td>\n",
       "      <td>666</td>\n",
       "      <td>666</td>\n",
       "      <td>1</td>\n",
       "    </tr>\n",
       "    <tr>\n",
       "      <th>1</th>\n",
       "      <td>87971_WSDA_SF_2016</td>\n",
       "      <td>145</td>\n",
       "      <td>Grant</td>\n",
       "      <td>Orchard</td>\n",
       "      <td>apple</td>\n",
       "      <td>wsda</td>\n",
       "      <td>144.989</td>\n",
       "      <td>2006/08/31 00:00:00</td>\n",
       "      <td>sprinkler</td>\n",
       "      <td>2014/06/05 00:00:00</td>\n",
       "      <td>...</td>\n",
       "      <td>2016</td>\n",
       "      <td>1</td>\n",
       "      <td>0.374042</td>\n",
       "      <td>2016-01-01 00:00:00</td>\n",
       "      <td>2016-01-01 00:00:00</td>\n",
       "      <td>1451689400000</td>\n",
       "      <td>666</td>\n",
       "      <td>666</td>\n",
       "      <td>666</td>\n",
       "      <td>1</td>\n",
       "    </tr>\n",
       "    <tr>\n",
       "      <th>2</th>\n",
       "      <td>82161_WSDA_SF_2016</td>\n",
       "      <td>9</td>\n",
       "      <td>Grant</td>\n",
       "      <td>Orchard</td>\n",
       "      <td>apple</td>\n",
       "      <td>wsda</td>\n",
       "      <td>9.13309</td>\n",
       "      <td>2006/08/31 00:00:00</td>\n",
       "      <td>sprinkler</td>\n",
       "      <td>2014/06/05 00:00:00</td>\n",
       "      <td>...</td>\n",
       "      <td>2016</td>\n",
       "      <td>1</td>\n",
       "      <td>0.391748</td>\n",
       "      <td>2016-01-01 00:00:00</td>\n",
       "      <td>2016-01-01 00:00:00</td>\n",
       "      <td>1451689400000</td>\n",
       "      <td>666</td>\n",
       "      <td>666</td>\n",
       "      <td>666</td>\n",
       "      <td>1</td>\n",
       "    </tr>\n",
       "    <tr>\n",
       "      <th>3</th>\n",
       "      <td>82820_WSDA_SF_2016</td>\n",
       "      <td>16</td>\n",
       "      <td>Grant</td>\n",
       "      <td>Orchard</td>\n",
       "      <td>cherry</td>\n",
       "      <td>producer</td>\n",
       "      <td>16.034</td>\n",
       "      <td>2003/07/01 00:00:00</td>\n",
       "      <td>sprinkler</td>\n",
       "      <td>2014/06/05 00:00:00</td>\n",
       "      <td>...</td>\n",
       "      <td>2016</td>\n",
       "      <td>1</td>\n",
       "      <td>0.364603</td>\n",
       "      <td>2016-01-01 00:00:00</td>\n",
       "      <td>2016-01-01 00:00:00</td>\n",
       "      <td>1451689400000</td>\n",
       "      <td>666</td>\n",
       "      <td>666</td>\n",
       "      <td>666</td>\n",
       "      <td>1</td>\n",
       "    </tr>\n",
       "    <tr>\n",
       "      <th>4</th>\n",
       "      <td>79317_WSDA_SF_2016</td>\n",
       "      <td>17</td>\n",
       "      <td>Grant</td>\n",
       "      <td>Orchard</td>\n",
       "      <td>cherry</td>\n",
       "      <td>producer</td>\n",
       "      <td>17.453</td>\n",
       "      <td>2003/07/01 00:00:00</td>\n",
       "      <td>micro-sprinkler</td>\n",
       "      <td>2014/06/05 00:00:00</td>\n",
       "      <td>...</td>\n",
       "      <td>2016</td>\n",
       "      <td>1</td>\n",
       "      <td>0.36501</td>\n",
       "      <td>2016-01-01 00:00:00</td>\n",
       "      <td>2016-01-01 00:00:00</td>\n",
       "      <td>1451689400000</td>\n",
       "      <td>0.268564</td>\n",
       "      <td>0</td>\n",
       "      <td>0</td>\n",
       "      <td>1</td>\n",
       "    </tr>\n",
       "    <tr>\n",
       "      <th>5</th>\n",
       "      <td>81195_WSDA_SF_2016</td>\n",
       "      <td>16</td>\n",
       "      <td>Grant</td>\n",
       "      <td>Orchard</td>\n",
       "      <td>cherry</td>\n",
       "      <td>producer</td>\n",
       "      <td>15.6824</td>\n",
       "      <td>2003/07/01 00:00:00</td>\n",
       "      <td>sprinkler</td>\n",
       "      <td>2014/06/05 00:00:00</td>\n",
       "      <td>...</td>\n",
       "      <td>2016</td>\n",
       "      <td>1</td>\n",
       "      <td>0.366471</td>\n",
       "      <td>2016-01-01 00:00:00</td>\n",
       "      <td>2016-01-01 00:00:00</td>\n",
       "      <td>1451689400000</td>\n",
       "      <td>666</td>\n",
       "      <td>666</td>\n",
       "      <td>666</td>\n",
       "      <td>1</td>\n",
       "    </tr>\n",
       "    <tr>\n",
       "      <th>6</th>\n",
       "      <td>86456_WSDA_SF_2016</td>\n",
       "      <td>14</td>\n",
       "      <td>Grant</td>\n",
       "      <td>Orchard</td>\n",
       "      <td>cherry</td>\n",
       "      <td>producer</td>\n",
       "      <td>13.7232</td>\n",
       "      <td>2003/07/01 00:00:00</td>\n",
       "      <td>sprinkler</td>\n",
       "      <td>2014/06/05 00:00:00</td>\n",
       "      <td>...</td>\n",
       "      <td>2016</td>\n",
       "      <td>1</td>\n",
       "      <td>0.388346</td>\n",
       "      <td>2016-01-01 00:00:00</td>\n",
       "      <td>2016-01-01 00:00:00</td>\n",
       "      <td>1451689400000</td>\n",
       "      <td>666</td>\n",
       "      <td>666</td>\n",
       "      <td>666</td>\n",
       "      <td>1</td>\n",
       "    </tr>\n",
       "    <tr>\n",
       "      <th>7</th>\n",
       "      <td>78904_WSDA_SF_2016</td>\n",
       "      <td>17</td>\n",
       "      <td>Grant</td>\n",
       "      <td>Orchard</td>\n",
       "      <td>cherry</td>\n",
       "      <td>wsda</td>\n",
       "      <td>16.9407</td>\n",
       "      <td>2003/07/01 00:00:00</td>\n",
       "      <td>sprinkler</td>\n",
       "      <td>2014/06/05 00:00:00</td>\n",
       "      <td>...</td>\n",
       "      <td>2016</td>\n",
       "      <td>1</td>\n",
       "      <td>0.308673</td>\n",
       "      <td>2016-01-01 00:00:00</td>\n",
       "      <td>2016-01-01 00:00:00</td>\n",
       "      <td>1451689400000</td>\n",
       "      <td>0.12915</td>\n",
       "      <td>0</td>\n",
       "      <td>0</td>\n",
       "      <td>1</td>\n",
       "    </tr>\n",
       "    <tr>\n",
       "      <th>8</th>\n",
       "      <td>85950_WSDA_SF_2016</td>\n",
       "      <td>30</td>\n",
       "      <td>Grant</td>\n",
       "      <td>Orchard</td>\n",
       "      <td>cherry</td>\n",
       "      <td>wsda</td>\n",
       "      <td>30.2013</td>\n",
       "      <td>2011/05/25 00:00:00</td>\n",
       "      <td>micro-sprinkler</td>\n",
       "      <td>2014/06/05 00:00:00</td>\n",
       "      <td>...</td>\n",
       "      <td>2016</td>\n",
       "      <td>1</td>\n",
       "      <td>0.300091</td>\n",
       "      <td>2016-01-01 00:00:00</td>\n",
       "      <td>2016-01-01 00:00:00</td>\n",
       "      <td>1451689400000</td>\n",
       "      <td>666</td>\n",
       "      <td>666</td>\n",
       "      <td>666</td>\n",
       "      <td>1</td>\n",
       "    </tr>\n",
       "    <tr>\n",
       "      <th>9</th>\n",
       "      <td>82825_WSDA_SF_2016</td>\n",
       "      <td>1</td>\n",
       "      <td>Grant</td>\n",
       "      <td>Vineyard</td>\n",
       "      <td>grape, wine</td>\n",
       "      <td>wsda</td>\n",
       "      <td>1.27103</td>\n",
       "      <td>2006/08/31 00:00:00</td>\n",
       "      <td>sprinkler</td>\n",
       "      <td>2014/06/05 00:00:00</td>\n",
       "      <td>...</td>\n",
       "      <td>2016</td>\n",
       "      <td>1</td>\n",
       "      <td>0.155635</td>\n",
       "      <td>2016-01-01 00:00:00</td>\n",
       "      <td>2016-01-01 00:00:00</td>\n",
       "      <td>1451689400000</td>\n",
       "      <td>666</td>\n",
       "      <td>666</td>\n",
       "      <td>666</td>\n",
       "      <td>1</td>\n",
       "    </tr>\n",
       "  </tbody>\n",
       "</table>\n",
       "<p>10 rows × 26 columns</p>\n",
       "</div>"
      ],
      "text/plain": [
       "                   ID Acres county   CropGrp      CropTyp   DataSrc  ExctAcr  \\\n",
       "0  83672_WSDA_SF_2016     4  Grant   Orchard        apple  producer   4.1814   \n",
       "1  87971_WSDA_SF_2016   145  Grant   Orchard        apple      wsda  144.989   \n",
       "2  82161_WSDA_SF_2016     9  Grant   Orchard        apple      wsda  9.13309   \n",
       "3  82820_WSDA_SF_2016    16  Grant   Orchard       cherry  producer   16.034   \n",
       "4  79317_WSDA_SF_2016    17  Grant   Orchard       cherry  producer   17.453   \n",
       "5  81195_WSDA_SF_2016    16  Grant   Orchard       cherry  producer  15.6824   \n",
       "6  86456_WSDA_SF_2016    14  Grant   Orchard       cherry  producer  13.7232   \n",
       "7  78904_WSDA_SF_2016    17  Grant   Orchard       cherry      wsda  16.9407   \n",
       "8  85950_WSDA_SF_2016    30  Grant   Orchard       cherry      wsda  30.2013   \n",
       "9  82825_WSDA_SF_2016     1  Grant  Vineyard  grape, wine      wsda  1.27103   \n",
       "\n",
       "               IntlSrD          Irrigtn              LstSrvD  ... SF_year doy  \\\n",
       "0  2003/07/01 00:00:00        sprinkler  2014/06/05 00:00:00  ...    2016   1   \n",
       "1  2006/08/31 00:00:00        sprinkler  2014/06/05 00:00:00  ...    2016   1   \n",
       "2  2006/08/31 00:00:00        sprinkler  2014/06/05 00:00:00  ...    2016   1   \n",
       "3  2003/07/01 00:00:00        sprinkler  2014/06/05 00:00:00  ...    2016   1   \n",
       "4  2003/07/01 00:00:00  micro-sprinkler  2014/06/05 00:00:00  ...    2016   1   \n",
       "5  2003/07/01 00:00:00        sprinkler  2014/06/05 00:00:00  ...    2016   1   \n",
       "6  2003/07/01 00:00:00        sprinkler  2014/06/05 00:00:00  ...    2016   1   \n",
       "7  2003/07/01 00:00:00        sprinkler  2014/06/05 00:00:00  ...    2016   1   \n",
       "8  2011/05/25 00:00:00  micro-sprinkler  2014/06/05 00:00:00  ...    2016   1   \n",
       "9  2006/08/31 00:00:00        sprinkler  2014/06/05 00:00:00  ...    2016   1   \n",
       "\n",
       "        EVI human_system_start_time                 Date system_start_time  \\\n",
       "0  0.378917     2016-01-01 00:00:00  2016-01-01 00:00:00     1451689400000   \n",
       "1  0.374042     2016-01-01 00:00:00  2016-01-01 00:00:00     1451689400000   \n",
       "2  0.391748     2016-01-01 00:00:00  2016-01-01 00:00:00     1451689400000   \n",
       "3  0.364603     2016-01-01 00:00:00  2016-01-01 00:00:00     1451689400000   \n",
       "4   0.36501     2016-01-01 00:00:00  2016-01-01 00:00:00     1451689400000   \n",
       "5  0.366471     2016-01-01 00:00:00  2016-01-01 00:00:00     1451689400000   \n",
       "6  0.388346     2016-01-01 00:00:00  2016-01-01 00:00:00     1451689400000   \n",
       "7  0.308673     2016-01-01 00:00:00  2016-01-01 00:00:00     1451689400000   \n",
       "8  0.300091     2016-01-01 00:00:00  2016-01-01 00:00:00     1451689400000   \n",
       "9  0.155635     2016-01-01 00:00:00  2016-01-01 00:00:00     1451689400000   \n",
       "\n",
       "  EVI_ratio  SOS  EOS season_count  \n",
       "0       666  666  666            1  \n",
       "1       666  666  666            1  \n",
       "2       666  666  666            1  \n",
       "3       666  666  666            1  \n",
       "4  0.268564    0    0            1  \n",
       "5       666  666  666            1  \n",
       "6       666  666  666            1  \n",
       "7   0.12915    0    0            1  \n",
       "8       666  666  666            1  \n",
       "9       666  666  666            1  \n",
       "\n",
       "[10 rows x 26 columns]"
      ]
     },
     "execution_count": 94,
     "metadata": {},
     "output_type": "execute_result"
    }
   ],
   "source": [
    "all_poly_and_SEOS.head(10)"
   ]
  },
  {
   "cell_type": "code",
   "execution_count": null,
   "metadata": {},
   "outputs": [],
   "source": []
  },
  {
   "cell_type": "code",
   "execution_count": null,
   "metadata": {},
   "outputs": [],
   "source": []
  },
  {
   "cell_type": "code",
   "execution_count": null,
   "metadata": {},
   "outputs": [],
   "source": []
  },
  {
   "cell_type": "code",
   "execution_count": null,
   "metadata": {},
   "outputs": [],
   "source": [
    "all_poly_and_SEOS.shape"
   ]
  },
  {
   "cell_type": "code",
   "execution_count": null,
   "metadata": {},
   "outputs": [],
   "source": [
    "print (all_poly_and_SEOS.shape)\n",
    "print (curr_field.shape)"
   ]
  },
  {
   "cell_type": "code",
   "execution_count": null,
   "metadata": {},
   "outputs": [],
   "source": [
    "all_poly_and_SEOS.columns"
   ]
  },
  {
   "cell_type": "code",
   "execution_count": null,
   "metadata": {},
   "outputs": [],
   "source": [
    "curr_field.columns"
   ]
  },
  {
   "cell_type": "code",
   "execution_count": null,
   "metadata": {},
   "outputs": [],
   "source": [
    "np.array((curr_field.iloc[0].values.reshape(1, len(curr_field.iloc[0])), 666, 666, 666))"
   ]
  },
  {
   "cell_type": "code",
   "execution_count": null,
   "metadata": {},
   "outputs": [],
   "source": [
    "len(np.array((curr_field.iloc[0].values, 666, 666, 666)))"
   ]
  },
  {
   "cell_type": "code",
   "execution_count": null,
   "metadata": {},
   "outputs": [],
   "source": [
    "type(np.array(curr_field.iloc[0].values))"
   ]
  },
  {
   "cell_type": "code",
   "execution_count": null,
   "metadata": {},
   "outputs": [],
   "source": [
    "aaa = np.append(curr_field.iloc[0], [666, 666, 666])\n",
    "aaa = aaa.reshape(1, 25)"
   ]
  },
  {
   "cell_type": "code",
   "execution_count": null,
   "metadata": {},
   "outputs": [],
   "source": [
    "all_poly_and_SEOS.iloc[pointer_SEOS_tab:(pointer_SEOS_tab+1)] = aaa"
   ]
  },
  {
   "cell_type": "code",
   "execution_count": null,
   "metadata": {},
   "outputs": [],
   "source": [
    "aaa.shape"
   ]
  },
  {
   "cell_type": "code",
   "execution_count": null,
   "metadata": {},
   "outputs": [],
   "source": [
    "all_poly_and_SEOS.iloc[pointer_SEOS_tab:(pointer_SEOS_tab+1)].shape"
   ]
  },
  {
   "cell_type": "code",
   "execution_count": null,
   "metadata": {},
   "outputs": [],
   "source": [
    "aaa.shape"
   ]
  },
  {
   "cell_type": "code",
   "execution_count": null,
   "metadata": {},
   "outputs": [],
   "source": [
    "all_poly_and_SEOS.head(2)"
   ]
  },
  {
   "cell_type": "code",
   "execution_count": null,
   "metadata": {},
   "outputs": [],
   "source": []
  },
  {
   "cell_type": "code",
   "execution_count": null,
   "metadata": {},
   "outputs": [],
   "source": []
  },
  {
   "cell_type": "code",
   "execution_count": null,
   "metadata": {},
   "outputs": [],
   "source": [
    "type(np.append(curr_field.iloc[0], [666, 666, 666]))"
   ]
  },
  {
   "cell_type": "code",
   "execution_count": null,
   "metadata": {},
   "outputs": [],
   "source": []
  },
  {
   "cell_type": "code",
   "execution_count": null,
   "metadata": {},
   "outputs": [],
   "source": [
    "aaa.shape"
   ]
  },
  {
   "cell_type": "code",
   "execution_count": null,
   "metadata": {},
   "outputs": [],
   "source": []
  },
  {
   "cell_type": "code",
   "execution_count": null,
   "metadata": {},
   "outputs": [],
   "source": [
    "output_dir = \"/data/hydro/users/Hossein/remote_sensing/04_noJump_Regularized_plt_tbl_SOSEOS/2Yrs_tables_regular/\""
   ]
  },
  {
   "cell_type": "code",
   "execution_count": null,
   "metadata": {},
   "outputs": [],
   "source": [
    "out_name = output_dir + given_county + \"_\" + str(SF_year) + \"_regular_SG_\" + indeks + \\\n",
    "           \"_Sav_win\" + str(SG_win_size) + \"_Order\"  + str(SG_order) + \".csv\"\n"
   ]
  },
  {
   "cell_type": "code",
   "execution_count": null,
   "metadata": {},
   "outputs": [],
   "source": [
    "out_name"
   ]
  },
  {
   "cell_type": "code",
   "execution_count": null,
   "metadata": {},
   "outputs": [],
   "source": []
  }
 ],
 "metadata": {
  "kernelspec": {
   "display_name": "Python 3",
   "language": "python",
   "name": "python3"
  },
  "language_info": {
   "codemirror_mode": {
    "name": "ipython",
    "version": 3
   },
   "file_extension": ".py",
   "mimetype": "text/x-python",
   "name": "python",
   "nbconvert_exporter": "python",
   "pygments_lexer": "ipython3",
   "version": "3.7.4"
  }
 },
 "nbformat": 4,
 "nbformat_minor": 2
}
